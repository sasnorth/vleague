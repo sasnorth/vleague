{
 "cells": [
  {
   "cell_type": "code",
   "execution_count": 77,
   "metadata": {},
   "outputs": [],
   "source": [
    "from selenium import webdriver\n",
    "import time\n",
    "import pandas as pd"
   ]
  },
  {
   "cell_type": "code",
   "execution_count": 3,
   "metadata": {},
   "outputs": [],
   "source": [
    "chromeOptions = webdriver.ChromeOptions()\n",
    "prefs = {\"download.default_directory\" : \"C:\\\\Users\\\\sasno\\\\Desktop\\\\Mypandas\\\\vleague\"}\n",
    "chromeOptions.add_experimental_option(\"prefs\", prefs)\n",
    "chromeOptions.add_argument('--ignore-certificate-errors')"
   ]
  },
  {
   "cell_type": "code",
   "execution_count": 4,
   "metadata": {},
   "outputs": [
    {
     "name": "stderr",
     "output_type": "stream",
     "text": [
      "C:\\Users\\sasno\\AppData\\Roaming\\Python\\Python37\\site-packages\\ipykernel_launcher.py:2: DeprecationWarning: use options instead of chrome_options\n",
      "  \n"
     ]
    }
   ],
   "source": [
    "# GoogleChromeを起動\n",
    "browser = webdriver.Chrome(executable_path='C:\\\\Users\\\\sasno\\\\Desktop\\\\Mypandas\\\\chromedriver.exe', chrome_options=chromeOptions)\n",
    "browser.implicitly_wait(3)"
   ]
  },
  {
   "cell_type": "code",
   "execution_count": 5,
   "metadata": {},
   "outputs": [
    {
     "name": "stdout",
     "output_type": "stream",
     "text": [
      "https://www.vleague.jp/record/player_detail/3582 :アクセス完了\n"
     ]
    }
   ],
   "source": [
    "# ウェブサイトへアクセス\n",
    "url='https://www.vleague.jp/record/player_detail/3582'\n",
    "time.sleep(1)\n",
    "browser.get(url)\n",
    "print(url, \":アクセス完了\")"
   ]
  },
  {
   "cell_type": "code",
   "execution_count": 78,
   "metadata": {},
   "outputs": [],
   "source": [
    "from bs4 import BeautifulSoup\n",
    "import urllib.request as req"
   ]
  },
  {
   "cell_type": "code",
   "execution_count": 79,
   "metadata": {},
   "outputs": [],
   "source": [
    "html = 'https://www.vleague.jp/record/player_detail/3582'\n",
    "headers={'User-Agent': 'Mozilla/5.0'}\n",
    "url = req.Request(html, headers=headers)\n",
    "response = req.urlopen(url)"
   ]
  },
  {
   "cell_type": "code",
   "execution_count": 80,
   "metadata": {},
   "outputs": [],
   "source": [
    "parse_html = BeautifulSoup(response, 'html.parser')"
   ]
  },
  {
   "cell_type": "code",
   "execution_count": 81,
   "metadata": {},
   "outputs": [],
   "source": [
    "tr_lists = parse_html.find_all('tr')\n",
    "tr_lists[1].string"
   ]
  },
  {
   "cell_type": "code",
   "execution_count": 82,
   "metadata": {},
   "outputs": [],
   "source": [
    "tr_list = []\n",
    "for i in tr_lists:\n",
    "    tr_list.append(i.string)"
   ]
  },
  {
   "cell_type": "code",
   "execution_count": 83,
   "metadata": {},
   "outputs": [
    {
     "data": {
      "text/plain": [
       "[None, None, None, None, None, None, None, None, None, None]"
      ]
     },
     "execution_count": 83,
     "metadata": {},
     "output_type": "execute_result"
    }
   ],
   "source": [
    "tr_list"
   ]
  },
  {
   "cell_type": "code",
   "execution_count": 84,
   "metadata": {},
   "outputs": [],
   "source": [
    "import requests"
   ]
  },
  {
   "cell_type": "code",
   "execution_count": null,
   "metadata": {},
   "outputs": [],
   "source": [
    "def header_rename():\n",
    "    stats = stats.rename({\"チ｜ム\":\"チーム\", \"サ｜ブ\":\"サーブ\"}, axis=1)"
   ]
  },
  {
   "cell_type": "code",
   "execution_count": 85,
   "metadata": {},
   "outputs": [],
   "source": [
    "url_2 = requests.get(html, headers=headers)"
   ]
  },
  {
   "cell_type": "code",
   "execution_count": 86,
   "metadata": {},
   "outputs": [],
   "source": [
    "data = pd.read_html(url_2.text, header = [0,1])"
   ]
  },
  {
   "cell_type": "code",
   "execution_count": 95,
   "metadata": {},
   "outputs": [],
   "source": [
    "stats = pd.DataFrame(data[0])"
   ]
  },
  {
   "cell_type": "code",
   "execution_count": 100,
   "metadata": {},
   "outputs": [],
   "source": [
    "stats = stats.rename({\"チ｜ム\":\"チーム\", \"サ｜ブ\":\"サーブ\"}, axis=1)"
   ]
  },
  {
   "cell_type": "code",
   "execution_count": 101,
   "metadata": {},
   "outputs": [
    {
     "data": {
      "text/html": [
       "<div>\n",
       "<style scoped>\n",
       "    .dataframe tbody tr th:only-of-type {\n",
       "        vertical-align: middle;\n",
       "    }\n",
       "\n",
       "    .dataframe tbody tr th {\n",
       "        vertical-align: top;\n",
       "    }\n",
       "\n",
       "    .dataframe thead tr th {\n",
       "        text-align: left;\n",
       "    }\n",
       "</style>\n",
       "<table border=\"1\" class=\"dataframe\">\n",
       "  <thead>\n",
       "    <tr>\n",
       "      <th></th>\n",
       "      <th>大会</th>\n",
       "      <th>チーム</th>\n",
       "      <th colspan=\"2\" halign=\"left\">出場</th>\n",
       "      <th colspan=\"4\" halign=\"left\">アタック</th>\n",
       "      <th colspan=\"2\" halign=\"left\">バックアタック</th>\n",
       "      <th>...</th>\n",
       "      <th colspan=\"2\" halign=\"left\">サーブ</th>\n",
       "      <th colspan=\"4\" halign=\"left\">サーブレシーブ</th>\n",
       "      <th colspan=\"4\" halign=\"left\">総得点</th>\n",
       "    </tr>\n",
       "    <tr>\n",
       "      <th></th>\n",
       "      <th>大会</th>\n",
       "      <th>チーム</th>\n",
       "      <th>試合数</th>\n",
       "      <th>セット数</th>\n",
       "      <th>打数</th>\n",
       "      <th>得点</th>\n",
       "      <th>失点</th>\n",
       "      <th>決定率</th>\n",
       "      <th>打数</th>\n",
       "      <th>得点</th>\n",
       "      <th>...</th>\n",
       "      <th>効果</th>\n",
       "      <th>効果率</th>\n",
       "      <th>受数</th>\n",
       "      <th>成功・優</th>\n",
       "      <th>成功・良</th>\n",
       "      <th>成功率</th>\n",
       "      <th>アタック</th>\n",
       "      <th>ブロック</th>\n",
       "      <th>サーブ</th>\n",
       "      <th>得点合計</th>\n",
       "    </tr>\n",
       "  </thead>\n",
       "  <tbody>\n",
       "    <tr>\n",
       "      <th>0</th>\n",
       "      <td>2019-20 V.LEAGUE DIVISION1 MEN</td>\n",
       "      <td>ジェイテクトSTINGS</td>\n",
       "      <td>22</td>\n",
       "      <td>41</td>\n",
       "      <td>6</td>\n",
       "      <td>3</td>\n",
       "      <td>0</td>\n",
       "      <td>50.0</td>\n",
       "      <td>0</td>\n",
       "      <td>0</td>\n",
       "      <td>...</td>\n",
       "      <td>8</td>\n",
       "      <td>1.6</td>\n",
       "      <td>2</td>\n",
       "      <td>0</td>\n",
       "      <td>0</td>\n",
       "      <td>0.0</td>\n",
       "      <td>3</td>\n",
       "      <td>6</td>\n",
       "      <td>1</td>\n",
       "      <td>10</td>\n",
       "    </tr>\n",
       "    <tr>\n",
       "      <th>1</th>\n",
       "      <td>レギュラーラウンド</td>\n",
       "      <td>ジェイテクトSTINGS</td>\n",
       "      <td>20</td>\n",
       "      <td>41</td>\n",
       "      <td>6</td>\n",
       "      <td>3</td>\n",
       "      <td>0</td>\n",
       "      <td>50.0</td>\n",
       "      <td>0</td>\n",
       "      <td>0</td>\n",
       "      <td>...</td>\n",
       "      <td>8</td>\n",
       "      <td>1.6</td>\n",
       "      <td>2</td>\n",
       "      <td>0</td>\n",
       "      <td>0</td>\n",
       "      <td>0.0</td>\n",
       "      <td>3</td>\n",
       "      <td>6</td>\n",
       "      <td>1</td>\n",
       "      <td>10</td>\n",
       "    </tr>\n",
       "    <tr>\n",
       "      <th>2</th>\n",
       "      <td>セミファイナル（３位決定戦）</td>\n",
       "      <td>ジェイテクトSTINGS</td>\n",
       "      <td>1</td>\n",
       "      <td>0</td>\n",
       "      <td>0</td>\n",
       "      <td>0</td>\n",
       "      <td>0</td>\n",
       "      <td>-</td>\n",
       "      <td>0</td>\n",
       "      <td>0</td>\n",
       "      <td>...</td>\n",
       "      <td>0</td>\n",
       "      <td>-</td>\n",
       "      <td>0</td>\n",
       "      <td>0</td>\n",
       "      <td>0</td>\n",
       "      <td>-</td>\n",
       "      <td>0</td>\n",
       "      <td>0</td>\n",
       "      <td>0</td>\n",
       "      <td>0</td>\n",
       "    </tr>\n",
       "    <tr>\n",
       "      <th>3</th>\n",
       "      <td>ファイナル</td>\n",
       "      <td>ジェイテクトSTINGS</td>\n",
       "      <td>1</td>\n",
       "      <td>0</td>\n",
       "      <td>0</td>\n",
       "      <td>0</td>\n",
       "      <td>0</td>\n",
       "      <td>-</td>\n",
       "      <td>0</td>\n",
       "      <td>0</td>\n",
       "      <td>...</td>\n",
       "      <td>0</td>\n",
       "      <td>-</td>\n",
       "      <td>0</td>\n",
       "      <td>0</td>\n",
       "      <td>0</td>\n",
       "      <td>-</td>\n",
       "      <td>0</td>\n",
       "      <td>0</td>\n",
       "      <td>0</td>\n",
       "      <td>0</td>\n",
       "    </tr>\n",
       "    <tr>\n",
       "      <th>4</th>\n",
       "      <td>V.LEAGUE DIVISION1 MEN 2018-19</td>\n",
       "      <td>ジェイテクトSTINGS</td>\n",
       "      <td>2</td>\n",
       "      <td>5</td>\n",
       "      <td>0</td>\n",
       "      <td>0</td>\n",
       "      <td>0</td>\n",
       "      <td>-</td>\n",
       "      <td>0</td>\n",
       "      <td>0</td>\n",
       "      <td>...</td>\n",
       "      <td>3</td>\n",
       "      <td>1.8</td>\n",
       "      <td>2</td>\n",
       "      <td>0</td>\n",
       "      <td>0</td>\n",
       "      <td>0.0</td>\n",
       "      <td>0</td>\n",
       "      <td>2</td>\n",
       "      <td>0</td>\n",
       "      <td>2</td>\n",
       "    </tr>\n",
       "    <tr>\n",
       "      <th>5</th>\n",
       "      <td>レギュラーラウンド</td>\n",
       "      <td>ジェイテクトSTINGS</td>\n",
       "      <td>2</td>\n",
       "      <td>5</td>\n",
       "      <td>0</td>\n",
       "      <td>0</td>\n",
       "      <td>0</td>\n",
       "      <td>-</td>\n",
       "      <td>0</td>\n",
       "      <td>0</td>\n",
       "      <td>...</td>\n",
       "      <td>3</td>\n",
       "      <td>1.8</td>\n",
       "      <td>2</td>\n",
       "      <td>0</td>\n",
       "      <td>0</td>\n",
       "      <td>0.0</td>\n",
       "      <td>0</td>\n",
       "      <td>2</td>\n",
       "      <td>0</td>\n",
       "      <td>2</td>\n",
       "    </tr>\n",
       "    <tr>\n",
       "      <th>6</th>\n",
       "      <td>レギュラーシーズン通算</td>\n",
       "      <td>NaN</td>\n",
       "      <td>22</td>\n",
       "      <td>46</td>\n",
       "      <td>6</td>\n",
       "      <td>3</td>\n",
       "      <td>0</td>\n",
       "      <td>50.0</td>\n",
       "      <td>0</td>\n",
       "      <td>0</td>\n",
       "      <td>...</td>\n",
       "      <td>11</td>\n",
       "      <td>1.7</td>\n",
       "      <td>4</td>\n",
       "      <td>0</td>\n",
       "      <td>0</td>\n",
       "      <td>0.0</td>\n",
       "      <td>3</td>\n",
       "      <td>8</td>\n",
       "      <td>1</td>\n",
       "      <td>12</td>\n",
       "    </tr>\n",
       "    <tr>\n",
       "      <th>7</th>\n",
       "      <td>通算</td>\n",
       "      <td>NaN</td>\n",
       "      <td>24</td>\n",
       "      <td>46</td>\n",
       "      <td>6</td>\n",
       "      <td>3</td>\n",
       "      <td>0</td>\n",
       "      <td>50.0</td>\n",
       "      <td>0</td>\n",
       "      <td>0</td>\n",
       "      <td>...</td>\n",
       "      <td>11</td>\n",
       "      <td>1.7</td>\n",
       "      <td>4</td>\n",
       "      <td>0</td>\n",
       "      <td>0</td>\n",
       "      <td>0.0</td>\n",
       "      <td>3</td>\n",
       "      <td>8</td>\n",
       "      <td>1</td>\n",
       "      <td>12</td>\n",
       "    </tr>\n",
       "  </tbody>\n",
       "</table>\n",
       "<p>8 rows × 29 columns</p>\n",
       "</div>"
      ],
      "text/plain": [
       "                               大会           チーム  出場      アタック              \\\n",
       "                               大会           チーム 試合数 セット数   打数 得点 失点   決定率   \n",
       "0  2019-20 V.LEAGUE DIVISION1 MEN  ジェイテクトSTINGS  22   41    6  3  0  50.0   \n",
       "1                       レギュラーラウンド  ジェイテクトSTINGS  20   41    6  3  0  50.0   \n",
       "2                  セミファイナル（３位決定戦）  ジェイテクトSTINGS   1    0    0  0  0     -   \n",
       "3                           ファイナル  ジェイテクトSTINGS   1    0    0  0  0     -   \n",
       "4  V.LEAGUE DIVISION1 MEN 2018-19  ジェイテクトSTINGS   2    5    0  0  0     -   \n",
       "5                       レギュラーラウンド  ジェイテクトSTINGS   2    5    0  0  0     -   \n",
       "6                     レギュラーシーズン通算           NaN  22   46    6  3  0  50.0   \n",
       "7                              通算           NaN  24   46    6  3  0  50.0   \n",
       "\n",
       "  バックアタック     ... サーブ      サーブレシーブ                 総得点                \n",
       "       打数 得点  ...  効果  効果率      受数 成功・優 成功・良  成功率 アタック ブロック サーブ 得点合計  \n",
       "0       0  0  ...   8  1.6       2    0    0  0.0    3    6   1   10  \n",
       "1       0  0  ...   8  1.6       2    0    0  0.0    3    6   1   10  \n",
       "2       0  0  ...   0    -       0    0    0    -    0    0   0    0  \n",
       "3       0  0  ...   0    -       0    0    0    -    0    0   0    0  \n",
       "4       0  0  ...   3  1.8       2    0    0  0.0    0    2   0    2  \n",
       "5       0  0  ...   3  1.8       2    0    0  0.0    0    2   0    2  \n",
       "6       0  0  ...  11  1.7       4    0    0  0.0    3    8   1   12  \n",
       "7       0  0  ...  11  1.7       4    0    0  0.0    3    8   1   12  \n",
       "\n",
       "[8 rows x 29 columns]"
      ]
     },
     "execution_count": 101,
     "metadata": {},
     "output_type": "execute_result"
    }
   ],
   "source": [
    "stats"
   ]
  },
  {
   "cell_type": "code",
   "execution_count": 102,
   "metadata": {},
   "outputs": [],
   "source": [
    "team_url = "
   ]
  },
  {
   "cell_type": "code",
   "execution_count": 103,
   "metadata": {},
   "outputs": [],
   "source": [
    "import os\n",
    "import datetime"
   ]
  },
  {
   "cell_type": "code",
   "execution_count": null,
   "metadata": {},
   "outputs": [],
   "source": [
    "now = datetime.datetime.now()\n",
    "team = \n",
    "number = \n",
    "player = "
   ]
  },
  {
   "cell_type": "code",
   "execution_count": null,
   "metadata": {},
   "outputs": [],
   "source": [
    "os.mkdir()"
   ]
  },
  {
   "cell_type": "code",
   "execution_count": null,
   "metadata": {},
   "outputs": [],
   "source": [
    "stats.to_csv('{0}_{3:%Y}-{3:%m}/{0}_{1}_{2}_{3:%Y}-{3:%m}.csv'.format(team, number, player, now), index=False)"
   ]
  }
 ],
 "metadata": {
  "kernelspec": {
   "display_name": "Python 3",
   "language": "python",
   "name": "python3"
  },
  "language_info": {
   "codemirror_mode": {
    "name": "ipython",
    "version": 3
   },
   "file_extension": ".py",
   "mimetype": "text/x-python",
   "name": "python",
   "nbconvert_exporter": "python",
   "pygments_lexer": "ipython3",
   "version": "3.7.7"
  }
 },
 "nbformat": 4,
 "nbformat_minor": 4
}
