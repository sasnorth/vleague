{
 "metadata": {
  "language_info": {
   "codemirror_mode": {
    "name": "ipython",
    "version": 3
   },
   "file_extension": ".py",
   "mimetype": "text/x-python",
   "name": "python",
   "nbconvert_exporter": "python",
   "pygments_lexer": "ipython3",
   "version": "3.7.3-final"
  },
  "orig_nbformat": 2,
  "kernelspec": {
   "name": "Python 3.7.3 64-bit",
   "display_name": "Python 3.7.3 64-bit",
   "metadata": {
    "interpreter": {
     "hash": "0600588c3b5f4418cbe7b5ebc6825b479f3bc010269d8b60d75058cdd010adfe"
    }
   }
  }
 },
 "nbformat": 4,
 "nbformat_minor": 2,
 "cells": [
  {
   "cell_type": "code",
   "execution_count": 1,
   "metadata": {},
   "outputs": [],
   "source": [
    "from selenium import webdriver \n",
    "from selenium.webdriver.common.keys import Keys\n",
    "\n",
    "import pandas as pd\n",
    "\n",
    "from bs4 import BeautifulSoup\n",
    "import urllib.request as req\n",
    "\n",
    "import requests\n",
    "import time\n",
    "import os\n",
    "import re"
   ]
  },
  {
   "cell_type": "code",
   "execution_count": 2,
   "metadata": {},
   "outputs": [],
   "source": [
    "# 入力したデータをクリック\n",
    "def push(xpath):\n",
    "    browser_from = browser.find_element_by_xpath(xpath)\n",
    "    time.sleep(1)\n",
    "    browser_from.click()\n",
    "    # print(\"ボタンを押しました\")"
   ]
  },
  {
   "cell_type": "code",
   "execution_count": 3,
   "metadata": {},
   "outputs": [],
   "source": [
    "chromeOptions = webdriver.ChromeOptions()\n",
    "# prefs = {\"download.default_directory\" : \"C:\\\\Users\\\\sasno\\\\Desktop\\\\Mypandas\\\\vleague\"}\n",
    "# chromeOptions.add_experimental_option(\"prefs\", prefs)\n",
    "chromeOptions.add_argument('--ignore-certificate-errors')"
   ]
  },
  {
   "cell_type": "code",
   "execution_count": 8,
   "metadata": {},
   "outputs": [],
   "source": [
    "# GoogleChromeを起動\n",
    "chromeOptions.set_headless(False)\n",
    "browser = webdriver.Chrome(executable_path='C:\\\\Users\\\\sasno\\\\Desktop\\\\Mypandas\\\\chromedriver.exe', chrome_options=chromeOptions)\n",
    "browser.implicitly_wait(3)"
   ]
  },
  {
   "cell_type": "code",
   "execution_count": 145,
   "metadata": {
    "tags": []
   },
   "outputs": [
    {
     "output_type": "stream",
     "name": "stdout",
     "text": "https://www.vleague.jp/record/match :アクセス完了\n"
    }
   ],
   "source": [
    "# ウェブサイトへアクセス\n",
    "url = 'https://www.vleague.jp/record/match'\n",
    "browser.get(url)\n",
    "print(url, \":アクセス完了\")"
   ]
  },
  {
   "cell_type": "code",
   "execution_count": null,
   "metadata": {},
   "outputs": [],
   "source": [
    "url = 'https://www.vleague.jp/record/match'\n",
    "click1 = \"/html/body/main/article/div/section[2]/div/form/div[1]/div/div/div[1]/p/span[1]\"\n",
    "for i in range(1,11):\n",
    "    # ウェブサイトへアクセス\n",
    "    browser.get(url)\n",
    "    # division選択\n",
    "    push(click1)\n",
    "    xpath = \"/html/body/main/article/div/section[2]/div/form/div[1]/div/div/div[2]/ul/li[{}]\".format(i)\n",
    "    push(xpath)"
   ]
  },
  {
   "cell_type": "code",
   "execution_count": 6,
   "metadata": {},
   "outputs": [],
   "source": [
    "os.chdir('/Users/sasno/Desktop/MyPandas/vleague')\n",
    "\n",
    "headers = {\"User-Agent\": \"Mozilla/5.0\"}"
   ]
  },
  {
   "cell_type": "code",
   "execution_count": 116,
   "metadata": {},
   "outputs": [],
   "source": [
    "# ウェブサイトへアクセス\n",
    "browser.get(url)\n",
    "# division選択\n",
    "push(click1)\n",
    "xpath = \"/html/body/main/article/div/section[2]/div/form/div[1]/div/div/div[2]/ul/li[2]\"\n",
    "push(xpath)"
   ]
  },
  {
   "cell_type": "code",
   "execution_count": 32,
   "metadata": {
    "tags": []
   },
   "outputs": [
    {
     "output_type": "stream",
     "name": "stdout",
     "text": "https://www.vleague.jp/record/match :アクセス完了\nif division == :\n    return {\n         &quot;301&quot; : &quot;2020-21_regular&quot;,\n         &quot;283&quot; : &quot;2019-20_regular&quot;,\n         &quot;296&quot; : &quot;2019-20_game1&quot;,\n         &quot;297&quot; : &quot;2019-20_game2&quot;,\n         &quot;298&quot; : &quot;2019-20_semi_final&quot;,\n         &quot;275&quot; : &quot;2019-20_final&quot;,\n         &quot;258&quot; : &quot;2018-19_regular&quot;,\n         &quot;261&quot; : &quot;2018-19_final6&quot;,\n         &quot;260&quot; : &quot;2018-19_final3&quot;,\n         &quot;259&quot; : &quot;2018-19_final&quot;,\n         &quot;241&quot; : &quot;2017-18_regular&quot;,\n         &quot;239&quot; : &quot;2017-18_final6&quot;,\n         &quot;240&quot; : &quot;2017-18_final3&quot;,\n         &quot;242&quot; : &quot;2017-18_final&quot;,\n         &quot;224&quot; : &quot;2016-17_regular&quot;,\n         &quot;223&quot; : &quot;2016-17_final6&quot;,\n         &quot;226&quot; : &quot;2016-17_final3&quot;,\n         &quot;225&quot; : &quot;2016-17_final&quot;,\n         &quot;206&quot; : &quot;2015-16_regular&quot;,\n         &quot;209&quot; : &quot;2015-16_final6&quot;,\n         &quot;208&quot; : &quot;2015-16_final3&quot;,\n         &quot;207&quot; : &quot;2015-16_final&quot;,\n         &quot;181&quot; : &quot;2014-15_regular&quot;,\n         &quot;184&quot; : &quot;2014-15_final6&quot;,\n         &quot;183&quot; : &quot;2014-15_final3&quot;,\n         &quot;182&quot; : &quot;2014-15_final&quot;,\n         &quot;169&quot; : &quot;2013-14_regular&quot;,\n         &quot;171&quot; : &quot;2013-14_semi_final&quot;,\n         &quot;170&quot; : &quot;2013-14_final&quot;,\n         &quot;156&quot; : &quot;2012-13_regular&quot;,\n         &quot;158&quot; : &quot;2012-13_semi_final&quot;,\n         &quot;157&quot; : &quot;2012-13_final&quot;,\n         &quot;131&quot; : &quot;2011-12_regular&quot;,\n         &quot;130&quot; : &quot;2011-12_semi_final&quot;,\n         &quot;129&quot; : &quot;2011-12_final&quot;,\n         &quot;71&quot; : &quot;2010-11_regular&quot;,\n         &quot;72&quot; : &quot;2010-11_semi_final&quot;,\n         &quot;73&quot; : &quot;2010-11_final&quot;,\n         &quot;28&quot; : &quot;2009-10_regular&quot;,\n         &quot;29&quot; : &quot;2009-10_semi_final&quot;,\n         &quot;30&quot; : &quot;2009-10_final&quot;,\n         &quot;24&quot; : &quot;2008-09_regular&quot;,\n         &quot;22&quot; : &quot;2008-09_semi_final&quot;,\n         &quot;23&quot; : &quot;2008-09_final&quot;,\n         &quot;17&quot; : &quot;2007-08_regular&quot;,\n         &quot;18&quot; : &quot;2007-08_semi_final&quot;,\n         &quot;16&quot; : &quot;2007-08_final&quot;,\n         &quot;11&quot; : &quot;2006-07_regular&quot;,\n         &quot;12&quot; : &quot;2006-07_semi_final&quot;,\n         &quot;10&quot; : &quot;2006-07_final&quot;,\n         &quot;5&quot; : &quot;2005-06_regular&quot;,\n         &quot;6&quot; : &quot;2005-06_semi_final&quot;,\n         &quot;4&quot; : &quot;2005-06_final&quot;,\n         &quot;105&quot; : &quot;2004-05_regular&quot;,\n         &quot;106&quot; : &quot;2004-05_final&quot;,\n         &quot;103&quot; : &quot;2003-04_regular&quot;,\n         &quot;104&quot; : &quot;2003-04_final&quot;,\n         &quot;101&quot; : &quot;2002-03_regular&quot;,\n         &quot;102&quot; : &quot;2002-03_final&quot;,\n         &quot;99&quot; : &quot;2001-02_regular&quot;,\n         &quot;100&quot; : &quot;2001-02_final&quot;,\n         &quot;98&quot; : &quot;2000-01_regular&quot;,\n         &quot;97&quot; : &quot;2000-01_final&quot;,\n         &quot;95&quot; : &quot;1999-00_regular&quot;,\n         &quot;96&quot; : &quot;1999-00_final&quot;,\n         &quot;&quot; : &quot;1996-97_&quot;,\n     }\nif division == :\n    return {\n         &quot;303&quot; : &quot;2020-21_regular&quot;,\n         &quot;304&quot; : &quot;2020-21_&quot;,\n         &quot;305&quot; : &quot;2020-21_&quot;,\n         &quot;277&quot; : &quot;2019-20_regular&quot;,\n         &quot;279&quot; : &quot;2019-20_&quot;,\n         &quot;293&quot; : &quot;2019-20_&quot;,\n         &quot;292&quot; : &quot;2019-20_semi_final&quot;,\n         &quot;294&quot; : &quot;2019-20_semi_final&quot;,\n         &quot;295&quot; : &quot;2019-20_final3&quot;,\n         &quot;282&quot; : &quot;2019-20_final&quot;,\n         &quot;278&quot; : &quot;2019-20_&quot;,\n         &quot;269&quot; : &quot;2018-19_regular&quot;,\n         &quot;256&quot; : &quot;2018-19_&quot;,\n         &quot;254&quot; : &quot;2018-19_final3&quot;,\n         &quot;255&quot; : &quot;2018-19_final&quot;,\n         &quot;273&quot; : &quot;2018-19_&quot;,\n         &quot;243&quot; : &quot;2017-18_regular&quot;,\n         &quot;244&quot; : &quot;2017-18_final6&quot;,\n         &quot;245&quot; : &quot;2017-18_final3&quot;,\n         &quot;246&quot; : &quot;2017-18_final&quot;,\n         &quot;221&quot; : &quot;2016-17_regular&quot;,\n         &quot;220&quot; : &quot;2016-17_final6&quot;,\n         &quot;219&quot; : &quot;2016-17_final3&quot;,\n         &quot;222&quot; : &quot;2016-17_final&quot;,\n         &quot;213&quot; : &quot;2015-16_regular&quot;,\n         &quot;212&quot; : &quot;2015-16_final6&quot;,\n         &quot;210&quot; : &quot;2015-16_final3&quot;,\n         &quot;211&quot; : &quot;2015-16_final&quot;,\n         &quot;179&quot; : &quot;2014-15_regular&quot;,\n         &quot;177&quot; : &quot;2014-15_final6&quot;,\n         &quot;180&quot; : &quot;2014-15_final3&quot;,\n         &quot;178&quot; : &quot;2014-15_final&quot;,\n         &quot;168&quot; : &quot;2013-14_regular&quot;,\n         &quot;167&quot; : &quot;2013-14_semi_final&quot;,\n         &quot;166&quot; : &quot;2013-14_final&quot;,\n         &quot;154&quot; : &quot;2012-13_regular&quot;,\n         &quot;153&quot; : &quot;2012-13_semi_final&quot;,\n         &quot;155&quot; : &quot;2012-13_final&quot;,\n         &quot;126&quot; : &quot;2011-12_regular&quot;,\n         &quot;128&quot; : &quot;2011-12_semi_final&quot;,\n         &quot;127&quot; : &quot;2011-12_final&quot;,\n         &quot;77&quot; : &quot;2010-11_regular&quot;,\n         &quot;78&quot; : &quot;2010-11_semi_final&quot;,\n         &quot;76&quot; : &quot;2010-11_final&quot;,\n         &quot;25&quot; : &quot;2009-10_regular&quot;,\n         &quot;26&quot; : &quot;2009-10_semi_final&quot;,\n         &quot;27&quot; : &quot;2009-10_final&quot;,\n         &quot;20&quot; : &quot;2008-09_regular&quot;,\n         &quot;21&quot; : &quot;2008-09_semi_final&quot;,\n         &quot;19&quot; : &quot;2008-09_final&quot;,\n         &quot;15&quot; : &quot;2007-08_regular&quot;,\n         &quot;14&quot; : &quot;2007-08_semi_final&quot;,\n         &quot;13&quot; : &quot;2007-08_final&quot;,\n         &quot;9&quot; : &quot;2006-07_regular&quot;,\n         &quot;8&quot; : &quot;2006-07_semi_final&quot;,\n         &quot;7&quot; : &quot;2006-07_final&quot;,\n         &quot;1&quot; : &quot;2005-06_regular&quot;,\n         &quot;3&quot; : &quot;2005-06_semi_final&quot;,\n         &quot;2&quot; : &quot;2005-06_final&quot;,\n         &quot;94&quot; : &quot;2004-05_regular&quot;,\n         &quot;93&quot; : &quot;2004-05_final&quot;,\n         &quot;91&quot; : &quot;2003-04_regular&quot;,\n         &quot;92&quot; : &quot;2003-04_final&quot;,\n         &quot;90&quot; : &quot;2002-03_regular&quot;,\n         &quot;89&quot; : &quot;2002-03_final&quot;,\n         &quot;87&quot; : &quot;2001-02_regular&quot;,\n         &quot;88&quot; : &quot;2001-02_final&quot;,\n         &quot;85&quot; : &quot;2000-01_regular&quot;,\n         &quot;86&quot; : &quot;2000-01_final&quot;,\n         &quot;84&quot; : &quot;1999-00_regular&quot;,\n         &quot;83&quot; : &quot;1999-00_final&quot;,\n         &quot;&quot; : &quot;1994-95_&quot;,\n     }\nif division == :\n    return {\n         &quot;299&quot; : &quot;2020-21_regular&quot;,\n         &quot;288&quot; : &quot;2019-20_regular&quot;,\n         &quot;266&quot; : &quot;2018-19_regular&quot;,\n         &quot;247&quot; : &quot;2017-18_regular&quot;,\n         &quot;228&quot; : &quot;2016-17_regular&quot;,\n         &quot;204&quot; : &quot;2015-16_regular&quot;,\n         &quot;186&quot; : &quot;2014-15_regular&quot;,\n         &quot;173&quot; : &quot;2013-14_regular&quot;,\n         &quot;160&quot; : &quot;2012-13_regular&quot;,\n         &quot;133&quot; : &quot;2011-12_regular&quot;,\n         &quot;135&quot; : &quot;2011-12_top_league&quot;,\n         &quot;134&quot; : &quot;2011-12_lower_league&quot;,\n         &quot;75&quot; : &quot;2010-11_regular&quot;,\n         &quot;41&quot; : &quot;2009-10_regular&quot;,\n         &quot;43&quot; : &quot;2009-10_top_league&quot;,\n         &quot;42&quot; : &quot;2009-10_lower_league&quot;,\n         &quot;36&quot; : &quot;2008-09_regular&quot;,\n         &quot;37&quot; : &quot;2008-09_&quot;,\n         &quot;34&quot; : &quot;2007-08_regular&quot;,\n         &quot;32&quot; : &quot;2006-07_regular&quot;,\n     }\nif division == :\n    return {\n         &quot;302&quot; : &quot;2020-21_regular&quot;,\n         &quot;281&quot; : &quot;2019-20_regular&quot;,\n         &quot;290&quot; : &quot;2019-20_final6&quot;,\n         &quot;264&quot; : &quot;2018-19_regular&quot;,\n         &quot;263&quot; : &quot;2018-19_final6&quot;,\n         &quot;248&quot; : &quot;2017-18_regular&quot;,\n         &quot;227&quot; : &quot;2016-17_regular&quot;,\n         &quot;205&quot; : &quot;2015-16_regular&quot;,\n         &quot;185&quot; : &quot;2014-15_regular&quot;,\n         &quot;172&quot; : &quot;2013-14_regular&quot;,\n         &quot;159&quot; : &quot;2012-13_regular&quot;,\n         &quot;132&quot; : &quot;2011-12_regular&quot;,\n         &quot;74&quot; : &quot;2010-11_regular&quot;,\n         &quot;39&quot; : &quot;2009-10_regular&quot;,\n         &quot;40&quot; : &quot;2009-10_top_league&quot;,\n         &quot;38&quot; : &quot;2009-10_lower_league&quot;,\n         &quot;35&quot; : &quot;2008-09_regular&quot;,\n         &quot;33&quot; : &quot;2007-08_regular&quot;,\n         &quot;31&quot; : &quot;2006-07_regular&quot;,\n     }\nif division == :\n    return {\n         &quot;300&quot; : &quot;2020-21_regular&quot;,\n         &quot;287&quot; : &quot;2019-20_regular&quot;,\n         &quot;267&quot; : &quot;2018-19_regular&quot;,\n         &quot;250&quot; : &quot;2017-18_regular&quot;,\n         &quot;230&quot; : &quot;2016-17_regular&quot;,\n         &quot;193&quot; : &quot;2015-16_regular&quot;,\n     }\nif division == :\n    return {\n         &quot;268&quot; : &quot;2020-21_regular&quot;,\n         &quot;249&quot; : &quot;2019-20_regular&quot;,\n         &quot;229&quot; : &quot;2018-19_regular&quot;,\n         &quot;195&quot; : &quot;2017-18_regular&quot;,\n     }\n"
    }
   ],
   "source": [
    "url = 'https://www.vleague.jp/record/match'\n",
    "browser.get(url)\n",
    "print(url, \":アクセス完了\")\n",
    "click1 = \"/html/body/main/article/div/section[2]/div/form/div[1]/div/div/div[1]/p/span[1]\"\n",
    "for i in range(1,7):\n",
    "    # ウェブサイトへアクセス\n",
    "    browser.implicitly_wait(3)\n",
    "    # division選択\n",
    "    push(click1)\n",
    "    xpath = \"/html/body/main/article/div/section[2]/div/form/div[1]/div/div/div[2]/ul/li[{}]\".format(i)\n",
    "    push(xpath)\n",
    "    season_list = []\n",
    "    season_ids = []\n",
    "    year = 2021\n",
    "    # p = re.compile('[\\u0000-\\u007F]+')\n",
    "    url = browser.page_source\n",
    "    parse_html = BeautifulSoup(url, 'html.parser')\n",
    "    tds = parse_html.find_all('td')\n",
    "    for td in tds:\n",
    "        text = td.text\n",
    "        # print(text)\n",
    "        if ('V' in text or 'Ｖ' in text or 'none' in text) and 'Cup' not in text:\n",
    "            year -= 1\n",
    "            s_year = '{0}-{1}'.format(str(year), str(year+1)[2:])\n",
    "            # print(s_year)\n",
    "        hrefs = td.find_all('a', href=re.compile(\"/round/list/\"))\n",
    "        # print(hrefs)\n",
    "        if len(hrefs) > 0:\n",
    "            for i in hrefs:\n",
    "                s_round = i.text\n",
    "                href = i.attrs['href']\n",
    "                if 'レギュラー' in s_round:\n",
    "                    s_round = 'regular'\n",
    "                elif 'GAME1' in s_round:\n",
    "                    s_round = 'game1'\n",
    "                elif 'GAME2' in s_round:\n",
    "                    s_round = 'game2'\n",
    "                elif 'セミ' in s_round:\n",
    "                    s_round = 'semi_final'\n",
    "                elif '６' in s_round:\n",
    "                    s_round = 'final6'\n",
    "                elif '３' in s_round:\n",
    "                    s_round = 'final3'\n",
    "                elif '上位' in s_round:\n",
    "                    s_round = 'top_league'\n",
    "                elif '下位' in s_round:\n",
    "                    s_round = 'lower_league'\n",
    "                elif s_round == 'ファイナルラウンド' or s_round == 'ファイナル':\n",
    "                    s_round = 'final'\n",
    "                else:\n",
    "                    s_round = ''\n",
    "                season_id =  re.sub(\"\\\\D\", \"\", href)\n",
    "                # print(s_round, season_id)\n",
    "                season = s_year + '_' + s_round\n",
    "                season_ids.append(season_id)\n",
    "                season_list.append(season)\n",
    "    season_dict = dict(zip(season_ids, season_list))\n",
    "    # print(season_dict)\n",
    "    print('if division == :')\n",
    "    print('    return {')\n",
    "    for s_id, s_r in season_dict.items():\n",
    "        print('         \"{}\" : \"{}\",'.format(s_id, s_r))\n",
    "    print('     }')"
   ]
  },
  {
   "cell_type": "code",
   "execution_count": 18,
   "metadata": {
    "tags": []
   },
   "outputs": [
    {
     "output_type": "stream",
     "name": "stdout",
     "text": "[&#39;2020-21_regular&#39;, &#39;2019-20_regular&#39;, &#39;2018-19_regular&#39;, &#39;2017-18_regular&#39;]\n"
    }
   ],
   "source": [
    "print(season_list)"
   ]
  },
  {
   "cell_type": "code",
   "execution_count": 122,
   "metadata": {
    "tags": []
   },
   "outputs": [],
   "source": [
    "season_list = []\n",
    "year = 2021\n",
    "# p = re.compile('[\\u0000-\\u007F]+')\n",
    "url = browser.page_source\n",
    "parse_html = BeautifulSoup(url, 'html.parser')\n",
    "tds = parse_html.find_all('td')\n",
    "for td in tds:\n",
    "    text = td.text\n",
    "    # print(text)\n",
    "    if ('V' in text or 'Ｖ'in text or 'none' in text) and 'Cup' not in text:\n",
    "        year -= 1   \n",
    "        s_year = '{0}-{1}'.format(str(year), str(year+1)[2:])\n",
    "        # print(s_year)\n",
    "    hrefs = td.find_all('a', href=re.compile(\"/round/list\"))\n",
    "    if len(hrefs)>0:\n",
    "        for i in hrefs:\n",
    "            s_round = i.text\n",
    "            href = i.attrs['href']\n",
    "            if 'レギュラー' in s_round:\n",
    "                s_round = 'regular'\n",
    "            elif 'GAME1' in s_round:\n",
    "                s_round = 'game1'\n",
    "            elif 'GAME2' in s_round:\n",
    "                s_round = 'game2'\n",
    "            elif 'セミ' in s_round:\n",
    "                s_round = 'semi_final'\n",
    "            elif '６' in s_round:\n",
    "                s_round = 'final6'\n",
    "            elif '３' in s_round:\n",
    "                s_round = 'final3'\n",
    "            else:\n",
    "                s_round = 'final'\n",
    "            # print(s_round, href)\n",
    "            season = s_year + '_' + s_round\n",
    "            season_list.append(season)"
   ]
  },
  {
   "cell_type": "code",
   "execution_count": 123,
   "metadata": {},
   "outputs": [
    {
     "output_type": "execute_result",
     "data": {
      "text/plain": "['2020-21_regular',\n '2020-21_final',\n '2020-21_final',\n '2019-20_regular',\n '2019-20_final',\n '2019-20_final',\n '2019-20_semi_final',\n '2019-20_semi_final',\n '2019-20_final3',\n '2019-20_final',\n '2019-20_final',\n '2018-19_regular',\n '2018-19_final',\n '2018-19_final3',\n '2018-19_final',\n '2018-19_final',\n '2017-18_regular',\n '2017-18_final6',\n '2017-18_final3',\n '2017-18_final',\n '2016-17_regular',\n '2016-17_final6',\n '2016-17_final3',\n '2016-17_final',\n '2015-16_regular',\n '2015-16_final6',\n '2015-16_final3',\n '2015-16_final',\n '2014-15_regular',\n '2014-15_final6',\n '2014-15_final3',\n '2014-15_final',\n '2013-14_regular',\n '2013-14_semi_final',\n '2013-14_final',\n '2012-13_regular',\n '2012-13_semi_final',\n '2012-13_final',\n '2011-12_regular',\n '2011-12_semi_final',\n '2011-12_final',\n '2010-11_regular',\n '2010-11_semi_final',\n '2010-11_final',\n '2009-10_regular',\n '2009-10_semi_final',\n '2009-10_final',\n '2008-09_regular',\n '2008-09_semi_final',\n '2008-09_final',\n '2007-08_regular',\n '2007-08_semi_final',\n '2007-08_final',\n '2006-07_regular',\n '2006-07_semi_final',\n '2006-07_final',\n '2005-06_regular',\n '2005-06_semi_final',\n '2005-06_final',\n '2004-05_regular',\n '2004-05_final',\n '2003-04_regular',\n '2003-04_final',\n '2002-03_regular',\n '2002-03_final',\n '2001-02_regular',\n '2001-02_final',\n '2000-01_regular',\n '2000-01_final',\n '1999-00_regular',\n '1999-00_final',\n '1998-99_final',\n '1997-98_final',\n '1996-97_final',\n '1995-96_final',\n '1994-95_final']"
     },
     "metadata": {},
     "execution_count": 123
    }
   ],
   "source": [
    "season_list"
   ]
  },
  {
   "cell_type": "code",
   "execution_count": 63,
   "metadata": {
    "tags": []
   },
   "outputs": [
    {
     "output_type": "stream",
     "name": "stdout",
     "text": "レギュラーラウンド\nレギュラーラウンド\nGAME1（5位決定戦）\nGAME2（4位決定戦）\nセミファイナル（３位決定戦）\nファイナル\nレギュラーラウンド\nファイナル６\nファイナル３\nファイナル\nレギュラーラウンド\nファイナル６\nファイナル３\nファイナル\nレギュラーラウンド\nファイナル６\nファイナル３\nファイナル\nレギュラーラウンド\nファイナル６\nファイナル３\nファイナル\nレギュラーラウンド\nファイナル６\nファイナル３\nファイナル\nレギュラーラウンド\nセミファイナルラウンド\nファイナルラウンド\nレギュラーラウンド\nセミファイナルラウンド\nファイナルラウンド\nレギュラーラウンド\nセミファイナルラウンド\nファイナルラウンド\nレギュラーラウンド\nセミファイナルラウンド\nファイナルラウンド\nレギュラーラウンド\nセミファイナルラウンド\nファイナルラウンド\nレギュラーラウンド\nセミファイナルラウンド\nファイナルラウンド\nレギュラーラウンド\nセミファイナルラウンド\nファイナルラウンド\nレギュラーラウンド\nセミファイナルラウンド\nファイナルラウンド\nレギュラーラウンド\nセミファイナルラウンド\nファイナルラウンド\nレギュラーラウンド\nファイナルラウンド\nレギュラーラウンド\nファイナルラウンド\nレギュラーラウンド\nファイナルラウンド\nレギュラーラウンド\nファイナルラウンド\nレギュラーラウンド\nファイナルラウンド\nレギュラーラウンド\nファイナルラウンド\n\n\n\n"
    }
   ],
   "source": [
    "for s_round in s_rounds:\n",
    "    round_name = s_round.text\n",
    "    # print(round_name)\n",
    "    if round_name == 'レギュラーラウンド'\n",
    "        "
   ]
  },
  {
   "cell_type": "code",
   "execution_count": null,
   "metadata": {},
   "outputs": [],
   "source": []
  }
 ]
}