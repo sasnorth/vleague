{
 "metadata": {
  "language_info": {
   "codemirror_mode": {
    "name": "ipython",
    "version": 3
   },
   "file_extension": ".py",
   "mimetype": "text/x-python",
   "name": "python",
   "nbconvert_exporter": "python",
   "pygments_lexer": "ipython3",
   "version": "3.7.3-final"
  },
  "orig_nbformat": 2,
  "kernelspec": {
   "name": "python_defaultSpec_1600865768780",
   "display_name": "Python 3.7.3 64-bit"
  }
 },
 "nbformat": 4,
 "nbformat_minor": 2,
 "cells": [
  {
   "cell_type": "code",
   "execution_count": 56,
   "metadata": {
    "tags": []
   },
   "outputs": [
    {
     "output_type": "execute_result",
     "data": {
      "text/plain": "                                  大会           チーム   選手名  試合数  セット数  アタック打数  \\\n0     2019-20 V.LEAGUE DIVISION1 MEN  ジェイテクトSTINGS  藤中優斗   29    79     152   \n1                          レギュラーラウンド  ジェイテクトSTINGS  藤中優斗   27    70     129   \n2                     セミファイナル（３位決定戦）  ジェイテクトSTINGS  藤中優斗    1     4      10   \n3                              ファイナル  ジェイテクトSTINGS  藤中優斗    1     5      13   \n4     V.LEAGUE DIVISION1 MEN 2018-19  ジェイテクトSTINGS  藤中優斗    4     6       0   \n...                              ...           ...   ...  ...   ...     ...   \n2951                       レギュラーラウンド    VC長野トライデンツ   長田翼   21    28       0   \n2952           Ｖ・チャレンジリーグⅡ男子 2015/16    VC長野トライデンツ   長田翼    3     5       0   \n2953                       レギュラーラウンド    VC長野トライデンツ   長田翼    3     5       0   \n2954                     レギュラーシーズン通算           NaN   長田翼   99   177      11   \n2955                              通算           NaN   長田翼   99   177      11   \n\n      アタック得点  アタック失点 アタック決定率  アタック効果率  ...  サーブ効果  サーブ効果率   受数 サーブレシーブ成功・優  \\\n0         64      12    42.1     34.2  ...     41     4.1  287         120   \n1         53       8    41.1     34.9  ...     37     4.5  224          93   \n2          5       2    50.0     30.0  ...      2     1.6   35          17   \n3          6       2    46.2     30.8  ...      2     0.0   28          10   \n4          0       0       -      NaN  ...      0       -    5           3   \n...      ...     ...     ...      ...  ...    ...     ...  ...         ...   \n2951       0       0       -      NaN  ...     12     7.7    0           0   \n2952       0       0       -      NaN  ...      1     3.6    0           0   \n2953       0       0       -      NaN  ...      1     3.6    0           0   \n2954       7       2    63.6     45.5  ...     71     5.9    8           0   \n2955       7       2    63.6     45.5  ...     71     5.9    8           0   \n\n      サーブレシーブ成功・良 サーブレシーブ成功率  アタック ブロック  サーブ  得点合計  \n0              85       56.6    64   14    5    83  \n1              67       56.5    53   13    5    71  \n2               9       61.4     5    1    0     6  \n3               9       51.8     6    0    0     6  \n4               1         70     0    0    0     0  \n...           ...        ...   ...  ...  ...   ...  \n2951            0          -     0    0    0     0  \n2952            0          -     0    0    0     0  \n2953            0          -     0    0    0     0  \n2954            0        0.0     7   12    8    27  \n2955            0        0.0     7   12    8    27  \n\n[2956 rows x 32 columns]",
      "text/html": "<div>\n<style scoped>\n    .dataframe tbody tr th:only-of-type {\n        vertical-align: middle;\n    }\n\n    .dataframe tbody tr th {\n        vertical-align: top;\n    }\n\n    .dataframe thead th {\n        text-align: right;\n    }\n</style>\n<table border=\"1\" class=\"dataframe\">\n  <thead>\n    <tr style=\"text-align: right;\">\n      <th></th>\n      <th>大会</th>\n      <th>チーム</th>\n      <th>選手名</th>\n      <th>試合数</th>\n      <th>セット数</th>\n      <th>アタック打数</th>\n      <th>アタック得点</th>\n      <th>アタック失点</th>\n      <th>アタック決定率</th>\n      <th>アタック効果率</th>\n      <th>...</th>\n      <th>サーブ効果</th>\n      <th>サーブ効果率</th>\n      <th>受数</th>\n      <th>サーブレシーブ成功・優</th>\n      <th>サーブレシーブ成功・良</th>\n      <th>サーブレシーブ成功率</th>\n      <th>アタック</th>\n      <th>ブロック</th>\n      <th>サーブ</th>\n      <th>得点合計</th>\n    </tr>\n  </thead>\n  <tbody>\n    <tr>\n      <th>0</th>\n      <td>2019-20 V.LEAGUE DIVISION1 MEN</td>\n      <td>ジェイテクトSTINGS</td>\n      <td>藤中優斗</td>\n      <td>29</td>\n      <td>79</td>\n      <td>152</td>\n      <td>64</td>\n      <td>12</td>\n      <td>42.1</td>\n      <td>34.2</td>\n      <td>...</td>\n      <td>41</td>\n      <td>4.1</td>\n      <td>287</td>\n      <td>120</td>\n      <td>85</td>\n      <td>56.6</td>\n      <td>64</td>\n      <td>14</td>\n      <td>5</td>\n      <td>83</td>\n    </tr>\n    <tr>\n      <th>1</th>\n      <td>レギュラーラウンド</td>\n      <td>ジェイテクトSTINGS</td>\n      <td>藤中優斗</td>\n      <td>27</td>\n      <td>70</td>\n      <td>129</td>\n      <td>53</td>\n      <td>8</td>\n      <td>41.1</td>\n      <td>34.9</td>\n      <td>...</td>\n      <td>37</td>\n      <td>4.5</td>\n      <td>224</td>\n      <td>93</td>\n      <td>67</td>\n      <td>56.5</td>\n      <td>53</td>\n      <td>13</td>\n      <td>5</td>\n      <td>71</td>\n    </tr>\n    <tr>\n      <th>2</th>\n      <td>セミファイナル（３位決定戦）</td>\n      <td>ジェイテクトSTINGS</td>\n      <td>藤中優斗</td>\n      <td>1</td>\n      <td>4</td>\n      <td>10</td>\n      <td>5</td>\n      <td>2</td>\n      <td>50.0</td>\n      <td>30.0</td>\n      <td>...</td>\n      <td>2</td>\n      <td>1.6</td>\n      <td>35</td>\n      <td>17</td>\n      <td>9</td>\n      <td>61.4</td>\n      <td>5</td>\n      <td>1</td>\n      <td>0</td>\n      <td>6</td>\n    </tr>\n    <tr>\n      <th>3</th>\n      <td>ファイナル</td>\n      <td>ジェイテクトSTINGS</td>\n      <td>藤中優斗</td>\n      <td>1</td>\n      <td>5</td>\n      <td>13</td>\n      <td>6</td>\n      <td>2</td>\n      <td>46.2</td>\n      <td>30.8</td>\n      <td>...</td>\n      <td>2</td>\n      <td>0.0</td>\n      <td>28</td>\n      <td>10</td>\n      <td>9</td>\n      <td>51.8</td>\n      <td>6</td>\n      <td>0</td>\n      <td>0</td>\n      <td>6</td>\n    </tr>\n    <tr>\n      <th>4</th>\n      <td>V.LEAGUE DIVISION1 MEN 2018-19</td>\n      <td>ジェイテクトSTINGS</td>\n      <td>藤中優斗</td>\n      <td>4</td>\n      <td>6</td>\n      <td>0</td>\n      <td>0</td>\n      <td>0</td>\n      <td>-</td>\n      <td>NaN</td>\n      <td>...</td>\n      <td>0</td>\n      <td>-</td>\n      <td>5</td>\n      <td>3</td>\n      <td>1</td>\n      <td>70</td>\n      <td>0</td>\n      <td>0</td>\n      <td>0</td>\n      <td>0</td>\n    </tr>\n    <tr>\n      <th>...</th>\n      <td>...</td>\n      <td>...</td>\n      <td>...</td>\n      <td>...</td>\n      <td>...</td>\n      <td>...</td>\n      <td>...</td>\n      <td>...</td>\n      <td>...</td>\n      <td>...</td>\n      <td>...</td>\n      <td>...</td>\n      <td>...</td>\n      <td>...</td>\n      <td>...</td>\n      <td>...</td>\n      <td>...</td>\n      <td>...</td>\n      <td>...</td>\n      <td>...</td>\n      <td>...</td>\n    </tr>\n    <tr>\n      <th>2951</th>\n      <td>レギュラーラウンド</td>\n      <td>VC長野トライデンツ</td>\n      <td>長田翼</td>\n      <td>21</td>\n      <td>28</td>\n      <td>0</td>\n      <td>0</td>\n      <td>0</td>\n      <td>-</td>\n      <td>NaN</td>\n      <td>...</td>\n      <td>12</td>\n      <td>7.7</td>\n      <td>0</td>\n      <td>0</td>\n      <td>0</td>\n      <td>-</td>\n      <td>0</td>\n      <td>0</td>\n      <td>0</td>\n      <td>0</td>\n    </tr>\n    <tr>\n      <th>2952</th>\n      <td>Ｖ・チャレンジリーグⅡ男子 2015/16</td>\n      <td>VC長野トライデンツ</td>\n      <td>長田翼</td>\n      <td>3</td>\n      <td>5</td>\n      <td>0</td>\n      <td>0</td>\n      <td>0</td>\n      <td>-</td>\n      <td>NaN</td>\n      <td>...</td>\n      <td>1</td>\n      <td>3.6</td>\n      <td>0</td>\n      <td>0</td>\n      <td>0</td>\n      <td>-</td>\n      <td>0</td>\n      <td>0</td>\n      <td>0</td>\n      <td>0</td>\n    </tr>\n    <tr>\n      <th>2953</th>\n      <td>レギュラーラウンド</td>\n      <td>VC長野トライデンツ</td>\n      <td>長田翼</td>\n      <td>3</td>\n      <td>5</td>\n      <td>0</td>\n      <td>0</td>\n      <td>0</td>\n      <td>-</td>\n      <td>NaN</td>\n      <td>...</td>\n      <td>1</td>\n      <td>3.6</td>\n      <td>0</td>\n      <td>0</td>\n      <td>0</td>\n      <td>-</td>\n      <td>0</td>\n      <td>0</td>\n      <td>0</td>\n      <td>0</td>\n    </tr>\n    <tr>\n      <th>2954</th>\n      <td>レギュラーシーズン通算</td>\n      <td>NaN</td>\n      <td>長田翼</td>\n      <td>99</td>\n      <td>177</td>\n      <td>11</td>\n      <td>7</td>\n      <td>2</td>\n      <td>63.6</td>\n      <td>45.5</td>\n      <td>...</td>\n      <td>71</td>\n      <td>5.9</td>\n      <td>8</td>\n      <td>0</td>\n      <td>0</td>\n      <td>0.0</td>\n      <td>7</td>\n      <td>12</td>\n      <td>8</td>\n      <td>27</td>\n    </tr>\n    <tr>\n      <th>2955</th>\n      <td>通算</td>\n      <td>NaN</td>\n      <td>長田翼</td>\n      <td>99</td>\n      <td>177</td>\n      <td>11</td>\n      <td>7</td>\n      <td>2</td>\n      <td>63.6</td>\n      <td>45.5</td>\n      <td>...</td>\n      <td>71</td>\n      <td>5.9</td>\n      <td>8</td>\n      <td>0</td>\n      <td>0</td>\n      <td>0.0</td>\n      <td>7</td>\n      <td>12</td>\n      <td>8</td>\n      <td>27</td>\n    </tr>\n  </tbody>\n</table>\n<p>2956 rows × 32 columns</p>\n</div>"
     },
     "metadata": {},
     "execution_count": 56
    }
   ],
   "source": [
    "import time\n",
    "import pandas as pd\n",
    " \n",
    "\n",
    "from bs4 import BeautifulSoup\n",
    "import urllib.request as req\n",
    "\n",
    "import requests\n",
    "import os\n",
    "import datetime\n",
    "import re\n",
    "import glob\n",
    "\n",
    "from team_index import get_teams\n",
    "\n",
    "now = datetime.datetime.now()\n",
    "\n",
    "os.chdir('/Users/sasno/Desktop/MyPandas/vleague')\n",
    "\n",
    "headers = {\"User-Agent\": \"Mozilla/5.0\"}\n",
    "\n",
    "# print('ディビジョンを選択してください:{v1_m, v2_m, v3_m, v1_w, v2_w}')\n",
    "# division = input()\n",
    "division = 'v1_m'\n",
    "teams = get_teams(division)\n",
    "\n",
    "if not os.path.isdir(division):\n",
    "    os.makedirs(division)\n",
    "os.chdir(division)\n",
    "\n",
    "if not os.path.isdir('all'):\n",
    "    os.makedirs('all')\n",
    "os.chdir('all')\n",
    "\n",
    "career_dir = 'career'\n",
    "# print(career_dir)\n",
    "if not os.path.isdir(career_dir):\n",
    "    os.makedirs(career_dir)\n",
    "    os.chdir(career_dir)\n",
    "\n",
    "# print(os.getcwd())\n",
    "\n",
    "career_lists = []\n",
    "\n",
    "for team_id, team_name in teams.items():\n",
    "    url = 'https://www.vleague.jp/record/team_players/{}'.format(team_id)\n",
    "    # print(url)\n",
    "    request = req.Request(url, headers=headers)\n",
    "    response = req.urlopen(request)\n",
    "    parse_html = BeautifulSoup(response, 'html.parser')\n",
    "\n",
    "    tables = parse_html.find_all('table')[0]\n",
    "    tr = tables.find_all('tr')\n",
    "    a = tables.find_all('a')\n",
    "    player_urls = []\n",
    "    for i in a:\n",
    "        href = i.attrs['href']\n",
    "        # print(href)\n",
    "        player_url = 'https://www.vleague.jp{}'.format(href)\n",
    "        # print(player_url)\n",
    "        player_urls.append(player_url)\n",
    "    \n",
    "    number_list = []\n",
    "    player_list = []\n",
    "    for i in tr[1:]:\n",
    "        td = i.find_all('td')\n",
    "        number = td[0].text\n",
    "        number_list.append(number)\n",
    "        player = td[1].text.replace('\\xa0', '')\n",
    "        player_list.append(player)\n",
    "    # print(number_list, player_list)\n",
    "\n",
    "\n",
    "    # print(os.getcwd())\n",
    "\n",
    "    for i in range(len(player_list)):\n",
    "        html = requests.get(player_urls[i], headers=headers)\n",
    "        request_2 = req.Request(player_urls[i], headers=headers)\n",
    "        response_2 = req.urlopen(request_2)\n",
    "        parse_html_2 = BeautifulSoup(response_2, 'html.parser')\n",
    "        table_2 = parse_html_2.find_all('table')\n",
    "\n",
    "        if len(table_2) > 0: \n",
    "            data = pd.read_html(html.text, header = [1])\n",
    "            stats = pd.DataFrame(data[0])\n",
    "            # print(stats)\n",
    "            stats = stats.rename({\"チ｜ム\": \"チーム\", \"サ｜ブ\": \"サーブ\", \"ノ｜タッチ\": \"ノータッチ\", \"エ｜ス\": \"エース\"}, axis=1)\n",
    "            stats = stats.rename(columns={'打数':'アタック打数', '得点':'アタック得点', \n",
    "                            '失点':'アタック失点', '決定率':'アタック決定率',\n",
    "                            'セ平ット均':'アタックセット平均','打数.1':'バックアタック打数', '得点.1':'バックアタック得点',\n",
    "                            '失点.1':'バックアタック失点', '決定率.1':'バックアタック決定率', \n",
    "                            'セット平均':'アタック得点セット平均' ,'得点.2':'ブロック得点', \n",
    "                            'セット平均.1':'ブロック得点セット平均','セ平ット均.1':'ブロックセット平均', \n",
    "                            '打数.2':'サーブ打数', '得点.3':'サーブ得点', '失点.2':'サーブ失点',\n",
    "                            '効果':'サーブ効果', '効果率':'サーブ効果率', '成功・優':'サーブレシーブ成功・優', \n",
    "                            '成功・良':'サーブレシーブ成功・良', '成功率':'サーブレシーブ成功率'})\n",
    "            stats.insert(2, '選手名', player_list[i])\n",
    "            stats.insert(9, 'アタック効果率', (((stats['アタック得点'] - stats['アタック失点']) / stats['アタック打数']) * 100).round(1))\n",
    "            stats.insert(14, 'バックアタック効果率', (((stats['バックアタック得点'] - stats['バックアタック失点']) / stats['バックアタック打数']) * 100).round(1))\n",
    "            career_lists.append(stats)\n",
    "            career_database = pd.concat(career_lists, ignore_index=True)\n",
    "            # csv = '{0}_{1}_{2:%Y}-{2:%m}-{2:%d}.csv'.format(number_list[i], player_list[i], now)\n",
    "            # stats.to_csv(csv, index=False, encoding='cp932')\n",
    "            # print('{}を作成'.format(csv))\n",
    "career_database"
   ]
  },
  {
   "cell_type": "code",
   "execution_count": 112,
   "metadata": {},
   "outputs": [
    {
     "output_type": "execute_result",
     "data": {
      "text/plain": "                                  大会           チーム   選手名  試合数  セット数  アタック打数  \\\n0     2019-20 V.LEAGUE DIVISION1 MEN  ジェイテクトSTINGS  藤中優斗   29    79     152   \n1                          レギュラーラウンド  ジェイテクトSTINGS  藤中優斗   27    70     129   \n2                     セミファイナル（３位決定戦）  ジェイテクトSTINGS  藤中優斗    1     4      10   \n3                              ファイナル  ジェイテクトSTINGS  藤中優斗    1     5      13   \n4     V.LEAGUE DIVISION1 MEN 2018-19  ジェイテクトSTINGS  藤中優斗    4     6       0   \n...                              ...           ...   ...  ...   ...     ...   \n2951                       レギュラーラウンド    VC長野トライデンツ   長田翼   21    28       0   \n2952           Ｖ・チャレンジリーグⅡ男子 2015/16    VC長野トライデンツ   長田翼    3     5       0   \n2953                       レギュラーラウンド    VC長野トライデンツ   長田翼    3     5       0   \n2954                     レギュラーシーズン通算           NaN   長田翼   99   177      11   \n2955                              通算           NaN   長田翼   99   177      11   \n\n      アタック得点  アタック失点 アタック決定率  アタック効果率  ...  サーブ効果  サーブ効果率   受数 サーブレシーブ成功・優  \\\n0         64      12    42.1     34.2  ...     41     4.1  287         120   \n1         53       8    41.1     34.9  ...     37     4.5  224          93   \n2          5       2    50.0     30.0  ...      2     1.6   35          17   \n3          6       2    46.2     30.8  ...      2     0.0   28          10   \n4          0       0    46.2      NaN  ...      0     0.0    5           3   \n...      ...     ...     ...      ...  ...    ...     ...  ...         ...   \n2951       0       0    80.0      NaN  ...     12     7.7    0           0   \n2952       0       0    80.0      NaN  ...      1     3.6    0           0   \n2953       0       0    80.0      NaN  ...      1     3.6    0           0   \n2954       7       2    63.6     45.5  ...     71     5.9    8           0   \n2955       7       2    63.6     45.5  ...     71     5.9    8           0   \n\n      サーブレシーブ成功・良 サーブレシーブ成功率  アタック ブロック  サーブ  得点合計  \n0              85       56.6    64   14    5    83  \n1              67       56.5    53   13    5    71  \n2               9       61.4     5    1    0     6  \n3               9       51.8     6    0    0     6  \n4               1         70     0    0    0     0  \n...           ...        ...   ...  ...  ...   ...  \n2951            0        0.0     0    0    0     0  \n2952            0        0.0     0    0    0     0  \n2953            0        0.0     0    0    0     0  \n2954            0        0.0     7   12    8    27  \n2955            0        0.0     7   12    8    27  \n\n[2956 rows x 32 columns]",
      "text/html": "<div>\n<style scoped>\n    .dataframe tbody tr th:only-of-type {\n        vertical-align: middle;\n    }\n\n    .dataframe tbody tr th {\n        vertical-align: top;\n    }\n\n    .dataframe thead th {\n        text-align: right;\n    }\n</style>\n<table border=\"1\" class=\"dataframe\">\n  <thead>\n    <tr style=\"text-align: right;\">\n      <th></th>\n      <th>大会</th>\n      <th>チーム</th>\n      <th>選手名</th>\n      <th>試合数</th>\n      <th>セット数</th>\n      <th>アタック打数</th>\n      <th>アタック得点</th>\n      <th>アタック失点</th>\n      <th>アタック決定率</th>\n      <th>アタック効果率</th>\n      <th>...</th>\n      <th>サーブ効果</th>\n      <th>サーブ効果率</th>\n      <th>受数</th>\n      <th>サーブレシーブ成功・優</th>\n      <th>サーブレシーブ成功・良</th>\n      <th>サーブレシーブ成功率</th>\n      <th>アタック</th>\n      <th>ブロック</th>\n      <th>サーブ</th>\n      <th>得点合計</th>\n    </tr>\n  </thead>\n  <tbody>\n    <tr>\n      <th>0</th>\n      <td>2019-20 V.LEAGUE DIVISION1 MEN</td>\n      <td>ジェイテクトSTINGS</td>\n      <td>藤中優斗</td>\n      <td>29</td>\n      <td>79</td>\n      <td>152</td>\n      <td>64</td>\n      <td>12</td>\n      <td>42.1</td>\n      <td>34.2</td>\n      <td>...</td>\n      <td>41</td>\n      <td>4.1</td>\n      <td>287</td>\n      <td>120</td>\n      <td>85</td>\n      <td>56.6</td>\n      <td>64</td>\n      <td>14</td>\n      <td>5</td>\n      <td>83</td>\n    </tr>\n    <tr>\n      <th>1</th>\n      <td>レギュラーラウンド</td>\n      <td>ジェイテクトSTINGS</td>\n      <td>藤中優斗</td>\n      <td>27</td>\n      <td>70</td>\n      <td>129</td>\n      <td>53</td>\n      <td>8</td>\n      <td>41.1</td>\n      <td>34.9</td>\n      <td>...</td>\n      <td>37</td>\n      <td>4.5</td>\n      <td>224</td>\n      <td>93</td>\n      <td>67</td>\n      <td>56.5</td>\n      <td>53</td>\n      <td>13</td>\n      <td>5</td>\n      <td>71</td>\n    </tr>\n    <tr>\n      <th>2</th>\n      <td>セミファイナル（３位決定戦）</td>\n      <td>ジェイテクトSTINGS</td>\n      <td>藤中優斗</td>\n      <td>1</td>\n      <td>4</td>\n      <td>10</td>\n      <td>5</td>\n      <td>2</td>\n      <td>50.0</td>\n      <td>30.0</td>\n      <td>...</td>\n      <td>2</td>\n      <td>1.6</td>\n      <td>35</td>\n      <td>17</td>\n      <td>9</td>\n      <td>61.4</td>\n      <td>5</td>\n      <td>1</td>\n      <td>0</td>\n      <td>6</td>\n    </tr>\n    <tr>\n      <th>3</th>\n      <td>ファイナル</td>\n      <td>ジェイテクトSTINGS</td>\n      <td>藤中優斗</td>\n      <td>1</td>\n      <td>5</td>\n      <td>13</td>\n      <td>6</td>\n      <td>2</td>\n      <td>46.2</td>\n      <td>30.8</td>\n      <td>...</td>\n      <td>2</td>\n      <td>0.0</td>\n      <td>28</td>\n      <td>10</td>\n      <td>9</td>\n      <td>51.8</td>\n      <td>6</td>\n      <td>0</td>\n      <td>0</td>\n      <td>6</td>\n    </tr>\n    <tr>\n      <th>4</th>\n      <td>V.LEAGUE DIVISION1 MEN 2018-19</td>\n      <td>ジェイテクトSTINGS</td>\n      <td>藤中優斗</td>\n      <td>4</td>\n      <td>6</td>\n      <td>0</td>\n      <td>0</td>\n      <td>0</td>\n      <td>46.2</td>\n      <td>NaN</td>\n      <td>...</td>\n      <td>0</td>\n      <td>0.0</td>\n      <td>5</td>\n      <td>3</td>\n      <td>1</td>\n      <td>70</td>\n      <td>0</td>\n      <td>0</td>\n      <td>0</td>\n      <td>0</td>\n    </tr>\n    <tr>\n      <th>...</th>\n      <td>...</td>\n      <td>...</td>\n      <td>...</td>\n      <td>...</td>\n      <td>...</td>\n      <td>...</td>\n      <td>...</td>\n      <td>...</td>\n      <td>...</td>\n      <td>...</td>\n      <td>...</td>\n      <td>...</td>\n      <td>...</td>\n      <td>...</td>\n      <td>...</td>\n      <td>...</td>\n      <td>...</td>\n      <td>...</td>\n      <td>...</td>\n      <td>...</td>\n      <td>...</td>\n    </tr>\n    <tr>\n      <th>2951</th>\n      <td>レギュラーラウンド</td>\n      <td>VC長野トライデンツ</td>\n      <td>長田翼</td>\n      <td>21</td>\n      <td>28</td>\n      <td>0</td>\n      <td>0</td>\n      <td>0</td>\n      <td>80.0</td>\n      <td>NaN</td>\n      <td>...</td>\n      <td>12</td>\n      <td>7.7</td>\n      <td>0</td>\n      <td>0</td>\n      <td>0</td>\n      <td>0.0</td>\n      <td>0</td>\n      <td>0</td>\n      <td>0</td>\n      <td>0</td>\n    </tr>\n    <tr>\n      <th>2952</th>\n      <td>Ｖ・チャレンジリーグⅡ男子 2015/16</td>\n      <td>VC長野トライデンツ</td>\n      <td>長田翼</td>\n      <td>3</td>\n      <td>5</td>\n      <td>0</td>\n      <td>0</td>\n      <td>0</td>\n      <td>80.0</td>\n      <td>NaN</td>\n      <td>...</td>\n      <td>1</td>\n      <td>3.6</td>\n      <td>0</td>\n      <td>0</td>\n      <td>0</td>\n      <td>0.0</td>\n      <td>0</td>\n      <td>0</td>\n      <td>0</td>\n      <td>0</td>\n    </tr>\n    <tr>\n      <th>2953</th>\n      <td>レギュラーラウンド</td>\n      <td>VC長野トライデンツ</td>\n      <td>長田翼</td>\n      <td>3</td>\n      <td>5</td>\n      <td>0</td>\n      <td>0</td>\n      <td>0</td>\n      <td>80.0</td>\n      <td>NaN</td>\n      <td>...</td>\n      <td>1</td>\n      <td>3.6</td>\n      <td>0</td>\n      <td>0</td>\n      <td>0</td>\n      <td>0.0</td>\n      <td>0</td>\n      <td>0</td>\n      <td>0</td>\n      <td>0</td>\n    </tr>\n    <tr>\n      <th>2954</th>\n      <td>レギュラーシーズン通算</td>\n      <td>NaN</td>\n      <td>長田翼</td>\n      <td>99</td>\n      <td>177</td>\n      <td>11</td>\n      <td>7</td>\n      <td>2</td>\n      <td>63.6</td>\n      <td>45.5</td>\n      <td>...</td>\n      <td>71</td>\n      <td>5.9</td>\n      <td>8</td>\n      <td>0</td>\n      <td>0</td>\n      <td>0.0</td>\n      <td>7</td>\n      <td>12</td>\n      <td>8</td>\n      <td>27</td>\n    </tr>\n    <tr>\n      <th>2955</th>\n      <td>通算</td>\n      <td>NaN</td>\n      <td>長田翼</td>\n      <td>99</td>\n      <td>177</td>\n      <td>11</td>\n      <td>7</td>\n      <td>2</td>\n      <td>63.6</td>\n      <td>45.5</td>\n      <td>...</td>\n      <td>71</td>\n      <td>5.9</td>\n      <td>8</td>\n      <td>0</td>\n      <td>0</td>\n      <td>0.0</td>\n      <td>7</td>\n      <td>12</td>\n      <td>8</td>\n      <td>27</td>\n    </tr>\n  </tbody>\n</table>\n<p>2956 rows × 32 columns</p>\n</div>"
     },
     "metadata": {},
     "execution_count": 112
    }
   ],
   "source": [
    "career_database = career_database.replace('-', None)\n",
    "career_database"
   ]
  },
  {
   "cell_type": "code",
   "execution_count": 214,
   "metadata": {},
   "outputs": [
    {
     "output_type": "execute_result",
     "data": {
      "text/plain": "                                  大会           チーム    選手名  試合数  セット数  アタック打数  \\\n0     2019-20 V.LEAGUE DIVISION1 MEN  ジェイテクトSTINGS   藤中優斗   29    79     152   \n8     2019-20 V.LEAGUE DIVISION1 MEN  ジェイテクトSTINGS   金丸晃大   27    51      17   \n60    2019-20 V.LEAGUE DIVISION1 MEN        東レアローズ   伏見大和   56    86     135   \n89    2019-20 V.LEAGUE DIVISION1 MEN  ジェイテクトSTINGS   福山汰一   29    47      94   \n108   2019-20 V.LEAGUE DIVISION1 MEN  ジェイテクトSTINGS    饒書涵   27    96     296   \n...                              ...           ...    ...  ...   ...     ...   \n2910  2019-20 V.LEAGUE DIVISION1 MEN    VC長野トライデンツ   森崎健史   27    91     217   \n2922  2019-20 V.LEAGUE DIVISION1 MEN    VC長野トライデンツ   松村文斗   24     3      10   \n2930  2019-20 V.LEAGUE DIVISION1 MEN    VC長野トライデンツ  大沢健太郎   22    17       0   \n2936  2019-20 V.LEAGUE DIVISION1 MEN    VC長野トライデンツ   高澤和貴   27    62      14   \n2944  2019-20 V.LEAGUE DIVISION1 MEN    VC長野トライデンツ    長田翼   27    33       1   \n\n      アタック得点  アタック失点 アタック決定率  アタック効果率  ...  サーブ効果  サーブ効果率   受数 サーブレシーブ成功・優  \\\n0         64      12    42.1     34.2  ...     41     4.1  287         120   \n8          8       1    47.1     41.2  ...      8     4.3    2           0   \n60        84       7    62.2     57.0  ...     27     3.2    5           3   \n89        55       2    58.5     56.4  ...     30     6.0    8           3   \n108      177       7    59.8     57.4  ...     84     6.9   25          12   \n...      ...     ...     ...      ...  ...    ...     ...  ...         ...   \n2910     112      19    51.6     42.9  ...     62     3.9   53          28   \n2922       1       2      10    -10.0  ...      1     -10   21           8   \n2930       0       0    35.6      NaN  ...      0       3   19           4   \n2936       8       1    57.1     50.0  ...      6     9.2   67          30   \n2944       0       1     0.0   -100.0  ...     10     7.4    4           0   \n\n      サーブレシーブ成功・良 サーブレシーブ成功率  アタック ブロック  サーブ  得点合計  \n0              85       56.6    64   14    5    83  \n8               1       25.0     8    5    0    13  \n60              2       80.0    84   36    9   129  \n89              3       56.2    55   21    9    85  \n108             7         62   177   40    7   224  \n...           ...        ...   ...  ...  ...   ...  \n2910           11       63.2   112   30   11   153  \n2922            7       54.8     1    0    0     1  \n2930           10       47.4     0    0    0     0  \n2936           19         59     8    0    4    12  \n2944            0        0.0     0    3    1     4  \n\n[153 rows x 32 columns]",
      "text/html": "<div>\n<style scoped>\n    .dataframe tbody tr th:only-of-type {\n        vertical-align: middle;\n    }\n\n    .dataframe tbody tr th {\n        vertical-align: top;\n    }\n\n    .dataframe thead th {\n        text-align: right;\n    }\n</style>\n<table border=\"1\" class=\"dataframe\">\n  <thead>\n    <tr style=\"text-align: right;\">\n      <th></th>\n      <th>大会</th>\n      <th>チーム</th>\n      <th>選手名</th>\n      <th>試合数</th>\n      <th>セット数</th>\n      <th>アタック打数</th>\n      <th>アタック得点</th>\n      <th>アタック失点</th>\n      <th>アタック決定率</th>\n      <th>アタック効果率</th>\n      <th>...</th>\n      <th>サーブ効果</th>\n      <th>サーブ効果率</th>\n      <th>受数</th>\n      <th>サーブレシーブ成功・優</th>\n      <th>サーブレシーブ成功・良</th>\n      <th>サーブレシーブ成功率</th>\n      <th>アタック</th>\n      <th>ブロック</th>\n      <th>サーブ</th>\n      <th>得点合計</th>\n    </tr>\n  </thead>\n  <tbody>\n    <tr>\n      <th>0</th>\n      <td>2019-20 V.LEAGUE DIVISION1 MEN</td>\n      <td>ジェイテクトSTINGS</td>\n      <td>藤中優斗</td>\n      <td>29</td>\n      <td>79</td>\n      <td>152</td>\n      <td>64</td>\n      <td>12</td>\n      <td>42.1</td>\n      <td>34.2</td>\n      <td>...</td>\n      <td>41</td>\n      <td>4.1</td>\n      <td>287</td>\n      <td>120</td>\n      <td>85</td>\n      <td>56.6</td>\n      <td>64</td>\n      <td>14</td>\n      <td>5</td>\n      <td>83</td>\n    </tr>\n    <tr>\n      <th>8</th>\n      <td>2019-20 V.LEAGUE DIVISION1 MEN</td>\n      <td>ジェイテクトSTINGS</td>\n      <td>金丸晃大</td>\n      <td>27</td>\n      <td>51</td>\n      <td>17</td>\n      <td>8</td>\n      <td>1</td>\n      <td>47.1</td>\n      <td>41.2</td>\n      <td>...</td>\n      <td>8</td>\n      <td>4.3</td>\n      <td>2</td>\n      <td>0</td>\n      <td>1</td>\n      <td>25.0</td>\n      <td>8</td>\n      <td>5</td>\n      <td>0</td>\n      <td>13</td>\n    </tr>\n    <tr>\n      <th>60</th>\n      <td>2019-20 V.LEAGUE DIVISION1 MEN</td>\n      <td>東レアローズ</td>\n      <td>伏見大和</td>\n      <td>56</td>\n      <td>86</td>\n      <td>135</td>\n      <td>84</td>\n      <td>7</td>\n      <td>62.2</td>\n      <td>57.0</td>\n      <td>...</td>\n      <td>27</td>\n      <td>3.2</td>\n      <td>5</td>\n      <td>3</td>\n      <td>2</td>\n      <td>80.0</td>\n      <td>84</td>\n      <td>36</td>\n      <td>9</td>\n      <td>129</td>\n    </tr>\n    <tr>\n      <th>89</th>\n      <td>2019-20 V.LEAGUE DIVISION1 MEN</td>\n      <td>ジェイテクトSTINGS</td>\n      <td>福山汰一</td>\n      <td>29</td>\n      <td>47</td>\n      <td>94</td>\n      <td>55</td>\n      <td>2</td>\n      <td>58.5</td>\n      <td>56.4</td>\n      <td>...</td>\n      <td>30</td>\n      <td>6.0</td>\n      <td>8</td>\n      <td>3</td>\n      <td>3</td>\n      <td>56.2</td>\n      <td>55</td>\n      <td>21</td>\n      <td>9</td>\n      <td>85</td>\n    </tr>\n    <tr>\n      <th>108</th>\n      <td>2019-20 V.LEAGUE DIVISION1 MEN</td>\n      <td>ジェイテクトSTINGS</td>\n      <td>饒書涵</td>\n      <td>27</td>\n      <td>96</td>\n      <td>296</td>\n      <td>177</td>\n      <td>7</td>\n      <td>59.8</td>\n      <td>57.4</td>\n      <td>...</td>\n      <td>84</td>\n      <td>6.9</td>\n      <td>25</td>\n      <td>12</td>\n      <td>7</td>\n      <td>62</td>\n      <td>177</td>\n      <td>40</td>\n      <td>7</td>\n      <td>224</td>\n    </tr>\n    <tr>\n      <th>...</th>\n      <td>...</td>\n      <td>...</td>\n      <td>...</td>\n      <td>...</td>\n      <td>...</td>\n      <td>...</td>\n      <td>...</td>\n      <td>...</td>\n      <td>...</td>\n      <td>...</td>\n      <td>...</td>\n      <td>...</td>\n      <td>...</td>\n      <td>...</td>\n      <td>...</td>\n      <td>...</td>\n      <td>...</td>\n      <td>...</td>\n      <td>...</td>\n      <td>...</td>\n      <td>...</td>\n    </tr>\n    <tr>\n      <th>2910</th>\n      <td>2019-20 V.LEAGUE DIVISION1 MEN</td>\n      <td>VC長野トライデンツ</td>\n      <td>森崎健史</td>\n      <td>27</td>\n      <td>91</td>\n      <td>217</td>\n      <td>112</td>\n      <td>19</td>\n      <td>51.6</td>\n      <td>42.9</td>\n      <td>...</td>\n      <td>62</td>\n      <td>3.9</td>\n      <td>53</td>\n      <td>28</td>\n      <td>11</td>\n      <td>63.2</td>\n      <td>112</td>\n      <td>30</td>\n      <td>11</td>\n      <td>153</td>\n    </tr>\n    <tr>\n      <th>2922</th>\n      <td>2019-20 V.LEAGUE DIVISION1 MEN</td>\n      <td>VC長野トライデンツ</td>\n      <td>松村文斗</td>\n      <td>24</td>\n      <td>3</td>\n      <td>10</td>\n      <td>1</td>\n      <td>2</td>\n      <td>10</td>\n      <td>-10.0</td>\n      <td>...</td>\n      <td>1</td>\n      <td>-10</td>\n      <td>21</td>\n      <td>8</td>\n      <td>7</td>\n      <td>54.8</td>\n      <td>1</td>\n      <td>0</td>\n      <td>0</td>\n      <td>1</td>\n    </tr>\n    <tr>\n      <th>2930</th>\n      <td>2019-20 V.LEAGUE DIVISION1 MEN</td>\n      <td>VC長野トライデンツ</td>\n      <td>大沢健太郎</td>\n      <td>22</td>\n      <td>17</td>\n      <td>0</td>\n      <td>0</td>\n      <td>0</td>\n      <td>35.6</td>\n      <td>NaN</td>\n      <td>...</td>\n      <td>0</td>\n      <td>3</td>\n      <td>19</td>\n      <td>4</td>\n      <td>10</td>\n      <td>47.4</td>\n      <td>0</td>\n      <td>0</td>\n      <td>0</td>\n      <td>0</td>\n    </tr>\n    <tr>\n      <th>2936</th>\n      <td>2019-20 V.LEAGUE DIVISION1 MEN</td>\n      <td>VC長野トライデンツ</td>\n      <td>高澤和貴</td>\n      <td>27</td>\n      <td>62</td>\n      <td>14</td>\n      <td>8</td>\n      <td>1</td>\n      <td>57.1</td>\n      <td>50.0</td>\n      <td>...</td>\n      <td>6</td>\n      <td>9.2</td>\n      <td>67</td>\n      <td>30</td>\n      <td>19</td>\n      <td>59</td>\n      <td>8</td>\n      <td>0</td>\n      <td>4</td>\n      <td>12</td>\n    </tr>\n    <tr>\n      <th>2944</th>\n      <td>2019-20 V.LEAGUE DIVISION1 MEN</td>\n      <td>VC長野トライデンツ</td>\n      <td>長田翼</td>\n      <td>27</td>\n      <td>33</td>\n      <td>1</td>\n      <td>0</td>\n      <td>1</td>\n      <td>0.0</td>\n      <td>-100.0</td>\n      <td>...</td>\n      <td>10</td>\n      <td>7.4</td>\n      <td>4</td>\n      <td>0</td>\n      <td>0</td>\n      <td>0.0</td>\n      <td>0</td>\n      <td>3</td>\n      <td>1</td>\n      <td>4</td>\n    </tr>\n  </tbody>\n</table>\n<p>153 rows × 32 columns</p>\n</div>"
     },
     "metadata": {},
     "execution_count": 214
    }
   ],
   "source": [
    "regular19 = career_database[career_database['大会'] == '2019-20 V.LEAGUE DIVISION1 MEN']\n",
    "regular19"
   ]
  },
  {
   "cell_type": "code",
   "execution_count": 215,
   "metadata": {},
   "outputs": [],
   "source": [
    "regular19['アタック決定率'] = regular19['アタック決定率'].astype(float)\n",
    "regular19['バックアタック決定率'] = regular19['バックアタック決定率'].astype(float)\n",
    "regular19['アタック得点セット平均'] = regular19['アタック得点セット平均'].astype(float)\n",
    "regular19['ブロック得点セット平均'] = regular19['ブロック得点セット平均'].astype(float)\n",
    "regular19['サーブ効果率'] = regular19['サーブ効果率'].astype(float)\n",
    "regular19['サーブレシーブ成功率'] = regular19['サーブレシーブ成功率'].astype(float)"
   ]
  },
  {
   "cell_type": "code",
   "execution_count": 216,
   "metadata": {},
   "outputs": [
    {
     "output_type": "execute_result",
     "data": {
      "text/plain": "大会              object\nチーム             object\n選手名             object\n試合数              int64\nセット数             int64\nアタック打数           int64\nアタック得点           int64\nアタック失点           int64\nアタック決定率        float64\nアタック効果率        float64\nバックアタック打数        int64\nバックアタック得点        int64\nバックアタック失点        int64\nバックアタック決定率     float64\nバックアタック効果率     float64\nアタック得点セット平均    float64\nブロック得点           int64\nブロック得点セット平均    float64\nサーブ打数            int64\nノータッチ            int64\nエース              int64\nサーブ失点            int64\nサーブ効果            int64\nサーブ効果率         float64\n受数               int64\nサーブレシーブ成功・優      int64\nサーブレシーブ成功・良      int64\nサーブレシーブ成功率     float64\nアタック             int64\nブロック             int64\nサーブ              int64\n得点合計             int64\ndtype: object"
     },
     "metadata": {},
     "execution_count": 216
    }
   ],
   "source": [
    "regular19.dtypes"
   ]
  },
  {
   "cell_type": "code",
   "execution_count": 130,
   "metadata": {
    "tags": []
   },
   "outputs": [
    {
     "output_type": "stream",
     "name": "stdout",
     "text": "2019-20 V.LEAGUE DIVISION1 MEN\n"
    }
   ],
   "source": [
    " ob_data = regular19[0:1].to_dict()\n",
    " print(ob_data['大会'][0])"
   ]
  },
  {
   "cell_type": "code",
   "execution_count": 222,
   "metadata": {},
   "outputs": [],
   "source": [
    "attack_ave = (regular19['アタック得点'].sum() / regular19['アタック打数'].sum()) * 100\n",
    "attack_ef = ((regular19['アタック得点'].sum() - regular19['アタック失点'].sum()) / regular19['アタック打数'].sum()) * 100\n",
    "b_attack_ave = (regular19['バックアタック得点'].sum() / regular19['バックアタック打数'].sum()) * 100\n",
    "b_attack_ef = ((regular19['バックアタック得点'].sum() - regular19['バックアタック失点'].sum()) \\\n",
    "        / regular19['バックアタック打数'].sum()) * 100\n",
    "attack_by_set = regular19['アタック得点'].sum() / regular19['セット数'].sum()\n",
    "block_by_set = regular19['ブロック得点'].sum() / regular19['セット数'].sum()\n",
    "serve_ef = ((regular19['ノータッチ'].sum() + regular19['エース'].sum()) * 100 \\\n",
    "        + regular19['サーブ効果'].sum() * 25 - regular19['サーブ失点'].sum() * 25) \\\n",
    "        / regular19['サーブ打数'].sum()\n",
    "s_receive_ave = \\\n",
    "     (regular19['サーブレシーブ成功・優'].sum() * 100 + \\\n",
    "     regular19['サーブレシーブ成功・良'].sum() * 50) \\\n",
    "     / regular19['受数'].sum()"
   ]
  },
  {
   "cell_type": "code",
   "execution_count": 159,
   "metadata": {
    "tags": []
   },
   "outputs": [],
   "source": [
    "# value = regular19.columns.values\n",
    "# print('regular19.append(')\n",
    "# for i in range(len(value)):\n",
    "#     if i <= 2:\n",
    "#         print(\"     ob_data['{}'][0],\".format(value[i]))\n",
    "#     else:\n",
    "#         print(\"     regular19['{}'].sum(),\".format(value[i]))\n",
    "# print(')')"
   ]
  },
  {
   "cell_type": "code",
   "execution_count": 223,
   "metadata": {},
   "outputs": [
    {
     "output_type": "execute_result",
     "data": {
      "text/plain": "                                  大会           チーム    選手名  試合数  セット数  アタック打数  \\\n0     2019-20 V.LEAGUE DIVISION1 MEN  ジェイテクトSTINGS   藤中優斗   29    79     152   \n8     2019-20 V.LEAGUE DIVISION1 MEN  ジェイテクトSTINGS   金丸晃大   27    51      17   \n60    2019-20 V.LEAGUE DIVISION1 MEN        東レアローズ   伏見大和   56    86     135   \n89    2019-20 V.LEAGUE DIVISION1 MEN  ジェイテクトSTINGS   福山汰一   29    47      94   \n108   2019-20 V.LEAGUE DIVISION1 MEN  ジェイテクトSTINGS    饒書涵   27    96     296   \n...                              ...           ...    ...  ...   ...     ...   \n2910  2019-20 V.LEAGUE DIVISION1 MEN    VC長野トライデンツ   森崎健史   27    91     217   \n2922  2019-20 V.LEAGUE DIVISION1 MEN    VC長野トライデンツ   松村文斗   24     3      10   \n2930  2019-20 V.LEAGUE DIVISION1 MEN    VC長野トライデンツ  大沢健太郎   22    17       0   \n2936  2019-20 V.LEAGUE DIVISION1 MEN    VC長野トライデンツ   高澤和貴   27    62      14   \n2944  2019-20 V.LEAGUE DIVISION1 MEN    VC長野トライデンツ    長田翼   27    33       1   \n\n      アタック得点  アタック失点  アタック決定率  アタック効果率  ...  サーブ効果  サーブ効果率   受数  サーブレシーブ成功・優  \\\n0         64      12     42.1     34.2  ...     41     4.1  287          120   \n8          8       1     47.1     41.2  ...      8     4.3    2            0   \n60        84       7     62.2     57.0  ...     27     3.2    5            3   \n89        55       2     58.5     56.4  ...     30     6.0    8            3   \n108      177       7     59.8     57.4  ...     84     6.9   25           12   \n...      ...     ...      ...      ...  ...    ...     ...  ...          ...   \n2910     112      19     51.6     42.9  ...     62     3.9   53           28   \n2922       1       2     10.0    -10.0  ...      1   -10.0   21            8   \n2930       0       0     35.6      NaN  ...      0     3.0   19            4   \n2936       8       1     57.1     50.0  ...      6     9.2   67           30   \n2944       0       1      0.0   -100.0  ...     10     7.4    4            0   \n\n      サーブレシーブ成功・良  サーブレシーブ成功率  アタック  ブロック  サーブ  得点合計  \n0              85        56.6    64    14    5    83  \n8               1        25.0     8     5    0    13  \n60              2        80.0    84    36    9   129  \n89              3        56.2    55    21    9    85  \n108             7        62.0   177    40    7   224  \n...           ...         ...   ...   ...  ...   ...  \n2910           11        63.2   112    30   11   153  \n2922            7        54.8     1     0    0     1  \n2930           10        47.4     0     0    0     0  \n2936           19        59.0     8     0    4    12  \n2944            0         0.0     0     3    1     4  \n\n[153 rows x 32 columns]",
      "text/html": "<div>\n<style scoped>\n    .dataframe tbody tr th:only-of-type {\n        vertical-align: middle;\n    }\n\n    .dataframe tbody tr th {\n        vertical-align: top;\n    }\n\n    .dataframe thead th {\n        text-align: right;\n    }\n</style>\n<table border=\"1\" class=\"dataframe\">\n  <thead>\n    <tr style=\"text-align: right;\">\n      <th></th>\n      <th>大会</th>\n      <th>チーム</th>\n      <th>選手名</th>\n      <th>試合数</th>\n      <th>セット数</th>\n      <th>アタック打数</th>\n      <th>アタック得点</th>\n      <th>アタック失点</th>\n      <th>アタック決定率</th>\n      <th>アタック効果率</th>\n      <th>...</th>\n      <th>サーブ効果</th>\n      <th>サーブ効果率</th>\n      <th>受数</th>\n      <th>サーブレシーブ成功・優</th>\n      <th>サーブレシーブ成功・良</th>\n      <th>サーブレシーブ成功率</th>\n      <th>アタック</th>\n      <th>ブロック</th>\n      <th>サーブ</th>\n      <th>得点合計</th>\n    </tr>\n  </thead>\n  <tbody>\n    <tr>\n      <th>0</th>\n      <td>2019-20 V.LEAGUE DIVISION1 MEN</td>\n      <td>ジェイテクトSTINGS</td>\n      <td>藤中優斗</td>\n      <td>29</td>\n      <td>79</td>\n      <td>152</td>\n      <td>64</td>\n      <td>12</td>\n      <td>42.1</td>\n      <td>34.2</td>\n      <td>...</td>\n      <td>41</td>\n      <td>4.1</td>\n      <td>287</td>\n      <td>120</td>\n      <td>85</td>\n      <td>56.6</td>\n      <td>64</td>\n      <td>14</td>\n      <td>5</td>\n      <td>83</td>\n    </tr>\n    <tr>\n      <th>8</th>\n      <td>2019-20 V.LEAGUE DIVISION1 MEN</td>\n      <td>ジェイテクトSTINGS</td>\n      <td>金丸晃大</td>\n      <td>27</td>\n      <td>51</td>\n      <td>17</td>\n      <td>8</td>\n      <td>1</td>\n      <td>47.1</td>\n      <td>41.2</td>\n      <td>...</td>\n      <td>8</td>\n      <td>4.3</td>\n      <td>2</td>\n      <td>0</td>\n      <td>1</td>\n      <td>25.0</td>\n      <td>8</td>\n      <td>5</td>\n      <td>0</td>\n      <td>13</td>\n    </tr>\n    <tr>\n      <th>60</th>\n      <td>2019-20 V.LEAGUE DIVISION1 MEN</td>\n      <td>東レアローズ</td>\n      <td>伏見大和</td>\n      <td>56</td>\n      <td>86</td>\n      <td>135</td>\n      <td>84</td>\n      <td>7</td>\n      <td>62.2</td>\n      <td>57.0</td>\n      <td>...</td>\n      <td>27</td>\n      <td>3.2</td>\n      <td>5</td>\n      <td>3</td>\n      <td>2</td>\n      <td>80.0</td>\n      <td>84</td>\n      <td>36</td>\n      <td>9</td>\n      <td>129</td>\n    </tr>\n    <tr>\n      <th>89</th>\n      <td>2019-20 V.LEAGUE DIVISION1 MEN</td>\n      <td>ジェイテクトSTINGS</td>\n      <td>福山汰一</td>\n      <td>29</td>\n      <td>47</td>\n      <td>94</td>\n      <td>55</td>\n      <td>2</td>\n      <td>58.5</td>\n      <td>56.4</td>\n      <td>...</td>\n      <td>30</td>\n      <td>6.0</td>\n      <td>8</td>\n      <td>3</td>\n      <td>3</td>\n      <td>56.2</td>\n      <td>55</td>\n      <td>21</td>\n      <td>9</td>\n      <td>85</td>\n    </tr>\n    <tr>\n      <th>108</th>\n      <td>2019-20 V.LEAGUE DIVISION1 MEN</td>\n      <td>ジェイテクトSTINGS</td>\n      <td>饒書涵</td>\n      <td>27</td>\n      <td>96</td>\n      <td>296</td>\n      <td>177</td>\n      <td>7</td>\n      <td>59.8</td>\n      <td>57.4</td>\n      <td>...</td>\n      <td>84</td>\n      <td>6.9</td>\n      <td>25</td>\n      <td>12</td>\n      <td>7</td>\n      <td>62.0</td>\n      <td>177</td>\n      <td>40</td>\n      <td>7</td>\n      <td>224</td>\n    </tr>\n    <tr>\n      <th>...</th>\n      <td>...</td>\n      <td>...</td>\n      <td>...</td>\n      <td>...</td>\n      <td>...</td>\n      <td>...</td>\n      <td>...</td>\n      <td>...</td>\n      <td>...</td>\n      <td>...</td>\n      <td>...</td>\n      <td>...</td>\n      <td>...</td>\n      <td>...</td>\n      <td>...</td>\n      <td>...</td>\n      <td>...</td>\n      <td>...</td>\n      <td>...</td>\n      <td>...</td>\n      <td>...</td>\n    </tr>\n    <tr>\n      <th>2910</th>\n      <td>2019-20 V.LEAGUE DIVISION1 MEN</td>\n      <td>VC長野トライデンツ</td>\n      <td>森崎健史</td>\n      <td>27</td>\n      <td>91</td>\n      <td>217</td>\n      <td>112</td>\n      <td>19</td>\n      <td>51.6</td>\n      <td>42.9</td>\n      <td>...</td>\n      <td>62</td>\n      <td>3.9</td>\n      <td>53</td>\n      <td>28</td>\n      <td>11</td>\n      <td>63.2</td>\n      <td>112</td>\n      <td>30</td>\n      <td>11</td>\n      <td>153</td>\n    </tr>\n    <tr>\n      <th>2922</th>\n      <td>2019-20 V.LEAGUE DIVISION1 MEN</td>\n      <td>VC長野トライデンツ</td>\n      <td>松村文斗</td>\n      <td>24</td>\n      <td>3</td>\n      <td>10</td>\n      <td>1</td>\n      <td>2</td>\n      <td>10.0</td>\n      <td>-10.0</td>\n      <td>...</td>\n      <td>1</td>\n      <td>-10.0</td>\n      <td>21</td>\n      <td>8</td>\n      <td>7</td>\n      <td>54.8</td>\n      <td>1</td>\n      <td>0</td>\n      <td>0</td>\n      <td>1</td>\n    </tr>\n    <tr>\n      <th>2930</th>\n      <td>2019-20 V.LEAGUE DIVISION1 MEN</td>\n      <td>VC長野トライデンツ</td>\n      <td>大沢健太郎</td>\n      <td>22</td>\n      <td>17</td>\n      <td>0</td>\n      <td>0</td>\n      <td>0</td>\n      <td>35.6</td>\n      <td>NaN</td>\n      <td>...</td>\n      <td>0</td>\n      <td>3.0</td>\n      <td>19</td>\n      <td>4</td>\n      <td>10</td>\n      <td>47.4</td>\n      <td>0</td>\n      <td>0</td>\n      <td>0</td>\n      <td>0</td>\n    </tr>\n    <tr>\n      <th>2936</th>\n      <td>2019-20 V.LEAGUE DIVISION1 MEN</td>\n      <td>VC長野トライデンツ</td>\n      <td>高澤和貴</td>\n      <td>27</td>\n      <td>62</td>\n      <td>14</td>\n      <td>8</td>\n      <td>1</td>\n      <td>57.1</td>\n      <td>50.0</td>\n      <td>...</td>\n      <td>6</td>\n      <td>9.2</td>\n      <td>67</td>\n      <td>30</td>\n      <td>19</td>\n      <td>59.0</td>\n      <td>8</td>\n      <td>0</td>\n      <td>4</td>\n      <td>12</td>\n    </tr>\n    <tr>\n      <th>2944</th>\n      <td>2019-20 V.LEAGUE DIVISION1 MEN</td>\n      <td>VC長野トライデンツ</td>\n      <td>長田翼</td>\n      <td>27</td>\n      <td>33</td>\n      <td>1</td>\n      <td>0</td>\n      <td>1</td>\n      <td>0.0</td>\n      <td>-100.0</td>\n      <td>...</td>\n      <td>10</td>\n      <td>7.4</td>\n      <td>4</td>\n      <td>0</td>\n      <td>0</td>\n      <td>0.0</td>\n      <td>0</td>\n      <td>3</td>\n      <td>1</td>\n      <td>4</td>\n    </tr>\n  </tbody>\n</table>\n<p>153 rows × 32 columns</p>\n</div>"
     },
     "metadata": {},
     "execution_count": 223
    }
   ],
   "source": [
    "regular19"
   ]
  },
  {
   "cell_type": "code",
   "execution_count": 150,
   "metadata": {},
   "outputs": [
    {
     "output_type": "execute_result",
     "data": {
      "text/plain": "大会             2019-20 V.LEAGUE DIVISION1 MEN\nチーム                                VC長野トライデンツ\n選手名                                       長田翼\n試合数                                        27\nセット数                                       33\nアタック打数                                      1\nアタック得点                                      0\nアタック失点                                      1\nアタック決定率                                     0\nアタック効果率                                  -100\nバックアタック打数                                   0\nバックアタック得点                                   0\nバックアタック失点                                   0\nバックアタック決定率                                  0\nバックアタック効果率                                NaN\nアタック得点セット平均                               0.7\nブロック得点                                      3\nブロック得点セット平均                              0.09\nサーブ打数                                      44\nノータッチ                                       0\nエース                                         1\nサーブ失点                                       1\nサーブ効果                                      10\nサーブ効果率                                    7.4\n受数                                          4\nサーブレシーブ成功・優                                 0\nサーブレシーブ成功・良                                 0\nサーブレシーブ成功率                                0.0\nアタック                                        0\nブロック                                        3\nサーブ                                         1\n得点合計                                        4\nName: 2944, dtype: object"
     },
     "metadata": {},
     "execution_count": 150
    }
   ],
   "source": [
    "regular19.iloc[]"
   ]
  },
  {
   "cell_type": "code",
   "execution_count": 227,
   "metadata": {},
   "outputs": [],
   "source": [
    "regular19.loc[-1] = [\n",
    "     ob_data['大会'][0],\n",
    "     None,\n",
    "     '合計',\n",
    "     regular19['試合数'].sum(),\n",
    "     regular19['セット数'].sum(),\n",
    "     regular19['アタック打数'].sum(),\n",
    "     regular19['アタック得点'].sum(),\n",
    "     regular19['アタック失点'].sum(),\n",
    "     attack_ave.round(1),\n",
    "     attack_ef.round(1),\n",
    "     regular19['バックアタック打数'].sum(),\n",
    "     regular19['バックアタック得点'].sum(),\n",
    "     regular19['バックアタック失点'].sum(),\n",
    "     b_attack_ave.round(1),\n",
    "     b_attack_ef.round(1),\n",
    "     attack_by_set.round(1),\n",
    "     regular19['ブロック得点'].sum(),\n",
    "     block_by_set.round(1),\n",
    "     regular19['サーブ打数'].sum(),\n",
    "     regular19['ノータッチ'].sum(),\n",
    "     regular19['エース'].sum(),\n",
    "     regular19['サーブ失点'].sum(),\n",
    "     regular19['サーブ効果'].sum(),\n",
    "     serve_ef.round(1),\n",
    "     regular19['受数'].sum(),\n",
    "     regular19['サーブレシーブ成功・優'].sum(),\n",
    "     regular19['サーブレシーブ成功・良'].sum(),\n",
    "     s_receive_ave.round(1),\n",
    "     regular19['アタック'].sum(),\n",
    "     regular19['ブロック'].sum(),\n",
    "     regular19['サーブ'].sum(),\n",
    "     regular19['得点合計'].sum()\n",
    "]"
   ]
  },
  {
   "cell_type": "code",
   "execution_count": 158,
   "metadata": {},
   "outputs": [
    {
     "output_type": "execute_result",
     "data": {
      "text/plain": "                                大会   チーム 選手名   試合数  セット数  アタック打数  アタック得点  \\\n-2  2019-20 V.LEAGUE DIVISION1 MEN  None  合計  3501  8357   21531   10588   \n\n    アタック失点  アタック決定率  アタック効果率  ...  サーブ効果  サーブ効果率     受数 サーブレシーブ成功・優  \\\n-2    1313     49.2     43.1  ...   4564     6.3  16224        6823   \n\n    サーブレシーブ成功・良  サーブレシーブ成功率   アタック  ブロック  サーブ   得点合計  \n-2         4180        54.9  10588  1804  805  13197  \n\n[1 rows x 32 columns]",
      "text/html": "<div>\n<style scoped>\n    .dataframe tbody tr th:only-of-type {\n        vertical-align: middle;\n    }\n\n    .dataframe tbody tr th {\n        vertical-align: top;\n    }\n\n    .dataframe thead th {\n        text-align: right;\n    }\n</style>\n<table border=\"1\" class=\"dataframe\">\n  <thead>\n    <tr style=\"text-align: right;\">\n      <th></th>\n      <th>大会</th>\n      <th>チーム</th>\n      <th>選手名</th>\n      <th>試合数</th>\n      <th>セット数</th>\n      <th>アタック打数</th>\n      <th>アタック得点</th>\n      <th>アタック失点</th>\n      <th>アタック決定率</th>\n      <th>アタック効果率</th>\n      <th>...</th>\n      <th>サーブ効果</th>\n      <th>サーブ効果率</th>\n      <th>受数</th>\n      <th>サーブレシーブ成功・優</th>\n      <th>サーブレシーブ成功・良</th>\n      <th>サーブレシーブ成功率</th>\n      <th>アタック</th>\n      <th>ブロック</th>\n      <th>サーブ</th>\n      <th>得点合計</th>\n    </tr>\n  </thead>\n  <tbody>\n    <tr>\n      <th>-2</th>\n      <td>2019-20 V.LEAGUE DIVISION1 MEN</td>\n      <td>None</td>\n      <td>合計</td>\n      <td>3501</td>\n      <td>8357</td>\n      <td>21531</td>\n      <td>10588</td>\n      <td>1313</td>\n      <td>49.2</td>\n      <td>43.1</td>\n      <td>...</td>\n      <td>4564</td>\n      <td>6.3</td>\n      <td>16224</td>\n      <td>6823</td>\n      <td>4180</td>\n      <td>54.9</td>\n      <td>10588</td>\n      <td>1804</td>\n      <td>805</td>\n      <td>13197</td>\n    </tr>\n  </tbody>\n</table>\n<p>1 rows × 32 columns</p>\n</div>"
     },
     "metadata": {},
     "execution_count": 158
    }
   ],
   "source": [
    "average = regular19[regular19['選手名']=='合計']\n",
    "average"
   ]
  },
  {
   "cell_type": "code",
   "execution_count": null,
   "metadata": {},
   "outputs": [],
   "source": []
  },
  {
   "cell_type": "code",
   "execution_count": 230,
   "metadata": {},
   "outputs": [
    {
     "output_type": "execute_result",
     "data": {
      "text/plain": "             チーム          選手名  バックアタック打数  バックアタック得点  バックアタック失点 バックアタック決定率  \\\n11       堺ブレイザーズ        千々木駿介        126         81          9       64.3   \n10    サントリーサンバーズ  ムセルスキードミトリー        406        240         33       59.1   \n9     サントリーサンバーズ          季道帥        135         76          9       56.3   \n8   ジェイテクトSTINGS         西田有志        437        243         48       55.6   \n7        堺ブレイザーズ         樋口裕希        119         66          4       55.5   \n6   大分三好ヴァイセアドラー    バグナスブライアン        174         90         17       51.7   \n5    パナソニックパンサーズ         清水邦広        210        107         12         51   \n4           None           合計       7858       3958        658       50.4   \n3     ウルフドッグス名古屋         高松卓矢        154         76          4       49.4   \n2           FC東京   プレモビッチピーター        444        215         29       48.4   \n1   大分三好ヴァイセアドラー        ヤカングマ        291        126         18       43.3   \n0   大分三好ヴァイセアドラー          濱本豊        110         47         10       42.7   \n\n    バックアタック効果率  \n11        57.1  \n10        51.0  \n9         49.6  \n8         44.6  \n7         52.1  \n6         42.0  \n5         45.2  \n4         42.0  \n3         46.8  \n2         41.9  \n1         37.1  \n0         33.6  ",
      "text/html": "<div>\n<style scoped>\n    .dataframe tbody tr th:only-of-type {\n        vertical-align: middle;\n    }\n\n    .dataframe tbody tr th {\n        vertical-align: top;\n    }\n\n    .dataframe thead th {\n        text-align: right;\n    }\n</style>\n<table border=\"1\" class=\"dataframe\">\n  <thead>\n    <tr style=\"text-align: right;\">\n      <th></th>\n      <th>チーム</th>\n      <th>選手名</th>\n      <th>バックアタック打数</th>\n      <th>バックアタック得点</th>\n      <th>バックアタック失点</th>\n      <th>バックアタック決定率</th>\n      <th>バックアタック効果率</th>\n    </tr>\n  </thead>\n  <tbody>\n    <tr>\n      <th>11</th>\n      <td>堺ブレイザーズ</td>\n      <td>千々木駿介</td>\n      <td>126</td>\n      <td>81</td>\n      <td>9</td>\n      <td>64.3</td>\n      <td>57.1</td>\n    </tr>\n    <tr>\n      <th>10</th>\n      <td>サントリーサンバーズ</td>\n      <td>ムセルスキードミトリー</td>\n      <td>406</td>\n      <td>240</td>\n      <td>33</td>\n      <td>59.1</td>\n      <td>51.0</td>\n    </tr>\n    <tr>\n      <th>9</th>\n      <td>サントリーサンバーズ</td>\n      <td>季道帥</td>\n      <td>135</td>\n      <td>76</td>\n      <td>9</td>\n      <td>56.3</td>\n      <td>49.6</td>\n    </tr>\n    <tr>\n      <th>8</th>\n      <td>ジェイテクトSTINGS</td>\n      <td>西田有志</td>\n      <td>437</td>\n      <td>243</td>\n      <td>48</td>\n      <td>55.6</td>\n      <td>44.6</td>\n    </tr>\n    <tr>\n      <th>7</th>\n      <td>堺ブレイザーズ</td>\n      <td>樋口裕希</td>\n      <td>119</td>\n      <td>66</td>\n      <td>4</td>\n      <td>55.5</td>\n      <td>52.1</td>\n    </tr>\n    <tr>\n      <th>6</th>\n      <td>大分三好ヴァイセアドラー</td>\n      <td>バグナスブライアン</td>\n      <td>174</td>\n      <td>90</td>\n      <td>17</td>\n      <td>51.7</td>\n      <td>42.0</td>\n    </tr>\n    <tr>\n      <th>5</th>\n      <td>パナソニックパンサーズ</td>\n      <td>清水邦広</td>\n      <td>210</td>\n      <td>107</td>\n      <td>12</td>\n      <td>51</td>\n      <td>45.2</td>\n    </tr>\n    <tr>\n      <th>4</th>\n      <td>None</td>\n      <td>合計</td>\n      <td>7858</td>\n      <td>3958</td>\n      <td>658</td>\n      <td>50.4</td>\n      <td>42.0</td>\n    </tr>\n    <tr>\n      <th>3</th>\n      <td>ウルフドッグス名古屋</td>\n      <td>高松卓矢</td>\n      <td>154</td>\n      <td>76</td>\n      <td>4</td>\n      <td>49.4</td>\n      <td>46.8</td>\n    </tr>\n    <tr>\n      <th>2</th>\n      <td>FC東京</td>\n      <td>プレモビッチピーター</td>\n      <td>444</td>\n      <td>215</td>\n      <td>29</td>\n      <td>48.4</td>\n      <td>41.9</td>\n    </tr>\n    <tr>\n      <th>1</th>\n      <td>大分三好ヴァイセアドラー</td>\n      <td>ヤカングマ</td>\n      <td>291</td>\n      <td>126</td>\n      <td>18</td>\n      <td>43.3</td>\n      <td>37.1</td>\n    </tr>\n    <tr>\n      <th>0</th>\n      <td>大分三好ヴァイセアドラー</td>\n      <td>濱本豊</td>\n      <td>110</td>\n      <td>47</td>\n      <td>10</td>\n      <td>42.7</td>\n      <td>33.6</td>\n    </tr>\n  </tbody>\n</table>\n</div>"
     },
     "metadata": {},
     "execution_count": 230
    }
   ],
   "source": [
    "regular19_s = regular19[regular19['バックアタック打数'] >= 100]\n",
    "regular19_s = regular19_s[['チーム','選手名','バックアタック打数','バックアタック得点','バックアタック失点','バックアタック決定率','バックアタック効果率']]\n",
    "regular19_s.sort_values(by=['バックアタック決定率'], ignore_index=True).iloc[::-1]"
   ]
  },
  {
   "cell_type": "code",
   "execution_count": 232,
   "metadata": {},
   "outputs": [
    {
     "output_type": "execute_result",
     "data": {
      "text/plain": "         アタック決定率 バックアタック決定率\n 0     46.443735    54.8893\n 8     49.871353    54.8893\n 60    60.222759    75.1756\n 89    57.686322    75.1756\n 108   58.577503    75.1756\n...          ...        ...\n 2922  24.438427    49.2091\n 2930  41.987832    39.6745\n 2936  56.726589    39.6745\n 2944  17.583191    34.6029\n-1     51.310953    55.0516\n\n[154 rows x 2 columns]",
      "text/html": "<div>\n<style scoped>\n    .dataframe tbody tr th:only-of-type {\n        vertical-align: middle;\n    }\n\n    .dataframe tbody tr th {\n        vertical-align: top;\n    }\n\n    .dataframe thead th {\n        text-align: right;\n    }\n</style>\n<table border=\"1\" class=\"dataframe\">\n  <thead>\n    <tr style=\"text-align: right;\">\n      <th></th>\n      <th>アタック決定率</th>\n      <th>バックアタック決定率</th>\n    </tr>\n  </thead>\n  <tbody>\n    <tr>\n      <th>0</th>\n      <td>46.443735</td>\n      <td>54.8893</td>\n    </tr>\n    <tr>\n      <th>8</th>\n      <td>49.871353</td>\n      <td>54.8893</td>\n    </tr>\n    <tr>\n      <th>60</th>\n      <td>60.222759</td>\n      <td>75.1756</td>\n    </tr>\n    <tr>\n      <th>89</th>\n      <td>57.686322</td>\n      <td>75.1756</td>\n    </tr>\n    <tr>\n      <th>108</th>\n      <td>58.577503</td>\n      <td>75.1756</td>\n    </tr>\n    <tr>\n      <th>...</th>\n      <td>...</td>\n      <td>...</td>\n    </tr>\n    <tr>\n      <th>2922</th>\n      <td>24.438427</td>\n      <td>49.2091</td>\n    </tr>\n    <tr>\n      <th>2930</th>\n      <td>41.987832</td>\n      <td>39.6745</td>\n    </tr>\n    <tr>\n      <th>2936</th>\n      <td>56.726589</td>\n      <td>39.6745</td>\n    </tr>\n    <tr>\n      <th>2944</th>\n      <td>17.583191</td>\n      <td>34.6029</td>\n    </tr>\n    <tr>\n      <th>-1</th>\n      <td>51.310953</td>\n      <td>55.0516</td>\n    </tr>\n  </tbody>\n</table>\n<p>154 rows × 2 columns</p>\n</div>"
     },
     "metadata": {},
     "execution_count": 232
    }
   ],
   "source": [
    "regular19_stand = regular19.loc[:-1,regular19.columns.str.contains('決定率')].apply(lambda x : ((x - x.mean())*10/x.std()+50),axis=0)\n",
    "regular19_stand"
   ]
  },
  {
   "cell_type": "code",
   "execution_count": 237,
   "metadata": {},
   "outputs": [
    {
     "output_type": "execute_result",
     "data": {
      "text/plain": "                                  大会           チーム    選手名  試合数  セット数  アタック打数  \\\n0     2019-20 V.LEAGUE DIVISION1 MEN  ジェイテクトSTINGS   藤中優斗   29    79     152   \n8     2019-20 V.LEAGUE DIVISION1 MEN  ジェイテクトSTINGS   金丸晃大   27    51      17   \n60    2019-20 V.LEAGUE DIVISION1 MEN        東レアローズ   伏見大和   56    86     135   \n89    2019-20 V.LEAGUE DIVISION1 MEN  ジェイテクトSTINGS   福山汰一   29    47      94   \n108   2019-20 V.LEAGUE DIVISION1 MEN  ジェイテクトSTINGS    饒書涵   27    96     296   \n...                              ...           ...    ...  ...   ...     ...   \n2910  2019-20 V.LEAGUE DIVISION1 MEN    VC長野トライデンツ   森崎健史   27    91     217   \n2922  2019-20 V.LEAGUE DIVISION1 MEN    VC長野トライデンツ   松村文斗   24     3      10   \n2930  2019-20 V.LEAGUE DIVISION1 MEN    VC長野トライデンツ  大沢健太郎   22    17       0   \n2936  2019-20 V.LEAGUE DIVISION1 MEN    VC長野トライデンツ   高澤和貴   27    62      14   \n2944  2019-20 V.LEAGUE DIVISION1 MEN    VC長野トライデンツ    長田翼   27    33       1   \n\n      アタック得点  アタック失点  アタック決定率  アタック効果率  ...  サーブ効果  サーブ効果率   受数 サーブレシーブ成功・優  \\\n0         64      12     42.1     34.2  ...     41     4.1  287         120   \n8          8       1     47.1     41.2  ...      8     4.3    2           0   \n60        84       7     62.2     57.0  ...     27     3.2    5           3   \n89        55       2     58.5     56.4  ...     30     6.0    8           3   \n108      177       7     59.8     57.4  ...     84     6.9   25          12   \n...      ...     ...      ...      ...  ...    ...     ...  ...         ...   \n2910     112      19     51.6     42.9  ...     62     3.9   53          28   \n2922       1       2     10.0    -10.0  ...      1   -10.0   21           8   \n2930       0       0     35.6      NaN  ...      0     3.0   19           4   \n2936       8       1     57.1     50.0  ...      6     9.2   67          30   \n2944       0       1      0.0   -100.0  ...     10     7.4    4           0   \n\n      サーブレシーブ成功・良  サーブレシーブ成功率  アタック  ブロック  サーブ  得点合計  \n0              85        56.6    64    14    5    83  \n8               1        25.0     8     5    0    13  \n60              2        80.0    84    36    9   129  \n89              3        56.2    55    21    9    85  \n108             7        62.0   177    40    7   224  \n...           ...         ...   ...   ...  ...   ...  \n2910           11        63.2   112    30   11   153  \n2922            7        54.8     1     0    0     1  \n2930           10        47.4     0     0    0     0  \n2936           19        59.0     8     0    4    12  \n2944            0         0.0     0     3    1     4  \n\n[153 rows x 32 columns]",
      "text/html": "<div>\n<style scoped>\n    .dataframe tbody tr th:only-of-type {\n        vertical-align: middle;\n    }\n\n    .dataframe tbody tr th {\n        vertical-align: top;\n    }\n\n    .dataframe thead th {\n        text-align: right;\n    }\n</style>\n<table border=\"1\" class=\"dataframe\">\n  <thead>\n    <tr style=\"text-align: right;\">\n      <th></th>\n      <th>大会</th>\n      <th>チーム</th>\n      <th>選手名</th>\n      <th>試合数</th>\n      <th>セット数</th>\n      <th>アタック打数</th>\n      <th>アタック得点</th>\n      <th>アタック失点</th>\n      <th>アタック決定率</th>\n      <th>アタック効果率</th>\n      <th>...</th>\n      <th>サーブ効果</th>\n      <th>サーブ効果率</th>\n      <th>受数</th>\n      <th>サーブレシーブ成功・優</th>\n      <th>サーブレシーブ成功・良</th>\n      <th>サーブレシーブ成功率</th>\n      <th>アタック</th>\n      <th>ブロック</th>\n      <th>サーブ</th>\n      <th>得点合計</th>\n    </tr>\n  </thead>\n  <tbody>\n    <tr>\n      <th>0</th>\n      <td>2019-20 V.LEAGUE DIVISION1 MEN</td>\n      <td>ジェイテクトSTINGS</td>\n      <td>藤中優斗</td>\n      <td>29</td>\n      <td>79</td>\n      <td>152</td>\n      <td>64</td>\n      <td>12</td>\n      <td>42.1</td>\n      <td>34.2</td>\n      <td>...</td>\n      <td>41</td>\n      <td>4.1</td>\n      <td>287</td>\n      <td>120</td>\n      <td>85</td>\n      <td>56.6</td>\n      <td>64</td>\n      <td>14</td>\n      <td>5</td>\n      <td>83</td>\n    </tr>\n    <tr>\n      <th>8</th>\n      <td>2019-20 V.LEAGUE DIVISION1 MEN</td>\n      <td>ジェイテクトSTINGS</td>\n      <td>金丸晃大</td>\n      <td>27</td>\n      <td>51</td>\n      <td>17</td>\n      <td>8</td>\n      <td>1</td>\n      <td>47.1</td>\n      <td>41.2</td>\n      <td>...</td>\n      <td>8</td>\n      <td>4.3</td>\n      <td>2</td>\n      <td>0</td>\n      <td>1</td>\n      <td>25.0</td>\n      <td>8</td>\n      <td>5</td>\n      <td>0</td>\n      <td>13</td>\n    </tr>\n    <tr>\n      <th>60</th>\n      <td>2019-20 V.LEAGUE DIVISION1 MEN</td>\n      <td>東レアローズ</td>\n      <td>伏見大和</td>\n      <td>56</td>\n      <td>86</td>\n      <td>135</td>\n      <td>84</td>\n      <td>7</td>\n      <td>62.2</td>\n      <td>57.0</td>\n      <td>...</td>\n      <td>27</td>\n      <td>3.2</td>\n      <td>5</td>\n      <td>3</td>\n      <td>2</td>\n      <td>80.0</td>\n      <td>84</td>\n      <td>36</td>\n      <td>9</td>\n      <td>129</td>\n    </tr>\n    <tr>\n      <th>89</th>\n      <td>2019-20 V.LEAGUE DIVISION1 MEN</td>\n      <td>ジェイテクトSTINGS</td>\n      <td>福山汰一</td>\n      <td>29</td>\n      <td>47</td>\n      <td>94</td>\n      <td>55</td>\n      <td>2</td>\n      <td>58.5</td>\n      <td>56.4</td>\n      <td>...</td>\n      <td>30</td>\n      <td>6.0</td>\n      <td>8</td>\n      <td>3</td>\n      <td>3</td>\n      <td>56.2</td>\n      <td>55</td>\n      <td>21</td>\n      <td>9</td>\n      <td>85</td>\n    </tr>\n    <tr>\n      <th>108</th>\n      <td>2019-20 V.LEAGUE DIVISION1 MEN</td>\n      <td>ジェイテクトSTINGS</td>\n      <td>饒書涵</td>\n      <td>27</td>\n      <td>96</td>\n      <td>296</td>\n      <td>177</td>\n      <td>7</td>\n      <td>59.8</td>\n      <td>57.4</td>\n      <td>...</td>\n      <td>84</td>\n      <td>6.9</td>\n      <td>25</td>\n      <td>12</td>\n      <td>7</td>\n      <td>62.0</td>\n      <td>177</td>\n      <td>40</td>\n      <td>7</td>\n      <td>224</td>\n    </tr>\n    <tr>\n      <th>...</th>\n      <td>...</td>\n      <td>...</td>\n      <td>...</td>\n      <td>...</td>\n      <td>...</td>\n      <td>...</td>\n      <td>...</td>\n      <td>...</td>\n      <td>...</td>\n      <td>...</td>\n      <td>...</td>\n      <td>...</td>\n      <td>...</td>\n      <td>...</td>\n      <td>...</td>\n      <td>...</td>\n      <td>...</td>\n      <td>...</td>\n      <td>...</td>\n      <td>...</td>\n      <td>...</td>\n    </tr>\n    <tr>\n      <th>2910</th>\n      <td>2019-20 V.LEAGUE DIVISION1 MEN</td>\n      <td>VC長野トライデンツ</td>\n      <td>森崎健史</td>\n      <td>27</td>\n      <td>91</td>\n      <td>217</td>\n      <td>112</td>\n      <td>19</td>\n      <td>51.6</td>\n      <td>42.9</td>\n      <td>...</td>\n      <td>62</td>\n      <td>3.9</td>\n      <td>53</td>\n      <td>28</td>\n      <td>11</td>\n      <td>63.2</td>\n      <td>112</td>\n      <td>30</td>\n      <td>11</td>\n      <td>153</td>\n    </tr>\n    <tr>\n      <th>2922</th>\n      <td>2019-20 V.LEAGUE DIVISION1 MEN</td>\n      <td>VC長野トライデンツ</td>\n      <td>松村文斗</td>\n      <td>24</td>\n      <td>3</td>\n      <td>10</td>\n      <td>1</td>\n      <td>2</td>\n      <td>10.0</td>\n      <td>-10.0</td>\n      <td>...</td>\n      <td>1</td>\n      <td>-10.0</td>\n      <td>21</td>\n      <td>8</td>\n      <td>7</td>\n      <td>54.8</td>\n      <td>1</td>\n      <td>0</td>\n      <td>0</td>\n      <td>1</td>\n    </tr>\n    <tr>\n      <th>2930</th>\n      <td>2019-20 V.LEAGUE DIVISION1 MEN</td>\n      <td>VC長野トライデンツ</td>\n      <td>大沢健太郎</td>\n      <td>22</td>\n      <td>17</td>\n      <td>0</td>\n      <td>0</td>\n      <td>0</td>\n      <td>35.6</td>\n      <td>NaN</td>\n      <td>...</td>\n      <td>0</td>\n      <td>3.0</td>\n      <td>19</td>\n      <td>4</td>\n      <td>10</td>\n      <td>47.4</td>\n      <td>0</td>\n      <td>0</td>\n      <td>0</td>\n      <td>0</td>\n    </tr>\n    <tr>\n      <th>2936</th>\n      <td>2019-20 V.LEAGUE DIVISION1 MEN</td>\n      <td>VC長野トライデンツ</td>\n      <td>高澤和貴</td>\n      <td>27</td>\n      <td>62</td>\n      <td>14</td>\n      <td>8</td>\n      <td>1</td>\n      <td>57.1</td>\n      <td>50.0</td>\n      <td>...</td>\n      <td>6</td>\n      <td>9.2</td>\n      <td>67</td>\n      <td>30</td>\n      <td>19</td>\n      <td>59.0</td>\n      <td>8</td>\n      <td>0</td>\n      <td>4</td>\n      <td>12</td>\n    </tr>\n    <tr>\n      <th>2944</th>\n      <td>2019-20 V.LEAGUE DIVISION1 MEN</td>\n      <td>VC長野トライデンツ</td>\n      <td>長田翼</td>\n      <td>27</td>\n      <td>33</td>\n      <td>1</td>\n      <td>0</td>\n      <td>1</td>\n      <td>0.0</td>\n      <td>-100.0</td>\n      <td>...</td>\n      <td>10</td>\n      <td>7.4</td>\n      <td>4</td>\n      <td>0</td>\n      <td>0</td>\n      <td>0.0</td>\n      <td>0</td>\n      <td>3</td>\n      <td>1</td>\n      <td>4</td>\n    </tr>\n  </tbody>\n</table>\n<p>153 rows × 32 columns</p>\n</div>"
     },
     "metadata": {},
     "execution_count": 237
    }
   ],
   "source": [
    "regular19.loc[]"
   ]
  },
  {
   "cell_type": "code",
   "execution_count": null,
   "metadata": {},
   "outputs": [],
   "source": []
  }
 ]
}