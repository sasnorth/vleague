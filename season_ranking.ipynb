{
 "metadata": {
  "language_info": {
   "codemirror_mode": {
    "name": "ipython",
    "version": 3
   },
   "file_extension": ".py",
   "mimetype": "text/x-python",
   "name": "python",
   "nbconvert_exporter": "python",
   "pygments_lexer": "ipython3",
   "version": "3.7.7-final"
  },
  "orig_nbformat": 2,
  "kernelspec": {
   "name": "python_defaultSpec_1600990574978",
   "display_name": "Python 3.7.7 64-bit ('base': conda)",
   "metadata": {
    "interpreter": {
     "hash": "0600588c3b5f4418cbe7b5ebc6825b479f3bc010269d8b60d75058cdd010adfe"
    }
   }
  }
 },
 "nbformat": 4,
 "nbformat_minor": 2,
 "cells": [
  {
   "cell_type": "code",
   "execution_count": 1,
   "metadata": {
    "tags": []
   },
   "outputs": [
    {
     "output_type": "execute_result",
     "data": {
      "text/plain": "                                  大会           チーム   選手名  試合数  セット数  アタック打数  \\\n0     2019-20 V.LEAGUE DIVISION1 MEN  ジェイテクトSTINGS  藤中優斗   29    79     152   \n1                          レギュラーラウンド  ジェイテクトSTINGS  藤中優斗   27    70     129   \n2                     セミファイナル（３位決定戦）  ジェイテクトSTINGS  藤中優斗    1     4      10   \n3                              ファイナル  ジェイテクトSTINGS  藤中優斗    1     5      13   \n4     V.LEAGUE DIVISION1 MEN 2018-19  ジェイテクトSTINGS  藤中優斗    4     6       0   \n...                              ...           ...   ...  ...   ...     ...   \n2961                       レギュラーラウンド    VC長野トライデンツ   長田翼   21    28       0   \n2962           Ｖ・チャレンジリーグⅡ男子 2015/16    VC長野トライデンツ   長田翼    3     5       0   \n2963                       レギュラーラウンド    VC長野トライデンツ   長田翼    3     5       0   \n2964                     レギュラーシーズン通算           NaN   長田翼   99   177      11   \n2965                              通算           NaN   長田翼   99   177      11   \n\n      アタック得点  アタック失点 アタック決定率  アタック効果率  ...  サーブ効果  サーブ効果率   受数 サーブレシーブ成功・優  \\\n0         64      12    42.1     34.2  ...     41     4.1  287         120   \n1         53       8    41.1     34.9  ...     37     4.5  224          93   \n2          5       2    50.0     30.0  ...      2     1.6   35          17   \n3          6       2    46.2     30.8  ...      2     0.0   28          10   \n4          0       0       -      NaN  ...      0       -    5           3   \n...      ...     ...     ...      ...  ...    ...     ...  ...         ...   \n2961       0       0       -      NaN  ...     12     7.7    0           0   \n2962       0       0       -      NaN  ...      1     3.6    0           0   \n2963       0       0       -      NaN  ...      1     3.6    0           0   \n2964       7       2    63.6     45.5  ...     71     5.9    8           0   \n2965       7       2    63.6     45.5  ...     71     5.9    8           0   \n\n      サーブレシーブ成功・良 サーブレシーブ成功率  アタック ブロック  サーブ  得点合計  \n0              85       56.6    64   14    5    83  \n1              67       56.5    53   13    5    71  \n2               9       61.4     5    1    0     6  \n3               9       51.8     6    0    0     6  \n4               1         70     0    0    0     0  \n...           ...        ...   ...  ...  ...   ...  \n2961            0          -     0    0    0     0  \n2962            0          -     0    0    0     0  \n2963            0          -     0    0    0     0  \n2964            0        0.0     7   12    8    27  \n2965            0        0.0     7   12    8    27  \n\n[2966 rows x 32 columns]",
      "text/html": "<div>\n<style scoped>\n    .dataframe tbody tr th:only-of-type {\n        vertical-align: middle;\n    }\n\n    .dataframe tbody tr th {\n        vertical-align: top;\n    }\n\n    .dataframe thead th {\n        text-align: right;\n    }\n</style>\n<table border=\"1\" class=\"dataframe\">\n  <thead>\n    <tr style=\"text-align: right;\">\n      <th></th>\n      <th>大会</th>\n      <th>チーム</th>\n      <th>選手名</th>\n      <th>試合数</th>\n      <th>セット数</th>\n      <th>アタック打数</th>\n      <th>アタック得点</th>\n      <th>アタック失点</th>\n      <th>アタック決定率</th>\n      <th>アタック効果率</th>\n      <th>...</th>\n      <th>サーブ効果</th>\n      <th>サーブ効果率</th>\n      <th>受数</th>\n      <th>サーブレシーブ成功・優</th>\n      <th>サーブレシーブ成功・良</th>\n      <th>サーブレシーブ成功率</th>\n      <th>アタック</th>\n      <th>ブロック</th>\n      <th>サーブ</th>\n      <th>得点合計</th>\n    </tr>\n  </thead>\n  <tbody>\n    <tr>\n      <th>0</th>\n      <td>2019-20 V.LEAGUE DIVISION1 MEN</td>\n      <td>ジェイテクトSTINGS</td>\n      <td>藤中優斗</td>\n      <td>29</td>\n      <td>79</td>\n      <td>152</td>\n      <td>64</td>\n      <td>12</td>\n      <td>42.1</td>\n      <td>34.2</td>\n      <td>...</td>\n      <td>41</td>\n      <td>4.1</td>\n      <td>287</td>\n      <td>120</td>\n      <td>85</td>\n      <td>56.6</td>\n      <td>64</td>\n      <td>14</td>\n      <td>5</td>\n      <td>83</td>\n    </tr>\n    <tr>\n      <th>1</th>\n      <td>レギュラーラウンド</td>\n      <td>ジェイテクトSTINGS</td>\n      <td>藤中優斗</td>\n      <td>27</td>\n      <td>70</td>\n      <td>129</td>\n      <td>53</td>\n      <td>8</td>\n      <td>41.1</td>\n      <td>34.9</td>\n      <td>...</td>\n      <td>37</td>\n      <td>4.5</td>\n      <td>224</td>\n      <td>93</td>\n      <td>67</td>\n      <td>56.5</td>\n      <td>53</td>\n      <td>13</td>\n      <td>5</td>\n      <td>71</td>\n    </tr>\n    <tr>\n      <th>2</th>\n      <td>セミファイナル（３位決定戦）</td>\n      <td>ジェイテクトSTINGS</td>\n      <td>藤中優斗</td>\n      <td>1</td>\n      <td>4</td>\n      <td>10</td>\n      <td>5</td>\n      <td>2</td>\n      <td>50.0</td>\n      <td>30.0</td>\n      <td>...</td>\n      <td>2</td>\n      <td>1.6</td>\n      <td>35</td>\n      <td>17</td>\n      <td>9</td>\n      <td>61.4</td>\n      <td>5</td>\n      <td>1</td>\n      <td>0</td>\n      <td>6</td>\n    </tr>\n    <tr>\n      <th>3</th>\n      <td>ファイナル</td>\n      <td>ジェイテクトSTINGS</td>\n      <td>藤中優斗</td>\n      <td>1</td>\n      <td>5</td>\n      <td>13</td>\n      <td>6</td>\n      <td>2</td>\n      <td>46.2</td>\n      <td>30.8</td>\n      <td>...</td>\n      <td>2</td>\n      <td>0.0</td>\n      <td>28</td>\n      <td>10</td>\n      <td>9</td>\n      <td>51.8</td>\n      <td>6</td>\n      <td>0</td>\n      <td>0</td>\n      <td>6</td>\n    </tr>\n    <tr>\n      <th>4</th>\n      <td>V.LEAGUE DIVISION1 MEN 2018-19</td>\n      <td>ジェイテクトSTINGS</td>\n      <td>藤中優斗</td>\n      <td>4</td>\n      <td>6</td>\n      <td>0</td>\n      <td>0</td>\n      <td>0</td>\n      <td>-</td>\n      <td>NaN</td>\n      <td>...</td>\n      <td>0</td>\n      <td>-</td>\n      <td>5</td>\n      <td>3</td>\n      <td>1</td>\n      <td>70</td>\n      <td>0</td>\n      <td>0</td>\n      <td>0</td>\n      <td>0</td>\n    </tr>\n    <tr>\n      <th>...</th>\n      <td>...</td>\n      <td>...</td>\n      <td>...</td>\n      <td>...</td>\n      <td>...</td>\n      <td>...</td>\n      <td>...</td>\n      <td>...</td>\n      <td>...</td>\n      <td>...</td>\n      <td>...</td>\n      <td>...</td>\n      <td>...</td>\n      <td>...</td>\n      <td>...</td>\n      <td>...</td>\n      <td>...</td>\n      <td>...</td>\n      <td>...</td>\n      <td>...</td>\n      <td>...</td>\n    </tr>\n    <tr>\n      <th>2961</th>\n      <td>レギュラーラウンド</td>\n      <td>VC長野トライデンツ</td>\n      <td>長田翼</td>\n      <td>21</td>\n      <td>28</td>\n      <td>0</td>\n      <td>0</td>\n      <td>0</td>\n      <td>-</td>\n      <td>NaN</td>\n      <td>...</td>\n      <td>12</td>\n      <td>7.7</td>\n      <td>0</td>\n      <td>0</td>\n      <td>0</td>\n      <td>-</td>\n      <td>0</td>\n      <td>0</td>\n      <td>0</td>\n      <td>0</td>\n    </tr>\n    <tr>\n      <th>2962</th>\n      <td>Ｖ・チャレンジリーグⅡ男子 2015/16</td>\n      <td>VC長野トライデンツ</td>\n      <td>長田翼</td>\n      <td>3</td>\n      <td>5</td>\n      <td>0</td>\n      <td>0</td>\n      <td>0</td>\n      <td>-</td>\n      <td>NaN</td>\n      <td>...</td>\n      <td>1</td>\n      <td>3.6</td>\n      <td>0</td>\n      <td>0</td>\n      <td>0</td>\n      <td>-</td>\n      <td>0</td>\n      <td>0</td>\n      <td>0</td>\n      <td>0</td>\n    </tr>\n    <tr>\n      <th>2963</th>\n      <td>レギュラーラウンド</td>\n      <td>VC長野トライデンツ</td>\n      <td>長田翼</td>\n      <td>3</td>\n      <td>5</td>\n      <td>0</td>\n      <td>0</td>\n      <td>0</td>\n      <td>-</td>\n      <td>NaN</td>\n      <td>...</td>\n      <td>1</td>\n      <td>3.6</td>\n      <td>0</td>\n      <td>0</td>\n      <td>0</td>\n      <td>-</td>\n      <td>0</td>\n      <td>0</td>\n      <td>0</td>\n      <td>0</td>\n    </tr>\n    <tr>\n      <th>2964</th>\n      <td>レギュラーシーズン通算</td>\n      <td>NaN</td>\n      <td>長田翼</td>\n      <td>99</td>\n      <td>177</td>\n      <td>11</td>\n      <td>7</td>\n      <td>2</td>\n      <td>63.6</td>\n      <td>45.5</td>\n      <td>...</td>\n      <td>71</td>\n      <td>5.9</td>\n      <td>8</td>\n      <td>0</td>\n      <td>0</td>\n      <td>0.0</td>\n      <td>7</td>\n      <td>12</td>\n      <td>8</td>\n      <td>27</td>\n    </tr>\n    <tr>\n      <th>2965</th>\n      <td>通算</td>\n      <td>NaN</td>\n      <td>長田翼</td>\n      <td>99</td>\n      <td>177</td>\n      <td>11</td>\n      <td>7</td>\n      <td>2</td>\n      <td>63.6</td>\n      <td>45.5</td>\n      <td>...</td>\n      <td>71</td>\n      <td>5.9</td>\n      <td>8</td>\n      <td>0</td>\n      <td>0</td>\n      <td>0.0</td>\n      <td>7</td>\n      <td>12</td>\n      <td>8</td>\n      <td>27</td>\n    </tr>\n  </tbody>\n</table>\n<p>2966 rows × 32 columns</p>\n</div>"
     },
     "metadata": {},
     "execution_count": 1
    }
   ],
   "source": [
    "import time\n",
    "import pandas as pd\n",
    " \n",
    "\n",
    "from bs4 import BeautifulSoup\n",
    "import urllib.request as req\n",
    "\n",
    "import requests\n",
    "import os\n",
    "import datetime\n",
    "import re\n",
    "import glob\n",
    "\n",
    "from team_index import get_teams\n",
    "\n",
    "now = datetime.datetime.now()\n",
    "\n",
    "os.chdir('/Users/sasno/Desktop/MyPandas/vleague')\n",
    "\n",
    "headers = {\"User-Agent\": \"Mozilla/5.0\"}\n",
    "\n",
    "# print('ディビジョンを選択してください:{v1_m, v2_m, v3_m, v1_w, v2_w}')\n",
    "# division = input()\n",
    "division = 'v1_m'\n",
    "teams = get_teams(division)\n",
    "\n",
    "if not os.path.isdir(division):\n",
    "    os.makedirs(division)\n",
    "os.chdir(division)\n",
    "\n",
    "if not os.path.isdir('all'):\n",
    "    os.makedirs('all')\n",
    "os.chdir('all')\n",
    "\n",
    "career_dir = 'career'\n",
    "# print(career_dir)\n",
    "if not os.path.isdir(career_dir):\n",
    "    os.makedirs(career_dir)\n",
    "    os.chdir(career_dir)\n",
    "\n",
    "# print(os.getcwd())\n",
    "\n",
    "career_lists = []\n",
    "\n",
    "for team_id, team_name in teams.items():\n",
    "    url = 'https://www.vleague.jp/record/team_players/{}'.format(team_id)\n",
    "    # print(url)\n",
    "    request = req.Request(url, headers=headers)\n",
    "    response = req.urlopen(request)\n",
    "    parse_html = BeautifulSoup(response, 'html.parser')\n",
    "\n",
    "    tables = parse_html.find_all('table')[0]\n",
    "    tr = tables.find_all('tr')\n",
    "    a = tables.find_all('a')\n",
    "    player_urls = []\n",
    "    for i in a:\n",
    "        href = i.attrs['href']\n",
    "        # print(href)\n",
    "        player_url = 'https://www.vleague.jp{}'.format(href)\n",
    "        # print(player_url)\n",
    "        player_urls.append(player_url)\n",
    "    \n",
    "    number_list = []\n",
    "    player_list = []\n",
    "    for i in tr[1:]:\n",
    "        td = i.find_all('td')\n",
    "        number = td[0].text\n",
    "        number_list.append(number)\n",
    "        player = td[1].text.replace('\\xa0', '')\n",
    "        player_list.append(player)\n",
    "    # print(number_list, player_list)\n",
    "\n",
    "\n",
    "    # print(os.getcwd())\n",
    "\n",
    "    for i in range(len(player_list)):\n",
    "        html = requests.get(player_urls[i], headers=headers)\n",
    "        request_2 = req.Request(player_urls[i], headers=headers)\n",
    "        response_2 = req.urlopen(request_2)\n",
    "        parse_html_2 = BeautifulSoup(response_2, 'html.parser')\n",
    "        table_2 = parse_html_2.find_all('table')\n",
    "\n",
    "        if len(table_2) > 0: \n",
    "            data = pd.read_html(html.text, header = [1])\n",
    "            stats = pd.DataFrame(data[0])\n",
    "            # print(stats)\n",
    "            stats = stats.rename({\"チ｜ム\": \"チーム\", \"サ｜ブ\": \"サーブ\", \"ノ｜タッチ\": \"ノータッチ\", \"エ｜ス\": \"エース\"}, axis=1)\n",
    "            stats = stats.rename(columns={'打数':'アタック打数', '得点':'アタック得点', \n",
    "                            '失点':'アタック失点', '決定率':'アタック決定率',\n",
    "                            'セ平ット均':'アタックセット平均','打数.1':'バックアタック打数', '得点.1':'バックアタック得点',\n",
    "                            '失点.1':'バックアタック失点', '決定率.1':'バックアタック決定率', \n",
    "                            'セット平均':'アタック得点セット平均' ,'得点.2':'ブロック得点', \n",
    "                            'セット平均.1':'ブロック得点セット平均','セ平ット均.1':'ブロックセット平均', \n",
    "                            '打数.2':'サーブ打数', '得点.3':'サーブ得点', '失点.2':'サーブ失点',\n",
    "                            '効果':'サーブ効果', '効果率':'サーブ効果率', '成功・優':'サーブレシーブ成功・優', \n",
    "                            '成功・良':'サーブレシーブ成功・良', '成功率':'サーブレシーブ成功率'})\n",
    "            stats.insert(2, '選手名', player_list[i])\n",
    "            stats.insert(9, 'アタック効果率', (((stats['アタック得点'] - stats['アタック失点']) / stats['アタック打数']) * 100).round(1))\n",
    "            stats.insert(14, 'バックアタック効果率', (((stats['バックアタック得点'] - stats['バックアタック失点']) / stats['バックアタック打数']) * 100).round(1))\n",
    "            career_lists.append(stats)\n",
    "            career_database = pd.concat(career_lists, ignore_index=True)\n",
    "            # csv = '{0}_{1}_{2:%Y}-{2:%m}-{2:%d}.csv'.format(number_list[i], player_list[i], now)\n",
    "            # stats.to_csv(csv, index=False, encoding='cp932')\n",
    "            # print('{}を作成'.format(csv))\n",
    "career_database"
   ]
  },
  {
   "cell_type": "code",
   "execution_count": 2,
   "metadata": {},
   "outputs": [
    {
     "output_type": "execute_result",
     "data": {
      "text/plain": "                                  大会           チーム   選手名  試合数  セット数  アタック打数  \\\n0     2019-20 V.LEAGUE DIVISION1 MEN  ジェイテクトSTINGS  藤中優斗   29    79     152   \n1                          レギュラーラウンド  ジェイテクトSTINGS  藤中優斗   27    70     129   \n2                     セミファイナル（３位決定戦）  ジェイテクトSTINGS  藤中優斗    1     4      10   \n3                              ファイナル  ジェイテクトSTINGS  藤中優斗    1     5      13   \n4     V.LEAGUE DIVISION1 MEN 2018-19  ジェイテクトSTINGS  藤中優斗    4     6       0   \n...                              ...           ...   ...  ...   ...     ...   \n2961                       レギュラーラウンド    VC長野トライデンツ   長田翼   21    28       0   \n2962           Ｖ・チャレンジリーグⅡ男子 2015/16    VC長野トライデンツ   長田翼    3     5       0   \n2963                       レギュラーラウンド    VC長野トライデンツ   長田翼    3     5       0   \n2964                     レギュラーシーズン通算           NaN   長田翼   99   177      11   \n2965                              通算           NaN   長田翼   99   177      11   \n\n      アタック得点  アタック失点 アタック決定率  アタック効果率  ...  サーブ効果  サーブ効果率   受数 サーブレシーブ成功・優  \\\n0         64      12    42.1     34.2  ...     41     4.1  287         120   \n1         53       8    41.1     34.9  ...     37     4.5  224          93   \n2          5       2    50.0     30.0  ...      2     1.6   35          17   \n3          6       2    46.2     30.8  ...      2     0.0   28          10   \n4          0       0    46.2      NaN  ...      0     0.0    5           3   \n...      ...     ...     ...      ...  ...    ...     ...  ...         ...   \n2961       0       0    80.0      NaN  ...     12     7.7    0           0   \n2962       0       0    80.0      NaN  ...      1     3.6    0           0   \n2963       0       0    80.0      NaN  ...      1     3.6    0           0   \n2964       7       2    63.6     45.5  ...     71     5.9    8           0   \n2965       7       2    63.6     45.5  ...     71     5.9    8           0   \n\n      サーブレシーブ成功・良 サーブレシーブ成功率  アタック ブロック  サーブ  得点合計  \n0              85       56.6    64   14    5    83  \n1              67       56.5    53   13    5    71  \n2               9       61.4     5    1    0     6  \n3               9       51.8     6    0    0     6  \n4               1         70     0    0    0     0  \n...           ...        ...   ...  ...  ...   ...  \n2961            0        0.0     0    0    0     0  \n2962            0        0.0     0    0    0     0  \n2963            0        0.0     0    0    0     0  \n2964            0        0.0     7   12    8    27  \n2965            0        0.0     7   12    8    27  \n\n[2966 rows x 32 columns]",
      "text/html": "<div>\n<style scoped>\n    .dataframe tbody tr th:only-of-type {\n        vertical-align: middle;\n    }\n\n    .dataframe tbody tr th {\n        vertical-align: top;\n    }\n\n    .dataframe thead th {\n        text-align: right;\n    }\n</style>\n<table border=\"1\" class=\"dataframe\">\n  <thead>\n    <tr style=\"text-align: right;\">\n      <th></th>\n      <th>大会</th>\n      <th>チーム</th>\n      <th>選手名</th>\n      <th>試合数</th>\n      <th>セット数</th>\n      <th>アタック打数</th>\n      <th>アタック得点</th>\n      <th>アタック失点</th>\n      <th>アタック決定率</th>\n      <th>アタック効果率</th>\n      <th>...</th>\n      <th>サーブ効果</th>\n      <th>サーブ効果率</th>\n      <th>受数</th>\n      <th>サーブレシーブ成功・優</th>\n      <th>サーブレシーブ成功・良</th>\n      <th>サーブレシーブ成功率</th>\n      <th>アタック</th>\n      <th>ブロック</th>\n      <th>サーブ</th>\n      <th>得点合計</th>\n    </tr>\n  </thead>\n  <tbody>\n    <tr>\n      <th>0</th>\n      <td>2019-20 V.LEAGUE DIVISION1 MEN</td>\n      <td>ジェイテクトSTINGS</td>\n      <td>藤中優斗</td>\n      <td>29</td>\n      <td>79</td>\n      <td>152</td>\n      <td>64</td>\n      <td>12</td>\n      <td>42.1</td>\n      <td>34.2</td>\n      <td>...</td>\n      <td>41</td>\n      <td>4.1</td>\n      <td>287</td>\n      <td>120</td>\n      <td>85</td>\n      <td>56.6</td>\n      <td>64</td>\n      <td>14</td>\n      <td>5</td>\n      <td>83</td>\n    </tr>\n    <tr>\n      <th>1</th>\n      <td>レギュラーラウンド</td>\n      <td>ジェイテクトSTINGS</td>\n      <td>藤中優斗</td>\n      <td>27</td>\n      <td>70</td>\n      <td>129</td>\n      <td>53</td>\n      <td>8</td>\n      <td>41.1</td>\n      <td>34.9</td>\n      <td>...</td>\n      <td>37</td>\n      <td>4.5</td>\n      <td>224</td>\n      <td>93</td>\n      <td>67</td>\n      <td>56.5</td>\n      <td>53</td>\n      <td>13</td>\n      <td>5</td>\n      <td>71</td>\n    </tr>\n    <tr>\n      <th>2</th>\n      <td>セミファイナル（３位決定戦）</td>\n      <td>ジェイテクトSTINGS</td>\n      <td>藤中優斗</td>\n      <td>1</td>\n      <td>4</td>\n      <td>10</td>\n      <td>5</td>\n      <td>2</td>\n      <td>50.0</td>\n      <td>30.0</td>\n      <td>...</td>\n      <td>2</td>\n      <td>1.6</td>\n      <td>35</td>\n      <td>17</td>\n      <td>9</td>\n      <td>61.4</td>\n      <td>5</td>\n      <td>1</td>\n      <td>0</td>\n      <td>6</td>\n    </tr>\n    <tr>\n      <th>3</th>\n      <td>ファイナル</td>\n      <td>ジェイテクトSTINGS</td>\n      <td>藤中優斗</td>\n      <td>1</td>\n      <td>5</td>\n      <td>13</td>\n      <td>6</td>\n      <td>2</td>\n      <td>46.2</td>\n      <td>30.8</td>\n      <td>...</td>\n      <td>2</td>\n      <td>0.0</td>\n      <td>28</td>\n      <td>10</td>\n      <td>9</td>\n      <td>51.8</td>\n      <td>6</td>\n      <td>0</td>\n      <td>0</td>\n      <td>6</td>\n    </tr>\n    <tr>\n      <th>4</th>\n      <td>V.LEAGUE DIVISION1 MEN 2018-19</td>\n      <td>ジェイテクトSTINGS</td>\n      <td>藤中優斗</td>\n      <td>4</td>\n      <td>6</td>\n      <td>0</td>\n      <td>0</td>\n      <td>0</td>\n      <td>46.2</td>\n      <td>NaN</td>\n      <td>...</td>\n      <td>0</td>\n      <td>0.0</td>\n      <td>5</td>\n      <td>3</td>\n      <td>1</td>\n      <td>70</td>\n      <td>0</td>\n      <td>0</td>\n      <td>0</td>\n      <td>0</td>\n    </tr>\n    <tr>\n      <th>...</th>\n      <td>...</td>\n      <td>...</td>\n      <td>...</td>\n      <td>...</td>\n      <td>...</td>\n      <td>...</td>\n      <td>...</td>\n      <td>...</td>\n      <td>...</td>\n      <td>...</td>\n      <td>...</td>\n      <td>...</td>\n      <td>...</td>\n      <td>...</td>\n      <td>...</td>\n      <td>...</td>\n      <td>...</td>\n      <td>...</td>\n      <td>...</td>\n      <td>...</td>\n      <td>...</td>\n    </tr>\n    <tr>\n      <th>2961</th>\n      <td>レギュラーラウンド</td>\n      <td>VC長野トライデンツ</td>\n      <td>長田翼</td>\n      <td>21</td>\n      <td>28</td>\n      <td>0</td>\n      <td>0</td>\n      <td>0</td>\n      <td>80.0</td>\n      <td>NaN</td>\n      <td>...</td>\n      <td>12</td>\n      <td>7.7</td>\n      <td>0</td>\n      <td>0</td>\n      <td>0</td>\n      <td>0.0</td>\n      <td>0</td>\n      <td>0</td>\n      <td>0</td>\n      <td>0</td>\n    </tr>\n    <tr>\n      <th>2962</th>\n      <td>Ｖ・チャレンジリーグⅡ男子 2015/16</td>\n      <td>VC長野トライデンツ</td>\n      <td>長田翼</td>\n      <td>3</td>\n      <td>5</td>\n      <td>0</td>\n      <td>0</td>\n      <td>0</td>\n      <td>80.0</td>\n      <td>NaN</td>\n      <td>...</td>\n      <td>1</td>\n      <td>3.6</td>\n      <td>0</td>\n      <td>0</td>\n      <td>0</td>\n      <td>0.0</td>\n      <td>0</td>\n      <td>0</td>\n      <td>0</td>\n      <td>0</td>\n    </tr>\n    <tr>\n      <th>2963</th>\n      <td>レギュラーラウンド</td>\n      <td>VC長野トライデンツ</td>\n      <td>長田翼</td>\n      <td>3</td>\n      <td>5</td>\n      <td>0</td>\n      <td>0</td>\n      <td>0</td>\n      <td>80.0</td>\n      <td>NaN</td>\n      <td>...</td>\n      <td>1</td>\n      <td>3.6</td>\n      <td>0</td>\n      <td>0</td>\n      <td>0</td>\n      <td>0.0</td>\n      <td>0</td>\n      <td>0</td>\n      <td>0</td>\n      <td>0</td>\n    </tr>\n    <tr>\n      <th>2964</th>\n      <td>レギュラーシーズン通算</td>\n      <td>NaN</td>\n      <td>長田翼</td>\n      <td>99</td>\n      <td>177</td>\n      <td>11</td>\n      <td>7</td>\n      <td>2</td>\n      <td>63.6</td>\n      <td>45.5</td>\n      <td>...</td>\n      <td>71</td>\n      <td>5.9</td>\n      <td>8</td>\n      <td>0</td>\n      <td>0</td>\n      <td>0.0</td>\n      <td>7</td>\n      <td>12</td>\n      <td>8</td>\n      <td>27</td>\n    </tr>\n    <tr>\n      <th>2965</th>\n      <td>通算</td>\n      <td>NaN</td>\n      <td>長田翼</td>\n      <td>99</td>\n      <td>177</td>\n      <td>11</td>\n      <td>7</td>\n      <td>2</td>\n      <td>63.6</td>\n      <td>45.5</td>\n      <td>...</td>\n      <td>71</td>\n      <td>5.9</td>\n      <td>8</td>\n      <td>0</td>\n      <td>0</td>\n      <td>0.0</td>\n      <td>7</td>\n      <td>12</td>\n      <td>8</td>\n      <td>27</td>\n    </tr>\n  </tbody>\n</table>\n<p>2966 rows × 32 columns</p>\n</div>"
     },
     "metadata": {},
     "execution_count": 2
    }
   ],
   "source": [
    "career_database = career_database.replace('-', None)\n",
    "career_database"
   ]
  },
  {
   "cell_type": "code",
   "execution_count": 3,
   "metadata": {},
   "outputs": [
    {
     "output_type": "execute_result",
     "data": {
      "text/plain": "                                  大会           チーム    選手名  試合数  セット数  アタック打数  \\\n0     2019-20 V.LEAGUE DIVISION1 MEN  ジェイテクトSTINGS   藤中優斗   29    79     152   \n8     2019-20 V.LEAGUE DIVISION1 MEN  ジェイテクトSTINGS   金丸晃大   27    51      17   \n60    2019-20 V.LEAGUE DIVISION1 MEN        東レアローズ   伏見大和   56    86     135   \n89    2019-20 V.LEAGUE DIVISION1 MEN  ジェイテクトSTINGS   福山汰一   29    47      94   \n108   2019-20 V.LEAGUE DIVISION1 MEN  ジェイテクトSTINGS    饒書涵   27    96     296   \n...                              ...           ...    ...  ...   ...     ...   \n2920  2019-20 V.LEAGUE DIVISION1 MEN    VC長野トライデンツ   森崎健史   27    91     217   \n2932  2019-20 V.LEAGUE DIVISION1 MEN    VC長野トライデンツ   松村文斗   24     3      10   \n2940  2019-20 V.LEAGUE DIVISION1 MEN    VC長野トライデンツ  大沢健太郎   22    17       0   \n2946  2019-20 V.LEAGUE DIVISION1 MEN    VC長野トライデンツ   高澤和貴   27    62      14   \n2954  2019-20 V.LEAGUE DIVISION1 MEN    VC長野トライデンツ    長田翼   27    33       1   \n\n      アタック得点  アタック失点 アタック決定率  アタック効果率  ...  サーブ効果  サーブ効果率   受数 サーブレシーブ成功・優  \\\n0         64      12    42.1     34.2  ...     41     4.1  287         120   \n8          8       1    47.1     41.2  ...      8     4.3    2           0   \n60        84       7    62.2     57.0  ...     27     3.2    5           3   \n89        55       2    58.5     56.4  ...     30     6.0    8           3   \n108      177       7    59.8     57.4  ...     84     6.9   25          12   \n...      ...     ...     ...      ...  ...    ...     ...  ...         ...   \n2920     112      19    51.6     42.9  ...     62     3.9   53          28   \n2932       1       2      10    -10.0  ...      1     -10   21           8   \n2940       0       0    35.6      NaN  ...      0       3   19           4   \n2946       8       1    57.1     50.0  ...      6     9.2   67          30   \n2954       0       1     0.0   -100.0  ...     10     7.4    4           0   \n\n      サーブレシーブ成功・良 サーブレシーブ成功率  アタック ブロック  サーブ  得点合計  \n0              85       56.6    64   14    5    83  \n8               1       25.0     8    5    0    13  \n60              2       80.0    84   36    9   129  \n89              3       56.2    55   21    9    85  \n108             7         62   177   40    7   224  \n...           ...        ...   ...  ...  ...   ...  \n2920           11       63.2   112   30   11   153  \n2932            7       54.8     1    0    0     1  \n2940           10       47.4     0    0    0     0  \n2946           19         59     8    0    4    12  \n2954            0        0.0     0    3    1     4  \n\n[153 rows x 32 columns]",
      "text/html": "<div>\n<style scoped>\n    .dataframe tbody tr th:only-of-type {\n        vertical-align: middle;\n    }\n\n    .dataframe tbody tr th {\n        vertical-align: top;\n    }\n\n    .dataframe thead th {\n        text-align: right;\n    }\n</style>\n<table border=\"1\" class=\"dataframe\">\n  <thead>\n    <tr style=\"text-align: right;\">\n      <th></th>\n      <th>大会</th>\n      <th>チーム</th>\n      <th>選手名</th>\n      <th>試合数</th>\n      <th>セット数</th>\n      <th>アタック打数</th>\n      <th>アタック得点</th>\n      <th>アタック失点</th>\n      <th>アタック決定率</th>\n      <th>アタック効果率</th>\n      <th>...</th>\n      <th>サーブ効果</th>\n      <th>サーブ効果率</th>\n      <th>受数</th>\n      <th>サーブレシーブ成功・優</th>\n      <th>サーブレシーブ成功・良</th>\n      <th>サーブレシーブ成功率</th>\n      <th>アタック</th>\n      <th>ブロック</th>\n      <th>サーブ</th>\n      <th>得点合計</th>\n    </tr>\n  </thead>\n  <tbody>\n    <tr>\n      <th>0</th>\n      <td>2019-20 V.LEAGUE DIVISION1 MEN</td>\n      <td>ジェイテクトSTINGS</td>\n      <td>藤中優斗</td>\n      <td>29</td>\n      <td>79</td>\n      <td>152</td>\n      <td>64</td>\n      <td>12</td>\n      <td>42.1</td>\n      <td>34.2</td>\n      <td>...</td>\n      <td>41</td>\n      <td>4.1</td>\n      <td>287</td>\n      <td>120</td>\n      <td>85</td>\n      <td>56.6</td>\n      <td>64</td>\n      <td>14</td>\n      <td>5</td>\n      <td>83</td>\n    </tr>\n    <tr>\n      <th>8</th>\n      <td>2019-20 V.LEAGUE DIVISION1 MEN</td>\n      <td>ジェイテクトSTINGS</td>\n      <td>金丸晃大</td>\n      <td>27</td>\n      <td>51</td>\n      <td>17</td>\n      <td>8</td>\n      <td>1</td>\n      <td>47.1</td>\n      <td>41.2</td>\n      <td>...</td>\n      <td>8</td>\n      <td>4.3</td>\n      <td>2</td>\n      <td>0</td>\n      <td>1</td>\n      <td>25.0</td>\n      <td>8</td>\n      <td>5</td>\n      <td>0</td>\n      <td>13</td>\n    </tr>\n    <tr>\n      <th>60</th>\n      <td>2019-20 V.LEAGUE DIVISION1 MEN</td>\n      <td>東レアローズ</td>\n      <td>伏見大和</td>\n      <td>56</td>\n      <td>86</td>\n      <td>135</td>\n      <td>84</td>\n      <td>7</td>\n      <td>62.2</td>\n      <td>57.0</td>\n      <td>...</td>\n      <td>27</td>\n      <td>3.2</td>\n      <td>5</td>\n      <td>3</td>\n      <td>2</td>\n      <td>80.0</td>\n      <td>84</td>\n      <td>36</td>\n      <td>9</td>\n      <td>129</td>\n    </tr>\n    <tr>\n      <th>89</th>\n      <td>2019-20 V.LEAGUE DIVISION1 MEN</td>\n      <td>ジェイテクトSTINGS</td>\n      <td>福山汰一</td>\n      <td>29</td>\n      <td>47</td>\n      <td>94</td>\n      <td>55</td>\n      <td>2</td>\n      <td>58.5</td>\n      <td>56.4</td>\n      <td>...</td>\n      <td>30</td>\n      <td>6.0</td>\n      <td>8</td>\n      <td>3</td>\n      <td>3</td>\n      <td>56.2</td>\n      <td>55</td>\n      <td>21</td>\n      <td>9</td>\n      <td>85</td>\n    </tr>\n    <tr>\n      <th>108</th>\n      <td>2019-20 V.LEAGUE DIVISION1 MEN</td>\n      <td>ジェイテクトSTINGS</td>\n      <td>饒書涵</td>\n      <td>27</td>\n      <td>96</td>\n      <td>296</td>\n      <td>177</td>\n      <td>7</td>\n      <td>59.8</td>\n      <td>57.4</td>\n      <td>...</td>\n      <td>84</td>\n      <td>6.9</td>\n      <td>25</td>\n      <td>12</td>\n      <td>7</td>\n      <td>62</td>\n      <td>177</td>\n      <td>40</td>\n      <td>7</td>\n      <td>224</td>\n    </tr>\n    <tr>\n      <th>...</th>\n      <td>...</td>\n      <td>...</td>\n      <td>...</td>\n      <td>...</td>\n      <td>...</td>\n      <td>...</td>\n      <td>...</td>\n      <td>...</td>\n      <td>...</td>\n      <td>...</td>\n      <td>...</td>\n      <td>...</td>\n      <td>...</td>\n      <td>...</td>\n      <td>...</td>\n      <td>...</td>\n      <td>...</td>\n      <td>...</td>\n      <td>...</td>\n      <td>...</td>\n      <td>...</td>\n    </tr>\n    <tr>\n      <th>2920</th>\n      <td>2019-20 V.LEAGUE DIVISION1 MEN</td>\n      <td>VC長野トライデンツ</td>\n      <td>森崎健史</td>\n      <td>27</td>\n      <td>91</td>\n      <td>217</td>\n      <td>112</td>\n      <td>19</td>\n      <td>51.6</td>\n      <td>42.9</td>\n      <td>...</td>\n      <td>62</td>\n      <td>3.9</td>\n      <td>53</td>\n      <td>28</td>\n      <td>11</td>\n      <td>63.2</td>\n      <td>112</td>\n      <td>30</td>\n      <td>11</td>\n      <td>153</td>\n    </tr>\n    <tr>\n      <th>2932</th>\n      <td>2019-20 V.LEAGUE DIVISION1 MEN</td>\n      <td>VC長野トライデンツ</td>\n      <td>松村文斗</td>\n      <td>24</td>\n      <td>3</td>\n      <td>10</td>\n      <td>1</td>\n      <td>2</td>\n      <td>10</td>\n      <td>-10.0</td>\n      <td>...</td>\n      <td>1</td>\n      <td>-10</td>\n      <td>21</td>\n      <td>8</td>\n      <td>7</td>\n      <td>54.8</td>\n      <td>1</td>\n      <td>0</td>\n      <td>0</td>\n      <td>1</td>\n    </tr>\n    <tr>\n      <th>2940</th>\n      <td>2019-20 V.LEAGUE DIVISION1 MEN</td>\n      <td>VC長野トライデンツ</td>\n      <td>大沢健太郎</td>\n      <td>22</td>\n      <td>17</td>\n      <td>0</td>\n      <td>0</td>\n      <td>0</td>\n      <td>35.6</td>\n      <td>NaN</td>\n      <td>...</td>\n      <td>0</td>\n      <td>3</td>\n      <td>19</td>\n      <td>4</td>\n      <td>10</td>\n      <td>47.4</td>\n      <td>0</td>\n      <td>0</td>\n      <td>0</td>\n      <td>0</td>\n    </tr>\n    <tr>\n      <th>2946</th>\n      <td>2019-20 V.LEAGUE DIVISION1 MEN</td>\n      <td>VC長野トライデンツ</td>\n      <td>高澤和貴</td>\n      <td>27</td>\n      <td>62</td>\n      <td>14</td>\n      <td>8</td>\n      <td>1</td>\n      <td>57.1</td>\n      <td>50.0</td>\n      <td>...</td>\n      <td>6</td>\n      <td>9.2</td>\n      <td>67</td>\n      <td>30</td>\n      <td>19</td>\n      <td>59</td>\n      <td>8</td>\n      <td>0</td>\n      <td>4</td>\n      <td>12</td>\n    </tr>\n    <tr>\n      <th>2954</th>\n      <td>2019-20 V.LEAGUE DIVISION1 MEN</td>\n      <td>VC長野トライデンツ</td>\n      <td>長田翼</td>\n      <td>27</td>\n      <td>33</td>\n      <td>1</td>\n      <td>0</td>\n      <td>1</td>\n      <td>0.0</td>\n      <td>-100.0</td>\n      <td>...</td>\n      <td>10</td>\n      <td>7.4</td>\n      <td>4</td>\n      <td>0</td>\n      <td>0</td>\n      <td>0.0</td>\n      <td>0</td>\n      <td>3</td>\n      <td>1</td>\n      <td>4</td>\n    </tr>\n  </tbody>\n</table>\n<p>153 rows × 32 columns</p>\n</div>"
     },
     "metadata": {},
     "execution_count": 3
    }
   ],
   "source": [
    "regular19 = career_database[career_database['大会'] == '2019-20 V.LEAGUE DIVISION1 MEN']\n",
    "regular19"
   ]
  },
  {
   "cell_type": "code",
   "execution_count": 4,
   "metadata": {},
   "outputs": [],
   "source": [
    "regular19['アタック決定率'] = regular19['アタック決定率'].astype(float)\n",
    "regular19['バックアタック決定率'] = regular19['バックアタック決定率'].astype(float)\n",
    "regular19['アタック得点セット平均'] = regular19['アタック得点セット平均'].astype(float)\n",
    "regular19['ブロック得点セット平均'] = regular19['ブロック得点セット平均'].astype(float)\n",
    "regular19['サーブ効果率'] = regular19['サーブ効果率'].astype(float)\n",
    "regular19['サーブレシーブ成功率'] = regular19['サーブレシーブ成功率'].astype(float)"
   ]
  },
  {
   "cell_type": "code",
   "execution_count": 5,
   "metadata": {},
   "outputs": [
    {
     "output_type": "execute_result",
     "data": {
      "text/plain": "大会              object\nチーム             object\n選手名             object\n試合数              int64\nセット数             int64\nアタック打数           int64\nアタック得点           int64\nアタック失点           int64\nアタック決定率        float64\nアタック効果率        float64\nバックアタック打数        int64\nバックアタック得点        int64\nバックアタック失点        int64\nバックアタック決定率     float64\nバックアタック効果率     float64\nアタック得点セット平均    float64\nブロック得点           int64\nブロック得点セット平均    float64\nサーブ打数            int64\nノータッチ            int64\nエース              int64\nサーブ失点            int64\nサーブ効果            int64\nサーブ効果率         float64\n受数               int64\nサーブレシーブ成功・優      int64\nサーブレシーブ成功・良      int64\nサーブレシーブ成功率     float64\nアタック             int64\nブロック             int64\nサーブ              int64\n得点合計             int64\ndtype: object"
     },
     "metadata": {},
     "execution_count": 5
    }
   ],
   "source": [
    "regular19.dtypes"
   ]
  },
  {
   "cell_type": "code",
   "execution_count": 6,
   "metadata": {
    "tags": []
   },
   "outputs": [
    {
     "output_type": "stream",
     "name": "stdout",
     "text": "2019-20 V.LEAGUE DIVISION1 MEN\n"
    }
   ],
   "source": [
    " ob_data = regular19[0:1].to_dict()\n",
    " print(ob_data['大会'][0])"
   ]
  },
  {
   "cell_type": "code",
   "execution_count": 7,
   "metadata": {},
   "outputs": [],
   "source": [
    "attack_ave = (regular19['アタック得点'].sum() / regular19['アタック打数'].sum()) * 100\n",
    "attack_ef = ((regular19['アタック得点'].sum() - regular19['アタック失点'].sum()) / regular19['アタック打数'].sum()) * 100\n",
    "b_attack_ave = (regular19['バックアタック得点'].sum() / regular19['バックアタック打数'].sum()) * 100\n",
    "b_attack_ef = ((regular19['バックアタック得点'].sum() - regular19['バックアタック失点'].sum()) \\\n",
    "        / regular19['バックアタック打数'].sum()) * 100\n",
    "attack_by_set = regular19['アタック得点'].sum() / regular19['セット数'].sum()\n",
    "block_by_set = regular19['ブロック得点'].sum() / regular19['セット数'].sum()\n",
    "serve_ef = ((regular19['ノータッチ'].sum() + regular19['エース'].sum()) * 100 \\\n",
    "        + regular19['サーブ効果'].sum() * 25 - regular19['サーブ失点'].sum() * 25) \\\n",
    "        / regular19['サーブ打数'].sum()\n",
    "s_receive_ave = \\\n",
    "     (regular19['サーブレシーブ成功・優'].sum() * 100 + \\\n",
    "     regular19['サーブレシーブ成功・良'].sum() * 50) \\\n",
    "     / regular19['受数'].sum()"
   ]
  },
  {
   "cell_type": "code",
   "execution_count": 159,
   "metadata": {
    "tags": []
   },
   "outputs": [],
   "source": [
    "# value = regular19.columns.values\n",
    "# print('regular19.append(')\n",
    "# for i in range(len(value)):\n",
    "#     if i <= 2:\n",
    "#         print(\"     ob_data['{}'][0],\".format(value[i]))\n",
    "#     else:\n",
    "#         print(\"     regular19['{}'].sum(),\".format(value[i]))\n",
    "# print(')')"
   ]
  },
  {
   "cell_type": "code",
   "execution_count": 8,
   "metadata": {},
   "outputs": [
    {
     "output_type": "execute_result",
     "data": {
      "text/plain": "array(['大会', 'チーム', '選手名', '試合数', 'セット数', 'アタック打数', 'アタック得点', 'アタック失点',\n       'アタック決定率', 'アタック効果率', 'バックアタック打数', 'バックアタック得点', 'バックアタック失点',\n       'バックアタック決定率', 'バックアタック効果率', 'アタック得点セット平均', 'ブロック得点', 'ブロック得点セット平均',\n       'サーブ打数', 'ノータッチ', 'エース', 'サーブ失点', 'サーブ効果', 'サーブ効果率', '受数',\n       'サーブレシーブ成功・優', 'サーブレシーブ成功・良', 'サーブレシーブ成功率', 'アタック', 'ブロック', 'サーブ',\n       '得点合計'], dtype=object)"
     },
     "metadata": {},
     "execution_count": 8
    }
   ],
   "source": [
    "regular19.columns.values"
   ]
  },
  {
   "cell_type": "code",
   "execution_count": 9,
   "metadata": {},
   "outputs": [],
   "source": [
    "average_data = [\n",
    "     ob_data['大会'][0],\n",
    "     None,\n",
    "     '合計',\n",
    "     regular19['試合数'].sum(),\n",
    "     regular19['セット数'].sum(),\n",
    "     regular19['アタック打数'].sum(),\n",
    "     regular19['アタック得点'].sum(),\n",
    "     regular19['アタック失点'].sum(),\n",
    "     attack_ave.round(1),\n",
    "     attack_ef.round(1),\n",
    "     regular19['バックアタック打数'].sum(),\n",
    "     regular19['バックアタック得点'].sum(),\n",
    "     regular19['バックアタック失点'].sum(),\n",
    "     b_attack_ave.round(1),\n",
    "     b_attack_ef.round(1),\n",
    "     attack_by_set.round(1),\n",
    "     regular19['ブロック得点'].sum(),\n",
    "     block_by_set.round(1),\n",
    "     regular19['サーブ打数'].sum(),\n",
    "     regular19['ノータッチ'].sum(),\n",
    "     regular19['エース'].sum(),\n",
    "     regular19['サーブ失点'].sum(),\n",
    "     regular19['サーブ効果'].sum(),\n",
    "     serve_ef.round(1),\n",
    "     regular19['受数'].sum(),\n",
    "     regular19['サーブレシーブ成功・優'].sum(),\n",
    "     regular19['サーブレシーブ成功・良'].sum(),\n",
    "     s_receive_ave.round(1),\n",
    "     regular19['アタック'].sum(),\n",
    "     regular19['ブロック'].sum(),\n",
    "     regular19['サーブ'].sum(),\n",
    "     regular19['得点合計'].sum()\n",
    "]"
   ]
  },
  {
   "cell_type": "code",
   "execution_count": 10,
   "metadata": {},
   "outputs": [
    {
     "output_type": "execute_result",
     "data": {
      "text/plain": "49.2"
     },
     "metadata": {},
     "execution_count": 10
    }
   ],
   "source": [
    "average = pd.DataFrame(columns=regular19.columns.values)\n",
    "average.loc[0] = average_data\n",
    "average['アタック決定率'][0]"
   ]
  },
  {
   "cell_type": "code",
   "execution_count": 22,
   "metadata": {},
   "outputs": [
    {
     "output_type": "execute_result",
     "data": {
      "text/plain": "             チーム          選手名  バックアタック打数  バックアタック得点  バックアタック失点  バックアタック決定率  \\\n10       堺ブレイザーズ        千々木駿介        126         81          9        64.3   \n9     サントリーサンバーズ  ムセルスキードミトリー        406        240         33        59.1   \n8     サントリーサンバーズ          季道帥        135         76          9        56.3   \n7   ジェイテクトSTINGS         西田有志        437        243         48        55.6   \n6        堺ブレイザーズ         樋口裕希        119         66          4        55.5   \n5   大分三好ヴァイセアドラー    バグナスブライアン        174         90         17        51.7   \n4    パナソニックパンサーズ         清水邦広        210        107         12        51.0   \n3     ウルフドッグス名古屋         高松卓矢        154         76          4        49.4   \n2           FC東京   プレモビッチピーター        444        215         29        48.4   \n1   大分三好ヴァイセアドラー        ヤカングマ        291        126         18        43.3   \n0   大分三好ヴァイセアドラー          濱本豊        110         47         10        42.7   \n\n    バックアタック効果率  \n10        57.1  \n9         51.0  \n8         49.6  \n7         44.6  \n6         52.1  \n5         42.0  \n4         45.2  \n3         46.8  \n2         41.9  \n1         37.1  \n0         33.6  ",
      "text/html": "<div>\n<style scoped>\n    .dataframe tbody tr th:only-of-type {\n        vertical-align: middle;\n    }\n\n    .dataframe tbody tr th {\n        vertical-align: top;\n    }\n\n    .dataframe thead th {\n        text-align: right;\n    }\n</style>\n<table border=\"1\" class=\"dataframe\">\n  <thead>\n    <tr style=\"text-align: right;\">\n      <th></th>\n      <th>チーム</th>\n      <th>選手名</th>\n      <th>バックアタック打数</th>\n      <th>バックアタック得点</th>\n      <th>バックアタック失点</th>\n      <th>バックアタック決定率</th>\n      <th>バックアタック効果率</th>\n    </tr>\n  </thead>\n  <tbody>\n    <tr>\n      <th>10</th>\n      <td>堺ブレイザーズ</td>\n      <td>千々木駿介</td>\n      <td>126</td>\n      <td>81</td>\n      <td>9</td>\n      <td>64.3</td>\n      <td>57.1</td>\n    </tr>\n    <tr>\n      <th>9</th>\n      <td>サントリーサンバーズ</td>\n      <td>ムセルスキードミトリー</td>\n      <td>406</td>\n      <td>240</td>\n      <td>33</td>\n      <td>59.1</td>\n      <td>51.0</td>\n    </tr>\n    <tr>\n      <th>8</th>\n      <td>サントリーサンバーズ</td>\n      <td>季道帥</td>\n      <td>135</td>\n      <td>76</td>\n      <td>9</td>\n      <td>56.3</td>\n      <td>49.6</td>\n    </tr>\n    <tr>\n      <th>7</th>\n      <td>ジェイテクトSTINGS</td>\n      <td>西田有志</td>\n      <td>437</td>\n      <td>243</td>\n      <td>48</td>\n      <td>55.6</td>\n      <td>44.6</td>\n    </tr>\n    <tr>\n      <th>6</th>\n      <td>堺ブレイザーズ</td>\n      <td>樋口裕希</td>\n      <td>119</td>\n      <td>66</td>\n      <td>4</td>\n      <td>55.5</td>\n      <td>52.1</td>\n    </tr>\n    <tr>\n      <th>5</th>\n      <td>大分三好ヴァイセアドラー</td>\n      <td>バグナスブライアン</td>\n      <td>174</td>\n      <td>90</td>\n      <td>17</td>\n      <td>51.7</td>\n      <td>42.0</td>\n    </tr>\n    <tr>\n      <th>4</th>\n      <td>パナソニックパンサーズ</td>\n      <td>清水邦広</td>\n      <td>210</td>\n      <td>107</td>\n      <td>12</td>\n      <td>51.0</td>\n      <td>45.2</td>\n    </tr>\n    <tr>\n      <th>3</th>\n      <td>ウルフドッグス名古屋</td>\n      <td>高松卓矢</td>\n      <td>154</td>\n      <td>76</td>\n      <td>4</td>\n      <td>49.4</td>\n      <td>46.8</td>\n    </tr>\n    <tr>\n      <th>2</th>\n      <td>FC東京</td>\n      <td>プレモビッチピーター</td>\n      <td>444</td>\n      <td>215</td>\n      <td>29</td>\n      <td>48.4</td>\n      <td>41.9</td>\n    </tr>\n    <tr>\n      <th>1</th>\n      <td>大分三好ヴァイセアドラー</td>\n      <td>ヤカングマ</td>\n      <td>291</td>\n      <td>126</td>\n      <td>18</td>\n      <td>43.3</td>\n      <td>37.1</td>\n    </tr>\n    <tr>\n      <th>0</th>\n      <td>大分三好ヴァイセアドラー</td>\n      <td>濱本豊</td>\n      <td>110</td>\n      <td>47</td>\n      <td>10</td>\n      <td>42.7</td>\n      <td>33.6</td>\n    </tr>\n  </tbody>\n</table>\n</div>"
     },
     "metadata": {},
     "execution_count": 22
    }
   ],
   "source": [
    "regular19_s = regular19[regular19['バックアタック打数'] >= 100]\n",
    "regular19_s = regular19_s[['チーム','選手名','バックアタック打数','バックアタック得点','バックアタック失点','バックアタック決定率','バックアタック効果率']]\n",
    "regular19_s.sort_values(by=['バックアタック決定率'], ignore_index=True).iloc[::-1]"
   ]
  },
  {
   "cell_type": "code",
   "execution_count": 11,
   "metadata": {},
   "outputs": [
    {
     "output_type": "execute_result",
     "data": {
      "text/plain": "array(['アタック決定率', 'アタック効果率', 'バックアタック決定率', 'バックアタック効果率', 'アタック得点セット平均',\n       'ブロック得点セット平均', 'サーブ効果率', 'サーブレシーブ成功率'], dtype=object)"
     },
     "metadata": {},
     "execution_count": 11
    }
   ],
   "source": [
    "regular19_stand = regular19.loc[:,regular19.columns.str.contains('決定率|効果率|セット平均|成功率')].apply(lambda x : ((x - x.mean())*10/x.std()+50) ,axis=0)\n",
    "div_value = regular19_stand.round(1)\n",
    "div_value.columns.values"
   ]
  },
  {
   "cell_type": "code",
   "execution_count": 12,
   "metadata": {},
   "outputs": [],
   "source": [
    "regular19.insert(9,'アタック決定率偏差値',div_value['アタック決定率'])\n",
    "regular19.insert(11,'アタック効果率偏差値',div_value['アタック効果率'])\n",
    "regular19.insert(15,'バックアタック決定率偏差値',div_value['バックアタック決定率'])\n",
    "regular19.insert(17,'バックアタック効果率偏差値',div_value['バックアタック効果率'])\n",
    "regular19.insert(21,'アタックセット得点平均偏差値',div_value['アタック得点セット平均'])\n",
    "regular19.insert(24,'ブロックセット得点平均偏差値',div_value['ブロック得点セット平均'])\n",
    "regular19.insert(30,'サーブ効果率偏差値',div_value['サーブ効果率'])\n",
    "regular19.insert(35,'サーブレシーブ成功率偏差値',div_value['サーブレシーブ成功率'])"
   ]
  },
  {
   "cell_type": "code",
   "execution_count": 13,
   "metadata": {},
   "outputs": [
    {
     "output_type": "execute_result",
     "data": {
      "text/plain": "                                  大会           チーム    選手名  試合数  セット数  アタック打数  \\\n0     2019-20 V.LEAGUE DIVISION1 MEN  ジェイテクトSTINGS   藤中優斗   29    79     152   \n8     2019-20 V.LEAGUE DIVISION1 MEN  ジェイテクトSTINGS   金丸晃大   27    51      17   \n60    2019-20 V.LEAGUE DIVISION1 MEN        東レアローズ   伏見大和   56    86     135   \n89    2019-20 V.LEAGUE DIVISION1 MEN  ジェイテクトSTINGS   福山汰一   29    47      94   \n108   2019-20 V.LEAGUE DIVISION1 MEN  ジェイテクトSTINGS    饒書涵   27    96     296   \n...                              ...           ...    ...  ...   ...     ...   \n2920  2019-20 V.LEAGUE DIVISION1 MEN    VC長野トライデンツ   森崎健史   27    91     217   \n2932  2019-20 V.LEAGUE DIVISION1 MEN    VC長野トライデンツ   松村文斗   24     3      10   \n2940  2019-20 V.LEAGUE DIVISION1 MEN    VC長野トライデンツ  大沢健太郎   22    17       0   \n2946  2019-20 V.LEAGUE DIVISION1 MEN    VC長野トライデンツ   高澤和貴   27    62      14   \n2954  2019-20 V.LEAGUE DIVISION1 MEN    VC長野トライデンツ    長田翼   27    33       1   \n\n      アタック得点  アタック失点  アタック決定率  アタック決定率偏差値  ...  サーブ効果率偏差値   受数  サーブレシーブ成功・優  \\\n0         64      12     42.1        46.5  ...       49.2  287          120   \n8          8       1     47.1        49.9  ...       49.6    2            0   \n60        84       7     62.2        60.2  ...       47.6    5            3   \n89        55       2     58.5        57.7  ...       52.6    8            3   \n108      177       7     59.8        58.6  ...       54.3   25           12   \n...      ...     ...      ...         ...  ...        ...  ...          ...   \n2920     112      19     51.6        53.0  ...       48.9   53           28   \n2932       1       2     10.0        24.5  ...       23.9   21            8   \n2940       0       0     35.6        42.0  ...       47.3   19            4   \n2946       8       1     57.1        56.7  ...       58.4   67           30   \n2954       0       1      0.0        17.7  ...       55.2    4            0   \n\n      サーブレシーブ成功・良  サーブレシーブ成功率  サーブレシーブ成功率偏差値  アタック  ブロック  サーブ  得点合計  \n0              85        56.6           55.1    64    14    5    83  \n8               1        25.0           40.0     8     5    0    13  \n60              2        80.0           66.3    84    36    9   129  \n89              3        56.2           54.9    55    21    9    85  \n108             7        62.0           57.7   177    40    7   224  \n...           ...         ...            ...   ...   ...  ...   ...  \n2920           11        63.2           58.3   112    30   11   153  \n2932            7        54.8           54.3     1     0    0     1  \n2940           10        47.4           50.7     0     0    0     0  \n2946           19        59.0           56.3     8     0    4    12  \n2954            0         0.0           28.0     0     3    1     4  \n\n[153 rows x 40 columns]",
      "text/html": "<div>\n<style scoped>\n    .dataframe tbody tr th:only-of-type {\n        vertical-align: middle;\n    }\n\n    .dataframe tbody tr th {\n        vertical-align: top;\n    }\n\n    .dataframe thead th {\n        text-align: right;\n    }\n</style>\n<table border=\"1\" class=\"dataframe\">\n  <thead>\n    <tr style=\"text-align: right;\">\n      <th></th>\n      <th>大会</th>\n      <th>チーム</th>\n      <th>選手名</th>\n      <th>試合数</th>\n      <th>セット数</th>\n      <th>アタック打数</th>\n      <th>アタック得点</th>\n      <th>アタック失点</th>\n      <th>アタック決定率</th>\n      <th>アタック決定率偏差値</th>\n      <th>...</th>\n      <th>サーブ効果率偏差値</th>\n      <th>受数</th>\n      <th>サーブレシーブ成功・優</th>\n      <th>サーブレシーブ成功・良</th>\n      <th>サーブレシーブ成功率</th>\n      <th>サーブレシーブ成功率偏差値</th>\n      <th>アタック</th>\n      <th>ブロック</th>\n      <th>サーブ</th>\n      <th>得点合計</th>\n    </tr>\n  </thead>\n  <tbody>\n    <tr>\n      <th>0</th>\n      <td>2019-20 V.LEAGUE DIVISION1 MEN</td>\n      <td>ジェイテクトSTINGS</td>\n      <td>藤中優斗</td>\n      <td>29</td>\n      <td>79</td>\n      <td>152</td>\n      <td>64</td>\n      <td>12</td>\n      <td>42.1</td>\n      <td>46.5</td>\n      <td>...</td>\n      <td>49.2</td>\n      <td>287</td>\n      <td>120</td>\n      <td>85</td>\n      <td>56.6</td>\n      <td>55.1</td>\n      <td>64</td>\n      <td>14</td>\n      <td>5</td>\n      <td>83</td>\n    </tr>\n    <tr>\n      <th>8</th>\n      <td>2019-20 V.LEAGUE DIVISION1 MEN</td>\n      <td>ジェイテクトSTINGS</td>\n      <td>金丸晃大</td>\n      <td>27</td>\n      <td>51</td>\n      <td>17</td>\n      <td>8</td>\n      <td>1</td>\n      <td>47.1</td>\n      <td>49.9</td>\n      <td>...</td>\n      <td>49.6</td>\n      <td>2</td>\n      <td>0</td>\n      <td>1</td>\n      <td>25.0</td>\n      <td>40.0</td>\n      <td>8</td>\n      <td>5</td>\n      <td>0</td>\n      <td>13</td>\n    </tr>\n    <tr>\n      <th>60</th>\n      <td>2019-20 V.LEAGUE DIVISION1 MEN</td>\n      <td>東レアローズ</td>\n      <td>伏見大和</td>\n      <td>56</td>\n      <td>86</td>\n      <td>135</td>\n      <td>84</td>\n      <td>7</td>\n      <td>62.2</td>\n      <td>60.2</td>\n      <td>...</td>\n      <td>47.6</td>\n      <td>5</td>\n      <td>3</td>\n      <td>2</td>\n      <td>80.0</td>\n      <td>66.3</td>\n      <td>84</td>\n      <td>36</td>\n      <td>9</td>\n      <td>129</td>\n    </tr>\n    <tr>\n      <th>89</th>\n      <td>2019-20 V.LEAGUE DIVISION1 MEN</td>\n      <td>ジェイテクトSTINGS</td>\n      <td>福山汰一</td>\n      <td>29</td>\n      <td>47</td>\n      <td>94</td>\n      <td>55</td>\n      <td>2</td>\n      <td>58.5</td>\n      <td>57.7</td>\n      <td>...</td>\n      <td>52.6</td>\n      <td>8</td>\n      <td>3</td>\n      <td>3</td>\n      <td>56.2</td>\n      <td>54.9</td>\n      <td>55</td>\n      <td>21</td>\n      <td>9</td>\n      <td>85</td>\n    </tr>\n    <tr>\n      <th>108</th>\n      <td>2019-20 V.LEAGUE DIVISION1 MEN</td>\n      <td>ジェイテクトSTINGS</td>\n      <td>饒書涵</td>\n      <td>27</td>\n      <td>96</td>\n      <td>296</td>\n      <td>177</td>\n      <td>7</td>\n      <td>59.8</td>\n      <td>58.6</td>\n      <td>...</td>\n      <td>54.3</td>\n      <td>25</td>\n      <td>12</td>\n      <td>7</td>\n      <td>62.0</td>\n      <td>57.7</td>\n      <td>177</td>\n      <td>40</td>\n      <td>7</td>\n      <td>224</td>\n    </tr>\n    <tr>\n      <th>...</th>\n      <td>...</td>\n      <td>...</td>\n      <td>...</td>\n      <td>...</td>\n      <td>...</td>\n      <td>...</td>\n      <td>...</td>\n      <td>...</td>\n      <td>...</td>\n      <td>...</td>\n      <td>...</td>\n      <td>...</td>\n      <td>...</td>\n      <td>...</td>\n      <td>...</td>\n      <td>...</td>\n      <td>...</td>\n      <td>...</td>\n      <td>...</td>\n      <td>...</td>\n      <td>...</td>\n    </tr>\n    <tr>\n      <th>2920</th>\n      <td>2019-20 V.LEAGUE DIVISION1 MEN</td>\n      <td>VC長野トライデンツ</td>\n      <td>森崎健史</td>\n      <td>27</td>\n      <td>91</td>\n      <td>217</td>\n      <td>112</td>\n      <td>19</td>\n      <td>51.6</td>\n      <td>53.0</td>\n      <td>...</td>\n      <td>48.9</td>\n      <td>53</td>\n      <td>28</td>\n      <td>11</td>\n      <td>63.2</td>\n      <td>58.3</td>\n      <td>112</td>\n      <td>30</td>\n      <td>11</td>\n      <td>153</td>\n    </tr>\n    <tr>\n      <th>2932</th>\n      <td>2019-20 V.LEAGUE DIVISION1 MEN</td>\n      <td>VC長野トライデンツ</td>\n      <td>松村文斗</td>\n      <td>24</td>\n      <td>3</td>\n      <td>10</td>\n      <td>1</td>\n      <td>2</td>\n      <td>10.0</td>\n      <td>24.5</td>\n      <td>...</td>\n      <td>23.9</td>\n      <td>21</td>\n      <td>8</td>\n      <td>7</td>\n      <td>54.8</td>\n      <td>54.3</td>\n      <td>1</td>\n      <td>0</td>\n      <td>0</td>\n      <td>1</td>\n    </tr>\n    <tr>\n      <th>2940</th>\n      <td>2019-20 V.LEAGUE DIVISION1 MEN</td>\n      <td>VC長野トライデンツ</td>\n      <td>大沢健太郎</td>\n      <td>22</td>\n      <td>17</td>\n      <td>0</td>\n      <td>0</td>\n      <td>0</td>\n      <td>35.6</td>\n      <td>42.0</td>\n      <td>...</td>\n      <td>47.3</td>\n      <td>19</td>\n      <td>4</td>\n      <td>10</td>\n      <td>47.4</td>\n      <td>50.7</td>\n      <td>0</td>\n      <td>0</td>\n      <td>0</td>\n      <td>0</td>\n    </tr>\n    <tr>\n      <th>2946</th>\n      <td>2019-20 V.LEAGUE DIVISION1 MEN</td>\n      <td>VC長野トライデンツ</td>\n      <td>高澤和貴</td>\n      <td>27</td>\n      <td>62</td>\n      <td>14</td>\n      <td>8</td>\n      <td>1</td>\n      <td>57.1</td>\n      <td>56.7</td>\n      <td>...</td>\n      <td>58.4</td>\n      <td>67</td>\n      <td>30</td>\n      <td>19</td>\n      <td>59.0</td>\n      <td>56.3</td>\n      <td>8</td>\n      <td>0</td>\n      <td>4</td>\n      <td>12</td>\n    </tr>\n    <tr>\n      <th>2954</th>\n      <td>2019-20 V.LEAGUE DIVISION1 MEN</td>\n      <td>VC長野トライデンツ</td>\n      <td>長田翼</td>\n      <td>27</td>\n      <td>33</td>\n      <td>1</td>\n      <td>0</td>\n      <td>1</td>\n      <td>0.0</td>\n      <td>17.7</td>\n      <td>...</td>\n      <td>55.2</td>\n      <td>4</td>\n      <td>0</td>\n      <td>0</td>\n      <td>0.0</td>\n      <td>28.0</td>\n      <td>0</td>\n      <td>3</td>\n      <td>1</td>\n      <td>4</td>\n    </tr>\n  </tbody>\n</table>\n<p>153 rows × 40 columns</p>\n</div>"
     },
     "metadata": {},
     "execution_count": 13
    }
   ],
   "source": [
    "regular19"
   ]
  },
  {
   "cell_type": "code",
   "execution_count": 303,
   "metadata": {},
   "outputs": [
    {
     "output_type": "execute_result",
     "data": {
      "text/plain": "                                  大会           チーム    選手名  試合数  セット数  アタック打数  \\\n0     2019-20 V.LEAGUE DIVISION1 MEN  ジェイテクトSTINGS   藤中優斗   29    79     152   \n8     2019-20 V.LEAGUE DIVISION1 MEN  ジェイテクトSTINGS   金丸晃大   27    51      17   \n60    2019-20 V.LEAGUE DIVISION1 MEN        東レアローズ   伏見大和   56    86     135   \n89    2019-20 V.LEAGUE DIVISION1 MEN  ジェイテクトSTINGS   福山汰一   29    47      94   \n108   2019-20 V.LEAGUE DIVISION1 MEN  ジェイテクトSTINGS    饒書涵   27    96     296   \n...                              ...           ...    ...  ...   ...     ...   \n2910  2019-20 V.LEAGUE DIVISION1 MEN    VC長野トライデンツ   森崎健史   27    91     217   \n2922  2019-20 V.LEAGUE DIVISION1 MEN    VC長野トライデンツ   松村文斗   24     3      10   \n2930  2019-20 V.LEAGUE DIVISION1 MEN    VC長野トライデンツ  大沢健太郎   22    17       0   \n2936  2019-20 V.LEAGUE DIVISION1 MEN    VC長野トライデンツ   高澤和貴   27    62      14   \n2944  2019-20 V.LEAGUE DIVISION1 MEN    VC長野トライデンツ    長田翼   27    33       1   \n\n      アタック得点  アタック失点 アタック決定率  アタック効果率  ...  サーブ効果  サーブ効果率   受数 サーブレシーブ成功・優  \\\n0         64      12    42.1     34.2  ...     41     4.1  287         120   \n8          8       1    47.1     41.2  ...      8     4.3    2           0   \n60        84       7    62.2     57.0  ...     27     3.2    5           3   \n89        55       2    58.5     56.4  ...     30     6.0    8           3   \n108      177       7    59.8     57.4  ...     84     6.9   25          12   \n...      ...     ...     ...      ...  ...    ...     ...  ...         ...   \n2910     112      19    51.6     42.9  ...     62     3.9   53          28   \n2922       1       2      10    -10.0  ...      1     -10   21           8   \n2930       0       0    35.6      NaN  ...      0       3   19           4   \n2936       8       1    57.1     50.0  ...      6     9.2   67          30   \n2944       0       1     0.0   -100.0  ...     10     7.4    4           0   \n\n      サーブレシーブ成功・良 サーブレシーブ成功率  アタック ブロック  サーブ  得点合計  \n0              85       56.6    64   14    5    83  \n8               1       25.0     8    5    0    13  \n60              2       80.0    84   36    9   129  \n89              3       56.2    55   21    9    85  \n108             7         62   177   40    7   224  \n...           ...        ...   ...  ...  ...   ...  \n2910           11       63.2   112   30   11   153  \n2922            7       54.8     1    0    0     1  \n2930           10       47.4     0    0    0     0  \n2936           19         59     8    0    4    12  \n2944            0        0.0     0    3    1     4  \n\n[153 rows x 32 columns]",
      "text/html": "<div>\n<style scoped>\n    .dataframe tbody tr th:only-of-type {\n        vertical-align: middle;\n    }\n\n    .dataframe tbody tr th {\n        vertical-align: top;\n    }\n\n    .dataframe thead th {\n        text-align: right;\n    }\n</style>\n<table border=\"1\" class=\"dataframe\">\n  <thead>\n    <tr style=\"text-align: right;\">\n      <th></th>\n      <th>大会</th>\n      <th>チーム</th>\n      <th>選手名</th>\n      <th>試合数</th>\n      <th>セット数</th>\n      <th>アタック打数</th>\n      <th>アタック得点</th>\n      <th>アタック失点</th>\n      <th>アタック決定率</th>\n      <th>アタック効果率</th>\n      <th>...</th>\n      <th>サーブ効果</th>\n      <th>サーブ効果率</th>\n      <th>受数</th>\n      <th>サーブレシーブ成功・優</th>\n      <th>サーブレシーブ成功・良</th>\n      <th>サーブレシーブ成功率</th>\n      <th>アタック</th>\n      <th>ブロック</th>\n      <th>サーブ</th>\n      <th>得点合計</th>\n    </tr>\n  </thead>\n  <tbody>\n    <tr>\n      <th>0</th>\n      <td>2019-20 V.LEAGUE DIVISION1 MEN</td>\n      <td>ジェイテクトSTINGS</td>\n      <td>藤中優斗</td>\n      <td>29</td>\n      <td>79</td>\n      <td>152</td>\n      <td>64</td>\n      <td>12</td>\n      <td>42.1</td>\n      <td>34.2</td>\n      <td>...</td>\n      <td>41</td>\n      <td>4.1</td>\n      <td>287</td>\n      <td>120</td>\n      <td>85</td>\n      <td>56.6</td>\n      <td>64</td>\n      <td>14</td>\n      <td>5</td>\n      <td>83</td>\n    </tr>\n    <tr>\n      <th>8</th>\n      <td>2019-20 V.LEAGUE DIVISION1 MEN</td>\n      <td>ジェイテクトSTINGS</td>\n      <td>金丸晃大</td>\n      <td>27</td>\n      <td>51</td>\n      <td>17</td>\n      <td>8</td>\n      <td>1</td>\n      <td>47.1</td>\n      <td>41.2</td>\n      <td>...</td>\n      <td>8</td>\n      <td>4.3</td>\n      <td>2</td>\n      <td>0</td>\n      <td>1</td>\n      <td>25.0</td>\n      <td>8</td>\n      <td>5</td>\n      <td>0</td>\n      <td>13</td>\n    </tr>\n    <tr>\n      <th>60</th>\n      <td>2019-20 V.LEAGUE DIVISION1 MEN</td>\n      <td>東レアローズ</td>\n      <td>伏見大和</td>\n      <td>56</td>\n      <td>86</td>\n      <td>135</td>\n      <td>84</td>\n      <td>7</td>\n      <td>62.2</td>\n      <td>57.0</td>\n      <td>...</td>\n      <td>27</td>\n      <td>3.2</td>\n      <td>5</td>\n      <td>3</td>\n      <td>2</td>\n      <td>80.0</td>\n      <td>84</td>\n      <td>36</td>\n      <td>9</td>\n      <td>129</td>\n    </tr>\n    <tr>\n      <th>89</th>\n      <td>2019-20 V.LEAGUE DIVISION1 MEN</td>\n      <td>ジェイテクトSTINGS</td>\n      <td>福山汰一</td>\n      <td>29</td>\n      <td>47</td>\n      <td>94</td>\n      <td>55</td>\n      <td>2</td>\n      <td>58.5</td>\n      <td>56.4</td>\n      <td>...</td>\n      <td>30</td>\n      <td>6.0</td>\n      <td>8</td>\n      <td>3</td>\n      <td>3</td>\n      <td>56.2</td>\n      <td>55</td>\n      <td>21</td>\n      <td>9</td>\n      <td>85</td>\n    </tr>\n    <tr>\n      <th>108</th>\n      <td>2019-20 V.LEAGUE DIVISION1 MEN</td>\n      <td>ジェイテクトSTINGS</td>\n      <td>饒書涵</td>\n      <td>27</td>\n      <td>96</td>\n      <td>296</td>\n      <td>177</td>\n      <td>7</td>\n      <td>59.8</td>\n      <td>57.4</td>\n      <td>...</td>\n      <td>84</td>\n      <td>6.9</td>\n      <td>25</td>\n      <td>12</td>\n      <td>7</td>\n      <td>62</td>\n      <td>177</td>\n      <td>40</td>\n      <td>7</td>\n      <td>224</td>\n    </tr>\n    <tr>\n      <th>...</th>\n      <td>...</td>\n      <td>...</td>\n      <td>...</td>\n      <td>...</td>\n      <td>...</td>\n      <td>...</td>\n      <td>...</td>\n      <td>...</td>\n      <td>...</td>\n      <td>...</td>\n      <td>...</td>\n      <td>...</td>\n      <td>...</td>\n      <td>...</td>\n      <td>...</td>\n      <td>...</td>\n      <td>...</td>\n      <td>...</td>\n      <td>...</td>\n      <td>...</td>\n      <td>...</td>\n    </tr>\n    <tr>\n      <th>2910</th>\n      <td>2019-20 V.LEAGUE DIVISION1 MEN</td>\n      <td>VC長野トライデンツ</td>\n      <td>森崎健史</td>\n      <td>27</td>\n      <td>91</td>\n      <td>217</td>\n      <td>112</td>\n      <td>19</td>\n      <td>51.6</td>\n      <td>42.9</td>\n      <td>...</td>\n      <td>62</td>\n      <td>3.9</td>\n      <td>53</td>\n      <td>28</td>\n      <td>11</td>\n      <td>63.2</td>\n      <td>112</td>\n      <td>30</td>\n      <td>11</td>\n      <td>153</td>\n    </tr>\n    <tr>\n      <th>2922</th>\n      <td>2019-20 V.LEAGUE DIVISION1 MEN</td>\n      <td>VC長野トライデンツ</td>\n      <td>松村文斗</td>\n      <td>24</td>\n      <td>3</td>\n      <td>10</td>\n      <td>1</td>\n      <td>2</td>\n      <td>10</td>\n      <td>-10.0</td>\n      <td>...</td>\n      <td>1</td>\n      <td>-10</td>\n      <td>21</td>\n      <td>8</td>\n      <td>7</td>\n      <td>54.8</td>\n      <td>1</td>\n      <td>0</td>\n      <td>0</td>\n      <td>1</td>\n    </tr>\n    <tr>\n      <th>2930</th>\n      <td>2019-20 V.LEAGUE DIVISION1 MEN</td>\n      <td>VC長野トライデンツ</td>\n      <td>大沢健太郎</td>\n      <td>22</td>\n      <td>17</td>\n      <td>0</td>\n      <td>0</td>\n      <td>0</td>\n      <td>35.6</td>\n      <td>NaN</td>\n      <td>...</td>\n      <td>0</td>\n      <td>3</td>\n      <td>19</td>\n      <td>4</td>\n      <td>10</td>\n      <td>47.4</td>\n      <td>0</td>\n      <td>0</td>\n      <td>0</td>\n      <td>0</td>\n    </tr>\n    <tr>\n      <th>2936</th>\n      <td>2019-20 V.LEAGUE DIVISION1 MEN</td>\n      <td>VC長野トライデンツ</td>\n      <td>高澤和貴</td>\n      <td>27</td>\n      <td>62</td>\n      <td>14</td>\n      <td>8</td>\n      <td>1</td>\n      <td>57.1</td>\n      <td>50.0</td>\n      <td>...</td>\n      <td>6</td>\n      <td>9.2</td>\n      <td>67</td>\n      <td>30</td>\n      <td>19</td>\n      <td>59</td>\n      <td>8</td>\n      <td>0</td>\n      <td>4</td>\n      <td>12</td>\n    </tr>\n    <tr>\n      <th>2944</th>\n      <td>2019-20 V.LEAGUE DIVISION1 MEN</td>\n      <td>VC長野トライデンツ</td>\n      <td>長田翼</td>\n      <td>27</td>\n      <td>33</td>\n      <td>1</td>\n      <td>0</td>\n      <td>1</td>\n      <td>0.0</td>\n      <td>-100.0</td>\n      <td>...</td>\n      <td>10</td>\n      <td>7.4</td>\n      <td>4</td>\n      <td>0</td>\n      <td>0</td>\n      <td>0.0</td>\n      <td>0</td>\n      <td>3</td>\n      <td>1</td>\n      <td>4</td>\n    </tr>\n  </tbody>\n</table>\n<p>153 rows × 32 columns</p>\n</div>"
     },
     "metadata": {},
     "execution_count": 303
    }
   ],
   "source": [
    "# regular19 = career_database[career_database['大会'] == '2019-20 V.LEAGUE DIVISION1 MEN']\n",
    "regular19"
   ]
  },
  {
   "cell_type": "code",
   "execution_count": 14,
   "metadata": {},
   "outputs": [],
   "source": [
    "%matplotlib inline\n",
    "import numpy as np\n",
    "import matplotlib.pyplot as plt\n",
    "import seaborn as sns\n",
    "\n",
    "import plotly.offline\n",
    "import plotly.express as px"
   ]
  },
  {
   "cell_type": "code",
   "execution_count": 19,
   "metadata": {
    "tags": []
   },
   "outputs": [],
   "source": [
    "fig = px.line_polar(regular19.loc[:,div_ex], theta=regular19.loc[:,div_ex].columns.values, r=regular19.loc[:,div_ex].loc[240].values, range_r=[30,70], line_close=True)"
   ]
  },
  {
   "cell_type": "code",
   "execution_count": 75,
   "metadata": {},
   "outputs": [],
   "source": [
    "fig = px.line_polar(regular19.loc[:,div_ex], theta=regular19.loc[:,div_ex].columns.values, r=regular19.loc[:,div_ex].loc[0].values, range_r=[30,70], line_close=True)"
   ]
  },
  {
   "cell_type": "code",
   "execution_count": 20,
   "metadata": {},
   "outputs": [
    {
     "output_type": "display_data",
     "data": {
      "application/vnd.plotly.v1+json": {
       "config": {
        "plotlyServerURL": "https://plot.ly"
       },
       "data": [
        {
         "hovertemplate": "r=%{r}<br>theta=%{theta}<extra></extra>",
         "legendgroup": "",
         "line": {
          "color": "#636efa",
          "dash": "solid"
         },
         "mode": "lines",
         "name": "",
         "r": [
          56.1,
          53,
          57.4,
          55.2,
          83.4,
          62.4,
          78.7,
          45.1,
          56.1
         ],
         "showlegend": false,
         "subplot": "polar",
         "theta": [
          "アタック決定率偏差値",
          "アタック効果率偏差値",
          "バックアタック決定率偏差値",
          "バックアタック効果率偏差値",
          "アタックセット得点平均偏差値",
          "ブロックセット得点平均偏差値",
          "サーブ効果率偏差値",
          "サーブレシーブ成功率偏差値",
          "アタック決定率偏差値"
         ],
         "type": "scatterpolar"
        }
       ],
       "layout": {
        "legend": {
         "tracegroupgap": 0
        },
        "margin": {
         "t": 60
        },
        "polar": {
         "angularaxis": {
          "direction": "clockwise",
          "rotation": 90
         },
         "domain": {
          "x": [
           0,
           1
          ],
          "y": [
           0,
           1
          ]
         },
         "radialaxis": {
          "range": [
           30,
           70
          ]
         }
        },
        "template": {
         "data": {
          "bar": [
           {
            "error_x": {
             "color": "#2a3f5f"
            },
            "error_y": {
             "color": "#2a3f5f"
            },
            "marker": {
             "line": {
              "color": "#E5ECF6",
              "width": 0.5
             }
            },
            "type": "bar"
           }
          ],
          "barpolar": [
           {
            "marker": {
             "line": {
              "color": "#E5ECF6",
              "width": 0.5
             }
            },
            "type": "barpolar"
           }
          ],
          "carpet": [
           {
            "aaxis": {
             "endlinecolor": "#2a3f5f",
             "gridcolor": "white",
             "linecolor": "white",
             "minorgridcolor": "white",
             "startlinecolor": "#2a3f5f"
            },
            "baxis": {
             "endlinecolor": "#2a3f5f",
             "gridcolor": "white",
             "linecolor": "white",
             "minorgridcolor": "white",
             "startlinecolor": "#2a3f5f"
            },
            "type": "carpet"
           }
          ],
          "choropleth": [
           {
            "colorbar": {
             "outlinewidth": 0,
             "ticks": ""
            },
            "type": "choropleth"
           }
          ],
          "contour": [
           {
            "colorbar": {
             "outlinewidth": 0,
             "ticks": ""
            },
            "colorscale": [
             [
              0,
              "#0d0887"
             ],
             [
              0.1111111111111111,
              "#46039f"
             ],
             [
              0.2222222222222222,
              "#7201a8"
             ],
             [
              0.3333333333333333,
              "#9c179e"
             ],
             [
              0.4444444444444444,
              "#bd3786"
             ],
             [
              0.5555555555555556,
              "#d8576b"
             ],
             [
              0.6666666666666666,
              "#ed7953"
             ],
             [
              0.7777777777777778,
              "#fb9f3a"
             ],
             [
              0.8888888888888888,
              "#fdca26"
             ],
             [
              1,
              "#f0f921"
             ]
            ],
            "type": "contour"
           }
          ],
          "contourcarpet": [
           {
            "colorbar": {
             "outlinewidth": 0,
             "ticks": ""
            },
            "type": "contourcarpet"
           }
          ],
          "heatmap": [
           {
            "colorbar": {
             "outlinewidth": 0,
             "ticks": ""
            },
            "colorscale": [
             [
              0,
              "#0d0887"
             ],
             [
              0.1111111111111111,
              "#46039f"
             ],
             [
              0.2222222222222222,
              "#7201a8"
             ],
             [
              0.3333333333333333,
              "#9c179e"
             ],
             [
              0.4444444444444444,
              "#bd3786"
             ],
             [
              0.5555555555555556,
              "#d8576b"
             ],
             [
              0.6666666666666666,
              "#ed7953"
             ],
             [
              0.7777777777777778,
              "#fb9f3a"
             ],
             [
              0.8888888888888888,
              "#fdca26"
             ],
             [
              1,
              "#f0f921"
             ]
            ],
            "type": "heatmap"
           }
          ],
          "heatmapgl": [
           {
            "colorbar": {
             "outlinewidth": 0,
             "ticks": ""
            },
            "colorscale": [
             [
              0,
              "#0d0887"
             ],
             [
              0.1111111111111111,
              "#46039f"
             ],
             [
              0.2222222222222222,
              "#7201a8"
             ],
             [
              0.3333333333333333,
              "#9c179e"
             ],
             [
              0.4444444444444444,
              "#bd3786"
             ],
             [
              0.5555555555555556,
              "#d8576b"
             ],
             [
              0.6666666666666666,
              "#ed7953"
             ],
             [
              0.7777777777777778,
              "#fb9f3a"
             ],
             [
              0.8888888888888888,
              "#fdca26"
             ],
             [
              1,
              "#f0f921"
             ]
            ],
            "type": "heatmapgl"
           }
          ],
          "histogram": [
           {
            "marker": {
             "colorbar": {
              "outlinewidth": 0,
              "ticks": ""
             }
            },
            "type": "histogram"
           }
          ],
          "histogram2d": [
           {
            "colorbar": {
             "outlinewidth": 0,
             "ticks": ""
            },
            "colorscale": [
             [
              0,
              "#0d0887"
             ],
             [
              0.1111111111111111,
              "#46039f"
             ],
             [
              0.2222222222222222,
              "#7201a8"
             ],
             [
              0.3333333333333333,
              "#9c179e"
             ],
             [
              0.4444444444444444,
              "#bd3786"
             ],
             [
              0.5555555555555556,
              "#d8576b"
             ],
             [
              0.6666666666666666,
              "#ed7953"
             ],
             [
              0.7777777777777778,
              "#fb9f3a"
             ],
             [
              0.8888888888888888,
              "#fdca26"
             ],
             [
              1,
              "#f0f921"
             ]
            ],
            "type": "histogram2d"
           }
          ],
          "histogram2dcontour": [
           {
            "colorbar": {
             "outlinewidth": 0,
             "ticks": ""
            },
            "colorscale": [
             [
              0,
              "#0d0887"
             ],
             [
              0.1111111111111111,
              "#46039f"
             ],
             [
              0.2222222222222222,
              "#7201a8"
             ],
             [
              0.3333333333333333,
              "#9c179e"
             ],
             [
              0.4444444444444444,
              "#bd3786"
             ],
             [
              0.5555555555555556,
              "#d8576b"
             ],
             [
              0.6666666666666666,
              "#ed7953"
             ],
             [
              0.7777777777777778,
              "#fb9f3a"
             ],
             [
              0.8888888888888888,
              "#fdca26"
             ],
             [
              1,
              "#f0f921"
             ]
            ],
            "type": "histogram2dcontour"
           }
          ],
          "mesh3d": [
           {
            "colorbar": {
             "outlinewidth": 0,
             "ticks": ""
            },
            "type": "mesh3d"
           }
          ],
          "parcoords": [
           {
            "line": {
             "colorbar": {
              "outlinewidth": 0,
              "ticks": ""
             }
            },
            "type": "parcoords"
           }
          ],
          "pie": [
           {
            "automargin": true,
            "type": "pie"
           }
          ],
          "scatter": [
           {
            "marker": {
             "colorbar": {
              "outlinewidth": 0,
              "ticks": ""
             }
            },
            "type": "scatter"
           }
          ],
          "scatter3d": [
           {
            "line": {
             "colorbar": {
              "outlinewidth": 0,
              "ticks": ""
             }
            },
            "marker": {
             "colorbar": {
              "outlinewidth": 0,
              "ticks": ""
             }
            },
            "type": "scatter3d"
           }
          ],
          "scattercarpet": [
           {
            "marker": {
             "colorbar": {
              "outlinewidth": 0,
              "ticks": ""
             }
            },
            "type": "scattercarpet"
           }
          ],
          "scattergeo": [
           {
            "marker": {
             "colorbar": {
              "outlinewidth": 0,
              "ticks": ""
             }
            },
            "type": "scattergeo"
           }
          ],
          "scattergl": [
           {
            "marker": {
             "colorbar": {
              "outlinewidth": 0,
              "ticks": ""
             }
            },
            "type": "scattergl"
           }
          ],
          "scattermapbox": [
           {
            "marker": {
             "colorbar": {
              "outlinewidth": 0,
              "ticks": ""
             }
            },
            "type": "scattermapbox"
           }
          ],
          "scatterpolar": [
           {
            "marker": {
             "colorbar": {
              "outlinewidth": 0,
              "ticks": ""
             }
            },
            "type": "scatterpolar"
           }
          ],
          "scatterpolargl": [
           {
            "marker": {
             "colorbar": {
              "outlinewidth": 0,
              "ticks": ""
             }
            },
            "type": "scatterpolargl"
           }
          ],
          "scatterternary": [
           {
            "marker": {
             "colorbar": {
              "outlinewidth": 0,
              "ticks": ""
             }
            },
            "type": "scatterternary"
           }
          ],
          "surface": [
           {
            "colorbar": {
             "outlinewidth": 0,
             "ticks": ""
            },
            "colorscale": [
             [
              0,
              "#0d0887"
             ],
             [
              0.1111111111111111,
              "#46039f"
             ],
             [
              0.2222222222222222,
              "#7201a8"
             ],
             [
              0.3333333333333333,
              "#9c179e"
             ],
             [
              0.4444444444444444,
              "#bd3786"
             ],
             [
              0.5555555555555556,
              "#d8576b"
             ],
             [
              0.6666666666666666,
              "#ed7953"
             ],
             [
              0.7777777777777778,
              "#fb9f3a"
             ],
             [
              0.8888888888888888,
              "#fdca26"
             ],
             [
              1,
              "#f0f921"
             ]
            ],
            "type": "surface"
           }
          ],
          "table": [
           {
            "cells": {
             "fill": {
              "color": "#EBF0F8"
             },
             "line": {
              "color": "white"
             }
            },
            "header": {
             "fill": {
              "color": "#C8D4E3"
             },
             "line": {
              "color": "white"
             }
            },
            "type": "table"
           }
          ]
         },
         "layout": {
          "annotationdefaults": {
           "arrowcolor": "#2a3f5f",
           "arrowhead": 0,
           "arrowwidth": 1
          },
          "coloraxis": {
           "colorbar": {
            "outlinewidth": 0,
            "ticks": ""
           }
          },
          "colorscale": {
           "diverging": [
            [
             0,
             "#8e0152"
            ],
            [
             0.1,
             "#c51b7d"
            ],
            [
             0.2,
             "#de77ae"
            ],
            [
             0.3,
             "#f1b6da"
            ],
            [
             0.4,
             "#fde0ef"
            ],
            [
             0.5,
             "#f7f7f7"
            ],
            [
             0.6,
             "#e6f5d0"
            ],
            [
             0.7,
             "#b8e186"
            ],
            [
             0.8,
             "#7fbc41"
            ],
            [
             0.9,
             "#4d9221"
            ],
            [
             1,
             "#276419"
            ]
           ],
           "sequential": [
            [
             0,
             "#0d0887"
            ],
            [
             0.1111111111111111,
             "#46039f"
            ],
            [
             0.2222222222222222,
             "#7201a8"
            ],
            [
             0.3333333333333333,
             "#9c179e"
            ],
            [
             0.4444444444444444,
             "#bd3786"
            ],
            [
             0.5555555555555556,
             "#d8576b"
            ],
            [
             0.6666666666666666,
             "#ed7953"
            ],
            [
             0.7777777777777778,
             "#fb9f3a"
            ],
            [
             0.8888888888888888,
             "#fdca26"
            ],
            [
             1,
             "#f0f921"
            ]
           ],
           "sequentialminus": [
            [
             0,
             "#0d0887"
            ],
            [
             0.1111111111111111,
             "#46039f"
            ],
            [
             0.2222222222222222,
             "#7201a8"
            ],
            [
             0.3333333333333333,
             "#9c179e"
            ],
            [
             0.4444444444444444,
             "#bd3786"
            ],
            [
             0.5555555555555556,
             "#d8576b"
            ],
            [
             0.6666666666666666,
             "#ed7953"
            ],
            [
             0.7777777777777778,
             "#fb9f3a"
            ],
            [
             0.8888888888888888,
             "#fdca26"
            ],
            [
             1,
             "#f0f921"
            ]
           ]
          },
          "colorway": [
           "#636efa",
           "#EF553B",
           "#00cc96",
           "#ab63fa",
           "#FFA15A",
           "#19d3f3",
           "#FF6692",
           "#B6E880",
           "#FF97FF",
           "#FECB52"
          ],
          "font": {
           "color": "#2a3f5f"
          },
          "geo": {
           "bgcolor": "white",
           "lakecolor": "white",
           "landcolor": "#E5ECF6",
           "showlakes": true,
           "showland": true,
           "subunitcolor": "white"
          },
          "hoverlabel": {
           "align": "left"
          },
          "hovermode": "closest",
          "mapbox": {
           "style": "light"
          },
          "paper_bgcolor": "white",
          "plot_bgcolor": "#E5ECF6",
          "polar": {
           "angularaxis": {
            "gridcolor": "white",
            "linecolor": "white",
            "ticks": ""
           },
           "bgcolor": "#E5ECF6",
           "radialaxis": {
            "gridcolor": "white",
            "linecolor": "white",
            "ticks": ""
           }
          },
          "scene": {
           "xaxis": {
            "backgroundcolor": "#E5ECF6",
            "gridcolor": "white",
            "gridwidth": 2,
            "linecolor": "white",
            "showbackground": true,
            "ticks": "",
            "zerolinecolor": "white"
           },
           "yaxis": {
            "backgroundcolor": "#E5ECF6",
            "gridcolor": "white",
            "gridwidth": 2,
            "linecolor": "white",
            "showbackground": true,
            "ticks": "",
            "zerolinecolor": "white"
           },
           "zaxis": {
            "backgroundcolor": "#E5ECF6",
            "gridcolor": "white",
            "gridwidth": 2,
            "linecolor": "white",
            "showbackground": true,
            "ticks": "",
            "zerolinecolor": "white"
           }
          },
          "shapedefaults": {
           "line": {
            "color": "#2a3f5f"
           }
          },
          "ternary": {
           "aaxis": {
            "gridcolor": "white",
            "linecolor": "white",
            "ticks": ""
           },
           "baxis": {
            "gridcolor": "white",
            "linecolor": "white",
            "ticks": ""
           },
           "bgcolor": "#E5ECF6",
           "caxis": {
            "gridcolor": "white",
            "linecolor": "white",
            "ticks": ""
           }
          },
          "title": {
           "x": 0.05
          },
          "xaxis": {
           "automargin": true,
           "gridcolor": "white",
           "linecolor": "white",
           "ticks": "",
           "title": {
            "standoff": 15
           },
           "zerolinecolor": "white",
           "zerolinewidth": 2
          },
          "yaxis": {
           "automargin": true,
           "gridcolor": "white",
           "linecolor": "white",
           "ticks": "",
           "title": {
            "standoff": 15
           },
           "zerolinecolor": "white",
           "zerolinewidth": 2
          }
         }
        }
       }
      }
     },
     "metadata": {}
    }
   ],
   "source": [
    "fig.show()"
   ]
  },
  {
   "cell_type": "code",
   "execution_count": 16,
   "metadata": {},
   "outputs": [
    {
     "output_type": "execute_result",
     "data": {
      "text/plain": "array([False, False, False, False, False, False, False, False, False,\n        True, False,  True, False, False, False,  True, False,  True,\n       False, False, False,  True, False, False,  True, False, False,\n       False, False, False,  True, False, False, False, False,  True,\n       False, False, False, False])"
     },
     "metadata": {},
     "execution_count": 16
    }
   ],
   "source": [
    "div_ex = regular19.columns.str.contains('偏差値')\n",
    "div_ex"
   ]
  },
  {
   "cell_type": "code",
   "execution_count": 74,
   "metadata": {},
   "outputs": [],
   "source": [
    "div = regular19.loc[:,div_ex]\n",
    "div.insert(0,'選手名',regular19['選手名'])\n",
    "div = div.set_index('選手名') "
   ]
  },
  {
   "cell_type": "code",
   "execution_count": 78,
   "metadata": {},
   "outputs": [
    {
     "output_type": "execute_result",
     "data": {
      "text/plain": "       選手名              項目   偏差値\n0     藤中優斗      アタック決定率偏差値  46.5\n1     藤中優斗      アタック効果率偏差値  46.4\n2     藤中優斗   バックアタック決定率偏差値  55.1\n3     藤中優斗   バックアタック効果率偏差値  57.1\n4     藤中優斗  アタックセット得点平均偏差値  45.8\n...    ...             ...   ...\n1107   長田翼   バックアタック決定率偏差値  34.5\n1108   長田翼  アタックセット得点平均偏差値  44.9\n1109   長田翼  ブロックセット得点平均偏差値  40.1\n1110   長田翼       サーブ効果率偏差値  55.2\n1111   長田翼   サーブレシーブ成功率偏差値  28.0\n\n[1112 rows x 3 columns]",
      "text/html": "<div>\n<style scoped>\n    .dataframe tbody tr th:only-of-type {\n        vertical-align: middle;\n    }\n\n    .dataframe tbody tr th {\n        vertical-align: top;\n    }\n\n    .dataframe thead th {\n        text-align: right;\n    }\n</style>\n<table border=\"1\" class=\"dataframe\">\n  <thead>\n    <tr style=\"text-align: right;\">\n      <th></th>\n      <th>選手名</th>\n      <th>項目</th>\n      <th>偏差値</th>\n    </tr>\n  </thead>\n  <tbody>\n    <tr>\n      <th>0</th>\n      <td>藤中優斗</td>\n      <td>アタック決定率偏差値</td>\n      <td>46.5</td>\n    </tr>\n    <tr>\n      <th>1</th>\n      <td>藤中優斗</td>\n      <td>アタック効果率偏差値</td>\n      <td>46.4</td>\n    </tr>\n    <tr>\n      <th>2</th>\n      <td>藤中優斗</td>\n      <td>バックアタック決定率偏差値</td>\n      <td>55.1</td>\n    </tr>\n    <tr>\n      <th>3</th>\n      <td>藤中優斗</td>\n      <td>バックアタック効果率偏差値</td>\n      <td>57.1</td>\n    </tr>\n    <tr>\n      <th>4</th>\n      <td>藤中優斗</td>\n      <td>アタックセット得点平均偏差値</td>\n      <td>45.8</td>\n    </tr>\n    <tr>\n      <th>...</th>\n      <td>...</td>\n      <td>...</td>\n      <td>...</td>\n    </tr>\n    <tr>\n      <th>1107</th>\n      <td>長田翼</td>\n      <td>バックアタック決定率偏差値</td>\n      <td>34.5</td>\n    </tr>\n    <tr>\n      <th>1108</th>\n      <td>長田翼</td>\n      <td>アタックセット得点平均偏差値</td>\n      <td>44.9</td>\n    </tr>\n    <tr>\n      <th>1109</th>\n      <td>長田翼</td>\n      <td>ブロックセット得点平均偏差値</td>\n      <td>40.1</td>\n    </tr>\n    <tr>\n      <th>1110</th>\n      <td>長田翼</td>\n      <td>サーブ効果率偏差値</td>\n      <td>55.2</td>\n    </tr>\n    <tr>\n      <th>1111</th>\n      <td>長田翼</td>\n      <td>サーブレシーブ成功率偏差値</td>\n      <td>28.0</td>\n    </tr>\n  </tbody>\n</table>\n<p>1112 rows × 3 columns</p>\n</div>"
     },
     "metadata": {},
     "execution_count": 78
    }
   ],
   "source": [
    "regular19_stack =  div.stack().rename_axis(['選手名','項目']).reset_index().rename(columns={0:'偏差値'})\n",
    "regular19_stack"
   ]
  },
  {
   "cell_type": "code",
   "execution_count": 52,
   "metadata": {},
   "outputs": [
    {
     "output_type": "execute_result",
     "data": {
      "text/plain": "array([[56.1, 53. , 57.4, 55.2, 83.4, 62.4, 78.7, 45.1]])"
     },
     "metadata": {},
     "execution_count": 52
    }
   ],
   "source": [
    "fig = px.line_polar(regular19.loc[:,div_ex], theta=regular19.loc[:,div_ex].columns.values, r=regular19.loc[:,div_ex].loc[0].values,  color=, range_r=[30,70], line_close=True)"
   ]
  },
  {
   "cell_type": "code",
   "execution_count": 26,
   "metadata": {},
   "outputs": [
    {
     "output_type": "execute_result",
     "data": {
      "text/plain": "240"
     },
     "metadata": {},
     "execution_count": 26
    }
   ],
   "source": [
    "regular19[regular19['選手名']=='西田有志'].index[0]"
   ]
  },
  {
   "cell_type": "code",
   "execution_count": 25,
   "metadata": {},
   "outputs": [
    {
     "output_type": "execute_result",
     "data": {
      "text/plain": "array([56.1, 53. , 57.4, 55.2, 83.4, 62.4, 78.7, 45.1])"
     },
     "metadata": {},
     "execution_count": 25
    }
   ],
   "source": [
    "regular19.loc[:,div_ex].loc[240].values"
   ]
  },
  {
   "cell_type": "code",
   "execution_count": 80,
   "metadata": {},
   "outputs": [
    {
     "output_type": "display_data",
     "data": {
      "application/vnd.plotly.v1+json": {
       "config": {
        "plotlyServerURL": "https://plot.ly"
       },
       "data": [
        {
         "hovertemplate": "選手名=藤中優斗<br>偏差値=%{r}<br>項目=%{theta}<extra></extra>",
         "legendgroup": "藤中優斗",
         "line": {
          "color": "#636efa",
          "dash": "solid"
         },
         "mode": "lines",
         "name": "藤中優斗",
         "r": [
          46.5,
          46.4,
          55.1,
          57.1,
          45.8,
          45.5,
          49.2,
          55.1,
          46.5
         ],
         "showlegend": true,
         "subplot": "polar",
         "theta": [
          "アタック決定率偏差値",
          "アタック効果率偏差値",
          "バックアタック決定率偏差値",
          "バックアタック効果率偏差値",
          "アタックセット得点平均偏差値",
          "ブロックセット得点平均偏差値",
          "サーブ効果率偏差値",
          "サーブレシーブ成功率偏差値",
          "アタック決定率偏差値"
         ],
         "type": "scatterpolargl"
        },
        {
         "hovertemplate": "選手名=金丸晃大<br>偏差値=%{r}<br>項目=%{theta}<extra></extra>",
         "legendgroup": "金丸晃大",
         "line": {
          "color": "#EF553B",
          "dash": "solid"
         },
         "mode": "lines",
         "name": "金丸晃大",
         "r": [
          49.9,
          49.7,
          55.1,
          40.4,
          40.7,
          49.6,
          40,
          49.9
         ],
         "showlegend": true,
         "subplot": "polar",
         "theta": [
          "アタック決定率偏差値",
          "アタック効果率偏差値",
          "バックアタック決定率偏差値",
          "アタックセット得点平均偏差値",
          "ブロックセット得点平均偏差値",
          "サーブ効果率偏差値",
          "サーブレシーブ成功率偏差値",
          "アタック決定率偏差値"
         ],
         "type": "scatterpolargl"
        },
        {
         "hovertemplate": "選手名=伏見大和<br>偏差値=%{r}<br>項目=%{theta}<extra></extra>",
         "legendgroup": "伏見大和",
         "line": {
          "color": "#00cc96",
          "dash": "solid"
         },
         "mode": "lines",
         "name": "伏見大和",
         "r": [
          60.2,
          57.4,
          75.8,
          75.4,
          47.2,
          60,
          47.6,
          66.3,
          60.2
         ],
         "showlegend": true,
         "subplot": "polar",
         "theta": [
          "アタック決定率偏差値",
          "アタック効果率偏差値",
          "バックアタック決定率偏差値",
          "バックアタック効果率偏差値",
          "アタックセット得点平均偏差値",
          "ブロックセット得点平均偏差値",
          "サーブ効果率偏差値",
          "サーブレシーブ成功率偏差値",
          "アタック決定率偏差値"
         ],
         "type": "scatterpolargl"
        },
        {
         "hovertemplate": "選手名=福山汰一<br>偏差値=%{r}<br>項目=%{theta}<extra></extra>",
         "legendgroup": "福山汰一",
         "line": {
          "color": "#ab63fa",
          "dash": "solid"
         },
         "mode": "lines",
         "name": "福山汰一",
         "r": [
          57.7,
          57.1,
          75.8,
          48.7,
          61.8,
          52.6,
          54.9,
          57.7
         ],
         "showlegend": true,
         "subplot": "polar",
         "theta": [
          "アタック決定率偏差値",
          "アタック効果率偏差値",
          "バックアタック決定率偏差値",
          "アタックセット得点平均偏差値",
          "ブロックセット得点平均偏差値",
          "サーブ効果率偏差値",
          "サーブレシーブ成功率偏差値",
          "アタック決定率偏差値"
         ],
         "type": "scatterpolargl"
        },
        {
         "hovertemplate": "選手名=饒書涵<br>偏差値=%{r}<br>項目=%{theta}<extra></extra>",
         "legendgroup": "饒書涵",
         "line": {
          "color": "#FFA15A",
          "dash": "solid"
         },
         "mode": "lines",
         "name": "饒書涵",
         "r": [
          58.6,
          57.5,
          75.8,
          54.3,
          60,
          54.3,
          57.7,
          58.6
         ],
         "showlegend": true,
         "subplot": "polar",
         "theta": [
          "アタック決定率偏差値",
          "アタック効果率偏差値",
          "バックアタック決定率偏差値",
          "アタックセット得点平均偏差値",
          "ブロックセット得点平均偏差値",
          "サーブ効果率偏差値",
          "サーブレシーブ成功率偏差値",
          "アタック決定率偏差値"
         ],
         "type": "scatterpolargl"
        },
        {
         "hovertemplate": "選手名=柳澤広平<br>偏差値=%{r}<br>項目=%{theta}<extra></extra>",
         "legendgroup": "柳澤広平",
         "line": {
          "color": "#19d3f3",
          "dash": "solid"
         },
         "mode": "lines",
         "name": "柳澤広平",
         "r": [
          28.2,
          37.3,
          57.2,
          41.5,
          67.8,
          41.9,
          45.1,
          28.2
         ],
         "showlegend": true,
         "subplot": "polar",
         "theta": [
          "アタック決定率偏差値",
          "アタック効果率偏差値",
          "バックアタック決定率偏差値",
          "アタックセット得点平均偏差値",
          "ブロックセット得点平均偏差値",
          "サーブ効果率偏差値",
          "サーブレシーブ成功率偏差値",
          "アタック決定率偏差値"
         ],
         "type": "scatterpolargl"
        },
        {
         "hovertemplate": "選手名=郡浩也<br>偏差値=%{r}<br>項目=%{theta}<extra></extra>",
         "legendgroup": "郡浩也",
         "line": {
          "color": "#FF6692",
          "dash": "solid"
         },
         "mode": "lines",
         "name": "郡浩也",
         "r": [
          45.8,
          44.1,
          55.1,
          48,
          43.9,
          39.5,
          41.9,
          42.9,
          45.8
         ],
         "showlegend": true,
         "subplot": "polar",
         "theta": [
          "アタック決定率偏差値",
          "アタック効果率偏差値",
          "バックアタック決定率偏差値",
          "バックアタック効果率偏差値",
          "アタックセット得点平均偏差値",
          "ブロックセット得点平均偏差値",
          "サーブ効果率偏差値",
          "サーブレシーブ成功率偏差値",
          "アタック決定率偏差値"
         ],
         "type": "scatterpolargl"
        },
        {
         "hovertemplate": "選手名=小林光輝<br>偏差値=%{r}<br>項目=%{theta}<extra></extra>",
         "legendgroup": "小林光輝",
         "line": {
          "color": "#B6E880",
          "dash": "solid"
         },
         "mode": "lines",
         "name": "小林光輝",
         "r": [
          51.9,
          54,
          56.2,
          39.7,
          43.7,
          44.7,
          28,
          51.9
         ],
         "showlegend": true,
         "subplot": "polar",
         "theta": [
          "アタック決定率偏差値",
          "アタック効果率偏差値",
          "バックアタック決定率偏差値",
          "アタックセット得点平均偏差値",
          "ブロックセット得点平均偏差値",
          "サーブ効果率偏差値",
          "サーブレシーブ成功率偏差値",
          "アタック決定率偏差値"
         ],
         "type": "scatterpolargl"
        },
        {
         "hovertemplate": "選手名=袴谷亮介<br>偏差値=%{r}<br>項目=%{theta}<extra></extra>",
         "legendgroup": "袴谷亮介",
         "line": {
          "color": "#FF97FF",
          "dash": "solid"
         },
         "mode": "lines",
         "name": "袴谷亮介",
         "r": [
          55.2,
          55.4,
          54.2,
          56.3,
          44.2,
          37,
          50.8,
          28,
          55.2
         ],
         "showlegend": true,
         "subplot": "polar",
         "theta": [
          "アタック決定率偏差値",
          "アタック効果率偏差値",
          "バックアタック決定率偏差値",
          "バックアタック効果率偏差値",
          "アタックセット得点平均偏差値",
          "ブロックセット得点平均偏差値",
          "サーブ効果率偏差値",
          "サーブレシーブ成功率偏差値",
          "アタック決定率偏差値"
         ],
         "type": "scatterpolargl"
        },
        {
         "hovertemplate": "選手名=興梠亮<br>偏差値=%{r}<br>項目=%{theta}<extra></extra>",
         "legendgroup": "興梠亮",
         "line": {
          "color": "#FECB52",
          "dash": "solid"
         },
         "mode": "lines",
         "name": "興梠亮",
         "r": [
          49.6,
          57.3,
          47.9,
          43.7,
          56.6,
          60.2,
          49.6
         ],
         "showlegend": true,
         "subplot": "polar",
         "theta": [
          "アタック決定率偏差値",
          "バックアタック決定率偏差値",
          "アタックセット得点平均偏差値",
          "ブロックセット得点平均偏差値",
          "サーブ効果率偏差値",
          "サーブレシーブ成功率偏差値",
          "アタック決定率偏差値"
         ],
         "type": "scatterpolargl"
        },
        {
         "hovertemplate": "選手名=西田有志<br>偏差値=%{r}<br>項目=%{theta}<extra></extra>",
         "legendgroup": "西田有志",
         "line": {
          "color": "#636efa",
          "dash": "solid"
         },
         "mode": "lines",
         "name": "西田有志",
         "r": [
          56.1,
          53,
          57.4,
          55.2,
          83.4,
          62.4,
          78.7,
          45.1,
          56.1
         ],
         "showlegend": true,
         "subplot": "polar",
         "theta": [
          "アタック決定率偏差値",
          "アタック効果率偏差値",
          "バックアタック決定率偏差値",
          "バックアタック効果率偏差値",
          "アタックセット得点平均偏差値",
          "ブロックセット得点平均偏差値",
          "サーブ効果率偏差値",
          "サーブレシーブ成功率偏差値",
          "アタック決定率偏差値"
         ],
         "type": "scatterpolargl"
        },
        {
         "hovertemplate": "選手名=久保山尚<br>偏差値=%{r}<br>項目=%{theta}<extra></extra>",
         "legendgroup": "久保山尚",
         "line": {
          "color": "#EF553B",
          "dash": "solid"
         },
         "mode": "lines",
         "name": "久保山尚",
         "r": [
          17.7,
          29.9,
          56.7,
          81.3,
          61.8,
          44.2,
          44.4,
          17.7
         ],
         "showlegend": true,
         "subplot": "polar",
         "theta": [
          "アタック決定率偏差値",
          "アタック効果率偏差値",
          "バックアタック決定率偏差値",
          "アタックセット得点平均偏差値",
          "ブロックセット得点平均偏差値",
          "サーブ効果率偏差値",
          "サーブレシーブ成功率偏差値",
          "アタック決定率偏差値"
         ],
         "type": "scatterpolargl"
        },
        {
         "hovertemplate": "選手名=本間隆太<br>偏差値=%{r}<br>項目=%{theta}<extra></extra>",
         "legendgroup": "本間隆太",
         "line": {
          "color": "#00cc96",
          "dash": "solid"
         },
         "mode": "lines",
         "name": "本間隆太",
         "r": [
          44.3,
          34.5,
          39.7,
          42.5,
          53.7,
          60,
          44.3
         ],
         "showlegend": true,
         "subplot": "polar",
         "theta": [
          "アタック決定率偏差値",
          "バックアタック決定率偏差値",
          "アタックセット得点平均偏差値",
          "ブロックセット得点平均偏差値",
          "サーブ効果率偏差値",
          "サーブレシーブ成功率偏差値",
          "アタック決定率偏差値"
         ],
         "type": "scatterpolargl"
        },
        {
         "hovertemplate": "選手名=浅野博亮<br>偏差値=%{r}<br>項目=%{theta}<extra></extra>",
         "legendgroup": "浅野博亮",
         "line": {
          "color": "#ab63fa",
          "dash": "solid"
         },
         "mode": "lines",
         "name": "浅野博亮",
         "r": [
          48.2,
          47.5,
          57.4,
          59.2,
          49.4,
          40.1,
          49.6,
          55.1,
          48.2
         ],
         "showlegend": true,
         "subplot": "polar",
         "theta": [
          "アタック決定率偏差値",
          "アタック効果率偏差値",
          "バックアタック決定率偏差値",
          "バックアタック効果率偏差値",
          "アタックセット得点平均偏差値",
          "ブロックセット得点平均偏差値",
          "サーブ効果率偏差値",
          "サーブレシーブ成功率偏差値",
          "アタック決定率偏差値"
         ],
         "type": "scatterpolargl"
        },
        {
         "hovertemplate": "選手名=清水邦広<br>偏差値=%{r}<br>項目=%{theta}<extra></extra>",
         "legendgroup": "清水邦広",
         "line": {
          "color": "#FFA15A",
          "dash": "solid"
         },
         "mode": "lines",
         "name": "清水邦広",
         "r": [
          53.1,
          52.5,
          55.5,
          55.4,
          71.9,
          54.5,
          64.9,
          48.6,
          53.1
         ],
         "showlegend": true,
         "subplot": "polar",
         "theta": [
          "アタック決定率偏差値",
          "アタック効果率偏差値",
          "バックアタック決定率偏差値",
          "バックアタック効果率偏差値",
          "アタックセット得点平均偏差値",
          "ブロックセット得点平均偏差値",
          "サーブ効果率偏差値",
          "サーブレシーブ成功率偏差値",
          "アタック決定率偏差値"
         ],
         "type": "scatterpolargl"
        },
        {
         "hovertemplate": "選手名=深津英臣<br>偏差値=%{r}<br>項目=%{theta}<extra></extra>",
         "legendgroup": "深津英臣",
         "line": {
          "color": "#19d3f3",
          "dash": "solid"
         },
         "mode": "lines",
         "name": "深津英臣",
         "r": [
          53.4,
          50.8,
          55,
          40.1,
          45.5,
          65.9,
          28,
          53.4
         ],
         "showlegend": true,
         "subplot": "polar",
         "theta": [
          "アタック決定率偏差値",
          "アタック効果率偏差値",
          "バックアタック決定率偏差値",
          "アタックセット得点平均偏差値",
          "ブロックセット得点平均偏差値",
          "サーブ効果率偏差値",
          "サーブレシーブ成功率偏差値",
          "アタック決定率偏差値"
         ],
         "type": "scatterpolargl"
        },
        {
         "hovertemplate": "選手名=大竹壱青<br>偏差値=%{r}<br>項目=%{theta}<extra></extra>",
         "legendgroup": "大竹壱青",
         "line": {
          "color": "#FF6692",
          "dash": "solid"
         },
         "mode": "lines",
         "name": "大竹壱青",
         "r": [
          47.8,
          46.9,
          54.8,
          52.2,
          49.1,
          43.1,
          65.4,
          30.7,
          47.8
         ],
         "showlegend": true,
         "subplot": "polar",
         "theta": [
          "アタック決定率偏差値",
          "アタック効果率偏差値",
          "バックアタック決定率偏差値",
          "バックアタック効果率偏差値",
          "アタックセット得点平均偏差値",
          "ブロックセット得点平均偏差値",
          "サーブ効果率偏差値",
          "サーブレシーブ成功率偏差値",
          "アタック決定率偏差値"
         ],
         "type": "scatterpolargl"
        },
        {
         "hovertemplate": "選手名=渡辺奏吾<br>偏差値=%{r}<br>項目=%{theta}<extra></extra>",
         "legendgroup": "渡辺奏吾",
         "line": {
          "color": "#B6E880",
          "dash": "solid"
         },
         "mode": "lines",
         "name": "渡辺奏吾",
         "r": [
          55.6,
          53.8,
          53.8,
          48.6,
          54.8,
          43.1,
          48.3,
          52.1,
          55.6
         ],
         "showlegend": true,
         "subplot": "polar",
         "theta": [
          "アタック決定率偏差値",
          "アタック効果率偏差値",
          "バックアタック決定率偏差値",
          "バックアタック効果率偏差値",
          "アタックセット得点平均偏差値",
          "ブロックセット得点平均偏差値",
          "サーブ効果率偏差値",
          "サーブレシーブ成功率偏差値",
          "アタック決定率偏差値"
         ],
         "type": "scatterpolargl"
        },
        {
         "hovertemplate": "選手名=白澤健児<br>偏差値=%{r}<br>項目=%{theta}<extra></extra>",
         "legendgroup": "白澤健児",
         "line": {
          "color": "#FF97FF",
          "dash": "solid"
         },
         "mode": "lines",
         "name": "白澤健児",
         "r": [
          58,
          57.1,
          56.1,
          48.5,
          66,
          47.6,
          42,
          58
         ],
         "showlegend": true,
         "subplot": "polar",
         "theta": [
          "アタック決定率偏差値",
          "アタック効果率偏差値",
          "バックアタック決定率偏差値",
          "アタックセット得点平均偏差値",
          "ブロックセット得点平均偏差値",
          "サーブ効果率偏差値",
          "サーブレシーブ成功率偏差値",
          "アタック決定率偏差値"
         ],
         "type": "scatterpolargl"
        },
        {
         "hovertemplate": "選手名=久原翼<br>偏差値=%{r}<br>項目=%{theta}<extra></extra>",
         "legendgroup": "久原翼",
         "line": {
          "color": "#FECB52",
          "dash": "solid"
         },
         "mode": "lines",
         "name": "久原翼",
         "r": [
          50.8,
          51,
          56,
          55,
          60.9,
          49.1,
          56.8,
          54.8,
          50.8
         ],
         "showlegend": true,
         "subplot": "polar",
         "theta": [
          "アタック決定率偏差値",
          "アタック効果率偏差値",
          "バックアタック決定率偏差値",
          "バックアタック効果率偏差値",
          "アタックセット得点平均偏差値",
          "ブロックセット得点平均偏差値",
          "サーブ効果率偏差値",
          "サーブレシーブ成功率偏差値",
          "アタック決定率偏差値"
         ],
         "type": "scatterpolargl"
        },
        {
         "hovertemplate": "選手名=仲本賢優<br>偏差値=%{r}<br>項目=%{theta}<extra></extra>",
         "legendgroup": "仲本賢優",
         "line": {
          "color": "#636efa",
          "dash": "solid"
         },
         "mode": "lines",
         "name": "仲本賢優",
         "r": [
          50.1,
          55.3,
          56.9,
          46.1,
          64.3,
          53.7,
          50.1
         ],
         "showlegend": true,
         "subplot": "polar",
         "theta": [
          "アタック決定率偏差値",
          "バックアタック決定率偏差値",
          "アタックセット得点平均偏差値",
          "ブロックセット得点平均偏差値",
          "サーブ効果率偏差値",
          "サーブレシーブ成功率偏差値",
          "アタック決定率偏差値"
         ],
         "type": "scatterpolargl"
        },
        {
         "hovertemplate": "選手名=今村貴彦<br>偏差値=%{r}<br>項目=%{theta}<extra></extra>",
         "legendgroup": "今村貴彦",
         "line": {
          "color": "#EF553B",
          "dash": "solid"
         },
         "mode": "lines",
         "name": "今村貴彦",
         "r": [
          51.9,
          49.2,
          55.1,
          53.5,
          46.3,
          38.2,
          41.9,
          48.3,
          51.9
         ],
         "showlegend": true,
         "subplot": "polar",
         "theta": [
          "アタック決定率偏差値",
          "アタック効果率偏差値",
          "バックアタック決定率偏差値",
          "バックアタック効果率偏差値",
          "アタックセット得点平均偏差値",
          "ブロックセット得点平均偏差値",
          "サーブ効果率偏差値",
          "サーブレシーブ成功率偏差値",
          "アタック決定率偏差値"
         ],
         "type": "scatterpolargl"
        },
        {
         "hovertemplate": "選手名=山内晶大<br>偏差値=%{r}<br>項目=%{theta}<extra></extra>",
         "legendgroup": "山内晶大",
         "line": {
          "color": "#00cc96",
          "dash": "solid"
         },
         "mode": "lines",
         "name": "山内晶大",
         "r": [
          58.9,
          58.5,
          54.6,
          51.8,
          62.4,
          55.5,
          58.5,
          58.9
         ],
         "showlegend": true,
         "subplot": "polar",
         "theta": [
          "アタック決定率偏差値",
          "アタック効果率偏差値",
          "バックアタック決定率偏差値",
          "アタックセット得点平均偏差値",
          "ブロックセット得点平均偏差値",
          "サーブ効果率偏差値",
          "サーブレシーブ成功率偏差値",
          "アタック決定率偏差値"
         ],
         "type": "scatterpolargl"
        },
        {
         "hovertemplate": "選手名=専田和也<br>偏差値=%{r}<br>項目=%{theta}<extra></extra>",
         "legendgroup": "専田和也",
         "line": {
          "color": "#ab63fa",
          "dash": "solid"
         },
         "mode": "lines",
         "name": "専田和也",
         "r": [
          59,
          34.5,
          51.4,
          63,
          22.6,
          53.8,
          59
         ],
         "showlegend": true,
         "subplot": "polar",
         "theta": [
          "アタック決定率偏差値",
          "バックアタック決定率偏差値",
          "アタックセット得点平均偏差値",
          "ブロックセット得点平均偏差値",
          "サーブ効果率偏差値",
          "サーブレシーブ成功率偏差値",
          "アタック決定率偏差値"
         ],
         "type": "scatterpolargl"
        },
        {
         "hovertemplate": "選手名=クビアクミハウ<br>偏差値=%{r}<br>項目=%{theta}<extra></extra>",
         "legendgroup": "クビアクミハウ",
         "line": {
          "color": "#FFA15A",
          "dash": "solid"
         },
         "mode": "lines",
         "name": "クビアクミハウ",
         "r": [
          51.3,
          50.3,
          53.8,
          51.8,
          68.3,
          69.6,
          60.9,
          53.8,
          51.3
         ],
         "showlegend": true,
         "subplot": "polar",
         "theta": [
          "アタック決定率偏差値",
          "アタック効果率偏差値",
          "バックアタック決定率偏差値",
          "バックアタック効果率偏差値",
          "アタックセット得点平均偏差値",
          "ブロックセット得点平均偏差値",
          "サーブ効果率偏差値",
          "サーブレシーブ成功率偏差値",
          "アタック決定率偏差値"
         ],
         "type": "scatterpolargl"
        },
        {
         "hovertemplate": "選手名=伊賀亮平<br>偏差値=%{r}<br>項目=%{theta}<extra></extra>",
         "legendgroup": "伊賀亮平",
         "line": {
          "color": "#19d3f3",
          "dash": "solid"
         },
         "mode": "lines",
         "name": "伊賀亮平",
         "r": [
          52.7,
          59,
          69.1,
          57.6,
          52.3,
          57,
          52.7
         ],
         "showlegend": true,
         "subplot": "polar",
         "theta": [
          "アタック決定率偏差値",
          "バックアタック決定率偏差値",
          "アタックセット得点平均偏差値",
          "ブロックセット得点平均偏差値",
          "サーブ効果率偏差値",
          "サーブレシーブ成功率偏差値",
          "アタック決定率偏差値"
         ],
         "type": "scatterpolargl"
        },
        {
         "hovertemplate": "選手名=永野健<br>偏差値=%{r}<br>項目=%{theta}<extra></extra>",
         "legendgroup": "永野健",
         "line": {
          "color": "#FF6692",
          "dash": "solid"
         },
         "mode": "lines",
         "name": "永野健",
         "r": [
          52.7,
          59,
          69.1,
          57.6,
          52.3,
          58.2,
          52.7
         ],
         "showlegend": true,
         "subplot": "polar",
         "theta": [
          "アタック決定率偏差値",
          "バックアタック決定率偏差値",
          "アタックセット得点平均偏差値",
          "ブロックセット得点平均偏差値",
          "サーブ効果率偏差値",
          "サーブレシーブ成功率偏差値",
          "アタック決定率偏差値"
         ],
         "type": "scatterpolargl"
        },
        {
         "hovertemplate": "選手名=新貴裕<br>偏差値=%{r}<br>項目=%{theta}<extra></extra>",
         "legendgroup": "新貴裕",
         "line": {
          "color": "#B6E880",
          "dash": "solid"
         },
         "mode": "lines",
         "name": "新貴裕",
         "r": [
          68.9,
          66,
          59,
          39.5,
          35.8,
          58.2,
          61.5,
          68.9
         ],
         "showlegend": true,
         "subplot": "polar",
         "theta": [
          "アタック決定率偏差値",
          "アタック効果率偏差値",
          "バックアタック決定率偏差値",
          "アタックセット得点平均偏差値",
          "ブロックセット得点平均偏差値",
          "サーブ効果率偏差値",
          "サーブレシーブ成功率偏差値",
          "アタック決定率偏差値"
         ],
         "type": "scatterpolargl"
        },
        {
         "hovertemplate": "選手名=兒玉康成<br>偏差値=%{r}<br>項目=%{theta}<extra></extra>",
         "legendgroup": "兒玉康成",
         "line": {
          "color": "#FF97FF",
          "dash": "solid"
         },
         "mode": "lines",
         "name": "兒玉康成",
         "r": [
          62.5,
          58.5,
          34.5,
          49,
          55.1,
          48.7,
          60,
          62.5
         ],
         "showlegend": true,
         "subplot": "polar",
         "theta": [
          "アタック決定率偏差値",
          "アタック効果率偏差値",
          "バックアタック決定率偏差値",
          "アタックセット得点平均偏差値",
          "ブロックセット得点平均偏差値",
          "サーブ効果率偏差値",
          "サーブレシーブ成功率偏差値",
          "アタック決定率偏差値"
         ],
         "type": "scatterpolargl"
        },
        {
         "hovertemplate": "選手名=小宮雄一郎<br>偏差値=%{r}<br>項目=%{theta}<extra></extra>",
         "legendgroup": "小宮雄一郎",
         "line": {
          "color": "#FECB52",
          "dash": "solid"
         },
         "mode": "lines",
         "name": "小宮雄一郎",
         "r": [
          51.9,
          49.8,
          34.5,
          49.1,
          72.6,
          60.4,
          52,
          51.9
         ],
         "showlegend": true,
         "subplot": "polar",
         "theta": [
          "アタック決定率偏差値",
          "アタック効果率偏差値",
          "バックアタック決定率偏差値",
          "アタックセット得点平均偏差値",
          "ブロックセット得点平均偏差値",
          "サーブ効果率偏差値",
          "サーブレシーブ成功率偏差値",
          "アタック決定率偏差値"
         ],
         "type": "scatterpolargl"
        },
        {
         "hovertemplate": "選手名=鶴田大樹<br>偏差値=%{r}<br>項目=%{theta}<extra></extra>",
         "legendgroup": "鶴田大樹",
         "line": {
          "color": "#636efa",
          "dash": "solid"
         },
         "mode": "lines",
         "name": "鶴田大樹",
         "r": [
          53.5,
          34.5,
          46.1,
          58.8,
          55,
          60.5,
          53.5
         ],
         "showlegend": true,
         "subplot": "polar",
         "theta": [
          "アタック決定率偏差値",
          "バックアタック決定率偏差値",
          "アタックセット得点平均偏差値",
          "ブロックセット得点平均偏差値",
          "サーブ効果率偏差値",
          "サーブレシーブ成功率偏差値",
          "アタック決定率偏差値"
         ],
         "type": "scatterpolargl"
        },
        {
         "hovertemplate": "選手名=小野遥輝<br>偏差値=%{r}<br>項目=%{theta}<extra></extra>",
         "legendgroup": "小野遥輝",
         "line": {
          "color": "#EF553B",
          "dash": "solid"
         },
         "mode": "lines",
         "name": "小野遥輝",
         "r": [
          59.8,
          57.6,
          34.5,
          52.2,
          66,
          52.1,
          46.3,
          59.8
         ],
         "showlegend": true,
         "subplot": "polar",
         "theta": [
          "アタック決定率偏差値",
          "アタック効果率偏差値",
          "バックアタック決定率偏差値",
          "アタックセット得点平均偏差値",
          "ブロックセット得点平均偏差値",
          "サーブ効果率偏差値",
          "サーブレシーブ成功率偏差値",
          "アタック決定率偏差値"
         ],
         "type": "scatterpolargl"
        },
        {
         "hovertemplate": "選手名=鳥飼亜斗夢<br>偏差値=%{r}<br>項目=%{theta}<extra></extra>",
         "legendgroup": "鳥飼亜斗夢",
         "line": {
          "color": "#00cc96",
          "dash": "solid"
         },
         "mode": "lines",
         "name": "鳥飼亜斗夢",
         "r": [
          27.5,
          29.9,
          34.5,
          41.1,
          64.2,
          53,
          49.1,
          27.5
         ],
         "showlegend": true,
         "subplot": "polar",
         "theta": [
          "アタック決定率偏差値",
          "アタック効果率偏差値",
          "バックアタック決定率偏差値",
          "アタックセット得点平均偏差値",
          "ブロックセット得点平均偏差値",
          "サーブ効果率偏差値",
          "サーブレシーブ成功率偏差値",
          "アタック決定率偏差値"
         ],
         "type": "scatterpolargl"
        },
        {
         "hovertemplate": "選手名=松林憲太郎<br>偏差値=%{r}<br>項目=%{theta}<extra></extra>",
         "legendgroup": "松林憲太郎",
         "line": {
          "color": "#ab63fa",
          "dash": "solid"
         },
         "mode": "lines",
         "name": "松林憲太郎",
         "r": [
          47,
          43.7,
          55.1,
          57.1,
          51.5,
          49.7,
          50.8,
          75.9,
          47
         ],
         "showlegend": true,
         "subplot": "polar",
         "theta": [
          "アタック決定率偏差値",
          "アタック効果率偏差値",
          "バックアタック決定率偏差値",
          "バックアタック効果率偏差値",
          "アタックセット得点平均偏差値",
          "ブロックセット得点平均偏差値",
          "サーブ効果率偏差値",
          "サーブレシーブ成功率偏差値",
          "アタック決定率偏差値"
         ],
         "type": "scatterpolargl"
        },
        {
         "hovertemplate": "選手名=季道帥<br>偏差値=%{r}<br>項目=%{theta}<extra></extra>",
         "legendgroup": "季道帥",
         "line": {
          "color": "#FFA15A",
          "dash": "solid"
         },
         "mode": "lines",
         "name": "季道帥",
         "r": [
          48.6,
          48.4,
          57.7,
          57,
          61.9,
          60.6,
          55.9,
          48.2,
          48.6
         ],
         "showlegend": true,
         "subplot": "polar",
         "theta": [
          "アタック決定率偏差値",
          "アタック効果率偏差値",
          "バックアタック決定率偏差値",
          "バックアタック効果率偏差値",
          "アタックセット得点平均偏差値",
          "ブロックセット得点平均偏差値",
          "サーブ効果率偏差値",
          "サーブレシーブ成功率偏差値",
          "アタック決定率偏差値"
         ],
         "type": "scatterpolargl"
        },
        {
         "hovertemplate": "選手名=大宅真樹<br>偏差値=%{r}<br>項目=%{theta}<extra></extra>",
         "legendgroup": "大宅真樹",
         "line": {
          "color": "#19d3f3",
          "dash": "solid"
         },
         "mode": "lines",
         "name": "大宅真樹",
         "r": [
          61,
          58.8,
          55.1,
          57.1,
          40.6,
          48.5,
          50.7,
          28,
          61
         ],
         "showlegend": true,
         "subplot": "polar",
         "theta": [
          "アタック決定率偏差値",
          "アタック効果率偏差値",
          "バックアタック決定率偏差値",
          "バックアタック効果率偏差値",
          "アタックセット得点平均偏差値",
          "ブロックセット得点平均偏差値",
          "サーブ効果率偏差値",
          "サーブレシーブ成功率偏差値",
          "アタック決定率偏差値"
         ],
         "type": "scatterpolargl"
        },
        {
         "hovertemplate": "選手名=藤中謙也<br>偏差値=%{r}<br>項目=%{theta}<extra></extra>",
         "legendgroup": "藤中謙也",
         "line": {
          "color": "#FF6692",
          "dash": "solid"
         },
         "mode": "lines",
         "name": "藤中謙也",
         "r": [
          49.7,
          49.1,
          55.1,
          54.7,
          56,
          60.6,
          48.1,
          55.8,
          49.7
         ],
         "showlegend": true,
         "subplot": "polar",
         "theta": [
          "アタック決定率偏差値",
          "アタック効果率偏差値",
          "バックアタック決定率偏差値",
          "バックアタック効果率偏差値",
          "アタックセット得点平均偏差値",
          "ブロックセット得点平均偏差値",
          "サーブ効果率偏差値",
          "サーブレシーブ成功率偏差値",
          "アタック決定率偏差値"
         ],
         "type": "scatterpolargl"
        },
        {
         "hovertemplate": "選手名=秦耕介<br>偏差値=%{r}<br>項目=%{theta}<extra></extra>",
         "legendgroup": "秦耕介",
         "line": {
          "color": "#B6E880",
          "dash": "solid"
         },
         "mode": "lines",
         "name": "秦耕介",
         "r": [
          43,
          43,
          53.6,
          48.7,
          46,
          49.7,
          47.8,
          53.6,
          43
         ],
         "showlegend": true,
         "subplot": "polar",
         "theta": [
          "アタック決定率偏差値",
          "アタック効果率偏差値",
          "バックアタック決定率偏差値",
          "バックアタック効果率偏差値",
          "アタックセット得点平均偏差値",
          "ブロックセット得点平均偏差値",
          "サーブ効果率偏差値",
          "サーブレシーブ成功率偏差値",
          "アタック決定率偏差値"
         ],
         "type": "scatterpolargl"
        },
        {
         "hovertemplate": "選手名=塩田達也<br>偏差値=%{r}<br>項目=%{theta}<extra></extra>",
         "legendgroup": "塩田達也",
         "line": {
          "color": "#FF97FF",
          "dash": "solid"
         },
         "mode": "lines",
         "name": "塩田達也",
         "r": [
          56.9,
          54,
          34.5,
          38.9,
          49.5,
          51.5,
          48.7,
          55.9,
          56.9
         ],
         "showlegend": true,
         "subplot": "polar",
         "theta": [
          "アタック決定率偏差値",
          "アタック効果率偏差値",
          "バックアタック決定率偏差値",
          "バックアタック効果率偏差値",
          "アタックセット得点平均偏差値",
          "ブロックセット得点平均偏差値",
          "サーブ効果率偏差値",
          "サーブレシーブ成功率偏差値",
          "アタック決定率偏差値"
         ],
         "type": "scatterpolargl"
        },
        {
         "hovertemplate": "選手名=ムセルスキードミトリー<br>偏差値=%{r}<br>項目=%{theta}<extra></extra>",
         "legendgroup": "ムセルスキードミトリー",
         "line": {
          "color": "#FECB52",
          "dash": "solid"
         },
         "mode": "lines",
         "name": "ムセルスキードミトリー",
         "r": [
          55.7,
          53.2,
          58.9,
          57.5,
          90.8,
          69,
          61.3,
          32,
          55.7
         ],
         "showlegend": true,
         "subplot": "polar",
         "theta": [
          "アタック決定率偏差値",
          "アタック効果率偏差値",
          "バックアタック決定率偏差値",
          "バックアタック効果率偏差値",
          "アタックセット得点平均偏差値",
          "ブロックセット得点平均偏差値",
          "サーブ効果率偏差値",
          "サーブレシーブ成功率偏差値",
          "アタック決定率偏差値"
         ],
         "type": "scatterpolargl"
        },
        {
         "hovertemplate": "選手名=加藤久典<br>偏差値=%{r}<br>項目=%{theta}<extra></extra>",
         "legendgroup": "加藤久典",
         "line": {
          "color": "#636efa",
          "dash": "solid"
         },
         "mode": "lines",
         "name": "加藤久典",
         "r": [
          63.3,
          62,
          58.1,
          42.2,
          63,
          54.3,
          52,
          63.3
         ],
         "showlegend": true,
         "subplot": "polar",
         "theta": [
          "アタック決定率偏差値",
          "アタック効果率偏差値",
          "バックアタック決定率偏差値",
          "アタックセット得点平均偏差値",
          "ブロックセット得点平均偏差値",
          "サーブ効果率偏差値",
          "サーブレシーブ成功率偏差値",
          "アタック決定率偏差値"
         ],
         "type": "scatterpolargl"
        },
        {
         "hovertemplate": "選手名=喜入祥充<br>偏差値=%{r}<br>項目=%{theta}<extra></extra>",
         "legendgroup": "喜入祥充",
         "line": {
          "color": "#EF553B",
          "dash": "solid"
         },
         "mode": "lines",
         "name": "喜入祥充",
         "r": [
          17.7,
          29.9,
          58.1,
          41.8,
          63,
          67.6,
          52,
          17.7
         ],
         "showlegend": true,
         "subplot": "polar",
         "theta": [
          "アタック決定率偏差値",
          "アタック効果率偏差値",
          "バックアタック決定率偏差値",
          "アタックセット得点平均偏差値",
          "ブロックセット得点平均偏差値",
          "サーブ効果率偏差値",
          "サーブレシーブ成功率偏差値",
          "アタック決定率偏差値"
         ],
         "type": "scatterpolargl"
        },
        {
         "hovertemplate": "選手名=小川猛<br>偏差値=%{r}<br>項目=%{theta}<extra></extra>",
         "legendgroup": "小川猛",
         "line": {
          "color": "#00cc96",
          "dash": "solid"
         },
         "mode": "lines",
         "name": "小川猛",
         "r": [
          50.4,
          49.5,
          52.7,
          51.8,
          53.7,
          37,
          43.8,
          52.6,
          50.4
         ],
         "showlegend": true,
         "subplot": "polar",
         "theta": [
          "アタック決定率偏差値",
          "アタック効果率偏差値",
          "バックアタック決定率偏差値",
          "バックアタック効果率偏差値",
          "アタックセット得点平均偏差値",
          "ブロックセット得点平均偏差値",
          "サーブ効果率偏差値",
          "サーブレシーブ成功率偏差値",
          "アタック決定率偏差値"
         ],
         "type": "scatterpolargl"
        },
        {
         "hovertemplate": "選手名=栗山雅史<br>偏差値=%{r}<br>項目=%{theta}<extra></extra>",
         "legendgroup": "栗山雅史",
         "line": {
          "color": "#ab63fa",
          "dash": "solid"
         },
         "mode": "lines",
         "name": "栗山雅史",
         "r": [
          45.8,
          48.2,
          51.2,
          51.5,
          52.2,
          50.9,
          52.6,
          52.2,
          45.8
         ],
         "showlegend": true,
         "subplot": "polar",
         "theta": [
          "アタック決定率偏差値",
          "アタック効果率偏差値",
          "バックアタック決定率偏差値",
          "バックアタック効果率偏差値",
          "アタックセット得点平均偏差値",
          "ブロックセット得点平均偏差値",
          "サーブ効果率偏差値",
          "サーブレシーブ成功率偏差値",
          "アタック決定率偏差値"
         ],
         "type": "scatterpolargl"
        },
        {
         "hovertemplate": "選手名=西田寛基<br>偏差値=%{r}<br>項目=%{theta}<extra></extra>",
         "legendgroup": "西田寛基",
         "line": {
          "color": "#FFA15A",
          "dash": "solid"
         },
         "mode": "lines",
         "name": "西田寛基",
         "r": [
          49.1,
          53.7,
          59.2,
          52.1,
          59.1,
          51.2,
          49.1
         ],
         "showlegend": true,
         "subplot": "polar",
         "theta": [
          "アタック決定率偏差値",
          "バックアタック決定率偏差値",
          "アタックセット得点平均偏差値",
          "ブロックセット得点平均偏差値",
          "サーブ効果率偏差値",
          "サーブレシーブ成功率偏差値",
          "アタック決定率偏差値"
         ],
         "type": "scatterpolargl"
        },
        {
         "hovertemplate": "選手名=佐藤謙次<br>偏差値=%{r}<br>項目=%{theta}<extra></extra>",
         "legendgroup": "佐藤謙次",
         "line": {
          "color": "#19d3f3",
          "dash": "solid"
         },
         "mode": "lines",
         "name": "佐藤謙次",
         "r": [
          54.9,
          56.1,
          53.7,
          40.6,
          36.4,
          48,
          28,
          54.9
         ],
         "showlegend": true,
         "subplot": "polar",
         "theta": [
          "アタック決定率偏差値",
          "アタック効果率偏差値",
          "バックアタック決定率偏差値",
          "アタックセット得点平均偏差値",
          "ブロックセット得点平均偏差値",
          "サーブ効果率偏差値",
          "サーブレシーブ成功率偏差値",
          "アタック決定率偏差値"
         ],
         "type": "scatterpolargl"
        },
        {
         "hovertemplate": "選手名=安永拓弥<br>偏差値=%{r}<br>項目=%{theta}<extra></extra>",
         "legendgroup": "安永拓弥",
         "line": {
          "color": "#FF6692",
          "dash": "solid"
         },
         "mode": "lines",
         "name": "安永拓弥",
         "r": [
          56.3,
          55.4,
          53.7,
          48.2,
          57,
          48,
          52,
          56.3
         ],
         "showlegend": true,
         "subplot": "polar",
         "theta": [
          "アタック決定率偏差値",
          "アタック効果率偏差値",
          "バックアタック決定率偏差値",
          "アタックセット得点平均偏差値",
          "ブロックセット得点平均偏差値",
          "サーブ効果率偏差値",
          "サーブレシーブ成功率偏差値",
          "アタック決定率偏差値"
         ],
         "type": "scatterpolargl"
        },
        {
         "hovertemplate": "選手名=小野寺太志<br>偏差値=%{r}<br>項目=%{theta}<extra></extra>",
         "legendgroup": "小野寺太志",
         "line": {
          "color": "#B6E880",
          "dash": "solid"
         },
         "mode": "lines",
         "name": "小野寺太志",
         "r": [
          61.1,
          58.7,
          34.5,
          38.9,
          55.3,
          79.3,
          57.5,
          56.4,
          61.1
         ],
         "showlegend": true,
         "subplot": "polar",
         "theta": [
          "アタック決定率偏差値",
          "アタック効果率偏差値",
          "バックアタック決定率偏差値",
          "バックアタック効果率偏差値",
          "アタックセット得点平均偏差値",
          "ブロックセット得点平均偏差値",
          "サーブ効果率偏差値",
          "サーブレシーブ成功率偏差値",
          "アタック決定率偏差値"
         ],
         "type": "scatterpolargl"
        },
        {
         "hovertemplate": "選手名=深津旭弘<br>偏差値=%{r}<br>項目=%{theta}<extra></extra>",
         "legendgroup": "深津旭弘",
         "line": {
          "color": "#FF97FF",
          "dash": "solid"
         },
         "mode": "lines",
         "name": "深津旭弘",
         "r": [
          58.7,
          56.7,
          34.5,
          38.9,
          41.4,
          48.5,
          57,
          30.1,
          58.7
         ],
         "showlegend": true,
         "subplot": "polar",
         "theta": [
          "アタック決定率偏差値",
          "アタック効果率偏差値",
          "バックアタック決定率偏差値",
          "バックアタック効果率偏差値",
          "アタックセット得点平均偏差値",
          "ブロックセット得点平均偏差値",
          "サーブ効果率偏差値",
          "サーブレシーブ成功率偏差値",
          "アタック決定率偏差値"
         ],
         "type": "scatterpolargl"
        },
        {
         "hovertemplate": "選手名=中島健太<br>偏差値=%{r}<br>項目=%{theta}<extra></extra>",
         "legendgroup": "中島健太",
         "line": {
          "color": "#FECB52",
          "dash": "solid"
         },
         "mode": "lines",
         "name": "中島健太",
         "r": [
          62.5,
          58.1,
          34.5,
          48.1,
          57,
          49,
          48.6,
          62.5
         ],
         "showlegend": true,
         "subplot": "polar",
         "theta": [
          "アタック決定率偏差値",
          "アタック効果率偏差値",
          "バックアタック決定率偏差値",
          "アタックセット得点平均偏差値",
          "ブロックセット得点平均偏差値",
          "サーブ効果率偏差値",
          "サーブレシーブ成功率偏差値",
          "アタック決定率偏差値"
         ],
         "type": "scatterpolargl"
        },
        {
         "hovertemplate": "選手名=井上慎一朗<br>偏差値=%{r}<br>項目=%{theta}<extra></extra>",
         "legendgroup": "井上慎一朗",
         "line": {
          "color": "#636efa",
          "dash": "solid"
         },
         "mode": "lines",
         "name": "井上慎一朗",
         "r": [
          40.5,
          41.9,
          46.6,
          42,
          40.1,
          49.4,
          35.2,
          40.5
         ],
         "showlegend": true,
         "subplot": "polar",
         "theta": [
          "アタック決定率偏差値",
          "アタック効果率偏差値",
          "バックアタック決定率偏差値",
          "アタックセット得点平均偏差値",
          "ブロックセット得点平均偏差値",
          "サーブ効果率偏差値",
          "サーブレシーブ成功率偏差値",
          "アタック決定率偏差値"
         ],
         "type": "scatterpolargl"
        },
        {
         "hovertemplate": "選手名=八子大輔<br>偏差値=%{r}<br>項目=%{theta}<extra></extra>",
         "legendgroup": "八子大輔",
         "line": {
          "color": "#EF553B",
          "dash": "solid"
         },
         "mode": "lines",
         "name": "八子大輔",
         "r": [
          55.2,
          54.5,
          58.1,
          59.7,
          45.8,
          38.2,
          47.1,
          52.8,
          55.2
         ],
         "showlegend": true,
         "subplot": "polar",
         "theta": [
          "アタック決定率偏差値",
          "アタック効果率偏差値",
          "バックアタック決定率偏差値",
          "バックアタック効果率偏差値",
          "アタックセット得点平均偏差値",
          "ブロックセット得点平均偏差値",
          "サーブ効果率偏差値",
          "サーブレシーブ成功率偏差値",
          "アタック決定率偏差値"
         ],
         "type": "scatterpolargl"
        },
        {
         "hovertemplate": "選手名=武智洸史<br>偏差値=%{r}<br>項目=%{theta}<extra></extra>",
         "legendgroup": "武智洸史",
         "line": {
          "color": "#00cc96",
          "dash": "solid"
         },
         "mode": "lines",
         "name": "武智洸史",
         "r": [
          46.7,
          45.3,
          52.2,
          54.5,
          46.3,
          40.7,
          52.1,
          57.4,
          46.7
         ],
         "showlegend": true,
         "subplot": "polar",
         "theta": [
          "アタック決定率偏差値",
          "アタック効果率偏差値",
          "バックアタック決定率偏差値",
          "バックアタック効果率偏差値",
          "アタックセット得点平均偏差値",
          "ブロックセット得点平均偏差値",
          "サーブ効果率偏差値",
          "サーブレシーブ成功率偏差値",
          "アタック決定率偏差値"
         ],
         "type": "scatterpolargl"
        },
        {
         "hovertemplate": "選手名=井上航<br>偏差値=%{r}<br>項目=%{theta}<extra></extra>",
         "legendgroup": "井上航",
         "line": {
          "color": "#ab63fa",
          "dash": "solid"
         },
         "mode": "lines",
         "name": "井上航",
         "r": [
          44.8,
          55.1,
          45.7,
          41.3,
          50.1,
          61,
          44.8
         ],
         "showlegend": true,
         "subplot": "polar",
         "theta": [
          "アタック決定率偏差値",
          "バックアタック決定率偏差値",
          "アタックセット得点平均偏差値",
          "ブロックセット得点平均偏差値",
          "サーブ効果率偏差値",
          "サーブレシーブ成功率偏差値",
          "アタック決定率偏差値"
         ],
         "type": "scatterpolargl"
        },
        {
         "hovertemplate": "選手名=久原大輝<br>偏差値=%{r}<br>項目=%{theta}<extra></extra>",
         "legendgroup": "久原大輝",
         "line": {
          "color": "#FFA15A",
          "dash": "solid"
         },
         "mode": "lines",
         "name": "久原大輝",
         "r": [
          40.5,
          45.9,
          55.1,
          39.7,
          41.3,
          55.9,
          28,
          40.5
         ],
         "showlegend": true,
         "subplot": "polar",
         "theta": [
          "アタック決定率偏差値",
          "アタック効果率偏差値",
          "バックアタック決定率偏差値",
          "アタックセット得点平均偏差値",
          "ブロックセット得点平均偏差値",
          "サーブ効果率偏差値",
          "サーブレシーブ成功率偏差値",
          "アタック決定率偏差値"
         ],
         "type": "scatterpolargl"
        },
        {
         "hovertemplate": "選手名=合田心平<br>偏差値=%{r}<br>項目=%{theta}<extra></extra>",
         "legendgroup": "合田心平",
         "line": {
          "color": "#19d3f3",
          "dash": "solid"
         },
         "mode": "lines",
         "name": "合田心平",
         "r": [
          48.2,
          47.5,
          44.9,
          38.8,
          35,
          59.1,
          48.2
         ],
         "showlegend": true,
         "subplot": "polar",
         "theta": [
          "アタック決定率偏差値",
          "バックアタック決定率偏差値",
          "アタックセット得点平均偏差値",
          "ブロックセット得点平均偏差値",
          "サーブ効果率偏差値",
          "サーブレシーブ成功率偏差値",
          "アタック決定率偏差値"
         ],
         "type": "scatterpolargl"
        },
        {
         "hovertemplate": "選手名=熊倉允<br>偏差値=%{r}<br>項目=%{theta}<extra></extra>",
         "legendgroup": "熊倉允",
         "line": {
          "color": "#FF6692",
          "dash": "solid"
         },
         "mode": "lines",
         "name": "熊倉允",
         "r": [
          43.1,
          46.7,
          51.5,
          51.8,
          49.2,
          39.5,
          47.4,
          59.1,
          43.1
         ],
         "showlegend": true,
         "subplot": "polar",
         "theta": [
          "アタック決定率偏差値",
          "アタック効果率偏差値",
          "バックアタック決定率偏差値",
          "バックアタック効果率偏差値",
          "アタックセット得点平均偏差値",
          "ブロックセット得点平均偏差値",
          "サーブ効果率偏差値",
          "サーブレシーブ成功率偏差値",
          "アタック決定率偏差値"
         ],
         "type": "scatterpolargl"
        },
        {
         "hovertemplate": "選手名=唐川大志<br>偏差値=%{r}<br>項目=%{theta}<extra></extra>",
         "legendgroup": "唐川大志",
         "line": {
          "color": "#B6E880",
          "dash": "solid"
         },
         "mode": "lines",
         "name": "唐川大志",
         "r": [
          43.1,
          51.5,
          49.2,
          39.5,
          47.4,
          54.4,
          43.1
         ],
         "showlegend": true,
         "subplot": "polar",
         "theta": [
          "アタック決定率偏差値",
          "バックアタック決定率偏差値",
          "アタックセット得点平均偏差値",
          "ブロックセット得点平均偏差値",
          "サーブ効果率偏差値",
          "サーブレシーブ成功率偏差値",
          "アタック決定率偏差値"
         ],
         "type": "scatterpolargl"
        },
        {
         "hovertemplate": "選手名=金子聖輝<br>偏差値=%{r}<br>項目=%{theta}<extra></extra>",
         "legendgroup": "金子聖輝",
         "line": {
          "color": "#FF97FF",
          "dash": "solid"
         },
         "mode": "lines",
         "name": "金子聖輝",
         "r": [
          40.5,
          45.9,
          51.5,
          39.3,
          38.8,
          54.4,
          56.6,
          40.5
         ],
         "showlegend": true,
         "subplot": "polar",
         "theta": [
          "アタック決定率偏差値",
          "アタック効果率偏差値",
          "バックアタック決定率偏差値",
          "アタックセット得点平均偏差値",
          "ブロックセット得点平均偏差値",
          "サーブ効果率偏差値",
          "サーブレシーブ成功率偏差値",
          "アタック決定率偏差値"
         ],
         "type": "scatterpolargl"
        },
        {
         "hovertemplate": "選手名=山本将平<br>偏差値=%{r}<br>項目=%{theta}<extra></extra>",
         "legendgroup": "山本将平",
         "line": {
          "color": "#FECB52",
          "dash": "solid"
         },
         "mode": "lines",
         "name": "山本将平",
         "r": [
          48.2,
          48.3,
          53,
          49.3,
          55.8,
          45.5,
          54.3,
          57.8,
          48.2
         ],
         "showlegend": true,
         "subplot": "polar",
         "theta": [
          "アタック決定率偏差値",
          "アタック効果率偏差値",
          "バックアタック決定率偏差値",
          "バックアタック効果率偏差値",
          "アタックセット得点平均偏差値",
          "ブロックセット得点平均偏差値",
          "サーブ効果率偏差値",
          "サーブレシーブ成功率偏差値",
          "アタック決定率偏差値"
         ],
         "type": "scatterpolargl"
        },
        {
         "hovertemplate": "選手名=ロジャーズ海<br>偏差値=%{r}<br>項目=%{theta}<extra></extra>",
         "legendgroup": "ロジャーズ海",
         "line": {
          "color": "#636efa",
          "dash": "solid"
         },
         "mode": "lines",
         "name": "ロジャーズ海",
         "r": [
          63.3,
          62,
          52.6,
          40.9,
          48.5,
          49.4,
          56.3,
          63.3
         ],
         "showlegend": true,
         "subplot": "polar",
         "theta": [
          "アタック決定率偏差値",
          "アタック効果率偏差値",
          "バックアタック決定率偏差値",
          "アタックセット得点平均偏差値",
          "ブロックセット得点平均偏差値",
          "サーブ効果率偏差値",
          "サーブレシーブ成功率偏差値",
          "アタック決定率偏差値"
         ],
         "type": "scatterpolargl"
        },
        {
         "hovertemplate": "選手名=松本慶彦<br>偏差値=%{r}<br>項目=%{theta}<extra></extra>",
         "legendgroup": "松本慶彦",
         "line": {
          "color": "#EF553B",
          "dash": "solid"
         },
         "mode": "lines",
         "name": "松本慶彦",
         "r": [
          50.2,
          51.1,
          52.6,
          47.9,
          50.9,
          51.7,
          55.2,
          50.2
         ],
         "showlegend": true,
         "subplot": "polar",
         "theta": [
          "アタック決定率偏差値",
          "アタック効果率偏差値",
          "バックアタック決定率偏差値",
          "アタックセット得点平均偏差値",
          "ブロックセット得点平均偏差値",
          "サーブ効果率偏差値",
          "サーブレシーブ成功率偏差値",
          "アタック決定率偏差値"
         ],
         "type": "scatterpolargl"
        },
        {
         "hovertemplate": "選手名=樋口裕希<br>偏差値=%{r}<br>項目=%{theta}<extra></extra>",
         "legendgroup": "樋口裕希",
         "line": {
          "color": "#00cc96",
          "dash": "solid"
         },
         "mode": "lines",
         "name": "樋口裕希",
         "r": [
          50.7,
          50.7,
          57.4,
          57.9,
          62.3,
          58.8,
          56.2,
          54.1,
          50.7
         ],
         "showlegend": true,
         "subplot": "polar",
         "theta": [
          "アタック決定率偏差値",
          "アタック効果率偏差値",
          "バックアタック決定率偏差値",
          "バックアタック効果率偏差値",
          "アタックセット得点平均偏差値",
          "ブロックセット得点平均偏差値",
          "サーブ効果率偏差値",
          "サーブレシーブ成功率偏差値",
          "アタック決定率偏差値"
         ],
         "type": "scatterpolargl"
        },
        {
         "hovertemplate": "選手名=宮原貴人<br>偏差値=%{r}<br>項目=%{theta}<extra></extra>",
         "legendgroup": "宮原貴人",
         "line": {
          "color": "#ab63fa",
          "dash": "solid"
         },
         "mode": "lines",
         "name": "宮原貴人",
         "r": [
          45.4,
          46.5,
          52.4,
          51.6,
          43.9,
          41.3,
          59.8,
          53.9,
          45.4
         ],
         "showlegend": true,
         "subplot": "polar",
         "theta": [
          "アタック決定率偏差値",
          "アタック効果率偏差値",
          "バックアタック決定率偏差値",
          "バックアタック効果率偏差値",
          "アタックセット得点平均偏差値",
          "ブロックセット得点平均偏差値",
          "サーブ効果率偏差値",
          "サーブレシーブ成功率偏差値",
          "アタック決定率偏差値"
         ],
         "type": "scatterpolargl"
        },
        {
         "hovertemplate": "選手名=高野直哉<br>偏差値=%{r}<br>項目=%{theta}<extra></extra>",
         "legendgroup": "高野直哉",
         "line": {
          "color": "#FFA15A",
          "dash": "solid"
         },
         "mode": "lines",
         "name": "高野直哉",
         "r": [
          48.3,
          47.6,
          53.6,
          48.7,
          52,
          48.5,
          47.4,
          53.4,
          48.3
         ],
         "showlegend": true,
         "subplot": "polar",
         "theta": [
          "アタック決定率偏差値",
          "アタック効果率偏差値",
          "バックアタック決定率偏差値",
          "バックアタック効果率偏差値",
          "アタックセット得点平均偏差値",
          "ブロックセット得点平均偏差値",
          "サーブ効果率偏差値",
          "サーブレシーブ成功率偏差値",
          "アタック決定率偏差値"
         ],
         "type": "scatterpolargl"
        },
        {
         "hovertemplate": "選手名=堀江友裕<br>偏差値=%{r}<br>項目=%{theta}<extra></extra>",
         "legendgroup": "堀江友裕",
         "line": {
          "color": "#19d3f3",
          "dash": "solid"
         },
         "mode": "lines",
         "name": "堀江友裕",
         "r": [
          50,
          57.4,
          57,
          52.1,
          86.8,
          52.4,
          50
         ],
         "showlegend": true,
         "subplot": "polar",
         "theta": [
          "アタック決定率偏差値",
          "バックアタック決定率偏差値",
          "アタックセット得点平均偏差値",
          "ブロックセット得点平均偏差値",
          "サーブ効果率偏差値",
          "サーブレシーブ成功率偏差値",
          "アタック決定率偏差値"
         ],
         "type": "scatterpolargl"
        },
        {
         "hovertemplate": "選手名=山﨑貴矢<br>偏差値=%{r}<br>項目=%{theta}<extra></extra>",
         "legendgroup": "山﨑貴矢",
         "line": {
          "color": "#FF6692",
          "dash": "solid"
         },
         "mode": "lines",
         "name": "山﨑貴矢",
         "r": [
          67.4,
          60.5,
          57.4,
          45.7,
          40.7,
          34.3,
          43.9,
          67.4
         ],
         "showlegend": true,
         "subplot": "polar",
         "theta": [
          "アタック決定率偏差値",
          "アタック効果率偏差値",
          "バックアタック決定率偏差値",
          "アタックセット得点平均偏差値",
          "ブロックセット得点平均偏差値",
          "サーブ効果率偏差値",
          "サーブレシーブ成功率偏差値",
          "アタック決定率偏差値"
         ],
         "type": "scatterpolargl"
        },
        {
         "hovertemplate": "選手名=出耒田敬<br>偏差値=%{r}<br>項目=%{theta}<extra></extra>",
         "legendgroup": "出耒田敬",
         "line": {
          "color": "#B6E880",
          "dash": "solid"
         },
         "mode": "lines",
         "name": "出耒田敬",
         "r": [
          55.3,
          55,
          34.5,
          38.9,
          51.7,
          76.3,
          48.5,
          46.6,
          55.3
         ],
         "showlegend": true,
         "subplot": "polar",
         "theta": [
          "アタック決定率偏差値",
          "アタック効果率偏差値",
          "バックアタック決定率偏差値",
          "バックアタック効果率偏差値",
          "アタックセット得点平均偏差値",
          "ブロックセット得点平均偏差値",
          "サーブ効果率偏差値",
          "サーブレシーブ成功率偏差値",
          "アタック決定率偏差値"
         ],
         "type": "scatterpolargl"
        },
        {
         "hovertemplate": "選手名=佐川翔<br>偏差値=%{r}<br>項目=%{theta}<extra></extra>",
         "legendgroup": "佐川翔",
         "line": {
          "color": "#FF97FF",
          "dash": "solid"
         },
         "mode": "lines",
         "name": "佐川翔",
         "r": [
          54.7,
          53,
          55,
          38.8,
          48.9,
          47.8,
          54.7
         ],
         "showlegend": true,
         "subplot": "polar",
         "theta": [
          "アタック決定率偏差値",
          "バックアタック決定率偏差値",
          "アタックセット得点平均偏差値",
          "ブロックセット得点平均偏差値",
          "サーブ効果率偏差値",
          "サーブレシーブ成功率偏差値",
          "アタック決定率偏差値"
         ],
         "type": "scatterpolargl"
        },
        {
         "hovertemplate": "選手名=千々木駿介<br>偏差値=%{r}<br>項目=%{theta}<extra></extra>",
         "legendgroup": "千々木駿介",
         "line": {
          "color": "#FECB52",
          "dash": "solid"
         },
         "mode": "lines",
         "name": "千々木駿介",
         "r": [
          52.4,
          52.2,
          61,
          59.7,
          63,
          47.9,
          48.1,
          50.2,
          52.4
         ],
         "showlegend": true,
         "subplot": "polar",
         "theta": [
          "アタック決定率偏差値",
          "アタック効果率偏差値",
          "バックアタック決定率偏差値",
          "バックアタック効果率偏差値",
          "アタックセット得点平均偏差値",
          "ブロックセット得点平均偏差値",
          "サーブ効果率偏差値",
          "サーブレシーブ成功率偏差値",
          "アタック決定率偏差値"
         ],
         "type": "scatterpolargl"
        },
        {
         "hovertemplate": "選手名=関田誠大<br>偏差値=%{r}<br>項目=%{theta}<extra></extra>",
         "legendgroup": "関田誠大",
         "line": {
          "color": "#636efa",
          "dash": "solid"
         },
         "mode": "lines",
         "name": "関田誠大",
         "r": [
          46,
          49.8,
          34.5,
          38.9,
          40.1,
          46.1,
          56.2,
          31.4,
          46
         ],
         "showlegend": true,
         "subplot": "polar",
         "theta": [
          "アタック決定率偏差値",
          "アタック効果率偏差値",
          "バックアタック決定率偏差値",
          "バックアタック効果率偏差値",
          "アタックセット得点平均偏差値",
          "ブロックセット得点平均偏差値",
          "サーブ効果率偏差値",
          "サーブレシーブ成功率偏差値",
          "アタック決定率偏差値"
         ],
         "type": "scatterpolargl"
        },
        {
         "hovertemplate": "選手名=小池勇輝<br>偏差値=%{r}<br>項目=%{theta}<extra></extra>",
         "legendgroup": "小池勇輝",
         "line": {
          "color": "#EF553B",
          "dash": "solid"
         },
         "mode": "lines",
         "name": "小池勇輝",
         "r": [
          43.9,
          43.6,
          34.5,
          38.9,
          42,
          35.8,
          50.5,
          53.7,
          43.9
         ],
         "showlegend": true,
         "subplot": "polar",
         "theta": [
          "アタック決定率偏差値",
          "アタック効果率偏差値",
          "バックアタック決定率偏差値",
          "バックアタック効果率偏差値",
          "アタックセット得点平均偏差値",
          "ブロックセット得点平均偏差値",
          "サーブ効果率偏差値",
          "サーブレシーブ成功率偏差値",
          "アタック決定率偏差値"
         ],
         "type": "scatterpolargl"
        },
        {
         "hovertemplate": "選手名=山口頌平<br>偏差値=%{r}<br>項目=%{theta}<extra></extra>",
         "legendgroup": "山口頌平",
         "line": {
          "color": "#00cc96",
          "dash": "solid"
         },
         "mode": "lines",
         "name": "山口頌平",
         "r": [
          45.4,
          39.1,
          43.5,
          41.9,
          43.7,
          28,
          45.4
         ],
         "showlegend": true,
         "subplot": "polar",
         "theta": [
          "アタック決定率偏差値",
          "バックアタック決定率偏差値",
          "アタックセット得点平均偏差値",
          "ブロックセット得点平均偏差値",
          "サーブ効果率偏差値",
          "サーブレシーブ成功率偏差値",
          "アタック決定率偏差値"
         ],
         "type": "scatterpolargl"
        },
        {
         "hovertemplate": "選手名=山本智大<br>偏差値=%{r}<br>項目=%{theta}<extra></extra>",
         "legendgroup": "山本智大",
         "line": {
          "color": "#ab63fa",
          "dash": "solid"
         },
         "mode": "lines",
         "name": "山本智大",
         "r": [
          34.8,
          34.5,
          39.2,
          43.7,
          46.5,
          57,
          34.8
         ],
         "showlegend": true,
         "subplot": "polar",
         "theta": [
          "アタック決定率偏差値",
          "バックアタック決定率偏差値",
          "アタックセット得点平均偏差値",
          "ブロックセット得点平均偏差値",
          "サーブ効果率偏差値",
          "サーブレシーブ成功率偏差値",
          "アタック決定率偏差値"
         ],
         "type": "scatterpolargl"
        },
        {
         "hovertemplate": "選手名=竹元裕太郎<br>偏差値=%{r}<br>項目=%{theta}<extra></extra>",
         "legendgroup": "竹元裕太郎",
         "line": {
          "color": "#FFA15A",
          "dash": "solid"
         },
         "mode": "lines",
         "name": "竹元裕太郎",
         "r": [
          58.5,
          57.9,
          34.5,
          49.2,
          66.6,
          48.3,
          28,
          58.5
         ],
         "showlegend": true,
         "subplot": "polar",
         "theta": [
          "アタック決定率偏差値",
          "アタック効果率偏差値",
          "バックアタック決定率偏差値",
          "アタックセット得点平均偏差値",
          "ブロックセット得点平均偏差値",
          "サーブ効果率偏差値",
          "サーブレシーブ成功率偏差値",
          "アタック決定率偏差値"
         ],
         "type": "scatterpolargl"
        },
        {
         "hovertemplate": "選手名=鵜野幸也<br>偏差値=%{r}<br>項目=%{theta}<extra></extra>",
         "legendgroup": "鵜野幸也",
         "line": {
          "color": "#19d3f3",
          "dash": "solid"
         },
         "mode": "lines",
         "name": "鵜野幸也",
         "r": [
          48.3,
          50.7,
          63.1,
          64.1,
          55.6,
          43.7,
          57.7,
          54.1,
          48.3
         ],
         "showlegend": true,
         "subplot": "polar",
         "theta": [
          "アタック決定率偏差値",
          "アタック効果率偏差値",
          "バックアタック決定率偏差値",
          "バックアタック効果率偏差値",
          "アタックセット得点平均偏差値",
          "ブロックセット得点平均偏差値",
          "サーブ効果率偏差値",
          "サーブレシーブ成功率偏差値",
          "アタック決定率偏差値"
         ],
         "type": "scatterpolargl"
        },
        {
         "hovertemplate": "選手名=富松崇彰<br>偏差値=%{r}<br>項目=%{theta}<extra></extra>",
         "legendgroup": "富松崇彰",
         "line": {
          "color": "#FF6692",
          "dash": "solid"
         },
         "mode": "lines",
         "name": "富松崇彰",
         "r": [
          55.3,
          53.8,
          34.5,
          38.9,
          49.7,
          66.6,
          50.8,
          60.3,
          55.3
         ],
         "showlegend": true,
         "subplot": "polar",
         "theta": [
          "アタック決定率偏差値",
          "アタック効果率偏差値",
          "バックアタック決定率偏差値",
          "バックアタック効果率偏差値",
          "アタックセット得点平均偏差値",
          "ブロックセット得点平均偏差値",
          "サーブ効果率偏差値",
          "サーブレシーブ成功率偏差値",
          "アタック決定率偏差値"
         ],
         "type": "scatterpolargl"
        },
        {
         "hovertemplate": "選手名=高橋健太郎<br>偏差値=%{r}<br>項目=%{theta}<extra></extra>",
         "legendgroup": "高橋健太郎",
         "line": {
          "color": "#B6E880",
          "dash": "solid"
         },
         "mode": "lines",
         "name": "高橋健太郎",
         "r": [
          53.4,
          53.7,
          75.8,
          75.4,
          48.2,
          59.4,
          42.6,
          49.8,
          53.4
         ],
         "showlegend": true,
         "subplot": "polar",
         "theta": [
          "アタック決定率偏差値",
          "アタック効果率偏差値",
          "バックアタック決定率偏差値",
          "バックアタック効果率偏差値",
          "アタックセット得点平均偏差値",
          "ブロックセット得点平均偏差値",
          "サーブ効果率偏差値",
          "サーブレシーブ成功率偏差値",
          "アタック決定率偏差値"
         ],
         "type": "scatterpolargl"
        },
        {
         "hovertemplate": "選手名=山口拓海<br>偏差値=%{r}<br>項目=%{theta}<extra></extra>",
         "legendgroup": "山口拓海",
         "line": {
          "color": "#FF97FF",
          "dash": "solid"
         },
         "mode": "lines",
         "name": "山口拓海",
         "r": [
          56.1,
          75.8,
          47.7,
          60,
          42.8,
          51,
          56.1
         ],
         "showlegend": true,
         "subplot": "polar",
         "theta": [
          "アタック決定率偏差値",
          "バックアタック決定率偏差値",
          "アタックセット得点平均偏差値",
          "ブロックセット得点平均偏差値",
          "サーブ効果率偏差値",
          "サーブレシーブ成功率偏差値",
          "アタック決定率偏差値"
         ],
         "type": "scatterpolargl"
        },
        {
         "hovertemplate": "選手名=米山裕太<br>偏差値=%{r}<br>項目=%{theta}<extra></extra>",
         "legendgroup": "米山裕太",
         "line": {
          "color": "#FECB52",
          "dash": "solid"
         },
         "mode": "lines",
         "name": "米山裕太",
         "r": [
          42.6,
          47.5,
          62,
          63.2,
          49.6,
          42.5,
          45.6,
          52.3,
          42.6
         ],
         "showlegend": true,
         "subplot": "polar",
         "theta": [
          "アタック決定率偏差値",
          "アタック効果率偏差値",
          "バックアタック決定率偏差値",
          "バックアタック効果率偏差値",
          "アタックセット得点平均偏差値",
          "ブロックセット得点平均偏差値",
          "サーブ効果率偏差値",
          "サーブレシーブ成功率偏差値",
          "アタック決定率偏差値"
         ],
         "type": "scatterpolargl"
        },
        {
         "hovertemplate": "選手名=落合一貴<br>偏差値=%{r}<br>項目=%{theta}<extra></extra>",
         "legendgroup": "落合一貴",
         "line": {
          "color": "#636efa",
          "dash": "solid"
         },
         "mode": "lines",
         "name": "落合一貴",
         "r": [
          51.9,
          50.7,
          62.9,
          61.7,
          44.8,
          40.1,
          47.3,
          60.3,
          51.9
         ],
         "showlegend": true,
         "subplot": "polar",
         "theta": [
          "アタック決定率偏差値",
          "アタック効果率偏差値",
          "バックアタック決定率偏差値",
          "バックアタック効果率偏差値",
          "アタックセット得点平均偏差値",
          "ブロックセット得点平均偏差値",
          "サーブ効果率偏差値",
          "サーブレシーブ成功率偏差値",
          "アタック決定率偏差値"
         ],
         "type": "scatterpolargl"
        },
        {
         "hovertemplate": "選手名=峯村雄大<br>偏差値=%{r}<br>項目=%{theta}<extra></extra>",
         "legendgroup": "峯村雄大",
         "line": {
          "color": "#EF553B",
          "dash": "solid"
         },
         "mode": "lines",
         "name": "峯村雄大",
         "r": [
          44.4,
          46.7,
          34.5,
          38.9,
          40.6,
          37,
          47.6,
          54.6,
          44.4
         ],
         "showlegend": true,
         "subplot": "polar",
         "theta": [
          "アタック決定率偏差値",
          "アタック効果率偏差値",
          "バックアタック決定率偏差値",
          "バックアタック効果率偏差値",
          "アタックセット得点平均偏差値",
          "ブロックセット得点平均偏差値",
          "サーブ効果率偏差値",
          "サーブレシーブ成功率偏差値",
          "アタック決定率偏差値"
         ],
         "type": "scatterpolargl"
        },
        {
         "hovertemplate": "選手名=富田将馬<br>偏差値=%{r}<br>項目=%{theta}<extra></extra>",
         "legendgroup": "富田将馬",
         "line": {
          "color": "#00cc96",
          "dash": "solid"
         },
         "mode": "lines",
         "name": "富田将馬",
         "r": [
          47.1,
          45.7,
          43,
          41.4,
          59.2,
          41.3,
          50.7,
          59.3,
          47.1
         ],
         "showlegend": true,
         "subplot": "polar",
         "theta": [
          "アタック決定率偏差値",
          "アタック効果率偏差値",
          "バックアタック決定率偏差値",
          "バックアタック効果率偏差値",
          "アタックセット得点平均偏差値",
          "ブロックセット得点平均偏差値",
          "サーブ効果率偏差値",
          "サーブレシーブ成功率偏差値",
          "アタック決定率偏差値"
         ],
         "type": "scatterpolargl"
        },
        {
         "hovertemplate": "選手名=星野秀知<br>偏差値=%{r}<br>項目=%{theta}<extra></extra>",
         "legendgroup": "星野秀知",
         "line": {
          "color": "#ab63fa",
          "dash": "solid"
         },
         "mode": "lines",
         "name": "星野秀知",
         "r": [
          51,
          50.9,
          55.1,
          53.5,
          58.6,
          47.3,
          49.8,
          56.7,
          51
         ],
         "showlegend": true,
         "subplot": "polar",
         "theta": [
          "アタック決定率偏差値",
          "アタック効果率偏差値",
          "バックアタック決定率偏差値",
          "バックアタック効果率偏差値",
          "アタックセット得点平均偏差値",
          "ブロックセット得点平均偏差値",
          "サーブ効果率偏差値",
          "サーブレシーブ成功率偏差値",
          "アタック決定率偏差値"
         ],
         "type": "scatterpolargl"
        },
        {
         "hovertemplate": "選手名=酒井啓輔<br>偏差値=%{r}<br>項目=%{theta}<extra></extra>",
         "legendgroup": "酒井啓輔",
         "line": {
          "color": "#FFA15A",
          "dash": "solid"
         },
         "mode": "lines",
         "name": "酒井啓輔",
         "r": [
          51.9,
          54,
          51.9,
          39.3,
          37.6,
          59.5,
          55.9,
          51.9
         ],
         "showlegend": true,
         "subplot": "polar",
         "theta": [
          "アタック決定率偏差値",
          "アタック効果率偏差値",
          "バックアタック決定率偏差値",
          "アタックセット得点平均偏差値",
          "ブロックセット得点平均偏差値",
          "サーブ効果率偏差値",
          "サーブレシーブ成功率偏差値",
          "アタック決定率偏差値"
         ],
         "type": "scatterpolargl"
        },
        {
         "hovertemplate": "選手名=李博<br>偏差値=%{r}<br>項目=%{theta}<extra></extra>",
         "legendgroup": "李博",
         "line": {
          "color": "#19d3f3",
          "dash": "solid"
         },
         "mode": "lines",
         "name": "李博",
         "r": [
          57.2,
          55.8,
          51.9,
          51.2,
          58.2,
          60.6,
          62.3,
          57.2
         ],
         "showlegend": true,
         "subplot": "polar",
         "theta": [
          "アタック決定率偏差値",
          "アタック効果率偏差値",
          "バックアタック決定率偏差値",
          "アタックセット得点平均偏差値",
          "ブロックセット得点平均偏差値",
          "サーブ効果率偏差値",
          "サーブレシーブ成功率偏差値",
          "アタック決定率偏差値"
         ],
         "type": "scatterpolargl"
        },
        {
         "hovertemplate": "選手名=小澤宙輝<br>偏差値=%{r}<br>項目=%{theta}<extra></extra>",
         "legendgroup": "小澤宙輝",
         "line": {
          "color": "#FF6692",
          "dash": "solid"
         },
         "mode": "lines",
         "name": "小澤宙輝",
         "r": [
          57.6,
          48.2,
          51.9,
          63,
          19.4,
          52,
          57.6
         ],
         "showlegend": true,
         "subplot": "polar",
         "theta": [
          "アタック決定率偏差値",
          "バックアタック決定率偏差値",
          "アタックセット得点平均偏差値",
          "ブロックセット得点平均偏差値",
          "サーブ効果率偏差値",
          "サーブレシーブ成功率偏差値",
          "アタック決定率偏差値"
         ],
         "type": "scatterpolargl"
        },
        {
         "hovertemplate": "選手名=鈴木悠二<br>偏差値=%{r}<br>項目=%{theta}<extra></extra>",
         "legendgroup": "鈴木悠二",
         "line": {
          "color": "#B6E880",
          "dash": "solid"
         },
         "mode": "lines",
         "name": "鈴木悠二",
         "r": [
          57.6,
          48.2,
          51.9,
          63,
          50.8,
          52,
          57.6
         ],
         "showlegend": true,
         "subplot": "polar",
         "theta": [
          "アタック決定率偏差値",
          "バックアタック決定率偏差値",
          "アタックセット得点平均偏差値",
          "ブロックセット得点平均偏差値",
          "サーブ効果率偏差値",
          "サーブレシーブ成功率偏差値",
          "アタック決定率偏差値"
         ],
         "type": "scatterpolargl"
        },
        {
         "hovertemplate": "選手名=梅野聡<br>偏差値=%{r}<br>項目=%{theta}<extra></extra>",
         "legendgroup": "梅野聡",
         "line": {
          "color": "#FF97FF",
          "dash": "solid"
         },
         "mode": "lines",
         "name": "梅野聡",
         "r": [
          72.4,
          68.4,
          55.1,
          40.8,
          44.3,
          56.1,
          51.9,
          72.4
         ],
         "showlegend": true,
         "subplot": "polar",
         "theta": [
          "アタック決定率偏差値",
          "アタック効果率偏差値",
          "バックアタック決定率偏差値",
          "アタックセット得点平均偏差値",
          "ブロックセット得点平均偏差値",
          "サーブ効果率偏差値",
          "サーブレシーブ成功率偏差値",
          "アタック決定率偏差値"
         ],
         "type": "scatterpolargl"
        },
        {
         "hovertemplate": "選手名=アウントゥ<br>偏差値=%{r}<br>項目=%{theta}<extra></extra>",
         "legendgroup": "アウントゥ",
         "line": {
          "color": "#FECB52",
          "dash": "solid"
         },
         "mode": "lines",
         "name": "アウントゥ",
         "r": [
          47.2,
          49.4,
          50.5,
          51,
          62.7,
          50.9,
          45.6,
          53.7,
          47.2
         ],
         "showlegend": true,
         "subplot": "polar",
         "theta": [
          "アタック決定率偏差値",
          "アタック効果率偏差値",
          "バックアタック決定率偏差値",
          "バックアタック効果率偏差値",
          "アタックセット得点平均偏差値",
          "ブロックセット得点平均偏差値",
          "サーブ効果率偏差値",
          "サーブレシーブ成功率偏差値",
          "アタック決定率偏差値"
         ],
         "type": "scatterpolargl"
        },
        {
         "hovertemplate": "選手名=藤井直伸<br>偏差値=%{r}<br>項目=%{theta}<extra></extra>",
         "legendgroup": "藤井直伸",
         "line": {
          "color": "#636efa",
          "dash": "solid"
         },
         "mode": "lines",
         "name": "藤井直伸",
         "r": [
          31.4,
          39.5,
          34.5,
          38.9,
          39.2,
          45.5,
          55.3,
          28,
          31.4
         ],
         "showlegend": true,
         "subplot": "polar",
         "theta": [
          "アタック決定率偏差値",
          "アタック効果率偏差値",
          "バックアタック決定率偏差値",
          "バックアタック効果率偏差値",
          "アタックセット得点平均偏差値",
          "ブロックセット得点平均偏差値",
          "サーブ効果率偏差値",
          "サーブレシーブ成功率偏差値",
          "アタック決定率偏差値"
         ],
         "type": "scatterpolargl"
        },
        {
         "hovertemplate": "選手名=山田脩造<br>偏差値=%{r}<br>項目=%{theta}<extra></extra>",
         "legendgroup": "山田脩造",
         "line": {
          "color": "#EF553B",
          "dash": "solid"
         },
         "mode": "lines",
         "name": "山田脩造",
         "r": [
          49.3,
          49.3,
          54,
          54.1,
          58.3,
          43.1,
          51.9,
          53.9,
          49.3
         ],
         "showlegend": true,
         "subplot": "polar",
         "theta": [
          "アタック決定率偏差値",
          "アタック効果率偏差値",
          "バックアタック決定率偏差値",
          "バックアタック効果率偏差値",
          "アタックセット得点平均偏差値",
          "ブロックセット得点平均偏差値",
          "サーブ効果率偏差値",
          "サーブレシーブ成功率偏差値",
          "アタック決定率偏差値"
         ],
         "type": "scatterpolargl"
        },
        {
         "hovertemplate": "選手名=山近哲<br>偏差値=%{r}<br>項目=%{theta}<extra></extra>",
         "legendgroup": "山近哲",
         "line": {
          "color": "#00cc96",
          "dash": "solid"
         },
         "mode": "lines",
         "name": "山近哲",
         "r": [
          53.4,
          53.6,
          55.4,
          49.7,
          56.4,
          53.7,
          40,
          53.4
         ],
         "showlegend": true,
         "subplot": "polar",
         "theta": [
          "アタック決定率偏差値",
          "アタック効果率偏差値",
          "バックアタック決定率偏差値",
          "アタックセット得点平均偏差値",
          "ブロックセット得点平均偏差値",
          "サーブ効果率偏差値",
          "サーブレシーブ成功率偏差値",
          "アタック決定率偏差値"
         ],
         "type": "scatterpolargl"
        },
        {
         "hovertemplate": "選手名=内山正平<br>偏差値=%{r}<br>項目=%{theta}<extra></extra>",
         "legendgroup": "内山正平",
         "line": {
          "color": "#ab63fa",
          "dash": "solid"
         },
         "mode": "lines",
         "name": "内山正平",
         "r": [
          68.9,
          66,
          48.4,
          39.6,
          38.2,
          51.4,
          28,
          68.9
         ],
         "showlegend": true,
         "subplot": "polar",
         "theta": [
          "アタック決定率偏差値",
          "アタック効果率偏差値",
          "バックアタック決定率偏差値",
          "アタックセット得点平均偏差値",
          "ブロックセット得点平均偏差値",
          "サーブ効果率偏差値",
          "サーブレシーブ成功率偏差値",
          "アタック決定率偏差値"
         ],
         "type": "scatterpolargl"
        },
        {
         "hovertemplate": "選手名=前田一誠<br>偏差値=%{r}<br>項目=%{theta}<extra></extra>",
         "legendgroup": "前田一誠",
         "line": {
          "color": "#FFA15A",
          "dash": "solid"
         },
         "mode": "lines",
         "name": "前田一誠",
         "r": [
          47,
          50.6,
          62,
          39.5,
          41.3,
          50.5,
          28,
          47
         ],
         "showlegend": true,
         "subplot": "polar",
         "theta": [
          "アタック決定率偏差値",
          "アタック効果率偏差値",
          "バックアタック決定率偏差値",
          "アタックセット得点平均偏差値",
          "ブロックセット得点平均偏差値",
          "サーブ効果率偏差値",
          "サーブレシーブ成功率偏差値",
          "アタック決定率偏差値"
         ],
         "type": "scatterpolargl"
        },
        {
         "hovertemplate": "選手名=近裕崇<br>偏差値=%{r}<br>項目=%{theta}<extra></extra>",
         "legendgroup": "近裕崇",
         "line": {
          "color": "#19d3f3",
          "dash": "solid"
         },
         "mode": "lines",
         "name": "近裕崇",
         "r": [
          48,
          49.5,
          34.5,
          45.3,
          59.4,
          50.5,
          52,
          48
         ],
         "showlegend": true,
         "subplot": "polar",
         "theta": [
          "アタック決定率偏差値",
          "アタック効果率偏差値",
          "バックアタック決定率偏差値",
          "アタックセット得点平均偏差値",
          "ブロックセット得点平均偏差値",
          "サーブ効果率偏差値",
          "サーブレシーブ成功率偏差値",
          "アタック決定率偏差値"
         ],
         "type": "scatterpolargl"
        },
        {
         "hovertemplate": "選手名=白岩直也<br>偏差値=%{r}<br>項目=%{theta}<extra></extra>",
         "legendgroup": "白岩直也",
         "line": {
          "color": "#FF6692",
          "dash": "solid"
         },
         "mode": "lines",
         "name": "白岩直也",
         "r": [
          39.2,
          42.9,
          34.5,
          38.9,
          44.9,
          40.7,
          48.3,
          53.6,
          39.2
         ],
         "showlegend": true,
         "subplot": "polar",
         "theta": [
          "アタック決定率偏差値",
          "アタック効果率偏差値",
          "バックアタック決定率偏差値",
          "バックアタック効果率偏差値",
          "アタックセット得点平均偏差値",
          "ブロックセット得点平均偏差値",
          "サーブ効果率偏差値",
          "サーブレシーブ成功率偏差値",
          "アタック決定率偏差値"
         ],
         "type": "scatterpolargl"
        },
        {
         "hovertemplate": "選手名=古賀幸一郎<br>偏差値=%{r}<br>項目=%{theta}<extra></extra>",
         "legendgroup": "古賀幸一郎",
         "line": {
          "color": "#B6E880",
          "dash": "solid"
         },
         "mode": "lines",
         "name": "古賀幸一郎",
         "r": [
          45.5,
          43.2,
          50.3,
          44.9,
          26.9,
          58.6,
          45.5
         ],
         "showlegend": true,
         "subplot": "polar",
         "theta": [
          "アタック決定率偏差値",
          "バックアタック決定率偏差値",
          "アタックセット得点平均偏差値",
          "ブロックセット得点平均偏差値",
          "サーブ効果率偏差値",
          "サーブレシーブ成功率偏差値",
          "アタック決定率偏差値"
         ],
         "type": "scatterpolargl"
        },
        {
         "hovertemplate": "選手名=傳田亮太<br>偏差値=%{r}<br>項目=%{theta}<extra></extra>",
         "legendgroup": "傳田亮太",
         "line": {
          "color": "#FF97FF",
          "dash": "solid"
         },
         "mode": "lines",
         "name": "傳田亮太",
         "r": [
          55.8,
          54.1,
          43.2,
          50.3,
          69,
          50.5,
          61,
          55.8
         ],
         "showlegend": true,
         "subplot": "polar",
         "theta": [
          "アタック決定率偏差値",
          "アタック効果率偏差値",
          "バックアタック決定率偏差値",
          "アタックセット得点平均偏差値",
          "ブロックセット得点平均偏差値",
          "サーブ効果率偏差値",
          "サーブレシーブ成功率偏差値",
          "アタック決定率偏差値"
         ],
         "type": "scatterpolargl"
        },
        {
         "hovertemplate": "選手名=椿山竜介<br>偏差値=%{r}<br>項目=%{theta}<extra></extra>",
         "legendgroup": "椿山竜介",
         "line": {
          "color": "#FECB52",
          "dash": "solid"
         },
         "mode": "lines",
         "name": "椿山竜介",
         "r": [
          52.1,
          50,
          54.5,
          52.6,
          58.4,
          38.2,
          58.6,
          56.8,
          52.1
         ],
         "showlegend": true,
         "subplot": "polar",
         "theta": [
          "アタック決定率偏差値",
          "アタック効果率偏差値",
          "バックアタック決定率偏差値",
          "バックアタック効果率偏差値",
          "アタックセット得点平均偏差値",
          "ブロックセット得点平均偏差値",
          "サーブ効果率偏差値",
          "サーブレシーブ成功率偏差値",
          "アタック決定率偏差値"
         ],
         "type": "scatterpolargl"
        },
        {
         "hovertemplate": "選手名=永露元稀<br>偏差値=%{r}<br>項目=%{theta}<extra></extra>",
         "legendgroup": "永露元稀",
         "line": {
          "color": "#636efa",
          "dash": "solid"
         },
         "mode": "lines",
         "name": "永露元稀",
         "r": [
          60.4,
          60,
          53.8,
          39.7,
          39.5,
          54.6,
          55.3,
          60.4
         ],
         "showlegend": true,
         "subplot": "polar",
         "theta": [
          "アタック決定率偏差値",
          "アタック効果率偏差値",
          "バックアタック決定率偏差値",
          "アタックセット得点平均偏差値",
          "ブロックセット得点平均偏差値",
          "サーブ効果率偏差値",
          "サーブレシーブ成功率偏差値",
          "アタック決定率偏差値"
         ],
         "type": "scatterpolargl"
        },
        {
         "hovertemplate": "選手名=高梨健太<br>偏差値=%{r}<br>項目=%{theta}<extra></extra>",
         "legendgroup": "高梨健太",
         "line": {
          "color": "#EF553B",
          "dash": "solid"
         },
         "mode": "lines",
         "name": "高梨健太",
         "r": [
          50.1,
          50.5,
          59,
          58.9,
          63.8,
          58.8,
          51.9,
          53.5,
          50.1
         ],
         "showlegend": true,
         "subplot": "polar",
         "theta": [
          "アタック決定率偏差値",
          "アタック効果率偏差値",
          "バックアタック決定率偏差値",
          "バックアタック効果率偏差値",
          "アタックセット得点平均偏差値",
          "ブロックセット得点平均偏差値",
          "サーブ効果率偏差値",
          "サーブレシーブ成功率偏差値",
          "アタック決定率偏差値"
         ],
         "type": "scatterpolargl"
        },
        {
         "hovertemplate": "選手名=勝岡将斗<br>偏差値=%{r}<br>項目=%{theta}<extra></extra>",
         "legendgroup": "勝岡将斗",
         "line": {
          "color": "#00cc96",
          "dash": "solid"
         },
         "mode": "lines",
         "name": "勝岡将斗",
         "r": [
          50.1,
          59,
          63.2,
          58.2,
          51.9,
          53.5,
          50.1
         ],
         "showlegend": true,
         "subplot": "polar",
         "theta": [
          "アタック決定率偏差値",
          "バックアタック決定率偏差値",
          "アタックセット得点平均偏差値",
          "ブロックセット得点平均偏差値",
          "サーブ効果率偏差値",
          "サーブレシーブ成功率偏差値",
          "アタック決定率偏差値"
         ],
         "type": "scatterpolargl"
        },
        {
         "hovertemplate": "選手名=小川智大<br>偏差値=%{r}<br>項目=%{theta}<extra></extra>",
         "legendgroup": "小川智大",
         "line": {
          "color": "#ab63fa",
          "dash": "solid"
         },
         "mode": "lines",
         "name": "小川智大",
         "r": [
          47.8,
          48.2,
          57.5,
          43.7,
          50.7,
          57.7,
          47.8
         ],
         "showlegend": true,
         "subplot": "polar",
         "theta": [
          "アタック決定率偏差値",
          "バックアタック決定率偏差値",
          "アタックセット得点平均偏差値",
          "ブロックセット得点平均偏差値",
          "サーブ効果率偏差値",
          "サーブレシーブ成功率偏差値",
          "アタック決定率偏差値"
         ],
         "type": "scatterpolargl"
        },
        {
         "hovertemplate": "選手名=迫田郭志<br>偏差値=%{r}<br>項目=%{theta}<extra></extra>",
         "legendgroup": "迫田郭志",
         "line": {
          "color": "#FFA15A",
          "dash": "solid"
         },
         "mode": "lines",
         "name": "迫田郭志",
         "r": [
          49.7,
          49.1,
          48.5,
          46.9,
          61,
          42.5,
          49.4,
          54.9,
          49.7
         ],
         "showlegend": true,
         "subplot": "polar",
         "theta": [
          "アタック決定率偏差値",
          "アタック効果率偏差値",
          "バックアタック決定率偏差値",
          "バックアタック効果率偏差値",
          "アタックセット得点平均偏差値",
          "ブロックセット得点平均偏差値",
          "サーブ効果率偏差値",
          "サーブレシーブ成功率偏差値",
          "アタック決定率偏差値"
         ],
         "type": "scatterpolargl"
        },
        {
         "hovertemplate": "選手名=玉宅健太郎<br>偏差値=%{r}<br>項目=%{theta}<extra></extra>",
         "legendgroup": "玉宅健太郎",
         "line": {
          "color": "#19d3f3",
          "dash": "solid"
         },
         "mode": "lines",
         "name": "玉宅健太郎",
         "r": [
          86,
          78.1,
          48.5,
          39.7,
          42.5,
          49.4,
          54.9,
          86
         ],
         "showlegend": true,
         "subplot": "polar",
         "theta": [
          "アタック決定率偏差値",
          "アタック効果率偏差値",
          "バックアタック決定率偏差値",
          "アタックセット得点平均偏差値",
          "ブロックセット得点平均偏差値",
          "サーブ効果率偏差値",
          "サーブレシーブ成功率偏差値",
          "アタック決定率偏差値"
         ],
         "type": "scatterpolargl"
        },
        {
         "hovertemplate": "選手名=橘裕也<br>偏差値=%{r}<br>項目=%{theta}<extra></extra>",
         "legendgroup": "橘裕也",
         "line": {
          "color": "#FF6692",
          "dash": "solid"
         },
         "mode": "lines",
         "name": "橘裕也",
         "r": [
          58.7,
          48.5,
          39.3,
          38.2,
          60.6,
          59.5,
          58.7
         ],
         "showlegend": true,
         "subplot": "polar",
         "theta": [
          "アタック決定率偏差値",
          "バックアタック決定率偏差値",
          "アタックセット得点平均偏差値",
          "ブロックセット得点平均偏差値",
          "サーブ効果率偏差値",
          "サーブレシーブ成功率偏差値",
          "アタック決定率偏差値"
         ],
         "type": "scatterpolargl"
        },
        {
         "hovertemplate": "選手名=山田要平<br>偏差値=%{r}<br>項目=%{theta}<extra></extra>",
         "legendgroup": "山田要平",
         "line": {
          "color": "#B6E880",
          "dash": "solid"
         },
         "mode": "lines",
         "name": "山田要平",
         "r": [
          63.3,
          62,
          34.5,
          38.9,
          39.5,
          37.6,
          44,
          28,
          63.3
         ],
         "showlegend": true,
         "subplot": "polar",
         "theta": [
          "アタック決定率偏差値",
          "アタック効果率偏差値",
          "バックアタック決定率偏差値",
          "バックアタック効果率偏差値",
          "アタックセット得点平均偏差値",
          "ブロックセット得点平均偏差値",
          "サーブ効果率偏差値",
          "サーブレシーブ成功率偏差値",
          "アタック決定率偏差値"
         ],
         "type": "scatterpolargl"
        },
        {
         "hovertemplate": "選手名=井上仁<br>偏差値=%{r}<br>項目=%{theta}<extra></extra>",
         "legendgroup": "井上仁",
         "line": {
          "color": "#FF97FF",
          "dash": "solid"
         },
         "mode": "lines",
         "name": "井上仁",
         "r": [
          52.9,
          52.2,
          39.1,
          50.9,
          55.7,
          56.1,
          59.7,
          52.9
         ],
         "showlegend": true,
         "subplot": "polar",
         "theta": [
          "アタック決定率偏差値",
          "アタック効果率偏差値",
          "バックアタック決定率偏差値",
          "アタックセット得点平均偏差値",
          "ブロックセット得点平均偏差値",
          "サーブ効果率偏差値",
          "サーブレシーブ成功率偏差値",
          "アタック決定率偏差値"
         ],
         "type": "scatterpolargl"
        },
        {
         "hovertemplate": "選手名=近江芳樹<br>偏差値=%{r}<br>項目=%{theta}<extra></extra>",
         "legendgroup": "近江芳樹",
         "line": {
          "color": "#FECB52",
          "dash": "solid"
         },
         "mode": "lines",
         "name": "近江芳樹",
         "r": [
          38.7,
          41,
          55.1,
          57.1,
          40.4,
          60,
          46.4,
          40,
          38.7
         ],
         "showlegend": true,
         "subplot": "polar",
         "theta": [
          "アタック決定率偏差値",
          "アタック効果率偏差値",
          "バックアタック決定率偏差値",
          "バックアタック効果率偏差値",
          "アタックセット得点平均偏差値",
          "ブロックセット得点平均偏差値",
          "サーブ効果率偏差値",
          "サーブレシーブ成功率偏差値",
          "アタック決定率偏差値"
         ],
         "type": "scatterpolargl"
        },
        {
         "hovertemplate": "選手名=栗山英之<br>偏差値=%{r}<br>項目=%{theta}<extra></extra>",
         "legendgroup": "栗山英之",
         "line": {
          "color": "#636efa",
          "dash": "solid"
         },
         "mode": "lines",
         "name": "栗山英之",
         "r": [
          52.1,
          50.1,
          48.2,
          50.1,
          64.8,
          45.3,
          54.8,
          52.1
         ],
         "showlegend": true,
         "subplot": "polar",
         "theta": [
          "アタック決定率偏差値",
          "アタック効果率偏差値",
          "バックアタック決定率偏差値",
          "アタックセット得点平均偏差値",
          "ブロックセット得点平均偏差値",
          "サーブ効果率偏差値",
          "サーブレシーブ成功率偏差値",
          "アタック決定率偏差値"
         ],
         "type": "scatterpolargl"
        },
        {
         "hovertemplate": "選手名=手塚大<br>偏差値=%{r}<br>項目=%{theta}<extra></extra>",
         "legendgroup": "手塚大",
         "line": {
          "color": "#EF553B",
          "dash": "solid"
         },
         "mode": "lines",
         "name": "手塚大",
         "r": [
          44.6,
          45.1,
          51.6,
          49.2,
          55.1,
          52.1,
          48.3,
          49.3,
          44.6
         ],
         "showlegend": true,
         "subplot": "polar",
         "theta": [
          "アタック決定率偏差値",
          "アタック効果率偏差値",
          "バックアタック決定率偏差値",
          "バックアタック効果率偏差値",
          "アタックセット得点平均偏差値",
          "ブロックセット得点平均偏差値",
          "サーブ効果率偏差値",
          "サーブレシーブ成功率偏差値",
          "アタック決定率偏差値"
         ],
         "type": "scatterpolargl"
        },
        {
         "hovertemplate": "選手名=小田嶋大貴<br>偏差値=%{r}<br>項目=%{theta}<extra></extra>",
         "legendgroup": "小田嶋大貴",
         "line": {
          "color": "#00cc96",
          "dash": "solid"
         },
         "mode": "lines",
         "name": "小田嶋大貴",
         "r": [
          52.2,
          52.2,
          52.9,
          44.6,
          46.1,
          60.7,
          50.7,
          52.2
         ],
         "showlegend": true,
         "subplot": "polar",
         "theta": [
          "アタック決定率偏差値",
          "アタック効果率偏差値",
          "バックアタック決定率偏差値",
          "アタックセット得点平均偏差値",
          "ブロックセット得点平均偏差値",
          "サーブ効果率偏差値",
          "サーブレシーブ成功率偏差値",
          "アタック決定率偏差値"
         ],
         "type": "scatterpolargl"
        },
        {
         "hovertemplate": "選手名=柳町逸太<br>偏差値=%{r}<br>項目=%{theta}<extra></extra>",
         "legendgroup": "柳町逸太",
         "line": {
          "color": "#ab63fa",
          "dash": "solid"
         },
         "mode": "lines",
         "name": "柳町逸太",
         "r": [
          39.4,
          37.6,
          38.8,
          33.1,
          49.6,
          46.7,
          56.8,
          45.8,
          39.4
         ],
         "showlegend": true,
         "subplot": "polar",
         "theta": [
          "アタック決定率偏差値",
          "アタック効果率偏差値",
          "バックアタック決定率偏差値",
          "バックアタック効果率偏差値",
          "アタックセット得点平均偏差値",
          "ブロックセット得点平均偏差値",
          "サーブ効果率偏差値",
          "サーブレシーブ成功率偏差値",
          "アタック決定率偏差値"
         ],
         "type": "scatterpolargl"
        },
        {
         "hovertemplate": "選手名=谷口渉<br>偏差値=%{r}<br>項目=%{theta}<extra></extra>",
         "legendgroup": "谷口渉",
         "line": {
          "color": "#FFA15A",
          "dash": "solid"
         },
         "mode": "lines",
         "name": "谷口渉",
         "r": [
          57.9,
          58.2,
          34.5,
          38.9,
          43.7,
          41.3,
          34.3,
          55.7,
          57.9
         ],
         "showlegend": true,
         "subplot": "polar",
         "theta": [
          "アタック決定率偏差値",
          "アタック効果率偏差値",
          "バックアタック決定率偏差値",
          "バックアタック効果率偏差値",
          "アタックセット得点平均偏差値",
          "ブロックセット得点平均偏差値",
          "サーブ効果率偏差値",
          "サーブレシーブ成功率偏差値",
          "アタック決定率偏差値"
         ],
         "type": "scatterpolargl"
        },
        {
         "hovertemplate": "選手名=手原紳<br>偏差値=%{r}<br>項目=%{theta}<extra></extra>",
         "legendgroup": "手原紳",
         "line": {
          "color": "#19d3f3",
          "dash": "solid"
         },
         "mode": "lines",
         "name": "手原紳",
         "r": [
          54.1,
          55.6,
          34.5,
          39.8,
          46.7,
          53.4,
          28,
          54.1
         ],
         "showlegend": true,
         "subplot": "polar",
         "theta": [
          "アタック決定率偏差値",
          "アタック効果率偏差値",
          "バックアタック決定率偏差値",
          "アタックセット得点平均偏差値",
          "ブロックセット得点平均偏差値",
          "サーブ効果率偏差値",
          "サーブレシーブ成功率偏差値",
          "アタック決定率偏差値"
         ],
         "type": "scatterpolargl"
        },
        {
         "hovertemplate": "選手名=佐藤望実<br>偏差値=%{r}<br>項目=%{theta}<extra></extra>",
         "legendgroup": "佐藤望実",
         "line": {
          "color": "#FF6692",
          "dash": "solid"
         },
         "mode": "lines",
         "name": "佐藤望実",
         "r": [
          47.3,
          47.8,
          52.7,
          47.7,
          61.2,
          46.1,
          48.5,
          50.7,
          47.3
         ],
         "showlegend": true,
         "subplot": "polar",
         "theta": [
          "アタック決定率偏差値",
          "アタック効果率偏差値",
          "バックアタック決定率偏差値",
          "バックアタック効果率偏差値",
          "アタックセット得点平均偏差値",
          "ブロックセット得点平均偏差値",
          "サーブ効果率偏差値",
          "サーブレシーブ成功率偏差値",
          "アタック決定率偏差値"
         ],
         "type": "scatterpolargl"
        },
        {
         "hovertemplate": "選手名=プレモビッチピーター<br>偏差値=%{r}<br>項目=%{theta}<extra></extra>",
         "legendgroup": "プレモビッチピーター",
         "line": {
          "color": "#B6E880",
          "dash": "solid"
         },
         "mode": "lines",
         "name": "プレモビッチピーター",
         "r": [
          49.3,
          49.2,
          54.5,
          54.2,
          77.7,
          61.2,
          53.2,
          52,
          49.3
         ],
         "showlegend": true,
         "subplot": "polar",
         "theta": [
          "アタック決定率偏差値",
          "アタック効果率偏差値",
          "バックアタック決定率偏差値",
          "バックアタック効果率偏差値",
          "アタックセット得点平均偏差値",
          "ブロックセット得点平均偏差値",
          "サーブ効果率偏差値",
          "サーブレシーブ成功率偏差値",
          "アタック決定率偏差値"
         ],
         "type": "scatterpolargl"
        },
        {
         "hovertemplate": "選手名=平田亮介<br>偏差値=%{r}<br>項目=%{theta}<extra></extra>",
         "legendgroup": "平田亮介",
         "line": {
          "color": "#FF97FF",
          "dash": "solid"
         },
         "mode": "lines",
         "name": "平田亮介",
         "r": [
          51.9,
          48.6,
          54.5,
          43.5,
          59.4,
          23,
          52,
          51.9
         ],
         "showlegend": true,
         "subplot": "polar",
         "theta": [
          "アタック決定率偏差値",
          "アタック効果率偏差値",
          "バックアタック決定率偏差値",
          "アタックセット得点平均偏差値",
          "ブロックセット得点平均偏差値",
          "サーブ効果率偏差値",
          "サーブレシーブ成功率偏差値",
          "アタック決定率偏差値"
         ],
         "type": "scatterpolargl"
        },
        {
         "hovertemplate": "選手名=宮原和輝<br>偏差値=%{r}<br>項目=%{theta}<extra></extra>",
         "legendgroup": "宮原和輝",
         "line": {
          "color": "#FECB52",
          "dash": "solid"
         },
         "mode": "lines",
         "name": "宮原和輝",
         "r": [
          29.1,
          37.9,
          54.5,
          39.2,
          57,
          58.8,
          49.7,
          29.1
         ],
         "showlegend": true,
         "subplot": "polar",
         "theta": [
          "アタック決定率偏差値",
          "アタック効果率偏差値",
          "バックアタック決定率偏差値",
          "アタックセット得点平均偏差値",
          "ブロックセット得点平均偏差値",
          "サーブ効果率偏差値",
          "サーブレシーブ成功率偏差値",
          "アタック決定率偏差値"
         ],
         "type": "scatterpolargl"
        },
        {
         "hovertemplate": "選手名=小森郁己<br>偏差値=%{r}<br>項目=%{theta}<extra></extra>",
         "legendgroup": "小森郁己",
         "line": {
          "color": "#636efa",
          "dash": "solid"
         },
         "mode": "lines",
         "name": "小森郁己",
         "r": [
          26.2,
          54.5,
          39.2,
          57,
          58.8,
          53.1,
          26.2
         ],
         "showlegend": true,
         "subplot": "polar",
         "theta": [
          "アタック決定率偏差値",
          "バックアタック決定率偏差値",
          "アタックセット得点平均偏差値",
          "ブロックセット得点平均偏差値",
          "サーブ効果率偏差値",
          "サーブレシーブ成功率偏差値",
          "アタック決定率偏差値"
         ],
         "type": "scatterpolargl"
        },
        {
         "hovertemplate": "選手名=黒田彪斗<br>偏差値=%{r}<br>項目=%{theta}<extra></extra>",
         "legendgroup": "黒田彪斗",
         "line": {
          "color": "#EF553B",
          "dash": "solid"
         },
         "mode": "lines",
         "name": "黒田彪斗",
         "r": [
          47.4,
          49.8,
          34.5,
          38.9,
          52.9,
          69.6,
          37.5,
          48.6,
          47.4
         ],
         "showlegend": true,
         "subplot": "polar",
         "theta": [
          "アタック決定率偏差値",
          "アタック効果率偏差値",
          "バックアタック決定率偏差値",
          "バックアタック効果率偏差値",
          "アタックセット得点平均偏差値",
          "ブロックセット得点平均偏差値",
          "サーブ効果率偏差値",
          "サーブレシーブ成功率偏差値",
          "アタック決定率偏差値"
         ],
         "type": "scatterpolargl"
        },
        {
         "hovertemplate": "選手名=バグナスブライアン<br>偏差値=%{r}<br>項目=%{theta}<extra></extra>",
         "legendgroup": "バグナスブライアン",
         "line": {
          "color": "#00cc96",
          "dash": "solid"
         },
         "mode": "lines",
         "name": "バグナスブライアン",
         "r": [
          51.1,
          49.8,
          55.8,
          54.2,
          72.4,
          57,
          50.3,
          49.4,
          51.1
         ],
         "showlegend": true,
         "subplot": "polar",
         "theta": [
          "アタック決定率偏差値",
          "アタック効果率偏差値",
          "バックアタック決定率偏差値",
          "バックアタック効果率偏差値",
          "アタックセット得点平均偏差値",
          "ブロックセット得点平均偏差値",
          "サーブ効果率偏差値",
          "サーブレシーブ成功率偏差値",
          "アタック決定率偏差値"
         ],
         "type": "scatterpolargl"
        },
        {
         "hovertemplate": "選手名=田尻信太郎<br>偏差値=%{r}<br>項目=%{theta}<extra></extra>",
         "legendgroup": "田尻信太郎",
         "line": {
          "color": "#ab63fa",
          "dash": "solid"
         },
         "mode": "lines",
         "name": "田尻信太郎",
         "r": [
          51.9,
          54,
          55.8,
          39.3,
          57,
          44,
          49.4,
          51.9
         ],
         "showlegend": true,
         "subplot": "polar",
         "theta": [
          "アタック決定率偏差値",
          "アタック効果率偏差値",
          "バックアタック決定率偏差値",
          "アタックセット得点平均偏差値",
          "ブロックセット得点平均偏差値",
          "サーブ効果率偏差値",
          "サーブレシーブ成功率偏差値",
          "アタック決定率偏差値"
         ],
         "type": "scatterpolargl"
        },
        {
         "hovertemplate": "選手名=勝将哉<br>偏差値=%{r}<br>項目=%{theta}<extra></extra>",
         "legendgroup": "勝将哉",
         "line": {
          "color": "#FFA15A",
          "dash": "solid"
         },
         "mode": "lines",
         "name": "勝将哉",
         "r": [
          52.5,
          49.9,
          55.1,
          51,
          62.2,
          44.3,
          45.5,
          50,
          52.5
         ],
         "showlegend": true,
         "subplot": "polar",
         "theta": [
          "アタック決定率偏差値",
          "アタック効果率偏差値",
          "バックアタック決定率偏差値",
          "バックアタック効果率偏差値",
          "アタックセット得点平均偏差値",
          "ブロックセット得点平均偏差値",
          "サーブ効果率偏差値",
          "サーブレシーブ成功率偏差値",
          "アタック決定率偏差値"
         ],
         "type": "scatterpolargl"
        },
        {
         "hovertemplate": "選手名=大西基之<br>偏差値=%{r}<br>項目=%{theta}<extra></extra>",
         "legendgroup": "大西基之",
         "line": {
          "color": "#19d3f3",
          "dash": "solid"
         },
         "mode": "lines",
         "name": "大西基之",
         "r": [
          43.3,
          44.2,
          54.3,
          43.4,
          45.5,
          46.5,
          52,
          43.3
         ],
         "showlegend": true,
         "subplot": "polar",
         "theta": [
          "アタック決定率偏差値",
          "アタック効果率偏差値",
          "バックアタック決定率偏差値",
          "アタックセット得点平均偏差値",
          "ブロックセット得点平均偏差値",
          "サーブ効果率偏差値",
          "サーブレシーブ成功率偏差値",
          "アタック決定率偏差値"
         ],
         "type": "scatterpolargl"
        },
        {
         "hovertemplate": "選手名=木本吉紀<br>偏差値=%{r}<br>項目=%{theta}<extra></extra>",
         "legendgroup": "木本吉紀",
         "line": {
          "color": "#FF6692",
          "dash": "solid"
         },
         "mode": "lines",
         "name": "木本吉紀",
         "r": [
          51.9,
          50,
          54.3,
          42.2,
          45.5,
          48.7,
          63.9,
          51.9
         ],
         "showlegend": true,
         "subplot": "polar",
         "theta": [
          "アタック決定率偏差値",
          "アタック効果率偏差値",
          "バックアタック決定率偏差値",
          "アタックセット得点平均偏差値",
          "ブロックセット得点平均偏差値",
          "サーブ効果率偏差値",
          "サーブレシーブ成功率偏差値",
          "アタック決定率偏差値"
         ],
         "type": "scatterpolargl"
        },
        {
         "hovertemplate": "選手名=松尾敬介<br>偏差値=%{r}<br>項目=%{theta}<extra></extra>",
         "legendgroup": "松尾敬介",
         "line": {
          "color": "#B6E880",
          "dash": "solid"
         },
         "mode": "lines",
         "name": "松尾敬介",
         "r": [
          51.9,
          54.3,
          42.2,
          45.5,
          48.7,
          54.3,
          51.9
         ],
         "showlegend": true,
         "subplot": "polar",
         "theta": [
          "アタック決定率偏差値",
          "バックアタック決定率偏差値",
          "アタックセット得点平均偏差値",
          "ブロックセット得点平均偏差値",
          "サーブ効果率偏差値",
          "サーブレシーブ成功率偏差値",
          "アタック決定率偏差値"
         ],
         "type": "scatterpolargl"
        },
        {
         "hovertemplate": "選手名=川口喬<br>偏差値=%{r}<br>項目=%{theta}<extra></extra>",
         "legendgroup": "川口喬",
         "line": {
          "color": "#FF97FF",
          "dash": "solid"
         },
         "mode": "lines",
         "name": "川口喬",
         "r": [
          51.9,
          51,
          54.3,
          45.2,
          43.1,
          46.7,
          57.9,
          51.9
         ],
         "showlegend": true,
         "subplot": "polar",
         "theta": [
          "アタック決定率偏差値",
          "アタック効果率偏差値",
          "バックアタック決定率偏差値",
          "アタックセット得点平均偏差値",
          "ブロックセット得点平均偏差値",
          "サーブ効果率偏差値",
          "サーブレシーブ成功率偏差値",
          "アタック決定率偏差値"
         ],
         "type": "scatterpolargl"
        },
        {
         "hovertemplate": "選手名=林一壽<br>偏差値=%{r}<br>項目=%{theta}<extra></extra>",
         "legendgroup": "林一壽",
         "line": {
          "color": "#FECB52",
          "dash": "solid"
         },
         "mode": "lines",
         "name": "林一壽",
         "r": [
          46.5,
          47.4,
          50.1,
          44.9,
          52.1,
          47.6,
          52,
          46.5
         ],
         "showlegend": true,
         "subplot": "polar",
         "theta": [
          "アタック決定率偏差値",
          "アタック効果率偏差値",
          "バックアタック決定率偏差値",
          "アタックセット得点平均偏差値",
          "ブロックセット得点平均偏差値",
          "サーブ効果率偏差値",
          "サーブレシーブ成功率偏差値",
          "アタック決定率偏差値"
         ],
         "type": "scatterpolargl"
        },
        {
         "hovertemplate": "選手名=山田滉太<br>偏差値=%{r}<br>項目=%{theta}<extra></extra>",
         "legendgroup": "山田滉太",
         "line": {
          "color": "#636efa",
          "dash": "solid"
         },
         "mode": "lines",
         "name": "山田滉太",
         "r": [
          48.7,
          50.1,
          44.5,
          54.5,
          56.8,
          49.4,
          48.7
         ],
         "showlegend": true,
         "subplot": "polar",
         "theta": [
          "アタック決定率偏差値",
          "バックアタック決定率偏差値",
          "アタックセット得点平均偏差値",
          "ブロックセット得点平均偏差値",
          "サーブ効果率偏差値",
          "サーブレシーブ成功率偏差値",
          "アタック決定率偏差値"
         ],
         "type": "scatterpolargl"
        },
        {
         "hovertemplate": "選手名=石橋克哉<br>偏差値=%{r}<br>項目=%{theta}<extra></extra>",
         "legendgroup": "石橋克哉",
         "line": {
          "color": "#EF553B",
          "dash": "solid"
         },
         "mode": "lines",
         "name": "石橋克哉",
         "r": [
          48.7,
          50.1,
          44.5,
          54.5,
          -3.1,
          49.4,
          48.7
         ],
         "showlegend": true,
         "subplot": "polar",
         "theta": [
          "アタック決定率偏差値",
          "バックアタック決定率偏差値",
          "アタックセット得点平均偏差値",
          "ブロックセット得点平均偏差値",
          "サーブ効果率偏差値",
          "サーブレシーブ成功率偏差値",
          "アタック決定率偏差値"
         ],
         "type": "scatterpolargl"
        },
        {
         "hovertemplate": "選手名=久保田雅人<br>偏差値=%{r}<br>項目=%{theta}<extra></extra>",
         "legendgroup": "久保田雅人",
         "line": {
          "color": "#00cc96",
          "dash": "solid"
         },
         "mode": "lines",
         "name": "久保田雅人",
         "r": [
          48.7,
          50.1,
          44.5,
          54.5,
          49.9,
          52.8,
          48.7
         ],
         "showlegend": true,
         "subplot": "polar",
         "theta": [
          "アタック決定率偏差値",
          "バックアタック決定率偏差値",
          "アタックセット得点平均偏差値",
          "ブロックセット得点平均偏差値",
          "サーブ効果率偏差値",
          "サーブレシーブ成功率偏差値",
          "アタック決定率偏差値"
         ],
         "type": "scatterpolargl"
        },
        {
         "hovertemplate": "選手名=ヤカングマ<br>偏差値=%{r}<br>項目=%{theta}<extra></extra>",
         "legendgroup": "ヤカングマ",
         "line": {
          "color": "#ab63fa",
          "dash": "solid"
         },
         "mode": "lines",
         "name": "ヤカングマ",
         "r": [
          47.6,
          48.4,
          52.4,
          52.4,
          72.3,
          37.6,
          58.8,
          28,
          47.6
         ],
         "showlegend": true,
         "subplot": "polar",
         "theta": [
          "アタック決定率偏差値",
          "アタック効果率偏差値",
          "バックアタック決定率偏差値",
          "バックアタック効果率偏差値",
          "アタックセット得点平均偏差値",
          "ブロックセット得点平均偏差値",
          "サーブ効果率偏差値",
          "サーブレシーブ成功率偏差値",
          "アタック決定率偏差値"
         ],
         "type": "scatterpolargl"
        },
        {
         "hovertemplate": "選手名=高松卓矢<br>偏差値=%{r}<br>項目=%{theta}<extra></extra>",
         "legendgroup": "高松卓矢",
         "line": {
          "color": "#FFA15A",
          "dash": "solid"
         },
         "mode": "lines",
         "name": "高松卓矢",
         "r": [
          49.7,
          50.9,
          54.9,
          56,
          70.9,
          45.5,
          53,
          53.4,
          49.7
         ],
         "showlegend": true,
         "subplot": "polar",
         "theta": [
          "アタック決定率偏差値",
          "アタック効果率偏差値",
          "バックアタック決定率偏差値",
          "バックアタック効果率偏差値",
          "アタックセット得点平均偏差値",
          "ブロックセット得点平均偏差値",
          "サーブ効果率偏差値",
          "サーブレシーブ成功率偏差値",
          "アタック決定率偏差値"
         ],
         "type": "scatterpolargl"
        },
        {
         "hovertemplate": "選手名=濱本豊<br>偏差値=%{r}<br>項目=%{theta}<extra></extra>",
         "legendgroup": "濱本豊",
         "line": {
          "color": "#19d3f3",
          "dash": "solid"
         },
         "mode": "lines",
         "name": "濱本豊",
         "r": [
          47.5,
          46.3,
          52.1,
          51.2,
          52,
          35.2,
          44.9,
          49,
          47.5
         ],
         "showlegend": true,
         "subplot": "polar",
         "theta": [
          "アタック決定率偏差値",
          "アタック効果率偏差値",
          "バックアタック決定率偏差値",
          "バックアタック効果率偏差値",
          "アタックセット得点平均偏差値",
          "ブロックセット得点平均偏差値",
          "サーブ効果率偏差値",
          "サーブレシーブ成功率偏差値",
          "アタック決定率偏差値"
         ],
         "type": "scatterpolargl"
        },
        {
         "hovertemplate": "選手名=辻口泰地<br>偏差値=%{r}<br>項目=%{theta}<extra></extra>",
         "legendgroup": "辻口泰地",
         "line": {
          "color": "#FF6692",
          "dash": "solid"
         },
         "mode": "lines",
         "name": "辻口泰地",
         "r": [
          33.5,
          37.3,
          34.5,
          38.9,
          40.5,
          39.5,
          26.9,
          60,
          33.5
         ],
         "showlegend": true,
         "subplot": "polar",
         "theta": [
          "アタック決定率偏差値",
          "アタック効果率偏差値",
          "バックアタック決定率偏差値",
          "バックアタック効果率偏差値",
          "アタックセット得点平均偏差値",
          "ブロックセット得点平均偏差値",
          "サーブ効果率偏差値",
          "サーブレシーブ成功率偏差値",
          "アタック決定率偏差値"
         ],
         "type": "scatterpolargl"
        },
        {
         "hovertemplate": "選手名=井口直紀<br>偏差値=%{r}<br>項目=%{theta}<extra></extra>",
         "legendgroup": "井口直紀",
         "line": {
          "color": "#B6E880",
          "dash": "solid"
         },
         "mode": "lines",
         "name": "井口直紀",
         "r": [
          86,
          78.1,
          55.1,
          39.7,
          35.8,
          44.9,
          56.3,
          86
         ],
         "showlegend": true,
         "subplot": "polar",
         "theta": [
          "アタック決定率偏差値",
          "アタック効果率偏差値",
          "バックアタック決定率偏差値",
          "アタックセット得点平均偏差値",
          "ブロックセット得点平均偏差値",
          "サーブ効果率偏差値",
          "サーブレシーブ成功率偏差値",
          "アタック決定率偏差値"
         ],
         "type": "scatterpolargl"
        },
        {
         "hovertemplate": "選手名=藤岡諒馬<br>偏差値=%{r}<br>項目=%{theta}<extra></extra>",
         "legendgroup": "藤岡諒馬",
         "line": {
          "color": "#FF97FF",
          "dash": "solid"
         },
         "mode": "lines",
         "name": "藤岡諒馬",
         "r": [
          49.3,
          48.4,
          34.5,
          20.7,
          39.7,
          39.5,
          54.3,
          28,
          49.3
         ],
         "showlegend": true,
         "subplot": "polar",
         "theta": [
          "アタック決定率偏差値",
          "アタック効果率偏差値",
          "バックアタック決定率偏差値",
          "バックアタック効果率偏差値",
          "アタックセット得点平均偏差値",
          "ブロックセット得点平均偏差値",
          "サーブ効果率偏差値",
          "サーブレシーブ成功率偏差値",
          "アタック決定率偏差値"
         ],
         "type": "scatterpolargl"
        },
        {
         "hovertemplate": "選手名=米田亘希<br>偏差値=%{r}<br>項目=%{theta}<extra></extra>",
         "legendgroup": "米田亘希",
         "line": {
          "color": "#FECB52",
          "dash": "solid"
         },
         "mode": "lines",
         "name": "米田亘希",
         "r": [
          46.5,
          46.7,
          50.6,
          46.8,
          55.3,
          47.3,
          45.3,
          50.6,
          46.5
         ],
         "showlegend": true,
         "subplot": "polar",
         "theta": [
          "アタック決定率偏差値",
          "アタック効果率偏差値",
          "バックアタック決定率偏差値",
          "バックアタック効果率偏差値",
          "アタックセット得点平均偏差値",
          "ブロックセット得点平均偏差値",
          "サーブ効果率偏差値",
          "サーブレシーブ成功率偏差値",
          "アタック決定率偏差値"
         ],
         "type": "scatterpolargl"
        },
        {
         "hovertemplate": "選手名=須貝祐介<br>偏差値=%{r}<br>項目=%{theta}<extra></extra>",
         "legendgroup": "須貝祐介",
         "line": {
          "color": "#636efa",
          "dash": "solid"
         },
         "mode": "lines",
         "name": "須貝祐介",
         "r": [
          38.6,
          41.9,
          47.2,
          50.1,
          46.1,
          55.1,
          28.4,
          51.3,
          38.6
         ],
         "showlegend": true,
         "subplot": "polar",
         "theta": [
          "アタック決定率偏差値",
          "アタック効果率偏差値",
          "バックアタック決定率偏差値",
          "バックアタック効果率偏差値",
          "アタックセット得点平均偏差値",
          "ブロックセット得点平均偏差値",
          "サーブ効果率偏差値",
          "サーブレシーブ成功率偏差値",
          "アタック決定率偏差値"
         ],
         "type": "scatterpolargl"
        },
        {
         "hovertemplate": "選手名=笠利真吾<br>偏差値=%{r}<br>項目=%{theta}<extra></extra>",
         "legendgroup": "笠利真吾",
         "line": {
          "color": "#EF553B",
          "dash": "solid"
         },
         "mode": "lines",
         "name": "笠利真吾",
         "r": [
          44.3,
          45.7,
          34.5,
          20.7,
          51.7,
          40.1,
          52.3,
          51.4,
          44.3
         ],
         "showlegend": true,
         "subplot": "polar",
         "theta": [
          "アタック決定率偏差値",
          "アタック効果率偏差値",
          "バックアタック決定率偏差値",
          "バックアタック効果率偏差値",
          "アタックセット得点平均偏差値",
          "ブロックセット得点平均偏差値",
          "サーブ効果率偏差値",
          "サーブレシーブ成功率偏差値",
          "アタック決定率偏差値"
         ],
         "type": "scatterpolargl"
        },
        {
         "hovertemplate": "選手名=戸嵜嵩大<br>偏差値=%{r}<br>項目=%{theta}<extra></extra>",
         "legendgroup": "戸嵜嵩大",
         "line": {
          "color": "#00cc96",
          "dash": "solid"
         },
         "mode": "lines",
         "name": "戸嵜嵩大",
         "r": [
          51.1,
          52.2,
          58.6,
          59.2,
          62.6,
          42.5,
          36.8,
          53.5,
          51.1
         ],
         "showlegend": true,
         "subplot": "polar",
         "theta": [
          "アタック決定率偏差値",
          "アタック効果率偏差値",
          "バックアタック決定率偏差値",
          "バックアタック効果率偏差値",
          "アタックセット得点平均偏差値",
          "ブロックセット得点平均偏差値",
          "サーブ効果率偏差値",
          "サーブレシーブ成功率偏差値",
          "アタック決定率偏差値"
         ],
         "type": "scatterpolargl"
        },
        {
         "hovertemplate": "選手名=池田幸太<br>偏差値=%{r}<br>項目=%{theta}<extra></extra>",
         "legendgroup": "池田幸太",
         "line": {
          "color": "#ab63fa",
          "dash": "solid"
         },
         "mode": "lines",
         "name": "池田幸太",
         "r": [
          49.5,
          47.5,
          56,
          53.5,
          64,
          52.7,
          58.6,
          51.8,
          49.5
         ],
         "showlegend": true,
         "subplot": "polar",
         "theta": [
          "アタック決定率偏差値",
          "アタック効果率偏差値",
          "バックアタック決定率偏差値",
          "バックアタック効果率偏差値",
          "アタックセット得点平均偏差値",
          "ブロックセット得点平均偏差値",
          "サーブ効果率偏差値",
          "サーブレシーブ成功率偏差値",
          "アタック決定率偏差値"
         ],
         "type": "scatterpolargl"
        },
        {
         "hovertemplate": "選手名=山本憲吾<br>偏差値=%{r}<br>項目=%{theta}<extra></extra>",
         "legendgroup": "山本憲吾",
         "line": {
          "color": "#FFA15A",
          "dash": "solid"
         },
         "mode": "lines",
         "name": "山本憲吾",
         "r": [
          48.9,
          54.5,
          63.1,
          50.3,
          56.4,
          56.3,
          48.9
         ],
         "showlegend": true,
         "subplot": "polar",
         "theta": [
          "アタック決定率偏差値",
          "バックアタック決定率偏差値",
          "アタックセット得点平均偏差値",
          "ブロックセット得点平均偏差値",
          "サーブ効果率偏差値",
          "サーブレシーブ成功率偏差値",
          "アタック決定率偏差値"
         ],
         "type": "scatterpolargl"
        },
        {
         "hovertemplate": "選手名=椿芽久<br>偏差値=%{r}<br>項目=%{theta}<extra></extra>",
         "legendgroup": "椿芽久",
         "line": {
          "color": "#19d3f3",
          "dash": "solid"
         },
         "mode": "lines",
         "name": "椿芽久",
         "r": [
          42,
          42.3,
          34.5,
          38.9,
          40.1,
          46.1,
          44.4,
          28,
          42
         ],
         "showlegend": true,
         "subplot": "polar",
         "theta": [
          "アタック決定率偏差値",
          "アタック効果率偏差値",
          "バックアタック決定率偏差値",
          "バックアタック効果率偏差値",
          "アタックセット得点平均偏差値",
          "ブロックセット得点平均偏差値",
          "サーブ効果率偏差値",
          "サーブレシーブ成功率偏差値",
          "アタック決定率偏差値"
         ],
         "type": "scatterpolargl"
        },
        {
         "hovertemplate": "選手名=矢貫龍馬<br>偏差値=%{r}<br>項目=%{theta}<extra></extra>",
         "legendgroup": "矢貫龍馬",
         "line": {
          "color": "#FF6692",
          "dash": "solid"
         },
         "mode": "lines",
         "name": "矢貫龍馬",
         "r": [
          50.8,
          50.3,
          34.5,
          47.5,
          58.8,
          49.8,
          58.3,
          50.8
         ],
         "showlegend": true,
         "subplot": "polar",
         "theta": [
          "アタック決定率偏差値",
          "アタック効果率偏差値",
          "バックアタック決定率偏差値",
          "アタックセット得点平均偏差値",
          "ブロックセット得点平均偏差値",
          "サーブ効果率偏差値",
          "サーブレシーブ成功率偏差値",
          "アタック決定率偏差値"
         ],
         "type": "scatterpolargl"
        },
        {
         "hovertemplate": "選手名=波佐間泰平<br>偏差値=%{r}<br>項目=%{theta}<extra></extra>",
         "legendgroup": "波佐間泰平",
         "line": {
          "color": "#B6E880",
          "dash": "solid"
         },
         "mode": "lines",
         "name": "波佐間泰平",
         "r": [
          42.6,
          47.4,
          34.5,
          41.8,
          44.9,
          50.8,
          43.9,
          42.6
         ],
         "showlegend": true,
         "subplot": "polar",
         "theta": [
          "アタック決定率偏差値",
          "アタック効果率偏差値",
          "バックアタック決定率偏差値",
          "アタックセット得点平均偏差値",
          "ブロックセット得点平均偏差値",
          "サーブ効果率偏差値",
          "サーブレシーブ成功率偏差値",
          "アタック決定率偏差値"
         ],
         "type": "scatterpolargl"
        },
        {
         "hovertemplate": "選手名=森崎健史<br>偏差値=%{r}<br>項目=%{theta}<extra></extra>",
         "legendgroup": "森崎健史",
         "line": {
          "color": "#FF97FF",
          "dash": "solid"
         },
         "mode": "lines",
         "name": "森崎健史",
         "r": [
          53,
          50.6,
          34.5,
          49.2,
          54.5,
          48.9,
          58.3,
          53
         ],
         "showlegend": true,
         "subplot": "polar",
         "theta": [
          "アタック決定率偏差値",
          "アタック効果率偏差値",
          "バックアタック決定率偏差値",
          "アタックセット得点平均偏差値",
          "ブロックセット得点平均偏差値",
          "サーブ効果率偏差値",
          "サーブレシーブ成功率偏差値",
          "アタック決定率偏差値"
         ],
         "type": "scatterpolargl"
        },
        {
         "hovertemplate": "選手名=松村文斗<br>偏差値=%{r}<br>項目=%{theta}<extra></extra>",
         "legendgroup": "松村文斗",
         "line": {
          "color": "#FECB52",
          "dash": "solid"
         },
         "mode": "lines",
         "name": "松村文斗",
         "r": [
          24.5,
          25.1,
          49.4,
          41.8,
          58.2,
          23.9,
          54.3,
          24.5
         ],
         "showlegend": true,
         "subplot": "polar",
         "theta": [
          "アタック決定率偏差値",
          "アタック効果率偏差値",
          "バックアタック決定率偏差値",
          "アタックセット得点平均偏差値",
          "ブロックセット得点平均偏差値",
          "サーブ効果率偏差値",
          "サーブレシーブ成功率偏差値",
          "アタック決定率偏差値"
         ],
         "type": "scatterpolargl"
        },
        {
         "hovertemplate": "選手名=大沢健太郎<br>偏差値=%{r}<br>項目=%{theta}<extra></extra>",
         "legendgroup": "大沢健太郎",
         "line": {
          "color": "#636efa",
          "dash": "solid"
         },
         "mode": "lines",
         "name": "大沢健太郎",
         "r": [
          42,
          39.6,
          49.6,
          43.7,
          47.3,
          50.7,
          42
         ],
         "showlegend": true,
         "subplot": "polar",
         "theta": [
          "アタック決定率偏差値",
          "バックアタック決定率偏差値",
          "アタックセット得点平均偏差値",
          "ブロックセット得点平均偏差値",
          "サーブ効果率偏差値",
          "サーブレシーブ成功率偏差値",
          "アタック決定率偏差値"
         ],
         "type": "scatterpolargl"
        },
        {
         "hovertemplate": "選手名=高澤和貴<br>偏差値=%{r}<br>項目=%{theta}<extra></extra>",
         "legendgroup": "高澤和貴",
         "line": {
          "color": "#EF553B",
          "dash": "solid"
         },
         "mode": "lines",
         "name": "高澤和貴",
         "r": [
          56.7,
          54,
          39.6,
          40.1,
          43.7,
          58.4,
          56.3,
          56.7
         ],
         "showlegend": true,
         "subplot": "polar",
         "theta": [
          "アタック決定率偏差値",
          "アタック効果率偏差値",
          "バックアタック決定率偏差値",
          "アタックセット得点平均偏差値",
          "ブロックセット得点平均偏差値",
          "サーブ効果率偏差値",
          "サーブレシーブ成功率偏差値",
          "アタック決定率偏差値"
         ],
         "type": "scatterpolargl"
        },
        {
         "hovertemplate": "選手名=長田翼<br>偏差値=%{r}<br>項目=%{theta}<extra></extra>",
         "legendgroup": "長田翼",
         "line": {
          "color": "#00cc96",
          "dash": "solid"
         },
         "mode": "lines",
         "name": "長田翼",
         "r": [
          17.7,
          -18.3,
          34.5,
          44.9,
          40.1,
          55.2,
          28,
          17.7
         ],
         "showlegend": true,
         "subplot": "polar",
         "theta": [
          "アタック決定率偏差値",
          "アタック効果率偏差値",
          "バックアタック決定率偏差値",
          "アタックセット得点平均偏差値",
          "ブロックセット得点平均偏差値",
          "サーブ効果率偏差値",
          "サーブレシーブ成功率偏差値",
          "アタック決定率偏差値"
         ],
         "type": "scatterpolargl"
        }
       ],
       "layout": {
        "legend": {
         "title": {
          "text": "選手名"
         },
         "tracegroupgap": 0
        },
        "margin": {
         "t": 60
        },
        "polar": {
         "angularaxis": {
          "direction": "clockwise",
          "rotation": 90
         },
         "domain": {
          "x": [
           0,
           1
          ],
          "y": [
           0,
           1
          ]
         }
        },
        "template": {
         "data": {
          "bar": [
           {
            "error_x": {
             "color": "#2a3f5f"
            },
            "error_y": {
             "color": "#2a3f5f"
            },
            "marker": {
             "line": {
              "color": "#E5ECF6",
              "width": 0.5
             }
            },
            "type": "bar"
           }
          ],
          "barpolar": [
           {
            "marker": {
             "line": {
              "color": "#E5ECF6",
              "width": 0.5
             }
            },
            "type": "barpolar"
           }
          ],
          "carpet": [
           {
            "aaxis": {
             "endlinecolor": "#2a3f5f",
             "gridcolor": "white",
             "linecolor": "white",
             "minorgridcolor": "white",
             "startlinecolor": "#2a3f5f"
            },
            "baxis": {
             "endlinecolor": "#2a3f5f",
             "gridcolor": "white",
             "linecolor": "white",
             "minorgridcolor": "white",
             "startlinecolor": "#2a3f5f"
            },
            "type": "carpet"
           }
          ],
          "choropleth": [
           {
            "colorbar": {
             "outlinewidth": 0,
             "ticks": ""
            },
            "type": "choropleth"
           }
          ],
          "contour": [
           {
            "colorbar": {
             "outlinewidth": 0,
             "ticks": ""
            },
            "colorscale": [
             [
              0,
              "#0d0887"
             ],
             [
              0.1111111111111111,
              "#46039f"
             ],
             [
              0.2222222222222222,
              "#7201a8"
             ],
             [
              0.3333333333333333,
              "#9c179e"
             ],
             [
              0.4444444444444444,
              "#bd3786"
             ],
             [
              0.5555555555555556,
              "#d8576b"
             ],
             [
              0.6666666666666666,
              "#ed7953"
             ],
             [
              0.7777777777777778,
              "#fb9f3a"
             ],
             [
              0.8888888888888888,
              "#fdca26"
             ],
             [
              1,
              "#f0f921"
             ]
            ],
            "type": "contour"
           }
          ],
          "contourcarpet": [
           {
            "colorbar": {
             "outlinewidth": 0,
             "ticks": ""
            },
            "type": "contourcarpet"
           }
          ],
          "heatmap": [
           {
            "colorbar": {
             "outlinewidth": 0,
             "ticks": ""
            },
            "colorscale": [
             [
              0,
              "#0d0887"
             ],
             [
              0.1111111111111111,
              "#46039f"
             ],
             [
              0.2222222222222222,
              "#7201a8"
             ],
             [
              0.3333333333333333,
              "#9c179e"
             ],
             [
              0.4444444444444444,
              "#bd3786"
             ],
             [
              0.5555555555555556,
              "#d8576b"
             ],
             [
              0.6666666666666666,
              "#ed7953"
             ],
             [
              0.7777777777777778,
              "#fb9f3a"
             ],
             [
              0.8888888888888888,
              "#fdca26"
             ],
             [
              1,
              "#f0f921"
             ]
            ],
            "type": "heatmap"
           }
          ],
          "heatmapgl": [
           {
            "colorbar": {
             "outlinewidth": 0,
             "ticks": ""
            },
            "colorscale": [
             [
              0,
              "#0d0887"
             ],
             [
              0.1111111111111111,
              "#46039f"
             ],
             [
              0.2222222222222222,
              "#7201a8"
             ],
             [
              0.3333333333333333,
              "#9c179e"
             ],
             [
              0.4444444444444444,
              "#bd3786"
             ],
             [
              0.5555555555555556,
              "#d8576b"
             ],
             [
              0.6666666666666666,
              "#ed7953"
             ],
             [
              0.7777777777777778,
              "#fb9f3a"
             ],
             [
              0.8888888888888888,
              "#fdca26"
             ],
             [
              1,
              "#f0f921"
             ]
            ],
            "type": "heatmapgl"
           }
          ],
          "histogram": [
           {
            "marker": {
             "colorbar": {
              "outlinewidth": 0,
              "ticks": ""
             }
            },
            "type": "histogram"
           }
          ],
          "histogram2d": [
           {
            "colorbar": {
             "outlinewidth": 0,
             "ticks": ""
            },
            "colorscale": [
             [
              0,
              "#0d0887"
             ],
             [
              0.1111111111111111,
              "#46039f"
             ],
             [
              0.2222222222222222,
              "#7201a8"
             ],
             [
              0.3333333333333333,
              "#9c179e"
             ],
             [
              0.4444444444444444,
              "#bd3786"
             ],
             [
              0.5555555555555556,
              "#d8576b"
             ],
             [
              0.6666666666666666,
              "#ed7953"
             ],
             [
              0.7777777777777778,
              "#fb9f3a"
             ],
             [
              0.8888888888888888,
              "#fdca26"
             ],
             [
              1,
              "#f0f921"
             ]
            ],
            "type": "histogram2d"
           }
          ],
          "histogram2dcontour": [
           {
            "colorbar": {
             "outlinewidth": 0,
             "ticks": ""
            },
            "colorscale": [
             [
              0,
              "#0d0887"
             ],
             [
              0.1111111111111111,
              "#46039f"
             ],
             [
              0.2222222222222222,
              "#7201a8"
             ],
             [
              0.3333333333333333,
              "#9c179e"
             ],
             [
              0.4444444444444444,
              "#bd3786"
             ],
             [
              0.5555555555555556,
              "#d8576b"
             ],
             [
              0.6666666666666666,
              "#ed7953"
             ],
             [
              0.7777777777777778,
              "#fb9f3a"
             ],
             [
              0.8888888888888888,
              "#fdca26"
             ],
             [
              1,
              "#f0f921"
             ]
            ],
            "type": "histogram2dcontour"
           }
          ],
          "mesh3d": [
           {
            "colorbar": {
             "outlinewidth": 0,
             "ticks": ""
            },
            "type": "mesh3d"
           }
          ],
          "parcoords": [
           {
            "line": {
             "colorbar": {
              "outlinewidth": 0,
              "ticks": ""
             }
            },
            "type": "parcoords"
           }
          ],
          "pie": [
           {
            "automargin": true,
            "type": "pie"
           }
          ],
          "scatter": [
           {
            "marker": {
             "colorbar": {
              "outlinewidth": 0,
              "ticks": ""
             }
            },
            "type": "scatter"
           }
          ],
          "scatter3d": [
           {
            "line": {
             "colorbar": {
              "outlinewidth": 0,
              "ticks": ""
             }
            },
            "marker": {
             "colorbar": {
              "outlinewidth": 0,
              "ticks": ""
             }
            },
            "type": "scatter3d"
           }
          ],
          "scattercarpet": [
           {
            "marker": {
             "colorbar": {
              "outlinewidth": 0,
              "ticks": ""
             }
            },
            "type": "scattercarpet"
           }
          ],
          "scattergeo": [
           {
            "marker": {
             "colorbar": {
              "outlinewidth": 0,
              "ticks": ""
             }
            },
            "type": "scattergeo"
           }
          ],
          "scattergl": [
           {
            "marker": {
             "colorbar": {
              "outlinewidth": 0,
              "ticks": ""
             }
            },
            "type": "scattergl"
           }
          ],
          "scattermapbox": [
           {
            "marker": {
             "colorbar": {
              "outlinewidth": 0,
              "ticks": ""
             }
            },
            "type": "scattermapbox"
           }
          ],
          "scatterpolar": [
           {
            "marker": {
             "colorbar": {
              "outlinewidth": 0,
              "ticks": ""
             }
            },
            "type": "scatterpolar"
           }
          ],
          "scatterpolargl": [
           {
            "marker": {
             "colorbar": {
              "outlinewidth": 0,
              "ticks": ""
             }
            },
            "type": "scatterpolargl"
           }
          ],
          "scatterternary": [
           {
            "marker": {
             "colorbar": {
              "outlinewidth": 0,
              "ticks": ""
             }
            },
            "type": "scatterternary"
           }
          ],
          "surface": [
           {
            "colorbar": {
             "outlinewidth": 0,
             "ticks": ""
            },
            "colorscale": [
             [
              0,
              "#0d0887"
             ],
             [
              0.1111111111111111,
              "#46039f"
             ],
             [
              0.2222222222222222,
              "#7201a8"
             ],
             [
              0.3333333333333333,
              "#9c179e"
             ],
             [
              0.4444444444444444,
              "#bd3786"
             ],
             [
              0.5555555555555556,
              "#d8576b"
             ],
             [
              0.6666666666666666,
              "#ed7953"
             ],
             [
              0.7777777777777778,
              "#fb9f3a"
             ],
             [
              0.8888888888888888,
              "#fdca26"
             ],
             [
              1,
              "#f0f921"
             ]
            ],
            "type": "surface"
           }
          ],
          "table": [
           {
            "cells": {
             "fill": {
              "color": "#EBF0F8"
             },
             "line": {
              "color": "white"
             }
            },
            "header": {
             "fill": {
              "color": "#C8D4E3"
             },
             "line": {
              "color": "white"
             }
            },
            "type": "table"
           }
          ]
         },
         "layout": {
          "annotationdefaults": {
           "arrowcolor": "#2a3f5f",
           "arrowhead": 0,
           "arrowwidth": 1
          },
          "coloraxis": {
           "colorbar": {
            "outlinewidth": 0,
            "ticks": ""
           }
          },
          "colorscale": {
           "diverging": [
            [
             0,
             "#8e0152"
            ],
            [
             0.1,
             "#c51b7d"
            ],
            [
             0.2,
             "#de77ae"
            ],
            [
             0.3,
             "#f1b6da"
            ],
            [
             0.4,
             "#fde0ef"
            ],
            [
             0.5,
             "#f7f7f7"
            ],
            [
             0.6,
             "#e6f5d0"
            ],
            [
             0.7,
             "#b8e186"
            ],
            [
             0.8,
             "#7fbc41"
            ],
            [
             0.9,
             "#4d9221"
            ],
            [
             1,
             "#276419"
            ]
           ],
           "sequential": [
            [
             0,
             "#0d0887"
            ],
            [
             0.1111111111111111,
             "#46039f"
            ],
            [
             0.2222222222222222,
             "#7201a8"
            ],
            [
             0.3333333333333333,
             "#9c179e"
            ],
            [
             0.4444444444444444,
             "#bd3786"
            ],
            [
             0.5555555555555556,
             "#d8576b"
            ],
            [
             0.6666666666666666,
             "#ed7953"
            ],
            [
             0.7777777777777778,
             "#fb9f3a"
            ],
            [
             0.8888888888888888,
             "#fdca26"
            ],
            [
             1,
             "#f0f921"
            ]
           ],
           "sequentialminus": [
            [
             0,
             "#0d0887"
            ],
            [
             0.1111111111111111,
             "#46039f"
            ],
            [
             0.2222222222222222,
             "#7201a8"
            ],
            [
             0.3333333333333333,
             "#9c179e"
            ],
            [
             0.4444444444444444,
             "#bd3786"
            ],
            [
             0.5555555555555556,
             "#d8576b"
            ],
            [
             0.6666666666666666,
             "#ed7953"
            ],
            [
             0.7777777777777778,
             "#fb9f3a"
            ],
            [
             0.8888888888888888,
             "#fdca26"
            ],
            [
             1,
             "#f0f921"
            ]
           ]
          },
          "colorway": [
           "#636efa",
           "#EF553B",
           "#00cc96",
           "#ab63fa",
           "#FFA15A",
           "#19d3f3",
           "#FF6692",
           "#B6E880",
           "#FF97FF",
           "#FECB52"
          ],
          "font": {
           "color": "#2a3f5f"
          },
          "geo": {
           "bgcolor": "white",
           "lakecolor": "white",
           "landcolor": "#E5ECF6",
           "showlakes": true,
           "showland": true,
           "subunitcolor": "white"
          },
          "hoverlabel": {
           "align": "left"
          },
          "hovermode": "closest",
          "mapbox": {
           "style": "light"
          },
          "paper_bgcolor": "white",
          "plot_bgcolor": "#E5ECF6",
          "polar": {
           "angularaxis": {
            "gridcolor": "white",
            "linecolor": "white",
            "ticks": ""
           },
           "bgcolor": "#E5ECF6",
           "radialaxis": {
            "gridcolor": "white",
            "linecolor": "white",
            "ticks": ""
           }
          },
          "scene": {
           "xaxis": {
            "backgroundcolor": "#E5ECF6",
            "gridcolor": "white",
            "gridwidth": 2,
            "linecolor": "white",
            "showbackground": true,
            "ticks": "",
            "zerolinecolor": "white"
           },
           "yaxis": {
            "backgroundcolor": "#E5ECF6",
            "gridcolor": "white",
            "gridwidth": 2,
            "linecolor": "white",
            "showbackground": true,
            "ticks": "",
            "zerolinecolor": "white"
           },
           "zaxis": {
            "backgroundcolor": "#E5ECF6",
            "gridcolor": "white",
            "gridwidth": 2,
            "linecolor": "white",
            "showbackground": true,
            "ticks": "",
            "zerolinecolor": "white"
           }
          },
          "shapedefaults": {
           "line": {
            "color": "#2a3f5f"
           }
          },
          "ternary": {
           "aaxis": {
            "gridcolor": "white",
            "linecolor": "white",
            "ticks": ""
           },
           "baxis": {
            "gridcolor": "white",
            "linecolor": "white",
            "ticks": ""
           },
           "bgcolor": "#E5ECF6",
           "caxis": {
            "gridcolor": "white",
            "linecolor": "white",
            "ticks": ""
           }
          },
          "title": {
           "x": 0.05
          },
          "xaxis": {
           "automargin": true,
           "gridcolor": "white",
           "linecolor": "white",
           "ticks": "",
           "title": {
            "standoff": 15
           },
           "zerolinecolor": "white",
           "zerolinewidth": 2
          },
          "yaxis": {
           "automargin": true,
           "gridcolor": "white",
           "linecolor": "white",
           "ticks": "",
           "title": {
            "standoff": 15
           },
           "zerolinecolor": "white",
           "zerolinewidth": 2
          }
         }
        }
       }
      }
     },
     "metadata": {}
    }
   ],
   "source": [
    "fig = px.line_polar(regular19_stack, r=\"偏差値\", theta=\"項目\", color=\"選手名\", line_close=True) \n",
    "fig.show()"
   ]
  },
  {
   "cell_type": "code",
   "execution_count": null,
   "metadata": {},
   "outputs": [],
   "source": []
  }
 ]
}