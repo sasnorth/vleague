{
 "cells": [
  {
   "cell_type": "code",
   "execution_count": 24,
   "metadata": {},
   "outputs": [],
   "source": [
    "from selenium import webdriver\n",
    "import time\n",
    "import pandas as pd\n",
    " \n",
    "from selenium.webdriver.common.keys import Keys"
   ]
  },
  {
   "cell_type": "code",
   "execution_count": 25,
   "metadata": {},
   "outputs": [],
   "source": [
    "chromeOptions = webdriver.ChromeOptions()\n",
    "prefs = {\"download.default_directory\" : \"C:\\\\Users\\\\sasno\\\\Desktop\\\\Mypandas\\\\vleague\"}\n",
    "chromeOptions.add_experimental_option(\"prefs\", prefs)\n",
    "chromeOptions.add_argument('--ignore-certificate-errors')"
   ]
  },
  {
   "cell_type": "code",
   "execution_count": 26,
   "metadata": {},
   "outputs": [
    {
     "name": "stderr",
     "output_type": "stream",
     "text": [
      "C:\\Users\\sasno\\AppData\\Roaming\\Python\\Python37\\site-packages\\ipykernel_launcher.py:2: DeprecationWarning: use options instead of chrome_options\n",
      "  \n"
     ]
    }
   ],
   "source": [
    "# GoogleChromeを起動\n",
    "browser = webdriver.Chrome(executable_path='C:\\\\Users\\\\sasno\\\\Desktop\\\\Mypandas\\\\chromedriver.exe', chrome_options=chromeOptions)\n",
    "browser.implicitly_wait(3)"
   ]
  },
  {
   "cell_type": "code",
   "execution_count": 90,
   "metadata": {},
   "outputs": [
    {
     "name": "stdout",
     "output_type": "stream",
     "text": [
      "https://www.vleague.jp/record/player_ranking/ :アクセス完了\n"
     ]
    }
   ],
   "source": [
    "# ウェブサイトへアクセス\n",
    "url = \"https://www.vleague.jp/record/player_ranking/\"\n",
    "time.sleep(1)\n",
    "browser.get(url)\n",
    "print(url, \":アクセス完了\")"
   ]
  },
  {
   "cell_type": "code",
   "execution_count": 91,
   "metadata": {},
   "outputs": [],
   "source": [
    "from bs4 import BeautifulSoup\n",
    "import urllib.request as req"
   ]
  },
  {
   "cell_type": "code",
   "execution_count": 92,
   "metadata": {},
   "outputs": [],
   "source": [
    "def checkbox(sel_x, che_x):\n",
    "    # チェックボックス入力\n",
    "    select = browser.find_element_by_xpath(sel_x)\n",
    "    select.click()\n",
    "    time.sleep(1)\n",
    "    check = browser.find_element_by_xpath(che_x)\n",
    "    check.click()\n",
    "    print(\"チェックボックスを選択\")"
   ]
  },
  {
   "cell_type": "code",
   "execution_count": 93,
   "metadata": {},
   "outputs": [
    {
     "name": "stdout",
     "output_type": "stream",
     "text": [
      "チェックボックスを選択\n"
     ]
    }
   ],
   "source": [
    "# カンファレンスの選択\n",
    "# V1男子\n",
    "sel_x = '/html/body/main/article/div/section[3]/div/form/div[1]/div[1]/div/div[1]/p/span[1]'\n",
    "che_x = '/html/body/main/article/div/section[3]/div/form/div[1]/div[1]/div/div[2]/ul/li[1]'\n",
    "checkbox(sel_x, che_x)"
   ]
  },
  {
   "cell_type": "code",
   "execution_count": 94,
   "metadata": {},
   "outputs": [
    {
     "name": "stdout",
     "output_type": "stream",
     "text": [
      "チェックボックスを選択\n"
     ]
    }
   ],
   "source": [
    "# シーズン選択\n",
    "# 2019-20\n",
    "sel_x = '/html/body/main/article/div/section[3]/div/form/div[1]/div[2]/div/div[1]'\n",
    "che_x = '/html/body/main/article/div/section[3]/div/form/div[1]/div[2]/div/div[2]/ul/li[2]'\n",
    "checkbox(sel_x, che_x)"
   ]
  },
  {
   "cell_type": "code",
   "execution_count": 95,
   "metadata": {},
   "outputs": [
    {
     "name": "stdout",
     "output_type": "stream",
     "text": [
      "チェックボックスを選択\n"
     ]
    }
   ],
   "source": [
    "sel_x = '/html/body/main/article/div/section[3]/div/form/div[1]/div[3]/div/div[1]'\n",
    "che_x = '/html/body/main/article/div/section[3]/div/form/div[1]/div[3]/div/div[2]/ul/li[1]'\n",
    "checkbox(sel_x, che_x)"
   ]
  },
  {
   "cell_type": "code",
   "execution_count": 96,
   "metadata": {},
   "outputs": [
    {
     "name": "stdout",
     "output_type": "stream",
     "text": [
      "チェックボックスを選択\n"
     ]
    }
   ],
   "source": [
    "sel_x = '/html/body/main/article/div/section[3]/div/form/div[1]/div[4]/div/div[1]'\n",
    "che_x = '/html/body/main/article/div/section[3]/div/form/div[1]/div[4]/div/div[2]/ul/li[1]'\n",
    "checkbox(sel_x, che_x)"
   ]
  },
  {
   "cell_type": "code",
   "execution_count": 98,
   "metadata": {},
   "outputs": [
    {
     "name": "stdout",
     "output_type": "stream",
     "text": [
      "チェックボックスを選択\n"
     ]
    }
   ],
   "source": [
    "sel_x = '/html/body/main/article/div/section[3]/div/form/div[1]/div[5]/div/div[1]'\n",
    "che_x = '/html/body/main/article/div/section[3]/div/form/div[1]/div[5]/div/div[2]/ul/li[1]'\n",
    "checkbox(sel_x, che_x)"
   ]
  },
  {
   "cell_type": "code",
   "execution_count": 99,
   "metadata": {},
   "outputs": [],
   "source": [
    "# 入力したデータをクリック\n",
    "def search(xpath):\n",
    "    browser_from = browser.find_element_by_xpath(xpath)\n",
    "    time.sleep(3)\n",
    "    browser_from.click()\n",
    "    print(\"情報を入力してSearchを押しました\")"
   ]
  },
  {
   "cell_type": "code",
   "execution_count": 102,
   "metadata": {},
   "outputs": [
    {
     "name": "stdout",
     "output_type": "stream",
     "text": [
      "情報を入力してSearchを押しました\n"
     ]
    }
   ],
   "source": [
    "# 決定を押す\n",
    "xpath = '/html/body/main/article/div/section[3]/div/form/div[2]/div/div/button'\n",
    "search(xpath)"
   ]
  },
  {
   "cell_type": "code",
   "execution_count": 103,
   "metadata": {},
   "outputs": [
    {
     "name": "stdout",
     "output_type": "stream",
     "text": [
      "情報を入力してSearchを押しました\n"
     ]
    }
   ],
   "source": [
    "# 決定を押す\n",
    "xpath = '/html/body/main/article/div/section[3]/div/form/div[3]/div[2]/p[1]/a'\n",
    "search(xpath)"
   ]
  }
 ],
 "metadata": {
  "kernelspec": {
   "display_name": "Python 3",
   "language": "python",
   "name": "python3"
  },
  "language_info": {
   "codemirror_mode": {
    "name": "ipython",
    "version": 3
   },
   "file_extension": ".py",
   "mimetype": "text/x-python",
   "name": "python",
   "nbconvert_exporter": "python",
   "pygments_lexer": "ipython3",
   "version": "3.7.7"
  }
 },
 "nbformat": 4,
 "nbformat_minor": 4
}
