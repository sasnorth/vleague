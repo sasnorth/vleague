{
 "metadata": {
  "language_info": {
   "codemirror_mode": {
    "name": "ipython",
    "version": 3
   },
   "file_extension": ".py",
   "mimetype": "text/x-python",
   "name": "python",
   "nbconvert_exporter": "python",
   "pygments_lexer": "ipython3",
   "version": "3.7.3-final"
  },
  "orig_nbformat": 2,
  "kernelspec": {
   "name": "Python 3.7.3 64-bit",
   "display_name": "Python 3.7.3 64-bit",
   "metadata": {
    "interpreter": {
     "hash": "0600588c3b5f4418cbe7b5ebc6825b479f3bc010269d8b60d75058cdd010adfe"
    }
   }
  }
 },
 "nbformat": 4,
 "nbformat_minor": 2,
 "cells": [
  {
   "cell_type": "code",
   "execution_count": 1,
   "metadata": {},
   "outputs": [],
   "source": [
    "# MySQLサーバーに接続\n",
    "import mysql.connector\n",
    "\n",
    "config = {\n",
    "    'user': 'root',\n",
    "    'password': 'root',\n",
    "    'host': 'localhost'\n",
    "}\n",
    "\n",
    "try:\n",
    "    dbconnector = mysql.connector.connect(**config)\n",
    "\n",
    "except mysql_connector.Error as errmsg:\n",
    "    print('データベースベースサーバーへの接続が失敗しました。')\n",
    "    print('エラーメッセージ：', errmsg)\n",
    "    exit(1)"
   ]
  },
  {
   "cell_type": "code",
   "execution_count": 2,
   "metadata": {
    "tags": []
   },
   "outputs": [
    {
     "output_type": "stream",
     "name": "stdout",
     "text": "information_schema\nmlb\nmydb\nmysql\nperformance_schema\nsampledb\nsys\nvleague\n"
    }
   ],
   "source": [
    "# cursorオブジェクトの生成\n",
    "cursor  = dbconnector.cursor()\n",
    "\n",
    "# SQL命令を実行\n",
    "cursor.execute(\"DROP DATABASE IF EXISTS sampledb\")\n",
    "cursor.execute(\"CREATE DATABASE sampledb\")\n",
    "cursor.execute('SHOW databases')\n",
    "\n",
    "# 実行結果データを取得、表示\n",
    "tuples = cursor.fetchall()\n",
    "for tpl in tuples:\n",
    "    print(tpl[0])"
   ]
  },
  {
   "cell_type": "code",
   "execution_count": 3,
   "metadata": {},
   "outputs": [],
   "source": [
    "# コミットする。(実際にMySQLに保存する)\n",
    "dbconnector.commit()\n",
    "# 接続を切断\n",
    "dbconnector.close()"
   ]
  },
  {
   "cell_type": "code",
   "execution_count": null,
   "metadata": {},
   "outputs": [],
   "source": []
  }
 ]
}