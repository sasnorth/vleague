{
 "metadata": {
  "language_info": {
   "codemirror_mode": {
    "name": "ipython",
    "version": 3
   },
   "file_extension": ".py",
   "mimetype": "text/x-python",
   "name": "python",
   "nbconvert_exporter": "python",
   "pygments_lexer": "ipython3",
   "version": "3.7.7-final"
  },
  "orig_nbformat": 2,
  "kernelspec": {
   "name": "python_defaultSpec_1601447220577",
   "display_name": "Python 3.7.7 64-bit ('base': conda)",
   "metadata": {
    "interpreter": {
     "hash": "0600588c3b5f4418cbe7b5ebc6825b479f3bc010269d8b60d75058cdd010adfe"
    }
   }
  }
 },
 "nbformat": 4,
 "nbformat_minor": 2,
 "cells": [
  {
   "cell_type": "code",
   "execution_count": 1,
   "metadata": {},
   "outputs": [],
   "source": [
    "import time\n",
    "import pandas as pd\n",
    " \n",
    "from bs4 import BeautifulSoup\n",
    "import urllib.request as req\n",
    "\n",
    "import requests\n",
    "import os\n",
    "import datetime\n",
    "import re"
   ]
  },
  {
   "cell_type": "code",
   "execution_count": 2,
   "metadata": {},
   "outputs": [],
   "source": [
    "import sys\n",
    "sys.path.append(\"../\")"
   ]
  },
  {
   "cell_type": "code",
   "execution_count": 3,
   "metadata": {},
   "outputs": [],
   "source": [
    "from index.season import season_index"
   ]
  },
  {
   "cell_type": "code",
   "execution_count": 11,
   "metadata": {},
   "outputs": [],
   "source": [
    "# ディビジョンを選択してください:{v1_m, v2_m, v3_m, v1_w, v2_w}\n",
    "division = 'v2_w'\n",
    "# '年度・シーズンを選択してください:{2019-20_regular,2018-19_regular, 2017-18_regular, 2016-17_regular, 2015-14_regular}'\n",
    "season = '2019-20_regular'"
   ]
  },
  {
   "cell_type": "code",
   "execution_count": 12,
   "metadata": {
    "tags": []
   },
   "outputs": [
    {
     "output_type": "stream",
     "name": "stdout",
     "text": "281 v2_w 5\nc:\\Users\\sasno\\Desktop\\MyPandas\\vleague\\v2_w\nhttps://www.vleague.jp/round/list/281?pg=1\nhttps://www.vleague.jp//form/b/25571\nteam=プレステージ・インターナショナルアランマーレ\nteam=柏エンゼルクロス\nhttps://www.vleague.jp//form/b/25569\nteam=群馬銀行グリーンウイングス\nteam=GSS東京サンビームズ\nhttps://www.vleague.jp//form/b/25572\nteam=大野石油広島オイラーズ\nteam=ブレス浜松\nhttps://www.vleague.jp//form/b/25570\nteam=ルートインホテルズブリリアントアリーズ\nteam=JAぎふリオレーナ\nhttps://www.vleague.jp//form/b/25575\nteam=柏エンゼルクロス\nteam=ブレス浜松\nhttps://www.vleague.jp//form/b/25573\nteam=JAぎふリオレーナ\nteam=GSS東京サンビームズ\nhttps://www.vleague.jp//form/b/25576\nteam=大野石油広島オイラーズ\nteam=プレステージ・インターナショナルアランマーレ\nhttps://www.vleague.jp//form/b/25574\nteam=ルートインホテルズブリリアントアリーズ\nteam=群馬銀行グリーンウイングス\nhttps://www.vleague.jp//form/b/25579\nteam=GSS東京サンビームズ\nteam=ブレス浜松\nhttps://www.vleague.jp//form/b/25580\nteam=JAぎふリオレーナ\nteam=大野石油広島オイラーズ\nhttps://www.vleague.jp//form/b/25577\nteam=プレステージ・インターナショナルアランマーレ\nteam=群馬銀行グリーンウイングス\nhttps://www.vleague.jp//form/b/25578\nteam=柏エンゼルクロス\nteam=ルートインホテルズブリリアントアリーズ\nhttps://www.vleague.jp//form/b/25581\nteam=群馬銀行グリーンウイングス\nteam=柏エンゼルクロス\nhttps://www.vleague.jp//form/b/25583\nteam=大野石油広島オイラーズ\nteam=GSS東京サンビームズ\nhttps://www.vleague.jp//form/b/25582\nteam=プレステージ・インターナショナルアランマーレ\nteam=ルートインホテルズブリリアントアリーズ\nhttps://www.vleague.jp//form/b/25584\nteam=JAぎふリオレーナ\nteam=ブレス浜松\nhttps://www.vleague.jp//form/b/25585\nteam=柏エンゼルクロス\nteam=大野石油広島オイラーズ\nhttps://www.vleague.jp//form/b/25587\nteam=プレステージ・インターナショナルアランマーレ\nteam=ブレス浜松\nhttps://www.vleague.jp//form/b/25586\nteam=JAぎふリオレーナ\nteam=群馬銀行グリーンウイングス\nhttps://www.vleague.jp//form/b/25588\nteam=GSS東京サンビームズ\nteam=ルートインホテルズブリリアントアリーズ\nhttps://www.vleague.jp/round/list/281?pg=2\nhttps://www.vleague.jp//form/b/25589\nteam=柏エンゼルクロス\nteam=JAぎふリオレーナ\nhttps://www.vleague.jp//form/b/25591\nteam=ブレス浜松\nteam=ルートインホテルズブリリアントアリーズ\nhttps://www.vleague.jp//form/b/25592\nteam=GSS東京サンビームズ\nteam=プレステージ・インターナショナルアランマーレ\nhttps://www.vleague.jp//form/b/25590\nteam=群馬銀行グリーンウイングス\nteam=大野石油広島オイラーズ\nhttps://www.vleague.jp//form/b/25593\nteam=GSS東京サンビームズ\nteam=柏エンゼルクロス\nhttps://www.vleague.jp//form/b/25594\nteam=群馬銀行グリーンウイングス\nteam=ブレス浜松\nhttps://www.vleague.jp//form/b/25595\nteam=大野石油広島オイラーズ\nteam=ルートインホテルズブリリアントアリーズ\nhttps://www.vleague.jp//form/b/25596\nteam=JAぎふリオレーナ\nteam=プレステージ・インターナショナルアランマーレ\nhttps://www.vleague.jp//form/b/25597\nteam=プレステージ・インターナショナルアランマーレ\nteam=柏エンゼルクロス\nhttps://www.vleague.jp//form/b/25599\nteam=JAぎふリオレーナ\nteam=GSS東京サンビームズ\nhttps://www.vleague.jp//form/b/25598\nteam=ブレス浜松\nteam=ルートインホテルズブリリアントアリーズ\nhttps://www.vleague.jp//form/b/25600\nteam=大野石油広島オイラーズ\nteam=群馬銀行グリーンウイングス\nhttps://www.vleague.jp//form/b/25601\nteam=柏エンゼルクロス\nteam=ルートインホテルズブリリアントアリーズ\nhttps://www.vleague.jp//form/b/25603\nteam=群馬銀行グリーンウイングス\nteam=GSS東京サンビームズ\nhttps://www.vleague.jp//form/b/25604\nteam=大野石油広島オイラーズ\nteam=JAぎふリオレーナ\nhttps://www.vleague.jp//form/b/25602\nteam=ブレス浜松\nteam=プレステージ・インターナショナルアランマーレ\nhttps://www.vleague.jp//form/b/25605\nteam=柏エンゼルクロス\nteam=群馬銀行グリーンウイングス\nhttps://www.vleague.jp//form/b/25607\nteam=プレステージ・インターナショナルアランマーレ\nteam=大野石油広島オイラーズ\nhttps://www.vleague.jp//form/b/25606\nteam=JAぎふリオレーナ\nteam=ブレス浜松\nhttps://www.vleague.jp//form/b/25608\nteam=ルートインホテルズブリリアントアリーズ\nteam=GSS東京サンビームズ\nhttps://www.vleague.jp/round/list/281?pg=3\nhttps://www.vleague.jp//form/b/25609\nteam=柏エンゼルクロス\nteam=GSS東京サンビームズ\nhttps://www.vleague.jp//form/b/25610\nteam=大野石油広島オイラーズ\nteam=ブレス浜松\nhttps://www.vleague.jp//form/b/25611\nteam=ルートインホテルズブリリアントアリーズ\nteam=プレステージ・インターナショナルアランマーレ\nhttps://www.vleague.jp//form/b/25614\nteam=JAぎふリオレーナ\nteam=柏エンゼルクロス\nhttps://www.vleague.jp//form/b/25612\nteam=群馬銀行グリーンウイングス\nteam=ブレス浜松\nhttps://www.vleague.jp//form/b/25613\nteam=GSS東京サンビームズ\nteam=プレステージ・インターナショナルアランマーレ\nhttps://www.vleague.jp//form/b/25615\nteam=大野石油広島オイラーズ\nteam=ルートインホテルズブリリアントアリーズ\nhttps://www.vleague.jp//form/b/25616\nteam=群馬銀行グリーンウイングス\nteam=プレステージ・インターナショナルアランマーレ\nhttps://www.vleague.jp//form/b/25618\nteam=JAぎふリオレーナ\nteam=ルートインホテルズブリリアントアリーズ\nhttps://www.vleague.jp//form/b/25617\nteam=GSS東京サンビームズ\nteam=ブレス浜松\nhttps://www.vleague.jp//form/b/25621\nteam=柏エンゼルクロス\nteam=ブレス浜松\nhttps://www.vleague.jp//form/b/25619\nteam=JAぎふリオレーナ\nteam=プレステージ・インターナショナルアランマーレ\nhttps://www.vleague.jp//form/b/25622\nteam=大野石油広島オイラーズ\nteam=GSS東京サンビームズ\nhttps://www.vleague.jp//form/b/25620\nteam=群馬銀行グリーンウイングス\nteam=ルートインホテルズブリリアントアリーズ\nhttps://www.vleague.jp//form/b/25624\nteam=柏エンゼルクロス\nteam=大野石油広島オイラーズ\nhttps://www.vleague.jp//form/b/25623\nteam=群馬銀行グリーンウイングス\nteam=JAぎふリオレーナ\nhttps://www.vleague.jp//form/b/25627\nteam=群馬銀行グリーンウイングス\nteam=ルートインホテルズブリリアントアリーズ\nhttps://www.vleague.jp//form/b/25626\nteam=プレステージ・インターナショナルアランマーレ\nteam=大野石油広島オイラーズ\nhttps://www.vleague.jp//form/b/25625\nteam=JAぎふリオレーナ\nteam=GSS東京サンビームズ\nhttps://www.vleague.jp//form/b/25628\nteam=ブレス浜松\nteam=柏エンゼルクロス\nhttps://www.vleague.jp/round/list/281?pg=4\nhttps://www.vleague.jp//form/b/25631\nteam=群馬銀行グリーンウイングス\nteam=柏エンゼルクロス\nhttps://www.vleague.jp//form/b/25630\nteam=プレステージ・インターナショナルアランマーレ\nteam=GSS東京サンビームズ\nhttps://www.vleague.jp//form/b/25629\nteam=JAぎふリオレーナ\nteam=大野石油広島オイラーズ\nhttps://www.vleague.jp//form/b/25632\nteam=ブレス浜松\nteam=ルートインホテルズブリリアントアリーズ\nhttps://www.vleague.jp//form/b/25633\nteam=GSS東京サンビームズ\nteam=柏エンゼルクロス\nhttps://www.vleague.jp//form/b/25634\nteam=ルートインホテルズブリリアントアリーズ\nteam=大野石油広島オイラーズ\nhttps://www.vleague.jp//form/b/25635\nteam=JAぎふリオレーナ\nteam=ブレス浜松\nhttps://www.vleague.jp//form/b/25636\nteam=群馬銀行グリーンウイングス\nteam=プレステージ・インターナショナルアランマーレ\nhttps://www.vleague.jp//form/b/25637\nteam=プレステージ・インターナショナルアランマーレ\nteam=ブレス浜松\nhttps://www.vleague.jp//form/b/25638\nteam=JAぎふリオレーナ\nteam=群馬銀行グリーンウイングス\nhttps://www.vleague.jp//form/b/25641\nteam=大野石油広島オイラーズ\nteam=ブレス浜松\nhttps://www.vleague.jp//form/b/25640\nteam=プレステージ・インターナショナルアランマーレ\nteam=柏エンゼルクロス\nhttps://www.vleague.jp//form/b/25642\nteam=群馬銀行グリーンウイングス\nteam=GSS東京サンビームズ\nhttps://www.vleague.jp//form/b/25639\nteam=JAぎふリオレーナ\nteam=ルートインホテルズブリリアントアリーズ\nhttps://www.vleague.jp//form/b/25643\nteam=柏エンゼルクロス\nteam=ルートインホテルズブリリアントアリーズ\nhttps://www.vleague.jp//form/b/25645\nteam=大野石油広島オイラーズ\nteam=GSS東京サンビームズ\nhttps://www.vleague.jp//form/b/25646\nteam=群馬銀行グリーンウイングス\nteam=ブレス浜松\nhttps://www.vleague.jp//form/b/25644\nteam=プレステージ・インターナショナルアランマーレ\nteam=JAぎふリオレーナ\nhttps://www.vleague.jp//form/b/25647\nteam=プレステージ・インターナショナルアランマーレ\nteam=ルートインホテルズブリリアントアリーズ\nhttps://www.vleague.jp//form/b/25648\nteam=GSS東京サンビームズ\nteam=ブレス浜松\nhttps://www.vleague.jp/round/list/281?pg=5\nhttps://www.vleague.jp//form/b/25649\nteam=大野石油広島オイラーズ\nteam=柏エンゼルクロス\nhttps://www.vleague.jp//form/b/25650\nteam=GSS東京サンビームズ\nteam=ルートインホテルズブリリアントアリーズ\nhttps://www.vleague.jp//form/b/25651\nteam=JAぎふリオレーナ\nteam=柏エンゼルクロス\nhttps://www.vleague.jp//form/b/25652\nteam=大野石油広島オイラーズ\nteam=群馬銀行グリーンウイングス\n"
    }
   ],
   "source": [
    "os.chdir('/Users/sasno/Desktop/MyPandas/vleague')\n",
    "\n",
    "headers = {\"User-Agent\": \"Mozilla/5.0\"}\n",
    "\n",
    "divisions = season_index.get_seasons(season)\n",
    "\n",
    "for div_id, div_v in divisions.items():\n",
    "    if division == div_v[0]:\n",
    "        division_id = div_id\n",
    "        pages = div_v[1]\n",
    "print(division_id, division, pages)\n",
    "if not os.path.isdir(division):\n",
    "            os.makedirs(division)\n",
    "\n",
    "os.chdir(division)\n",
    "print(os.getcwd())\n",
    "\n",
    "sets = ['1','2','3','4','5']\n",
    "\n",
    "for pg in range(1,pages+1):\n",
    "    url = 'https://www.vleague.jp/round/list/{0}?pg={1}'.format(division_id,pg)\n",
    "    print(url)\n",
    "    request = req.Request(url, headers=headers)\n",
    "    response = req.urlopen(request)\n",
    "    parse_html = BeautifulSoup(response, 'html.parser')\n",
    "    tables = parse_html.find_all('table')\n",
    "\n",
    "    url_list = []\n",
    "    tr = tables[0].find_all('a')\n",
    "    for i in range(1,len(tr),2):\n",
    "        game_url = 'https://www.vleague.jp/'+ tr[i].attrs['href']\n",
    "        url_list.append(game_url)\n",
    "\n",
    "    for url in url_list:\n",
    "        print(url)\n",
    "        html = requests.get(url, headers=headers)\n",
    "        data = pd.read_html(html.text, header=[2])\n",
    "\n",
    "        for j in range(2):\n",
    "            stats = pd.DataFrame(data[j+4])\n",
    "            stats = stats.rename(columns=str)\n",
    "            col = stats.columns.values\n",
    "            data_item = []\n",
    "            for i in col:\n",
    "                l = i\n",
    "                data_item.append(l)\n",
    "            for i in range(1,len(data_item)-2):\n",
    "                data_item[-i] = data_item[-i-3]\n",
    "                # print(data_item)\n",
    "            for i in range(3):\n",
    "            #     print(data_item[i])\n",
    "                if data_item[i] == '出場数':\n",
    "                    data_item[i] = '背番号'\n",
    "                elif data_item[i] == '1':\n",
    "                    data_item[i] = 'リベロ'\n",
    "                else:\n",
    "                    data_item[i] = '名前'\n",
    "            #     print(i, data_item[i])\n",
    "\n",
    "            new_stats = stats.rename(columns={col[i]:data_item[i] for i in range(len(data_item))})\n",
    "            new_stats = new_stats.rename(columns={'打数':'アタック打数', '得点':'アタック得点', '失点':'アタック失点', '決定率':'アタック決定率',\n",
    "                                                    'セ平ット均':'アタックセット平均','打数.1':'バックアタック打数', '得点.1':'バックアタック得点',\n",
    "                                                    '失点.1':'バックアタック失点', '決定率.1':'バックアタック決定率', '得点.2':'ブロック得点',\n",
    "                                                    'セ平ット均.1':'ブロックセット平均', '打数.2':'サーブ打数', '得点.3':'サーブ得点', '失点.2':'サーブ失点',\n",
    "                                                    '効果':'サーブ効果', '効果率':'サーブ効果率', '成功・優':'サーブレシーブ成功・優', \n",
    "                                                    '成功・良':'サーブレシーブ成功・良', '成功率':'サーブレシーブ成功率'})\n",
    "            \n",
    "            request = req.Request(url, headers=headers)\n",
    "            response = req.urlopen(request)\n",
    "            parse_html = BeautifulSoup(response, 'html.parser')\n",
    "            table_ha = parse_html.find_all('table')[0]\n",
    "            td_ha = table_ha.find_all('td', class_='team')\n",
    "            # print(td_ha)\n",
    "            team = td_ha[j].text\n",
    "            print('team={}'.format(team))\n",
    "            new_stats['アタック決定率'] = new_stats['アタック得点'] / new_stats['アタック打数']\n",
    "            new_stats.insert(13, 'アタック効果率', (new_stats['アタック得点'] - new_stats['アタック失点']) / new_stats['アタック打数'])\n",
    "            span = parse_html.find_all('span')\n",
    "            date = span[1].text.replace('/','-')\n",
    "            new_stats.insert(0, '試合日', date)\n",
    "            new_stats.insert(1, 'チーム', team)\n",
    "            for by_set in sets:\n",
    "                new_stats[by_set] = new_stats[by_set].astype(str)\n",
    "            team_dir = '{0}/{1}'.format(team,season)\n",
    "            if not os.path.isdir(team_dir):\n",
    "                os.makedirs(team_dir)\n",
    "            new_stats.to_csv('{0}/{1}/{2}.csv'.format(team,season,date), index=False, encoding='cp932')\n"
   ]
  },
  {
   "cell_type": "code",
   "execution_count": null,
   "metadata": {},
   "outputs": [],
   "source": []
  }
 ]
}