{
 "metadata": {
  "language_info": {
   "codemirror_mode": {
    "name": "ipython",
    "version": 3
   },
   "file_extension": ".py",
   "mimetype": "text/x-python",
   "name": "python",
   "nbconvert_exporter": "python",
   "pygments_lexer": "ipython3",
   "version": "3.7.7-final"
  },
  "orig_nbformat": 2,
  "kernelspec": {
   "name": "python3",
   "display_name": "Python 3.7.7 64-bit (conda)",
   "metadata": {
    "interpreter": {
     "hash": "08076bdacbcc3b42b77871af2059d0824520b7a61d02d1d349c47e824e5f0473"
    }
   }
  }
 },
 "nbformat": 4,
 "nbformat_minor": 2,
 "cells": [
  {
   "cell_type": "code",
   "execution_count": 42,
   "metadata": {},
   "outputs": [],
   "source": [
    "from selenium import webdriver\n",
    "import time\n",
    "import numpy as np\n",
    "import pandas as pd\n",
    "\n",
    "from bs4 import BeautifulSoup\n",
    "import urllib.request as req\n",
    "\n",
    "import requests\n",
    "import os\n",
    "import datetime\n",
    "import re"
   ]
  },
  {
   "cell_type": "code",
   "execution_count": 43,
   "metadata": {},
   "outputs": [],
   "source": [
    "address = \"autumn.vb.cats1014@docomo.ne.jp\"\n",
    "password = \"1378fk1014\""
   ]
  },
  {
   "cell_type": "code",
   "execution_count": 53,
   "metadata": {},
   "outputs": [],
   "source": [
    "chromeOptions = webdriver.ChromeOptions()\n",
    "headers = {\"User-Agent\": \"Mozilla/5.0\"}\n",
    "prefs = {\"download.default_directory\" : \"C:\\\\Users\\\\sasno\\\\Desktop\\\\Mypandas\\\\vleague\"}\n",
    "chromeOptions.add_experimental_option(\"prefs\", prefs)"
   ]
  },
  {
   "cell_type": "code",
   "execution_count": 49,
   "metadata": {},
   "outputs": [],
   "source": [
    "# GoogleChromeを起動\n",
    "browser = webdriver.Chrome(executable_path='C:\\\\Users\\\\sasno\\\\anaconda3\\\\lib\\\\site-packages\\\\chromedriver_binary\\\\chromedriver.exe', chrome_options=chromeOptions)\n",
    "browser.implicitly_wait(3)"
   ]
  },
  {
   "cell_type": "code",
   "execution_count": 50,
   "metadata": {},
   "outputs": [
    {
     "output_type": "stream",
     "name": "stdout",
     "text": [
      "ログインページにアクセスしました\n"
     ]
    }
   ],
   "source": [
    "# ログインするサイトへアクセス\n",
    "url_login = \"https://vleague.tv/signin\"\n",
    "browser.get(url_login)\n",
    "time.sleep(3)\n",
    "print(\"ログインページにアクセスしました\")"
   ]
  },
  {
   "cell_type": "code",
   "execution_count": 60,
   "metadata": {},
   "outputs": [
    {
     "output_type": "stream",
     "name": "stdout",
     "text": [
      "フォームを送信\n",
      "情報を入力してログインボタンを押しました\n",
      "ログインページにアクセスしました\n"
     ]
    }
   ],
   "source": [
    "# テキストボックス入力\n",
    "element = browser.find_element_by_id('account-mail')\n",
    "element.clear()\n",
    "element.send_keys(address)\n",
    "element = browser.find_element_by_id('account-pw')\n",
    "element.clear()\n",
    "element.send_keys(password)\n",
    "print(\"フォームを送信\")\n",
    "# 入力したデータをクリック\n",
    "browser_from = browser.find_element_by_class_name('btn_submit')\n",
    "time.sleep(1)\n",
    "browser_from.click()\n",
    "print(\"情報を入力してログインボタンを押しました\")\n",
    "# ログインするサイトへアクセス\n",
    "time.sleep(1)\n",
    "url_login = \"https://vleague.tv/match\"\n",
    "browser.get(url_login)\n",
    "time.sleep(3)\n",
    "print(\"ログインページにアクセスしました\")"
   ]
  },
  {
   "cell_type": "code",
   "execution_count": 58,
   "metadata": {},
   "outputs": [
    {
     "output_type": "stream",
     "name": "stdout",
     "text": [
      "<a href=\"https://vleague.tv\"><img alt=\"V.LEAGUE TV\" height=\"70\" src=\"/common/img/logo.png\" width=\"246\"/></a>\n<a href=\"https://vleague.tv/match\">試合日程</a>\n<a href=\"https://vleague.tv/plan\">観戦プラン</a>\n<a href=\"https://vleague.tv/about\">サービスのご案内</a>\n<a href=\"https://vleague.tv/news\">ニュース</a>\n<a href=\"https://vleague.tv/support\">ヘルプセンター</a>\n<a href=\"https://vleague.tv/archive\">アーカイブ</a>\n<a href=\"https://vleague.tv/signin\">\n<img alt=\"icon_login\" height=\"35\" src=\"/common/img/icon_login.png\" width=\"30\"/>\n<p>ログイン</p>\n</a>\n<a href=\"https://vleague.tv/subscribe\">\n<img alt=\"icon_regist\" height=\"32\" src=\"/common/img/icon_regist.png\" width=\"34\"/>\n<p>今すぐ登録</p>\n</a>\n<a href=\"https://vleague.tv\">◀︎ トップに戻る</a>\n<a href=\"https://vmarketing.jp/\">運営会社</a>\n<a href=\"https://vleague.tv/contact\">お問い合わせ</a>\n<a href=\"https://vleague.tv/law\">特商法に基づく表記</a>\n<a href=\"https://vleague.tv/privacy\">個人情報保護方針／プライバシーポリシー</a>\n<a href=\"https://vleague.tv/contract\">利用規約</a>\n<a href=\"/\"><img alt=\"V.LEAGUE TV\" src=\"https://vleague.tv/common/img/logo.png\" width=\"246\"/></a>\n"
     ]
    }
   ],
   "source": [
    "# Scheduleからライブスコアを取得\n",
    "for i in range(1,6):\n",
    "    element = browser.find_element_by_xpath('//*[@id=\"schedule\"]/div/div[1]/ul/li[{}]/img'.format(i))\n",
    "    element.click()\n",
    "    url = browser.current_url\n",
    "    time.sleep(1)\n",
    "    request = req.Request(url, headers=headers)\n",
    "    response = req.urlopen(request)\n",
    "    parse_html = BeautifulSoup(response, 'html.parser')\n",
    "    trs = parse_html.find_all('a')\n"
   ]
  },
  {
   "cell_type": "code",
   "execution_count": 59,
   "metadata": {},
   "outputs": [
    {
     "output_type": "stream",
     "name": "stdout",
     "text": [
      "<a href=\"https://vleague.tv\"><img alt=\"V.LEAGUE TV\" height=\"70\" src=\"/common/img/logo.png\" width=\"246\"/></a>\n<a href=\"https://vleague.tv/match\">試合日程</a>\n<a href=\"https://vleague.tv/plan\">観戦プラン</a>\n<a href=\"https://vleague.tv/about\">サービスのご案内</a>\n<a href=\"https://vleague.tv/news\">ニュース</a>\n<a href=\"https://vleague.tv/support\">ヘルプセンター</a>\n<a href=\"https://vleague.tv/archive\">アーカイブ</a>\n<a href=\"https://vleague.tv/signin\">\n<img alt=\"icon_login\" height=\"35\" src=\"/common/img/icon_login.png\" width=\"30\"/>\n<p>ログイン</p>\n</a>\n<a href=\"https://vleague.tv/subscribe\">\n<img alt=\"icon_regist\" height=\"32\" src=\"/common/img/icon_regist.png\" width=\"34\"/>\n<p>今すぐ登録</p>\n</a>\n<a href=\"https://vleague.tv\">◀︎ トップに戻る</a>\n<a href=\"https://vmarketing.jp/\">運営会社</a>\n<a href=\"https://vleague.tv/contact\">お問い合わせ</a>\n<a href=\"https://vleague.tv/law\">特商法に基づく表記</a>\n<a href=\"https://vleague.tv/privacy\">個人情報保護方針／プライバシーポリシー</a>\n<a href=\"https://vleague.tv/contract\">利用規約</a>\n<a href=\"/\"><img alt=\"V.LEAGUE TV\" src=\"https://vleague.tv/common/img/logo.png\" width=\"246\"/></a>\n"
     ]
    }
   ],
   "source": [
    "for j in trs:\n",
    "    print(j)"
   ]
  },
  {
   "cell_type": "code",
   "execution_count": null,
   "metadata": {},
   "outputs": [],
   "source": []
  }
 ]
}