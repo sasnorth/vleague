{
 "cells": [
  {
   "cell_type": "code",
   "execution_count": 1,
   "metadata": {},
   "outputs": [],
   "source": [
    "from selenium import webdriver\n",
    "\n",
    "import time\n",
    "import numpy as np\n",
    "import pandas as pd\n",
    "\n",
    "from bs4 import BeautifulSoup\n",
    "import urllib.request as req\n",
    "\n",
    "import requests\n",
    "import os\n",
    "import glob\n",
    "import datetime\n",
    "import re\n",
    "from index.team.team_index import get_teams"
   ]
  },
  {
   "cell_type": "code",
   "execution_count": 3,
   "metadata": {},
   "outputs": [],
   "source": [
    "address = \"greinke54mile@gmail.com\"\n",
    "password = \"1378fk1014\""
   ]
  },
  {
   "cell_type": "code",
   "execution_count": 4,
   "metadata": {},
   "outputs": [],
   "source": [
    "options = webdriver.ChromeOptions()\n",
    "headers = {\"User-Agent\": \"Mozilla/5.0\"}\n",
    "prefs = {\"download.default_directory\" : \"C:\\\\Users\\\\sasno\\\\Desktop\\\\Mypandas\\\\vleague\"}\n",
    "options.add_experimental_option(\"prefs\", prefs)\n",
    "# options.add_argument(\"--headless\")"
   ]
  },
  {
   "cell_type": "code",
   "execution_count": 5,
   "metadata": {},
   "outputs": [],
   "source": [
    "# GoogleChromeを起動\n",
    "browser = webdriver.Chrome(executable_path='C:\\\\Users\\\\sasno\\\\anaconda3\\\\lib\\\\site-packages\\\\chromedriver_binary\\\\chromedriver.exe', options=options)\n",
    "browser.implicitly_wait(3)\n",
    "# browser.close()"
   ]
  },
  {
   "cell_type": "code",
   "execution_count": 83,
   "metadata": {},
   "outputs": [
    {
     "name": "stdout",
     "output_type": "stream",
     "text": [
      "ログインページにアクセスしました\n"
     ]
    }
   ],
   "source": [
    "# ログインするサイトへアクセス\n",
    "url_login = 'https://note.com/login'\n",
    "browser.get(url_login)\n",
    "time.sleep(3)\n",
    "print(\"ログインページにアクセスしました\")"
   ]
  },
  {
   "cell_type": "code",
   "execution_count": 85,
   "metadata": {},
   "outputs": [
    {
     "name": "stdout",
     "output_type": "stream",
     "text": [
      "フォームを送信\n",
      "情報を入力してログインボタンを押しました\n"
     ]
    }
   ],
   "source": [
    "# テキストボックス入力\n",
    "# element = browser.find_element_by_class_name('row user')\n",
    "# element = browser.find_element_by_xpath('/html/body/main/login/div/section/div/div/form/div/div[1]/input')\n",
    "# element = browser.find_element_by_name('login')\n",
    "element = browser.find_element_by_css_selector('input[name=\"login\"]')\n",
    "# element\n",
    "element.clear()\n",
    "element.send_keys(address)\n",
    "element = browser.find_element_by_name('password')\n",
    "element.clear()\n",
    "element.send_keys(password)\n",
    "print(\"フォームを送信\")\n",
    "# 入力したデータをクリック\n",
    "browser_from = browser.find_element_by_class_name('logining_msg')\n",
    "time.sleep(1)\n",
    "browser_from.click()\n",
    "print(\"情報を入力してログインボタンを押しました\")\n",
    "# ログインするサイトへアクセス\n",
    "time.sleep(1)\n",
    "# url_login = 'https://note.com/vleague_bot'\n",
    "# browser.get(url_login)\n",
    "# time.sleep(3)\n",
    "# print(\"ログインページにアクセスしました\")"
   ]
  },
  {
   "cell_type": "code",
   "execution_count": 64,
   "metadata": {},
   "outputs": [
    {
     "data": {
      "text/plain": [
       "<selenium.webdriver.remote.webelement.WebElement (session=\"f54abc0bf5e66122c3d4aaaa8621601d\", element=\"ebae4f61-4f6f-4a14-a5f0-64f1b5a1c3e8\")>"
      ]
     },
     "execution_count": 64,
     "metadata": {},
     "output_type": "execute_result"
    }
   ],
   "source": [
    "element = browser.find_elements_by_class_name('space-bottom-1')\n",
    "element[0]"
   ]
  },
  {
   "cell_type": "code",
   "execution_count": 63,
   "metadata": {},
   "outputs": [
    {
     "data": {
      "text/plain": [
       "<selenium.webdriver.remote.webelement.WebElement (session=\"f54abc0bf5e66122c3d4aaaa8621601d\", element=\"c77d1c24-c221-48dc-85ff-167aeb76a03a\")>"
      ]
     },
     "execution_count": 63,
     "metadata": {},
     "output_type": "execute_result"
    }
   ],
   "source": [
    "element = browser.find_element_by_xpath('/html/body/main/login/div/section/div/div/form/div/div[1]/input')\n",
    "element"
   ]
  },
  {
   "cell_type": "code",
   "execution_count": 67,
   "metadata": {},
   "outputs": [
    {
     "data": {
      "text/plain": [
       "<selenium.webdriver.remote.webelement.WebElement (session=\"f54abc0bf5e66122c3d4aaaa8621601d\", element=\"9f2fb423-0c64-4222-b150-5bc39fb405b5\")>"
      ]
     },
     "execution_count": 67,
     "metadata": {},
     "output_type": "execute_result"
    }
   ],
   "source": [
    "element = browser.find_element_by_css_selector('input.text')\n",
    "element"
   ]
  },
  {
   "cell_type": "code",
   "execution_count": null,
   "metadata": {},
   "outputs": [],
   "source": []
  }
 ],
 "metadata": {
  "kernelspec": {
   "display_name": "Python 3",
   "language": "python",
   "name": "python3"
  },
  "language_info": {
   "codemirror_mode": {
    "name": "ipython",
    "version": 3
   },
   "file_extension": ".py",
   "mimetype": "text/x-python",
   "name": "python",
   "nbconvert_exporter": "python",
   "pygments_lexer": "ipython3",
   "version": "3.7.9"
  }
 },
 "nbformat": 4,
 "nbformat_minor": 4
}
