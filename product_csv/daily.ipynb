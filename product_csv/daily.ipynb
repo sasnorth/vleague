{
 "metadata": {
  "language_info": {
   "codemirror_mode": {
    "name": "ipython",
    "version": 3
   },
   "file_extension": ".py",
   "mimetype": "text/x-python",
   "name": "python",
   "nbconvert_exporter": "python",
   "pygments_lexer": "ipython3",
   "version": "3.7.3-final"
  },
  "orig_nbformat": 2,
  "kernelspec": {
   "name": "Python 3.7.3 64-bit",
   "display_name": "Python 3.7.3 64-bit",
   "metadata": {
    "interpreter": {
     "hash": "0600588c3b5f4418cbe7b5ebc6825b479f3bc010269d8b60d75058cdd010adfe"
    }
   }
  }
 },
 "nbformat": 4,
 "nbformat_minor": 2,
 "cells": [
  {
   "cell_type": "code",
   "execution_count": 1,
   "metadata": {},
   "outputs": [],
   "source": [
    "import pandas as pd\n",
    "import os"
   ]
  },
  {
   "cell_type": "code",
   "execution_count": 11,
   "metadata": {},
   "outputs": [],
   "source": [
    "import sys\n",
    "sys.path.append(\"../\")"
   ]
  },
  {
   "cell_type": "code",
   "execution_count": 12,
   "metadata": {},
   "outputs": [],
   "source": [
    "from index.season.season_index import get_seasons"
   ]
  },
  {
   "cell_type": "code",
   "execution_count": 2,
   "metadata": {},
   "outputs": [],
   "source": [
    "# 'ディビジョンを選択してください:{v1_m, v2_m, v3_m, v1_w, v2_w}'\n",
    "division = 'v3_m'\n",
    "# '年度・シーズンを選択してください:{2019-20_regular,2018-19_regular, 2017-18_regular, 2016-17_regular, 2015-14_regular}'\n",
    "season = '2019-20_regular'"
   ]
  },
  {
   "cell_type": "code",
   "execution_count": 4,
   "metadata": {
    "tags": []
   },
   "outputs": [
    {
     "output_type": "execute_result",
     "data": {
      "text/plain": "&#39;c:\\\\Users\\\\sasno\\\\Desktop\\\\MyPandas\\\\vleague\\\\v3_m&#39;"
     },
     "metadata": {},
     "execution_count": 4
    }
   ],
   "source": [
    "os.chdir('/Users/sasno/Desktop/MyPandas/vleague')\n",
    "\n",
    "team_list = os.listdir(division)\n",
    "# print(team_list)\n",
    "os.chdir(division)\n",
    "os.getcwd()"
   ]
  },
  {
   "cell_type": "code",
   "execution_count": 5,
   "metadata": {},
   "outputs": [
    {
     "output_type": "execute_result",
     "data": {
      "text/plain": "            試合日              チーム    背番号    リベロ     名前  出場数    1    2    3  \\\n0    2019-11-23         奈良ドリーマーズ      2    NaN   言上真一    0  NaN  NaN  NaN   \n1    2019-11-23         奈良ドリーマーズ      3    NaN   壇上正健    2  NaN  NaN    □   \n2    2019-11-23         奈良ドリーマーズ      4    NaN   下町浩二    0  NaN  NaN  NaN   \n3    2019-11-23         奈良ドリーマーズ      5      L   小寺秀哉    5    ●    ●    ●   \n4    2019-11-23         奈良ドリーマーズ      7    NaN   有津翔太    5    ■    ■    ■   \n..          ...              ...    ...    ...    ...  ...  ...  ...  ...   \n855  2020-02-16  トヨタモビリティ東京スパークル     18    NaN   鈴木浩大    2    □    □  NaN   \n856  2020-02-16  トヨタモビリティ東京スパークル     19    NaN   二宮正夫    0  NaN  NaN  NaN   \n857  2020-02-16  トヨタモビリティ東京スパークル     21    NaN   伊藤優介    2    ■    ■  NaN   \n858  2020-02-16  トヨタモビリティ東京スパークル     28    NaN    槌尾健    2    □  NaN    □   \n859  2020-02-16  トヨタモビリティ東京スパークル  チーム合計  チーム合計  チーム合計    3  NaN  NaN  NaN   \n\n       4  ... ブロックセット平均  サーブ打数  サーブ得点  サーブ失点  サーブ効果  サーブ効果率  受数  サーブレシーブ成功・優  \\\n0    NaN  ...         -      0      0      0      0       -   0            0   \n1      ■  ...         -      1      0      1      0   -25.0   0            0   \n2    NaN  ...         -      0      0      0      0       -   0            0   \n3      ●  ...         -      0      0      0      0       -   0            0   \n4      ■  ...      0.20     16      0      2      2     0.0   0            0   \n..   ...  ...       ...    ...    ...    ...    ...     ...  ..          ...   \n855  NaN  ...         -      1      0      1      0   -25.0   0            0   \n856  NaN  ...         -      0      0      0      0       -   0            0   \n857  NaN  ...         -      6      0      1      1     0.0   0            0   \n858  NaN  ...         -      2      0      0      1    12.5   0            0   \n859  NaN  ...      1.67     64      2     11      7     1.6  61           36   \n\n     サーブレシーブ成功・良  サーブレシーブ成功率  \n0              0           -  \n1              0           -  \n2              0           -  \n3              0           -  \n4              0           -  \n..           ...         ...  \n855            0           -  \n856            0           -  \n857            0           -  \n858            0           -  \n859           11        68.0  \n\n[860 rows x 32 columns]",
      "text/html": "<div>\n<style scoped>\n    .dataframe tbody tr th:only-of-type {\n        vertical-align: middle;\n    }\n\n    .dataframe tbody tr th {\n        vertical-align: top;\n    }\n\n    .dataframe thead th {\n        text-align: right;\n    }\n</style>\n<table border=\"1\" class=\"dataframe\">\n  <thead>\n    <tr style=\"text-align: right;\">\n      <th></th>\n      <th>試合日</th>\n      <th>チーム</th>\n      <th>背番号</th>\n      <th>リベロ</th>\n      <th>名前</th>\n      <th>出場数</th>\n      <th>1</th>\n      <th>2</th>\n      <th>3</th>\n      <th>4</th>\n      <th>...</th>\n      <th>ブロックセット平均</th>\n      <th>サーブ打数</th>\n      <th>サーブ得点</th>\n      <th>サーブ失点</th>\n      <th>サーブ効果</th>\n      <th>サーブ効果率</th>\n      <th>受数</th>\n      <th>サーブレシーブ成功・優</th>\n      <th>サーブレシーブ成功・良</th>\n      <th>サーブレシーブ成功率</th>\n    </tr>\n  </thead>\n  <tbody>\n    <tr>\n      <th>0</th>\n      <td>2019-11-23</td>\n      <td>奈良ドリーマーズ</td>\n      <td>2</td>\n      <td>NaN</td>\n      <td>言上真一</td>\n      <td>0</td>\n      <td>NaN</td>\n      <td>NaN</td>\n      <td>NaN</td>\n      <td>NaN</td>\n      <td>...</td>\n      <td>-</td>\n      <td>0</td>\n      <td>0</td>\n      <td>0</td>\n      <td>0</td>\n      <td>-</td>\n      <td>0</td>\n      <td>0</td>\n      <td>0</td>\n      <td>-</td>\n    </tr>\n    <tr>\n      <th>1</th>\n      <td>2019-11-23</td>\n      <td>奈良ドリーマーズ</td>\n      <td>3</td>\n      <td>NaN</td>\n      <td>壇上正健</td>\n      <td>2</td>\n      <td>NaN</td>\n      <td>NaN</td>\n      <td>□</td>\n      <td>■</td>\n      <td>...</td>\n      <td>-</td>\n      <td>1</td>\n      <td>0</td>\n      <td>1</td>\n      <td>0</td>\n      <td>-25.0</td>\n      <td>0</td>\n      <td>0</td>\n      <td>0</td>\n      <td>-</td>\n    </tr>\n    <tr>\n      <th>2</th>\n      <td>2019-11-23</td>\n      <td>奈良ドリーマーズ</td>\n      <td>4</td>\n      <td>NaN</td>\n      <td>下町浩二</td>\n      <td>0</td>\n      <td>NaN</td>\n      <td>NaN</td>\n      <td>NaN</td>\n      <td>NaN</td>\n      <td>...</td>\n      <td>-</td>\n      <td>0</td>\n      <td>0</td>\n      <td>0</td>\n      <td>0</td>\n      <td>-</td>\n      <td>0</td>\n      <td>0</td>\n      <td>0</td>\n      <td>-</td>\n    </tr>\n    <tr>\n      <th>3</th>\n      <td>2019-11-23</td>\n      <td>奈良ドリーマーズ</td>\n      <td>5</td>\n      <td>L</td>\n      <td>小寺秀哉</td>\n      <td>5</td>\n      <td>●</td>\n      <td>●</td>\n      <td>●</td>\n      <td>●</td>\n      <td>...</td>\n      <td>-</td>\n      <td>0</td>\n      <td>0</td>\n      <td>0</td>\n      <td>0</td>\n      <td>-</td>\n      <td>0</td>\n      <td>0</td>\n      <td>0</td>\n      <td>-</td>\n    </tr>\n    <tr>\n      <th>4</th>\n      <td>2019-11-23</td>\n      <td>奈良ドリーマーズ</td>\n      <td>7</td>\n      <td>NaN</td>\n      <td>有津翔太</td>\n      <td>5</td>\n      <td>■</td>\n      <td>■</td>\n      <td>■</td>\n      <td>■</td>\n      <td>...</td>\n      <td>0.20</td>\n      <td>16</td>\n      <td>0</td>\n      <td>2</td>\n      <td>2</td>\n      <td>0.0</td>\n      <td>0</td>\n      <td>0</td>\n      <td>0</td>\n      <td>-</td>\n    </tr>\n    <tr>\n      <th>...</th>\n      <td>...</td>\n      <td>...</td>\n      <td>...</td>\n      <td>...</td>\n      <td>...</td>\n      <td>...</td>\n      <td>...</td>\n      <td>...</td>\n      <td>...</td>\n      <td>...</td>\n      <td>...</td>\n      <td>...</td>\n      <td>...</td>\n      <td>...</td>\n      <td>...</td>\n      <td>...</td>\n      <td>...</td>\n      <td>...</td>\n      <td>...</td>\n      <td>...</td>\n      <td>...</td>\n    </tr>\n    <tr>\n      <th>855</th>\n      <td>2020-02-16</td>\n      <td>トヨタモビリティ東京スパークル</td>\n      <td>18</td>\n      <td>NaN</td>\n      <td>鈴木浩大</td>\n      <td>2</td>\n      <td>□</td>\n      <td>□</td>\n      <td>NaN</td>\n      <td>NaN</td>\n      <td>...</td>\n      <td>-</td>\n      <td>1</td>\n      <td>0</td>\n      <td>1</td>\n      <td>0</td>\n      <td>-25.0</td>\n      <td>0</td>\n      <td>0</td>\n      <td>0</td>\n      <td>-</td>\n    </tr>\n    <tr>\n      <th>856</th>\n      <td>2020-02-16</td>\n      <td>トヨタモビリティ東京スパークル</td>\n      <td>19</td>\n      <td>NaN</td>\n      <td>二宮正夫</td>\n      <td>0</td>\n      <td>NaN</td>\n      <td>NaN</td>\n      <td>NaN</td>\n      <td>NaN</td>\n      <td>...</td>\n      <td>-</td>\n      <td>0</td>\n      <td>0</td>\n      <td>0</td>\n      <td>0</td>\n      <td>-</td>\n      <td>0</td>\n      <td>0</td>\n      <td>0</td>\n      <td>-</td>\n    </tr>\n    <tr>\n      <th>857</th>\n      <td>2020-02-16</td>\n      <td>トヨタモビリティ東京スパークル</td>\n      <td>21</td>\n      <td>NaN</td>\n      <td>伊藤優介</td>\n      <td>2</td>\n      <td>■</td>\n      <td>■</td>\n      <td>NaN</td>\n      <td>NaN</td>\n      <td>...</td>\n      <td>-</td>\n      <td>6</td>\n      <td>0</td>\n      <td>1</td>\n      <td>1</td>\n      <td>0.0</td>\n      <td>0</td>\n      <td>0</td>\n      <td>0</td>\n      <td>-</td>\n    </tr>\n    <tr>\n      <th>858</th>\n      <td>2020-02-16</td>\n      <td>トヨタモビリティ東京スパークル</td>\n      <td>28</td>\n      <td>NaN</td>\n      <td>槌尾健</td>\n      <td>2</td>\n      <td>□</td>\n      <td>NaN</td>\n      <td>□</td>\n      <td>NaN</td>\n      <td>...</td>\n      <td>-</td>\n      <td>2</td>\n      <td>0</td>\n      <td>0</td>\n      <td>1</td>\n      <td>12.5</td>\n      <td>0</td>\n      <td>0</td>\n      <td>0</td>\n      <td>-</td>\n    </tr>\n    <tr>\n      <th>859</th>\n      <td>2020-02-16</td>\n      <td>トヨタモビリティ東京スパークル</td>\n      <td>チーム合計</td>\n      <td>チーム合計</td>\n      <td>チーム合計</td>\n      <td>3</td>\n      <td>NaN</td>\n      <td>NaN</td>\n      <td>NaN</td>\n      <td>NaN</td>\n      <td>...</td>\n      <td>1.67</td>\n      <td>64</td>\n      <td>2</td>\n      <td>11</td>\n      <td>7</td>\n      <td>1.6</td>\n      <td>61</td>\n      <td>36</td>\n      <td>11</td>\n      <td>68.0</td>\n    </tr>\n  </tbody>\n</table>\n<p>860 rows × 32 columns</p>\n</div>"
     },
     "metadata": {},
     "execution_count": 5
    }
   ],
   "source": [
    "all_list = []\n",
    "data = pd.read_csv('all/{}/game_all.csv'.format(season), encoding='cp932')\n",
    "data"
   ]
  },
  {
   "cell_type": "code",
   "execution_count": 46,
   "metadata": {},
   "outputs": [],
   "source": [
    "daily_all = data[data['名前']!='チーム合計']\n",
    "daily_all.to_csv('all/{}/daily_all.csv'.format(season), index=False, encoding='cp932')"
   ]
  },
  {
   "cell_type": "code",
   "execution_count": 7,
   "metadata": {
    "tags": []
   },
   "outputs": [
    {
     "output_type": "stream",
     "name": "stdout",
     "text": "チーム:all\n[&#39;daily_all.csv&#39;, &#39;game_all.csv&#39;, &#39;monthly_all.csv&#39;]\nチーム:VC長野トライデンツ\n"
    },
    {
     "output_type": "error",
     "ename": "FileNotFoundError",
     "evalue": "[WinError 3] 指定されたパスが見つかりません。: &#39;VC長野トライデンツ\\\\2019-20_regular&#39;",
     "traceback": [
      "\u001b[1;31m---------------------------------------------------------------------------\u001b[0m",
      "\u001b[1;31mFileNotFoundError\u001b[0m                         Traceback (most recent call last)",
      "\u001b[1;32m&lt;ipython-input-7-31bc8f96f78c&gt;\u001b[0m in \u001b[0;36m&lt;module&gt;\u001b[1;34m\u001b[0m\n\u001b[0;32m      4\u001b[0m     \u001b[1;31m# ファイル名だけを取得\u001b[0m\u001b[1;33m\u001b[0m\u001b[1;33m\u001b[0m\u001b[1;33m\u001b[0m\u001b[0m\n\u001b[0;32m      5\u001b[0m     \u001b[0mpath\u001b[0m \u001b[1;33m=\u001b[0m \u001b[1;34mr&#39;{0}\\{1}&#39;\u001b[0m\u001b[1;33m.\u001b[0m\u001b[0mformat\u001b[0m\u001b[1;33m(\u001b[0m\u001b[0mteam\u001b[0m\u001b[1;33m,\u001b[0m\u001b[0mseason\u001b[0m\u001b[1;33m)\u001b[0m\u001b[1;33m\u001b[0m\u001b[1;33m\u001b[0m\u001b[0m\n\u001b[1;32m----&gt; 6\u001b[1;33m     \u001b[0mfiles\u001b[0m \u001b[1;33m=\u001b[0m \u001b[0mos\u001b[0m\u001b[1;33m.\u001b[0m\u001b[0mlistdir\u001b[0m\u001b[1;33m(\u001b[0m\u001b[0mpath\u001b[0m\u001b[1;33m)\u001b[0m\u001b[1;33m\u001b[0m\u001b[1;33m\u001b[0m\u001b[0m\n\u001b[0m\u001b[0;32m      7\u001b[0m     \u001b[1;31m# files_list = [f for f in files if os.path.isfile(os.path.join(path, f))]\u001b[0m\u001b[1;33m\u001b[0m\u001b[1;33m\u001b[0m\u001b[1;33m\u001b[0m\u001b[0m\n\u001b[0;32m      8\u001b[0m     \u001b[0mprint\u001b[0m\u001b[1;33m(\u001b[0m\u001b[0mfiles\u001b[0m\u001b[1;33m)\u001b[0m\u001b[1;33m\u001b[0m\u001b[1;33m\u001b[0m\u001b[0m\n",
      "\u001b[1;31mFileNotFoundError\u001b[0m: [WinError 3] 指定されたパスが見つかりません。: &#39;VC長野トライデンツ\\\\2019-20_regular&#39;"
     ]
    }
   ],
   "source": [
    "all_list = []\n",
    "for team in team_list:\n",
    "    print('チーム:{}'.format(team))\n",
    "    # ファイル名だけを取得\n",
    "    path = r'{0}\\{1}'.format(team,season)\n",
    "    files = os.listdir(path)\n",
    "    # files_list = [f for f in files if os.path.isfile(os.path.join(path, f))]\n",
    "    print(files)\n",
    "    data_list = []\n",
    "    if len(files_list) > 0:\n",
    "        for i in files_list:\n",
    "            data = pd.read_csv('{0}/{1}/{2}'.format(team,season,i), encoding='cp932')\n",
    "            # 最後の1行の値：'チーム合計'を含まないようにしている\n",
    "            data_list.append(data[:-1])\n",
    "        game_data = pd.concat(data_list, ignore_index=True)\n",
    "        print(game_data)\n",
    "        player_list = game_data['名前'].unique()\n",
    "        number_list = game_data['背番号'].unique()\n",
    "        # print(len(player_list),player_list)\n",
    "        for i in range(len(player_list)):\n",
    "            daily_stats = game_data[game_data['名前'] == player_list[i]]\n",
    "            # daily_stats.to_csv('{0}/{1}/daily/{2}_{3}_dailystats.csv'.format(team,season,number_list[i],player_list[i]), index=False, encoding='cp932')\n",
    "            # print('{0}_{1}_dailystats.csvを作成'.format(number_list[i],player_list[i]))\n",
    "            all_list.append(daily_stats)\n",
    "\n",
    "daily_all = pd.concat(all_list, ignore_index=True)\n",
    "daily_all.to_csv('all/{}/daily_all.csv'.format(season), index=False, encoding='cp932')"
   ]
  },
  {
   "cell_type": "code",
   "execution_count": 10,
   "metadata": {
    "tags": []
   },
   "outputs": [
    {
     "output_type": "stream",
     "name": "stdout",
     "text": "[&#39;daily_all.csv&#39;, &#39;game_all.csv&#39;, &#39;monthly_all.csv&#39;]\n"
    }
   ],
   "source": [
    "all_list = []\n",
    "    # ファイル名だけを取得\n",
    "    path = 'all/{}'.format(season)\n",
    "    files = os.listdir(path)\n",
    "    print(files)\n",
    "    # data_list = []\n",
    "    # if len(files_list) > 0:\n",
    "    #     for i in files_list:\n",
    "    #         data = pd.read_csv('{0}/{1}/{2}'.format(team,season,i), encoding='cp932')\n",
    "    #         # 最後の1行の値：'チーム合計'を含まないようにしている\n",
    "    #         data_list.append(data[:-1])\n",
    "    #     game_data = pd.concat(data_list, ignore_index=True)\n",
    "    #     print(game_data)\n",
    "    #     player_list = game_data['名前'].unique()\n",
    "    #     number_list = game_data['背番号'].unique()\n",
    "    #     # print(len(player_list),player_list)\n",
    "    #     for i in range(len(player_list)):\n",
    "    #         daily_stats = game_data[game_data['名前'] == player_list[i]]\n",
    "    #         # daily_stats.to_csv('{0}/{1}/daily/{2}_{3}_dailystats.csv'.format(team,season,number_list[i],player_list[i]), index=False, encoding='cp932')\n",
    "#         # print('{0}_{1}_dailystats.csvを作成'.format(number_list[i],player_list[i]))\n",
    "#         all_list.append(daily_stats)\n",
    "\n",
    "# daily_all = pd.concat(all_list, ignore_index=True)\n",
    "# daily_all.to_csv('all/{}/daily_all.csv'.format(season), index=False, encoding='cp932')"
   ]
  },
  {
   "cell_type": "code",
   "execution_count": null,
   "metadata": {},
   "outputs": [],
   "source": []
  }
 ]
}