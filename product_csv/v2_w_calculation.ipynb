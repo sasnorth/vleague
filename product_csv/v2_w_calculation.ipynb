{
 "metadata": {
  "language_info": {
   "codemirror_mode": {
    "name": "ipython",
    "version": 3
   },
   "file_extension": ".py",
   "mimetype": "text/x-python",
   "name": "python",
   "nbconvert_exporter": "python",
   "pygments_lexer": "ipython3",
   "version": "3.7.3-final"
  },
  "orig_nbformat": 2,
  "kernelspec": {
   "name": "python3",
   "display_name": "Python 3.7.3 64-bit",
   "metadata": {
    "interpreter": {
     "hash": "0600588c3b5f4418cbe7b5ebc6825b479f3bc010269d8b60d75058cdd010adfe"
    }
   }
  }
 },
 "nbformat": 4,
 "nbformat_minor": 2,
 "cells": [
  {
   "cell_type": "code",
   "execution_count": 17,
   "metadata": {},
   "outputs": [],
   "source": [
    "breath = [27, 15, 0]\n",
    "greenwings = [28, 12, 0]"
   ]
  },
  {
   "cell_type": "code",
   "execution_count": 4,
   "metadata": {},
   "outputs": [
    {
     "output_type": "stream",
     "name": "stdout",
     "text": [
      "1.8 2.3333333333333335\n"
     ]
    }
   ],
   "source": [
    "breath[2] = breath[0] / breath[1]\n",
    "greenwings[2] = greenwings[0] / greenwings[1]\n",
    "print(breath[2], greenwings[2])"
   ]
  },
  {
   "cell_type": "code",
   "execution_count": 10,
   "metadata": {},
   "outputs": [
    {
     "output_type": "stream",
     "name": "stdout",
     "text": [
      "[27, 15, 0]\n[28, 12, 0]\n"
     ]
    }
   ],
   "source": [
    "print(breath)\n",
    "print(greenwings)"
   ]
  },
  {
   "cell_type": "code",
   "execution_count": 29,
   "metadata": {},
   "outputs": [],
   "source": [
    "def set_per(team):\n",
    "    team[2] =  round(team[0] / team[1], 2) "
   ]
  },
  {
   "cell_type": "code",
   "execution_count": 30,
   "metadata": {},
   "outputs": [
    {
     "output_type": "stream",
     "name": "stdout",
     "text": [
      "ブレス浜松vs群馬銀行グリーンウィングス\n3-0の場合\n[30, 15, 2.0]\n[28, 15, 1.87]\n\n3-1の場合\n[30, 16, 1.88]\n[29, 15, 1.93]\n\n3-2の場合\n[30, 17, 1.76]\n[30, 15, 2.0]\n\n"
     ]
    }
   ],
   "source": [
    "games = [[3, 0], [3, 1], [3, 2]]\n",
    "\n",
    "print('ブレス浜松vs群馬銀行グリーンウィングス')\n",
    "for game in games:\n",
    "    breath_final = [0 for _ in range(3)]\n",
    "    greenwings_final = [0 for _ in range(3)]\n",
    "    breath_final[0] = breath[0] + game[0]\n",
    "    breath_final[1] = breath[1] +  game[1]\n",
    "    greenwings_final[0] = greenwings[0] + game[1]\n",
    "    greenwings_final[1] = greenwings[1] + game[0]\n",
    "    set_per(breath_final)\n",
    "    set_per(greenwings_final)\n",
    "    print('{}-{}の場合'.format(game[0], game[1]))\n",
    "    print(breath_final)\n",
    "    print(greenwings_final)\n",
    "    print()"
   ]
  },
  {
   "cell_type": "code",
   "execution_count": 15,
   "metadata": {},
   "outputs": [
    {
     "output_type": "execute_result",
     "data": {
      "text/plain": [
       "[0, 0, 0]"
      ]
     },
     "metadata": {},
     "execution_count": 15
    }
   ],
   "source": [
    "test = [0 for _ in range(3)]\n",
    "test"
   ]
  },
  {
   "cell_type": "code",
   "execution_count": null,
   "metadata": {},
   "outputs": [],
   "source": []
  }
 ]
}