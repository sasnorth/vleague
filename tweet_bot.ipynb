{
 "metadata": {
  "language_info": {
   "codemirror_mode": {
    "name": "ipython",
    "version": 3
   },
   "file_extension": ".py",
   "mimetype": "text/x-python",
   "name": "python",
   "nbconvert_exporter": "python",
   "pygments_lexer": "ipython3",
   "version": "3.7.7-final"
  },
  "orig_nbformat": 2,
  "kernelspec": {
   "name": "python_defaultSpec_1601316768179",
   "display_name": "Python 3.7.7 64-bit ('base': conda)",
   "metadata": {
    "interpreter": {
     "hash": "0600588c3b5f4418cbe7b5ebc6825b479f3bc010269d8b60d75058cdd010adfe"
    }
   }
  }
 },
 "nbformat": 4,
 "nbformat_minor": 2,
 "cells": [
  {
   "cell_type": "code",
   "execution_count": 10,
   "metadata": {},
   "outputs": [],
   "source": [
    "import tweepy\n",
    "import glob\n",
    "import time\n",
    "import numpy as np\n",
    "\n",
    "# key\n",
    "consumer_key = 'D4OAzhqT7NNeeCa9R7h0Hxzx3'\n",
    "consumer_secret = 'Py8P1k5jxdPEvNOb64WUXh8b10sfDL5qr60krVLNOOLEXauZti'\n",
    "access_token = '1309887734555668481-NNvdk0MCxK4WwKZCKZrOqflU9bwPfG'\n",
    "access_secret = 'CmkMLM4eiOq4MLP3TE6FfUobThOElR5OAfuVSv3GRnXrJ'\n",
    "\n",
    "# Twitterオブジェクト\n",
    "auth = tweepy.OAuthHandler(consumer_key, consumer_secret)\n",
    "auth.set_access_token(access_token, access_secret)\n",
    "api = tweepy.API(auth, wait_on_rate_limit = True)"
   ]
  },
  {
   "cell_type": "code",
   "execution_count": 3,
   "metadata": {
    "tags": []
   },
   "outputs": [],
   "source": [
    "files = glob.glob('v1_m/all/2019-20_regular/monthly/*')\n",
    "# print(files)"
   ]
  },
  {
   "cell_type": "code",
   "execution_count": 4,
   "metadata": {},
   "outputs": [],
   "source": [
    "import pandas as pd"
   ]
  },
  {
   "cell_type": "code",
   "execution_count": 29,
   "metadata": {
    "tags": []
   },
   "outputs": [],
   "source": [
    "num = 10\n",
    "months = [10,11,12,1,2]\n",
    "judge = True\n",
    "# for i in range(num):\n",
    "while judge:\n",
    "    player_file = np.random.choice(files)\n",
    "    data = pd.read_csv(player_file, encoding='cp932')\n",
    "    # data.dtypes\n",
    "    month = np.random.choice(months)\n",
    "    monthly_data = data[data['月']==month]\n",
    "    # print(monthly_data['出場数'].values[0])\n",
    "    if len(monthly_data) > 0 and monthly_data['出場数'].values[0] >= 20 and monthly_data['出場数'].values[0] != None:\n",
    "        judge = False\n",
    "columns = monthly_data.columns.str.contains('月|リベロ|チーム|背番号|名前|決定率|効果率|セット平均|成功率')\n",
    "stats = monthly_data.loc[:,columns]"
   ]
  },
  {
   "cell_type": "code",
   "execution_count": 30,
   "metadata": {},
   "outputs": [
    {
     "output_type": "execute_result",
     "data": {
      "text/plain": "{'月': {4: 2},\n 'チーム': {4: '大分三好ヴァイセアドラー'},\n '背番号': {4: 9},\n 'リベロ': {4: nan},\n '名前': {4: '林一壽'},\n 'アタック決定率': {4: 28.1},\n 'アタック効果率': {4: 15.6},\n 'アタックセット平均': {4: 0.4},\n 'バックアタック決定率': {4: nan},\n 'ブロックセット平均': {4: 0.1},\n 'サーブ効果率': {4: 6.0},\n 'サーブレシーブ成功率': {4: 50.0}}"
     },
     "metadata": {},
     "execution_count": 30
    }
   ],
   "source": [
    "player_dict = stats.to_dict()\n",
    "player_dict"
   ]
  },
  {
   "cell_type": "code",
   "execution_count": 34,
   "metadata": {
    "tags": []
   },
   "outputs": [
    {
     "output_type": "stream",
     "name": "stdout",
     "text": "シーズン: 2019-20\n月: 2月\nチーム: 大分三好ヴァイセアドラー\n背番号: 9\nリベロ: nan\n名前: 林一壽\nアタック決定率: 28.1%\nアタック効果率: 15.6%\nアタックセット平均: 0.4本\nバックアタック決定率: nan%\nブロックセット平均: 0.1本\nサーブ効果率: 6.0%\nサーブレシーブ成功率: 50.0%\n\n"
    }
   ],
   "source": [
    "message = 'シーズン: 2019-20\\n'\n",
    "for i,j in player_dict.items():\n",
    "    value = list(j.values())[0]\n",
    "    if '月' in i:\n",
    "        message += '{0}: {1}月\\n'.format(i,value)\n",
    "    elif '率' in i:\n",
    "        message += '{0}: {1}%\\n'.format(i,value)\n",
    "    elif '平均' in i:\n",
    "        message += '{0}: {1}本\\n'.format(i,value)\n",
    "    else:\n",
    "        message += '{0}: {1}\\n'.format(i,value)\n",
    "print(message)"
   ]
  },
  {
   "cell_type": "code",
   "execution_count": 32,
   "metadata": {},
   "outputs": [
    {
     "output_type": "execute_result",
     "data": {
      "text/plain": "Status(_api=<tweepy.api.API object at 0x000002C264D4FC88>, _json={'created_at': 'Tue Sep 29 00:17:13 +0000 2020', 'id': 1310735345596526592, 'id_str': '1310735345596526592', 'text': '月: 2月\\nチーム: 大分三好ヴァイセアドラー\\n背番号: 9\\nリベロ: nan\\n名前: 林一壽\\nアタック決定率: 28.1%\\nアタック効果率: 15.6%\\nアタックセット平均: 0.4本\\nバックアタック決定率: nan%\\nブロック… https://t.co/XNgCZ1E8BX', 'truncated': True, 'entities': {'hashtags': [], 'symbols': [], 'user_mentions': [], 'urls': [{'url': 'https://t.co/XNgCZ1E8BX', 'expanded_url': 'https://twitter.com/i/web/status/1310735345596526592', 'display_url': 'twitter.com/i/web/status/1…', 'indices': [117, 140]}]}, 'source': '', 'in_reply_to_status_id': None, 'in_reply_to_status_id_str': None, 'in_reply_to_user_id': None, 'in_reply_to_user_id_str': None, 'in_reply_to_screen_name': None, 'user': {'id': 1309887734555668481, 'id_str': '1309887734555668481', 'name': 'Vリーグbot', 'screen_name': 'Vleague_bot', 'location': '', 'description': 'Vリーグの過去の記録を定期的に呟くBotです。\\n現在は、2019-20シーズン全ディビジョンの成績を公開しています。\\n\\n作成者→@spursfun2', 'url': None, 'entities': {'description': {'urls': []}}, 'protected': False, 'followers_count': 1, 'friends_count': 1, 'listed_count': 0, 'created_at': 'Sat Sep 26 16:09:16 +0000 2020', 'favourites_count': 0, 'utc_offset': None, 'time_zone': None, 'geo_enabled': False, 'verified': False, 'statuses_count': 4, 'lang': None, 'contributors_enabled': False, 'is_translator': False, 'is_translation_enabled': False, 'profile_background_color': 'F5F8FA', 'profile_background_image_url': None, 'profile_background_image_url_https': None, 'profile_background_tile': False, 'profile_image_url': 'http://pbs.twimg.com/profile_images/1309887885596790784/8ghunM-a_normal.jpg', 'profile_image_url_https': 'https://pbs.twimg.com/profile_images/1309887885596790784/8ghunM-a_normal.jpg', 'profile_link_color': '1DA1F2', 'profile_sidebar_border_color': 'C0DEED', 'profile_sidebar_fill_color': 'DDEEF6', 'profile_text_color': '333333', 'profile_use_background_image': True, 'has_extended_profile': True, 'default_profile': True, 'default_profile_image': False, 'following': False, 'follow_request_sent': False, 'notifications': False, 'translator_type': 'none'}, 'geo': None, 'coordinates': None, 'place': None, 'contributors': None, 'is_quote_status': False, 'retweet_count': 0, 'favorite_count': 0, 'favorited': False, 'retweeted': False, 'lang': 'ja'}, created_at=datetime.datetime(2020, 9, 29, 0, 17, 13), id=1310735345596526592, id_str='1310735345596526592', text='月: 2月\\nチーム: 大分三好ヴァイセアドラー\\n背番号: 9\\nリベロ: nan\\n名前: 林一壽\\nアタック決定率: 28.1%\\nアタック効果率: 15.6%\\nアタックセット平均: 0.4本\\nバックアタック決定率: nan%\\nブロック… https://t.co/XNgCZ1E8BX', truncated=True, entities={'hashtags': [], 'symbols': [], 'user_mentions': [], 'urls': [{'url': 'https://t.co/XNgCZ1E8BX', 'expanded_url': 'https://twitter.com/i/web/status/1310735345596526592', 'display_url': 'twitter.com/i/web/status/1…', 'indices': [117, 140]}]}, source='', source_url=None, in_reply_to_status_id=None, in_reply_to_status_id_str=None, in_reply_to_user_id=None, in_reply_to_user_id_str=None, in_reply_to_screen_name=None, author=User(_api=<tweepy.api.API object at 0x000002C264D4FC88>, _json={'id': 1309887734555668481, 'id_str': '1309887734555668481', 'name': 'Vリーグbot', 'screen_name': 'Vleague_bot', 'location': '', 'description': 'Vリーグの過去の記録を定期的に呟くBotです。\\n現在は、2019-20シーズン全ディビジョンの成績を公開しています。\\n\\n作成者→@spursfun2', 'url': None, 'entities': {'description': {'urls': []}}, 'protected': False, 'followers_count': 1, 'friends_count': 1, 'listed_count': 0, 'created_at': 'Sat Sep 26 16:09:16 +0000 2020', 'favourites_count': 0, 'utc_offset': None, 'time_zone': None, 'geo_enabled': False, 'verified': False, 'statuses_count': 4, 'lang': None, 'contributors_enabled': False, 'is_translator': False, 'is_translation_enabled': False, 'profile_background_color': 'F5F8FA', 'profile_background_image_url': None, 'profile_background_image_url_https': None, 'profile_background_tile': False, 'profile_image_url': 'http://pbs.twimg.com/profile_images/1309887885596790784/8ghunM-a_normal.jpg', 'profile_image_url_https': 'https://pbs.twimg.com/profile_images/1309887885596790784/8ghunM-a_normal.jpg', 'profile_link_color': '1DA1F2', 'profile_sidebar_border_color': 'C0DEED', 'profile_sidebar_fill_color': 'DDEEF6', 'profile_text_color': '333333', 'profile_use_background_image': True, 'has_extended_profile': True, 'default_profile': True, 'default_profile_image': False, 'following': False, 'follow_request_sent': False, 'notifications': False, 'translator_type': 'none'}, id=1309887734555668481, id_str='1309887734555668481', name='Vリーグbot', screen_name='Vleague_bot', location='', description='Vリーグの過去の記録を定期的に呟くBotです。\\n現在は、2019-20シーズン全ディビジョンの成績を公開しています。\\n\\n作成者→@spursfun2', url=None, entities={'description': {'urls': []}}, protected=False, followers_count=1, friends_count=1, listed_count=0, created_at=datetime.datetime(2020, 9, 26, 16, 9, 16), favourites_count=0, utc_offset=None, time_zone=None, geo_enabled=False, verified=False, statuses_count=4, lang=None, contributors_enabled=False, is_translator=False, is_translation_enabled=False, profile_background_color='F5F8FA', profile_background_image_url=None, profile_background_image_url_https=None, profile_background_tile=False, profile_image_url='http://pbs.twimg.com/profile_images/1309887885596790784/8ghunM-a_normal.jpg', profile_image_url_https='https://pbs.twimg.com/profile_images/1309887885596790784/8ghunM-a_normal.jpg', profile_link_color='1DA1F2', profile_sidebar_border_color='C0DEED', profile_sidebar_fill_color='DDEEF6', profile_text_color='333333', profile_use_background_image=True, has_extended_profile=True, default_profile=True, default_profile_image=False, following=False, follow_request_sent=False, notifications=False, translator_type='none'), user=User(_api=<tweepy.api.API object at 0x000002C264D4FC88>, _json={'id': 1309887734555668481, 'id_str': '1309887734555668481', 'name': 'Vリーグbot', 'screen_name': 'Vleague_bot', 'location': '', 'description': 'Vリーグの過去の記録を定期的に呟くBotです。\\n現在は、2019-20シーズン全ディビジョンの成績を公開しています。\\n\\n作成者→@spursfun2', 'url': None, 'entities': {'description': {'urls': []}}, 'protected': False, 'followers_count': 1, 'friends_count': 1, 'listed_count': 0, 'created_at': 'Sat Sep 26 16:09:16 +0000 2020', 'favourites_count': 0, 'utc_offset': None, 'time_zone': None, 'geo_enabled': False, 'verified': False, 'statuses_count': 4, 'lang': None, 'contributors_enabled': False, 'is_translator': False, 'is_translation_enabled': False, 'profile_background_color': 'F5F8FA', 'profile_background_image_url': None, 'profile_background_image_url_https': None, 'profile_background_tile': False, 'profile_image_url': 'http://pbs.twimg.com/profile_images/1309887885596790784/8ghunM-a_normal.jpg', 'profile_image_url_https': 'https://pbs.twimg.com/profile_images/1309887885596790784/8ghunM-a_normal.jpg', 'profile_link_color': '1DA1F2', 'profile_sidebar_border_color': 'C0DEED', 'profile_sidebar_fill_color': 'DDEEF6', 'profile_text_color': '333333', 'profile_use_background_image': True, 'has_extended_profile': True, 'default_profile': True, 'default_profile_image': False, 'following': False, 'follow_request_sent': False, 'notifications': False, 'translator_type': 'none'}, id=1309887734555668481, id_str='1309887734555668481', name='Vリーグbot', screen_name='Vleague_bot', location='', description='Vリーグの過去の記録を定期的に呟くBotです。\\n現在は、2019-20シーズン全ディビジョンの成績を公開しています。\\n\\n作成者→@spursfun2', url=None, entities={'description': {'urls': []}}, protected=False, followers_count=1, friends_count=1, listed_count=0, created_at=datetime.datetime(2020, 9, 26, 16, 9, 16), favourites_count=0, utc_offset=None, time_zone=None, geo_enabled=False, verified=False, statuses_count=4, lang=None, contributors_enabled=False, is_translator=False, is_translation_enabled=False, profile_background_color='F5F8FA', profile_background_image_url=None, profile_background_image_url_https=None, profile_background_tile=False, profile_image_url='http://pbs.twimg.com/profile_images/1309887885596790784/8ghunM-a_normal.jpg', profile_image_url_https='https://pbs.twimg.com/profile_images/1309887885596790784/8ghunM-a_normal.jpg', profile_link_color='1DA1F2', profile_sidebar_border_color='C0DEED', profile_sidebar_fill_color='DDEEF6', profile_text_color='333333', profile_use_background_image=True, has_extended_profile=True, default_profile=True, default_profile_image=False, following=False, follow_request_sent=False, notifications=False, translator_type='none'), geo=None, coordinates=None, place=None, contributors=None, is_quote_status=False, retweet_count=0, favorite_count=0, favorited=False, retweeted=False, lang='ja')"
     },
     "metadata": {},
     "execution_count": 32
    }
   ],
   "source": [
    "api.update_status(message)"
   ]
  },
  {
   "cell_type": "code",
   "execution_count": 19,
   "metadata": {},
   "outputs": [
    {
     "output_type": "execute_result",
     "data": {
      "text/plain": "12"
     },
     "metadata": {},
     "execution_count": 19
    }
   ],
   "source": [
    "months = [10,11,12,1,2]\n",
    "month = np.random.choice(months)"
   ]
  },
  {
   "cell_type": "code",
   "execution_count": null,
   "metadata": {},
   "outputs": [],
   "source": []
  }
 ]
}