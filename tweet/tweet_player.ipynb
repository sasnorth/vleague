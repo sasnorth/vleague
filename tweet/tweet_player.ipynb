{
 "metadata": {
  "language_info": {
   "codemirror_mode": {
    "name": "ipython",
    "version": 3
   },
   "file_extension": ".py",
   "mimetype": "text/x-python",
   "name": "python",
   "nbconvert_exporter": "python",
   "pygments_lexer": "ipython3",
   "version": "3.7.7-final"
  },
  "orig_nbformat": 2,
  "kernelspec": {
   "name": "python_defaultSpec_1601480946998",
   "display_name": "Python 3.7.7 64-bit ('base': conda)",
   "metadata": {
    "interpreter": {
     "hash": "0600588c3b5f4418cbe7b5ebc6825b479f3bc010269d8b60d75058cdd010adfe"
    }
   }
  }
 },
 "nbformat": 4,
 "nbformat_minor": 2,
 "cells": [
  {
   "cell_type": "code",
   "execution_count": 20,
   "metadata": {},
   "outputs": [],
   "source": [
    "import tweepy\n",
    "import os\n",
    "import glob\n",
    "import time\n",
    "import numpy as np\n",
    "import pandas as pd\n",
    "\n",
    "# key\n",
    "consumer_key = 'D4OAzhqT7NNeeCa9R7h0Hxzx3'\n",
    "consumer_secret = 'Py8P1k5jxdPEvNOb64WUXh8b10sfDL5qr60krVLNOOLEXauZti'\n",
    "access_token = '1309887734555668481-NNvdk0MCxK4WwKZCKZrOqflU9bwPfG'\n",
    "access_secret = 'CmkMLM4eiOq4MLP3TE6FfUobThOElR5OAfuVSv3GRnXrJ'\n",
    "\n",
    "# Twitterオブジェクト\n",
    "auth = tweepy.OAuthHandler(consumer_key, consumer_secret)\n",
    "auth.set_access_token(access_token, access_secret)\n",
    "api = tweepy.API(auth, wait_on_rate_limit = True)"
   ]
  },
  {
   "cell_type": "code",
   "execution_count": 21,
   "metadata": {},
   "outputs": [],
   "source": [
    "# 'ディビジョンを選択してください:{v1_m, v2_m, v3_m, v1_w, v2_w}'\n",
    "division = 'v1_m'\n",
    "# '年度・シーズンを選択してください:{2019-20_regular,2018-19_regular, 2017-18_regular, 2016-17_regular, 2015-14_regular}'\n",
    "season = '2019-20_regular'"
   ]
  },
  {
   "cell_type": "code",
   "execution_count": 25,
   "metadata": {},
   "outputs": [
    {
     "output_type": "execute_result",
     "data": {
      "text/plain": "'c:\\\\Users\\\\sasno\\\\Desktop\\\\MyPandas\\\\vleague\\\\v1_m'"
     },
     "metadata": {},
     "execution_count": 25
    }
   ],
   "source": [
    "os.chdir('/Users/sasno/Desktop/MyPandas/vleague')\n",
    "os.chdir(division)\n",
    "os.getcwd()"
   ]
  },
  {
   "cell_type": "code",
   "execution_count": 28,
   "metadata": {
    "tags": []
   },
   "outputs": [
    {
     "output_type": "stream",
     "name": "stdout",
     "text": "['all/2019-20_regular\\\\monthly_all.csv']\n"
    }
   ],
   "source": [
    "files = glob.glob('all/{}/monthly*'.format(season))\n",
    "print(files)"
   ]
  },
  {
   "cell_type": "code",
   "execution_count": 31,
   "metadata": {
    "tags": []
   },
   "outputs": [
    {
     "output_type": "execute_result",
     "data": {
      "text/plain": "              名前   月           チーム  背番号  アタック決定率  アタック効果率  バックアタック決定率  \\\n5       エドガートーマス  11     JTサンダーズ広島    6     59.3     53.3        57.1   \n10      カジースキマテイ  11  ジェイテクトSTINGS    6     47.0     39.4        54.2   \n15    ガスパリーニミティア  11    ウルフドッグス名古屋   16     44.0     36.0        36.1   \n20       クビアクミハウ  11   パナソニックパンサーズ   13     46.1     39.7        34.5   \n25   ストレジェクパトリック  11    VC長野トライデンツ    1     44.8     33.7        48.0   \n..           ...  ..           ...  ...      ...      ...         ...   \n778         高野直哉  11       堺ブレイザーズ    4     40.5     32.1        36.4   \n781        鳥飼亜斗夢  11    サントリーサンバーズ    4     20.0     20.0         NaN   \n785         鵜野幸也  11       堺ブレイザーズ   23      NaN      NaN         NaN   \n790         鶴田大樹  11    サントリーサンバーズ    1      NaN      NaN         NaN   \n794         黒田彪斗  11          FC東京   26     30.8     23.1         NaN   \n\n     アタックセット平均  ブロックセット平均  サーブ効果率  サーブレシーブ成功率  \n5          6.4        0.5    11.1         NaN  \n10         3.2        0.6    21.6        60.6  \n15         2.1        0.4    16.3        50.0  \n20         3.5        0.5     8.5        52.5  \n25         4.8        0.4     2.7        25.0  \n..         ...        ...     ...         ...  \n778        1.2        0.2    -2.1        46.6  \n781        0.5        0.0     NaN         NaN  \n785        NaN        NaN     NaN         NaN  \n790        0.0        0.0     NaN        67.8  \n794        1.3        1.0     3.6        45.0  \n\n[166 rows x 11 columns]",
      "text/html": "<div>\n<style scoped>\n    .dataframe tbody tr th:only-of-type {\n        vertical-align: middle;\n    }\n\n    .dataframe tbody tr th {\n        vertical-align: top;\n    }\n\n    .dataframe thead th {\n        text-align: right;\n    }\n</style>\n<table border=\"1\" class=\"dataframe\">\n  <thead>\n    <tr style=\"text-align: right;\">\n      <th></th>\n      <th>名前</th>\n      <th>月</th>\n      <th>チーム</th>\n      <th>背番号</th>\n      <th>アタック決定率</th>\n      <th>アタック効果率</th>\n      <th>バックアタック決定率</th>\n      <th>アタックセット平均</th>\n      <th>ブロックセット平均</th>\n      <th>サーブ効果率</th>\n      <th>サーブレシーブ成功率</th>\n    </tr>\n  </thead>\n  <tbody>\n    <tr>\n      <th>5</th>\n      <td>エドガートーマス</td>\n      <td>11</td>\n      <td>JTサンダーズ広島</td>\n      <td>6</td>\n      <td>59.3</td>\n      <td>53.3</td>\n      <td>57.1</td>\n      <td>6.4</td>\n      <td>0.5</td>\n      <td>11.1</td>\n      <td>NaN</td>\n    </tr>\n    <tr>\n      <th>10</th>\n      <td>カジースキマテイ</td>\n      <td>11</td>\n      <td>ジェイテクトSTINGS</td>\n      <td>6</td>\n      <td>47.0</td>\n      <td>39.4</td>\n      <td>54.2</td>\n      <td>3.2</td>\n      <td>0.6</td>\n      <td>21.6</td>\n      <td>60.6</td>\n    </tr>\n    <tr>\n      <th>15</th>\n      <td>ガスパリーニミティア</td>\n      <td>11</td>\n      <td>ウルフドッグス名古屋</td>\n      <td>16</td>\n      <td>44.0</td>\n      <td>36.0</td>\n      <td>36.1</td>\n      <td>2.1</td>\n      <td>0.4</td>\n      <td>16.3</td>\n      <td>50.0</td>\n    </tr>\n    <tr>\n      <th>20</th>\n      <td>クビアクミハウ</td>\n      <td>11</td>\n      <td>パナソニックパンサーズ</td>\n      <td>13</td>\n      <td>46.1</td>\n      <td>39.7</td>\n      <td>34.5</td>\n      <td>3.5</td>\n      <td>0.5</td>\n      <td>8.5</td>\n      <td>52.5</td>\n    </tr>\n    <tr>\n      <th>25</th>\n      <td>ストレジェクパトリック</td>\n      <td>11</td>\n      <td>VC長野トライデンツ</td>\n      <td>1</td>\n      <td>44.8</td>\n      <td>33.7</td>\n      <td>48.0</td>\n      <td>4.8</td>\n      <td>0.4</td>\n      <td>2.7</td>\n      <td>25.0</td>\n    </tr>\n    <tr>\n      <th>...</th>\n      <td>...</td>\n      <td>...</td>\n      <td>...</td>\n      <td>...</td>\n      <td>...</td>\n      <td>...</td>\n      <td>...</td>\n      <td>...</td>\n      <td>...</td>\n      <td>...</td>\n      <td>...</td>\n    </tr>\n    <tr>\n      <th>778</th>\n      <td>高野直哉</td>\n      <td>11</td>\n      <td>堺ブレイザーズ</td>\n      <td>4</td>\n      <td>40.5</td>\n      <td>32.1</td>\n      <td>36.4</td>\n      <td>1.2</td>\n      <td>0.2</td>\n      <td>-2.1</td>\n      <td>46.6</td>\n    </tr>\n    <tr>\n      <th>781</th>\n      <td>鳥飼亜斗夢</td>\n      <td>11</td>\n      <td>サントリーサンバーズ</td>\n      <td>4</td>\n      <td>20.0</td>\n      <td>20.0</td>\n      <td>NaN</td>\n      <td>0.5</td>\n      <td>0.0</td>\n      <td>NaN</td>\n      <td>NaN</td>\n    </tr>\n    <tr>\n      <th>785</th>\n      <td>鵜野幸也</td>\n      <td>11</td>\n      <td>堺ブレイザーズ</td>\n      <td>23</td>\n      <td>NaN</td>\n      <td>NaN</td>\n      <td>NaN</td>\n      <td>NaN</td>\n      <td>NaN</td>\n      <td>NaN</td>\n      <td>NaN</td>\n    </tr>\n    <tr>\n      <th>790</th>\n      <td>鶴田大樹</td>\n      <td>11</td>\n      <td>サントリーサンバーズ</td>\n      <td>1</td>\n      <td>NaN</td>\n      <td>NaN</td>\n      <td>NaN</td>\n      <td>0.0</td>\n      <td>0.0</td>\n      <td>NaN</td>\n      <td>67.8</td>\n    </tr>\n    <tr>\n      <th>794</th>\n      <td>黒田彪斗</td>\n      <td>11</td>\n      <td>FC東京</td>\n      <td>26</td>\n      <td>30.8</td>\n      <td>23.1</td>\n      <td>NaN</td>\n      <td>1.3</td>\n      <td>1.0</td>\n      <td>3.6</td>\n      <td>45.0</td>\n    </tr>\n  </tbody>\n</table>\n<p>166 rows × 11 columns</p>\n</div>"
     },
     "metadata": {},
     "execution_count": 31
    }
   ],
   "source": [
    "num = 10\n",
    "months = [10,11,12,1,2]\n",
    "judge = True\n",
    "# for i in range(num):\n",
    "while judge:\n",
    "    player_file = np.random.choice(files)\n",
    "    data = pd.read_csv(player_file, encoding='cp932')\n",
    "    # data.dtypes\n",
    "    month = np.random.choice(months)\n",
    "    monthly_data = data[data['月']==month]\n",
    "    # print(monthly_data['出場数'].values[0])\n",
    "    if len(monthly_data) > 0 and monthly_data['出場数'].values[0] >= 20 and monthly_data['出場数'].values[0] != None:\n",
    "        judge = False\n",
    "columns = monthly_data.columns.str.contains('月|リベロ|チーム|背番号|名前|決定率|効果率|セット平均|成功率')\n",
    "stats = monthly_data.loc[:,columns]\n",
    "stats"
   ]
  },
  {
   "cell_type": "code",
   "execution_count": 32,
   "metadata": {},
   "outputs": [],
   "source": [
    "player_dict = stats.to_dict()\n",
    "# player_dict"
   ]
  },
  {
   "cell_type": "code",
   "execution_count": 34,
   "metadata": {
    "tags": []
   },
   "outputs": [
    {
     "output_type": "stream",
     "name": "stdout",
     "text": "シーズン: 2019-20\n月: 2月\nチーム: 大分三好ヴァイセアドラー\n背番号: 9\nリベロ: nan\n名前: 林一壽\nアタック決定率: 28.1%\nアタック効果率: 15.6%\nアタックセット平均: 0.4本\nバックアタック決定率: nan%\nブロックセット平均: 0.1本\nサーブ効果率: 6.0%\nサーブレシーブ成功率: 50.0%\n\n"
    }
   ],
   "source": [
    "message = 'シーズン: 2019-20\\n'\n",
    "for i,j in player_dict.items():\n",
    "    value = list(j.values())[0]\n",
    "    if '月' in i:\n",
    "        message += '{0}: {1}月\\n'.format(i,value)\n",
    "    elif '率' in i:\n",
    "        message += '{0}: {1}%\\n'.format(i,value)\n",
    "    elif '平均' in i:\n",
    "        message += '{0}: {1}本\\n'.format(i,value)\n",
    "    else:\n",
    "        message += '{0}: {1}\\n'.format(i,value)\n",
    "print(message)"
   ]
  },
  {
   "cell_type": "code",
   "execution_count": 32,
   "metadata": {},
   "outputs": [
    {
     "output_type": "execute_result",
     "data": {
      "text/plain": "Status(_api=<tweepy.api.API object at 0x000002C264D4FC88>, _json={'created_at': 'Tue Sep 29 00:17:13 +0000 2020', 'id': 1310735345596526592, 'id_str': '1310735345596526592', 'text': '月: 2月\\nチーム: 大分三好ヴァイセアドラー\\n背番号: 9\\nリベロ: nan\\n名前: 林一壽\\nアタック決定率: 28.1%\\nアタック効果率: 15.6%\\nアタックセット平均: 0.4本\\nバックアタック決定率: nan%\\nブロック… https://t.co/XNgCZ1E8BX', 'truncated': True, 'entities': {'hashtags': [], 'symbols': [], 'user_mentions': [], 'urls': [{'url': 'https://t.co/XNgCZ1E8BX', 'expanded_url': 'https://twitter.com/i/web/status/1310735345596526592', 'display_url': 'twitter.com/i/web/status/1…', 'indices': [117, 140]}]}, 'source': '', 'in_reply_to_status_id': None, 'in_reply_to_status_id_str': None, 'in_reply_to_user_id': None, 'in_reply_to_user_id_str': None, 'in_reply_to_screen_name': None, 'user': {'id': 1309887734555668481, 'id_str': '1309887734555668481', 'name': 'Vリーグbot', 'screen_name': 'Vleague_bot', 'location': '', 'description': 'Vリーグの過去の記録を定期的に呟くBotです。\\n現在は、2019-20シーズン全ディビジョンの成績を公開しています。\\n\\n作成者→@spursfun2', 'url': None, 'entities': {'description': {'urls': []}}, 'protected': False, 'followers_count': 1, 'friends_count': 1, 'listed_count': 0, 'created_at': 'Sat Sep 26 16:09:16 +0000 2020', 'favourites_count': 0, 'utc_offset': None, 'time_zone': None, 'geo_enabled': False, 'verified': False, 'statuses_count': 4, 'lang': None, 'contributors_enabled': False, 'is_translator': False, 'is_translation_enabled': False, 'profile_background_color': 'F5F8FA', 'profile_background_image_url': None, 'profile_background_image_url_https': None, 'profile_background_tile': False, 'profile_image_url': 'http://pbs.twimg.com/profile_images/1309887885596790784/8ghunM-a_normal.jpg', 'profile_image_url_https': 'https://pbs.twimg.com/profile_images/1309887885596790784/8ghunM-a_normal.jpg', 'profile_link_color': '1DA1F2', 'profile_sidebar_border_color': 'C0DEED', 'profile_sidebar_fill_color': 'DDEEF6', 'profile_text_color': '333333', 'profile_use_background_image': True, 'has_extended_profile': True, 'default_profile': True, 'default_profile_image': False, 'following': False, 'follow_request_sent': False, 'notifications': False, 'translator_type': 'none'}, 'geo': None, 'coordinates': None, 'place': None, 'contributors': None, 'is_quote_status': False, 'retweet_count': 0, 'favorite_count': 0, 'favorited': False, 'retweeted': False, 'lang': 'ja'}, created_at=datetime.datetime(2020, 9, 29, 0, 17, 13), id=1310735345596526592, id_str='1310735345596526592', text='月: 2月\\nチーム: 大分三好ヴァイセアドラー\\n背番号: 9\\nリベロ: nan\\n名前: 林一壽\\nアタック決定率: 28.1%\\nアタック効果率: 15.6%\\nアタックセット平均: 0.4本\\nバックアタック決定率: nan%\\nブロック… https://t.co/XNgCZ1E8BX', truncated=True, entities={'hashtags': [], 'symbols': [], 'user_mentions': [], 'urls': [{'url': 'https://t.co/XNgCZ1E8BX', 'expanded_url': 'https://twitter.com/i/web/status/1310735345596526592', 'display_url': 'twitter.com/i/web/status/1…', 'indices': [117, 140]}]}, source='', source_url=None, in_reply_to_status_id=None, in_reply_to_status_id_str=None, in_reply_to_user_id=None, in_reply_to_user_id_str=None, in_reply_to_screen_name=None, author=User(_api=<tweepy.api.API object at 0x000002C264D4FC88>, _json={'id': 1309887734555668481, 'id_str': '1309887734555668481', 'name': 'Vリーグbot', 'screen_name': 'Vleague_bot', 'location': '', 'description': 'Vリーグの過去の記録を定期的に呟くBotです。\\n現在は、2019-20シーズン全ディビジョンの成績を公開しています。\\n\\n作成者→@spursfun2', 'url': None, 'entities': {'description': {'urls': []}}, 'protected': False, 'followers_count': 1, 'friends_count': 1, 'listed_count': 0, 'created_at': 'Sat Sep 26 16:09:16 +0000 2020', 'favourites_count': 0, 'utc_offset': None, 'time_zone': None, 'geo_enabled': False, 'verified': False, 'statuses_count': 4, 'lang': None, 'contributors_enabled': False, 'is_translator': False, 'is_translation_enabled': False, 'profile_background_color': 'F5F8FA', 'profile_background_image_url': None, 'profile_background_image_url_https': None, 'profile_background_tile': False, 'profile_image_url': 'http://pbs.twimg.com/profile_images/1309887885596790784/8ghunM-a_normal.jpg', 'profile_image_url_https': 'https://pbs.twimg.com/profile_images/1309887885596790784/8ghunM-a_normal.jpg', 'profile_link_color': '1DA1F2', 'profile_sidebar_border_color': 'C0DEED', 'profile_sidebar_fill_color': 'DDEEF6', 'profile_text_color': '333333', 'profile_use_background_image': True, 'has_extended_profile': True, 'default_profile': True, 'default_profile_image': False, 'following': False, 'follow_request_sent': False, 'notifications': False, 'translator_type': 'none'}, id=1309887734555668481, id_str='1309887734555668481', name='Vリーグbot', screen_name='Vleague_bot', location='', description='Vリーグの過去の記録を定期的に呟くBotです。\\n現在は、2019-20シーズン全ディビジョンの成績を公開しています。\\n\\n作成者→@spursfun2', url=None, entities={'description': {'urls': []}}, protected=False, followers_count=1, friends_count=1, listed_count=0, created_at=datetime.datetime(2020, 9, 26, 16, 9, 16), favourites_count=0, utc_offset=None, time_zone=None, geo_enabled=False, verified=False, statuses_count=4, lang=None, contributors_enabled=False, is_translator=False, is_translation_enabled=False, profile_background_color='F5F8FA', profile_background_image_url=None, profile_background_image_url_https=None, profile_background_tile=False, profile_image_url='http://pbs.twimg.com/profile_images/1309887885596790784/8ghunM-a_normal.jpg', profile_image_url_https='https://pbs.twimg.com/profile_images/1309887885596790784/8ghunM-a_normal.jpg', profile_link_color='1DA1F2', profile_sidebar_border_color='C0DEED', profile_sidebar_fill_color='DDEEF6', profile_text_color='333333', profile_use_background_image=True, has_extended_profile=True, default_profile=True, default_profile_image=False, following=False, follow_request_sent=False, notifications=False, translator_type='none'), user=User(_api=<tweepy.api.API object at 0x000002C264D4FC88>, _json={'id': 1309887734555668481, 'id_str': '1309887734555668481', 'name': 'Vリーグbot', 'screen_name': 'Vleague_bot', 'location': '', 'description': 'Vリーグの過去の記録を定期的に呟くBotです。\\n現在は、2019-20シーズン全ディビジョンの成績を公開しています。\\n\\n作成者→@spursfun2', 'url': None, 'entities': {'description': {'urls': []}}, 'protected': False, 'followers_count': 1, 'friends_count': 1, 'listed_count': 0, 'created_at': 'Sat Sep 26 16:09:16 +0000 2020', 'favourites_count': 0, 'utc_offset': None, 'time_zone': None, 'geo_enabled': False, 'verified': False, 'statuses_count': 4, 'lang': None, 'contributors_enabled': False, 'is_translator': False, 'is_translation_enabled': False, 'profile_background_color': 'F5F8FA', 'profile_background_image_url': None, 'profile_background_image_url_https': None, 'profile_background_tile': False, 'profile_image_url': 'http://pbs.twimg.com/profile_images/1309887885596790784/8ghunM-a_normal.jpg', 'profile_image_url_https': 'https://pbs.twimg.com/profile_images/1309887885596790784/8ghunM-a_normal.jpg', 'profile_link_color': '1DA1F2', 'profile_sidebar_border_color': 'C0DEED', 'profile_sidebar_fill_color': 'DDEEF6', 'profile_text_color': '333333', 'profile_use_background_image': True, 'has_extended_profile': True, 'default_profile': True, 'default_profile_image': False, 'following': False, 'follow_request_sent': False, 'notifications': False, 'translator_type': 'none'}, id=1309887734555668481, id_str='1309887734555668481', name='Vリーグbot', screen_name='Vleague_bot', location='', description='Vリーグの過去の記録を定期的に呟くBotです。\\n現在は、2019-20シーズン全ディビジョンの成績を公開しています。\\n\\n作成者→@spursfun2', url=None, entities={'description': {'urls': []}}, protected=False, followers_count=1, friends_count=1, listed_count=0, created_at=datetime.datetime(2020, 9, 26, 16, 9, 16), favourites_count=0, utc_offset=None, time_zone=None, geo_enabled=False, verified=False, statuses_count=4, lang=None, contributors_enabled=False, is_translator=False, is_translation_enabled=False, profile_background_color='F5F8FA', profile_background_image_url=None, profile_background_image_url_https=None, profile_background_tile=False, profile_image_url='http://pbs.twimg.com/profile_images/1309887885596790784/8ghunM-a_normal.jpg', profile_image_url_https='https://pbs.twimg.com/profile_images/1309887885596790784/8ghunM-a_normal.jpg', profile_link_color='1DA1F2', profile_sidebar_border_color='C0DEED', profile_sidebar_fill_color='DDEEF6', profile_text_color='333333', profile_use_background_image=True, has_extended_profile=True, default_profile=True, default_profile_image=False, following=False, follow_request_sent=False, notifications=False, translator_type='none'), geo=None, coordinates=None, place=None, contributors=None, is_quote_status=False, retweet_count=0, favorite_count=0, favorited=False, retweeted=False, lang='ja')"
     },
     "metadata": {},
     "execution_count": 32
    }
   ],
   "source": [
    "api.update_status(message)"
   ]
  },
  {
   "cell_type": "code",
   "execution_count": 19,
   "metadata": {},
   "outputs": [
    {
     "output_type": "execute_result",
     "data": {
      "text/plain": "12"
     },
     "metadata": {},
     "execution_count": 19
    }
   ],
   "source": [
    "months = [10,11,12,1,2]\n",
    "month = np.random.choice(months)"
   ]
  },
  {
   "cell_type": "code",
   "execution_count": null,
   "metadata": {},
   "outputs": [],
   "source": []
  }
 ]
}