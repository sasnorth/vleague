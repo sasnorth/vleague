{
 "metadata": {
  "language_info": {
   "codemirror_mode": {
    "name": "ipython",
    "version": 3
   },
   "file_extension": ".py",
   "mimetype": "text/x-python",
   "name": "python",
   "nbconvert_exporter": "python",
   "pygments_lexer": "ipython3",
   "version": "3.7.7-final"
  },
  "orig_nbformat": 2,
  "kernelspec": {
   "name": "python_defaultSpec_1601484251626",
   "display_name": "Python 3.7.7 64-bit ('base': conda)",
   "metadata": {
    "interpreter": {
     "hash": "0600588c3b5f4418cbe7b5ebc6825b479f3bc010269d8b60d75058cdd010adfe"
    }
   }
  }
 },
 "nbformat": 4,
 "nbformat_minor": 2,
 "cells": [
  {
   "cell_type": "code",
   "execution_count": 100,
   "metadata": {},
   "outputs": [],
   "source": [
    "import tweepy\n",
    "import glob\n",
    "import time\n",
    "import numpy as np\n",
    "import pandas as pd\n",
    "import re\n",
    "\n",
    "# key\n",
    "consumer_key = 'D4OAzhqT7NNeeCa9R7h0Hxzx3'\n",
    "consumer_secret = 'Py8P1k5jxdPEvNOb64WUXh8b10sfDL5qr60krVLNOOLEXauZti'\n",
    "access_token = '1309887734555668481-NNvdk0MCxK4WwKZCKZrOqflU9bwPfG'\n",
    "access_secret = 'CmkMLM4eiOq4MLP3TE6FfUobThOElR5OAfuVSv3GRnXrJ'\n",
    "\n",
    "# Twitterオブジェクト\n",
    "auth = tweepy.OAuthHandler(consumer_key, consumer_secret)\n",
    "auth.set_access_token(access_token, access_secret)\n",
    "api = tweepy.API(auth, wait_on_rate_limit = True)"
   ]
  },
  {
   "cell_type": "code",
   "execution_count": 108,
   "metadata": {},
   "outputs": [],
   "source": [
    "# 'ディビジョンを選択してください:{v1_m, v2_m, v3_m, v1_w, v2_w}'\n",
    "division = 'v1_w'\n",
    "# '年度・シーズンを選択してください:{2019-20_regular,2018-19_regular, 2017-18_regular, 2016-17_regular, 2015-14_regular}'\n",
    "season = '2019-20_regular'\n",
    "# 項目を選択してください\n",
    "catagory = 'attack'"
   ]
  },
  {
   "cell_type": "code",
   "execution_count": 109,
   "metadata": {
    "tags": []
   },
   "outputs": [
    {
     "output_type": "execute_result",
     "data": {
      "text/plain": "             名前   月      チーム  背番号  出場数  アタック打数  アタック得点  アタック失点  アタック決定率  \\\n0     KulanJana   1   東レアローズ    7    3      46      17       3     37.0   \n1     KulanJana  10   東レアローズ    7   17     202      88       9     43.6   \n2     KulanJana  11   東レアローズ    7   28     332     144      20     43.4   \n3     KulanJana  12   東レアローズ    7   30     386     157      25     40.7   \n4    オクム大庭冬美ハウィ  10  日立リヴァーレ   17    0       0       0       0      NaN   \n..          ...  ..      ...  ...  ...     ...     ...     ...      ...   \n640         黒後愛  11   東レアローズ   13   17     124      45       7     36.3   \n641         黒後愛  12   東レアローズ   13   30     227      80      15     35.2   \n642       齋藤加奈子  10  日立リヴァーレ    7   15       0       0       0      NaN   \n643       齋藤加奈子  11  日立リヴァーレ    7   30       0       0       0      NaN   \n644       齋藤加奈子  12  日立リヴァーレ    7   28       0       0       0      NaN   \n\n     アタック効果率  ...  サーブ失点  サーブ効果   受数  サーブレシーブ成功・優  サーブレシーブ成功・良  バックアタック決定率  \\\n0       30.4  ...      0      4    0            0            0        20.0   \n1       39.1  ...      8     25   40           14           11        54.2   \n2       37.3  ...      9     22    0            0            0        45.5   \n3       34.2  ...     12     35    0            0            0        34.1   \n4        NaN  ...      0      0    0            0            0         NaN   \n..       ...  ...    ...    ...  ...          ...          ...         ...   \n640     30.6  ...      1     13  159           82           28         0.0   \n641     28.6  ...      8     19  292          140           72        11.1   \n642      NaN  ...      0      0   50           27            9         NaN   \n643      NaN  ...      0      0  102           49           29         NaN   \n644      NaN  ...      0      0   73           38           20         NaN   \n\n     アタックセット平均  ブロックセット平均  サーブ効果率  サーブレシーブ成功率  \n0          5.7        0.7    20.0         NaN  \n1          5.2        0.4    15.0        48.8  \n2          5.1        0.5     8.8         NaN  \n3          5.2        0.6     8.2         NaN  \n4          NaN        NaN     NaN         NaN  \n..         ...        ...     ...         ...  \n640        2.6        0.3     6.8        60.4  \n641        2.7        0.2     5.7        60.3  \n642        0.0        0.0     NaN        63.0  \n643        0.0        0.0     NaN        62.3  \n644        0.0        0.0     NaN        65.8  \n\n[645 rows x 26 columns]",
      "text/html": "<div>\n<style scoped>\n    .dataframe tbody tr th:only-of-type {\n        vertical-align: middle;\n    }\n\n    .dataframe tbody tr th {\n        vertical-align: top;\n    }\n\n    .dataframe thead th {\n        text-align: right;\n    }\n</style>\n<table border=\"1\" class=\"dataframe\">\n  <thead>\n    <tr style=\"text-align: right;\">\n      <th></th>\n      <th>名前</th>\n      <th>月</th>\n      <th>チーム</th>\n      <th>背番号</th>\n      <th>出場数</th>\n      <th>アタック打数</th>\n      <th>アタック得点</th>\n      <th>アタック失点</th>\n      <th>アタック決定率</th>\n      <th>アタック効果率</th>\n      <th>...</th>\n      <th>サーブ失点</th>\n      <th>サーブ効果</th>\n      <th>受数</th>\n      <th>サーブレシーブ成功・優</th>\n      <th>サーブレシーブ成功・良</th>\n      <th>バックアタック決定率</th>\n      <th>アタックセット平均</th>\n      <th>ブロックセット平均</th>\n      <th>サーブ効果率</th>\n      <th>サーブレシーブ成功率</th>\n    </tr>\n  </thead>\n  <tbody>\n    <tr>\n      <th>0</th>\n      <td>KulanJana</td>\n      <td>1</td>\n      <td>東レアローズ</td>\n      <td>7</td>\n      <td>3</td>\n      <td>46</td>\n      <td>17</td>\n      <td>3</td>\n      <td>37.0</td>\n      <td>30.4</td>\n      <td>...</td>\n      <td>0</td>\n      <td>4</td>\n      <td>0</td>\n      <td>0</td>\n      <td>0</td>\n      <td>20.0</td>\n      <td>5.7</td>\n      <td>0.7</td>\n      <td>20.0</td>\n      <td>NaN</td>\n    </tr>\n    <tr>\n      <th>1</th>\n      <td>KulanJana</td>\n      <td>10</td>\n      <td>東レアローズ</td>\n      <td>7</td>\n      <td>17</td>\n      <td>202</td>\n      <td>88</td>\n      <td>9</td>\n      <td>43.6</td>\n      <td>39.1</td>\n      <td>...</td>\n      <td>8</td>\n      <td>25</td>\n      <td>40</td>\n      <td>14</td>\n      <td>11</td>\n      <td>54.2</td>\n      <td>5.2</td>\n      <td>0.4</td>\n      <td>15.0</td>\n      <td>48.8</td>\n    </tr>\n    <tr>\n      <th>2</th>\n      <td>KulanJana</td>\n      <td>11</td>\n      <td>東レアローズ</td>\n      <td>7</td>\n      <td>28</td>\n      <td>332</td>\n      <td>144</td>\n      <td>20</td>\n      <td>43.4</td>\n      <td>37.3</td>\n      <td>...</td>\n      <td>9</td>\n      <td>22</td>\n      <td>0</td>\n      <td>0</td>\n      <td>0</td>\n      <td>45.5</td>\n      <td>5.1</td>\n      <td>0.5</td>\n      <td>8.8</td>\n      <td>NaN</td>\n    </tr>\n    <tr>\n      <th>3</th>\n      <td>KulanJana</td>\n      <td>12</td>\n      <td>東レアローズ</td>\n      <td>7</td>\n      <td>30</td>\n      <td>386</td>\n      <td>157</td>\n      <td>25</td>\n      <td>40.7</td>\n      <td>34.2</td>\n      <td>...</td>\n      <td>12</td>\n      <td>35</td>\n      <td>0</td>\n      <td>0</td>\n      <td>0</td>\n      <td>34.1</td>\n      <td>5.2</td>\n      <td>0.6</td>\n      <td>8.2</td>\n      <td>NaN</td>\n    </tr>\n    <tr>\n      <th>4</th>\n      <td>オクム大庭冬美ハウィ</td>\n      <td>10</td>\n      <td>日立リヴァーレ</td>\n      <td>17</td>\n      <td>0</td>\n      <td>0</td>\n      <td>0</td>\n      <td>0</td>\n      <td>NaN</td>\n      <td>NaN</td>\n      <td>...</td>\n      <td>0</td>\n      <td>0</td>\n      <td>0</td>\n      <td>0</td>\n      <td>0</td>\n      <td>NaN</td>\n      <td>NaN</td>\n      <td>NaN</td>\n      <td>NaN</td>\n      <td>NaN</td>\n    </tr>\n    <tr>\n      <th>...</th>\n      <td>...</td>\n      <td>...</td>\n      <td>...</td>\n      <td>...</td>\n      <td>...</td>\n      <td>...</td>\n      <td>...</td>\n      <td>...</td>\n      <td>...</td>\n      <td>...</td>\n      <td>...</td>\n      <td>...</td>\n      <td>...</td>\n      <td>...</td>\n      <td>...</td>\n      <td>...</td>\n      <td>...</td>\n      <td>...</td>\n      <td>...</td>\n      <td>...</td>\n      <td>...</td>\n    </tr>\n    <tr>\n      <th>640</th>\n      <td>黒後愛</td>\n      <td>11</td>\n      <td>東レアローズ</td>\n      <td>13</td>\n      <td>17</td>\n      <td>124</td>\n      <td>45</td>\n      <td>7</td>\n      <td>36.3</td>\n      <td>30.6</td>\n      <td>...</td>\n      <td>1</td>\n      <td>13</td>\n      <td>159</td>\n      <td>82</td>\n      <td>28</td>\n      <td>0.0</td>\n      <td>2.6</td>\n      <td>0.3</td>\n      <td>6.8</td>\n      <td>60.4</td>\n    </tr>\n    <tr>\n      <th>641</th>\n      <td>黒後愛</td>\n      <td>12</td>\n      <td>東レアローズ</td>\n      <td>13</td>\n      <td>30</td>\n      <td>227</td>\n      <td>80</td>\n      <td>15</td>\n      <td>35.2</td>\n      <td>28.6</td>\n      <td>...</td>\n      <td>8</td>\n      <td>19</td>\n      <td>292</td>\n      <td>140</td>\n      <td>72</td>\n      <td>11.1</td>\n      <td>2.7</td>\n      <td>0.2</td>\n      <td>5.7</td>\n      <td>60.3</td>\n    </tr>\n    <tr>\n      <th>642</th>\n      <td>齋藤加奈子</td>\n      <td>10</td>\n      <td>日立リヴァーレ</td>\n      <td>7</td>\n      <td>15</td>\n      <td>0</td>\n      <td>0</td>\n      <td>0</td>\n      <td>NaN</td>\n      <td>NaN</td>\n      <td>...</td>\n      <td>0</td>\n      <td>0</td>\n      <td>50</td>\n      <td>27</td>\n      <td>9</td>\n      <td>NaN</td>\n      <td>0.0</td>\n      <td>0.0</td>\n      <td>NaN</td>\n      <td>63.0</td>\n    </tr>\n    <tr>\n      <th>643</th>\n      <td>齋藤加奈子</td>\n      <td>11</td>\n      <td>日立リヴァーレ</td>\n      <td>7</td>\n      <td>30</td>\n      <td>0</td>\n      <td>0</td>\n      <td>0</td>\n      <td>NaN</td>\n      <td>NaN</td>\n      <td>...</td>\n      <td>0</td>\n      <td>0</td>\n      <td>102</td>\n      <td>49</td>\n      <td>29</td>\n      <td>NaN</td>\n      <td>0.0</td>\n      <td>0.0</td>\n      <td>NaN</td>\n      <td>62.3</td>\n    </tr>\n    <tr>\n      <th>644</th>\n      <td>齋藤加奈子</td>\n      <td>12</td>\n      <td>日立リヴァーレ</td>\n      <td>7</td>\n      <td>28</td>\n      <td>0</td>\n      <td>0</td>\n      <td>0</td>\n      <td>NaN</td>\n      <td>NaN</td>\n      <td>...</td>\n      <td>0</td>\n      <td>0</td>\n      <td>73</td>\n      <td>38</td>\n      <td>20</td>\n      <td>NaN</td>\n      <td>0.0</td>\n      <td>0.0</td>\n      <td>NaN</td>\n      <td>65.8</td>\n    </tr>\n  </tbody>\n</table>\n<p>645 rows × 26 columns</p>\n</div>"
     },
     "metadata": {},
     "execution_count": 109
    }
   ],
   "source": [
    "os.chdir('/Users/sasno/Desktop/MyPandas/vleague')\n",
    "os.chdir(division)\n",
    "monthly_all = pd.read_csv('all/{}/monthly_all.csv'.format(season), encoding='cp932')\n",
    "monthly_all"
   ]
  },
  {
   "cell_type": "code",
   "execution_count": 110,
   "metadata": {},
   "outputs": [
    {
     "output_type": "execute_result",
     "data": {
      "text/plain": "array(['名前', '月', 'チーム', '背番号', '出場数', 'アタック打数', 'アタック得点', 'アタック失点',\n       'アタック決定率', 'アタック効果率', 'バックアタック打数', 'バックアタック得点', 'バックアタック失点',\n       'ブロック得点', 'サーブ打数', 'サーブ得点', 'サーブ失点', 'サーブ効果', '受数', 'サーブレシーブ成功・優',\n       'サーブレシーブ成功・良', 'バックアタック決定率', 'アタックセット平均', 'ブロックセット平均', 'サーブ効果率',\n       'サーブレシーブ成功率'], dtype=object)"
     },
     "metadata": {},
     "execution_count": 110
    }
   ],
   "source": [
    "monthly_all.columns.values"
   ]
  },
  {
   "cell_type": "code",
   "execution_count": 111,
   "metadata": {},
   "outputs": [
    {
     "output_type": "execute_result",
     "data": {
      "text/plain": "[1, 10, 11, 12]"
     },
     "metadata": {},
     "execution_count": 111
    }
   ],
   "source": [
    "month_list = list(monthly_all['月'].unique())\n",
    "month_list"
   ]
  },
  {
   "cell_type": "code",
   "execution_count": 135,
   "metadata": {},
   "outputs": [
    {
     "output_type": "execute_result",
     "data": {
      "text/plain": "     月           名前              チーム  背番号  出場数  バックアタック決定率\n27  11  シュシュニャルカタリナ       埼玉上尾メディックス   17   31        54.7\n46  11    ドルーズアンドレア         JTマーヴェラス   10   31        52.3\n8   11     オズソイネリマン      トヨタ車体クインシーズ   13   37        43.5\n58  11       リーシモーン  KUROBEアクアフェアリーズ   10   30        42.9\n55  11        マライブナ        ヴィクトリーナ姫路   11   26        38.4",
      "text/html": "<div>\n<style scoped>\n    .dataframe tbody tr th:only-of-type {\n        vertical-align: middle;\n    }\n\n    .dataframe tbody tr th {\n        vertical-align: top;\n    }\n\n    .dataframe thead th {\n        text-align: right;\n    }\n</style>\n<table border=\"1\" class=\"dataframe\">\n  <thead>\n    <tr style=\"text-align: right;\">\n      <th></th>\n      <th>月</th>\n      <th>名前</th>\n      <th>チーム</th>\n      <th>背番号</th>\n      <th>出場数</th>\n      <th>バックアタック決定率</th>\n    </tr>\n  </thead>\n  <tbody>\n    <tr>\n      <th>27</th>\n      <td>11</td>\n      <td>シュシュニャルカタリナ</td>\n      <td>埼玉上尾メディックス</td>\n      <td>17</td>\n      <td>31</td>\n      <td>54.7</td>\n    </tr>\n    <tr>\n      <th>46</th>\n      <td>11</td>\n      <td>ドルーズアンドレア</td>\n      <td>JTマーヴェラス</td>\n      <td>10</td>\n      <td>31</td>\n      <td>52.3</td>\n    </tr>\n    <tr>\n      <th>8</th>\n      <td>11</td>\n      <td>オズソイネリマン</td>\n      <td>トヨタ車体クインシーズ</td>\n      <td>13</td>\n      <td>37</td>\n      <td>43.5</td>\n    </tr>\n    <tr>\n      <th>58</th>\n      <td>11</td>\n      <td>リーシモーン</td>\n      <td>KUROBEアクアフェアリーズ</td>\n      <td>10</td>\n      <td>30</td>\n      <td>42.9</td>\n    </tr>\n    <tr>\n      <th>55</th>\n      <td>11</td>\n      <td>マライブナ</td>\n      <td>ヴィクトリーナ姫路</td>\n      <td>11</td>\n      <td>26</td>\n      <td>38.4</td>\n    </tr>\n  </tbody>\n</table>\n</div>"
     },
     "metadata": {},
     "execution_count": 135
    }
   ],
   "source": [
    "judge = True\n",
    "while judge:\n",
    "    month = np.random.choice(month_list)\n",
    "    b_attack = monthly_all[(monthly_all['月']==month) & (monthly_all['バックアタック打数']>=50)].sort_values('バックアタック決定率', ascending=False)[['月', '名前', 'チーム', '背番号', '出場数', 'バックアタック決定率']].head()\n",
    "    if len(attack) >= 3:\n",
    "        judge = False\n",
    "b_attack"
   ]
  },
  {
   "cell_type": "code",
   "execution_count": 136,
   "metadata": {},
   "outputs": [
    {
     "output_type": "execute_result",
     "data": {
      "text/plain": "{'月': {27: 11, 46: 11, 8: 11, 58: 11, 55: 11},\n '名前': {27: 'シュシュニャルカタリナ',\n  46: 'ドルーズアンドレア',\n  8: 'オズソイネリマン',\n  58: 'リーシモーン',\n  55: 'マライブナ'},\n 'チーム': {27: '埼玉上尾メディックス',\n  46: 'JTマーヴェラス',\n  8: 'トヨタ車体クインシーズ',\n  58: 'KUROBEアクアフェアリーズ',\n  55: 'ヴィクトリーナ姫路'},\n '背番号': {27: 17, 46: 10, 8: 13, 58: 10, 55: 11},\n '出場数': {27: 31, 46: 31, 8: 37, 58: 30, 55: 26},\n 'バックアタック決定率': {27: 54.7, 46: 52.3, 8: 43.5, 58: 42.9, 55: 38.4}}"
     },
     "metadata": {},
     "execution_count": 136
    }
   ],
   "source": [
    "b_attack.to_dict()"
   ]
  },
  {
   "cell_type": "code",
   "execution_count": 137,
   "metadata": {
    "tags": []
   },
   "outputs": [
    {
     "output_type": "stream",
     "name": "stdout",
     "text": "バックアタック決定率ランキング(打数50本以上)\nディビジョン: v1_w\nシーズン・月: 2019-20_regular, 11月\n1位 シュシュニャルカタリナ (埼玉上尾メディックス ,54.7%)\n2位 ドルーズアンドレア (JTマーヴェラス ,52.3%)\n3位 オズソイネリマン (トヨタ車体クインシーズ ,43.5%)\n\n"
    }
   ],
   "source": [
    "p = re.compile('[\\u0000-\\u007F]+')\n",
    "messages = 'バックアタック決定率ランキング(打数50本以上)\\n'\n",
    "messages += 'ディビジョン: {}\\n'.format(division)\n",
    "messages += 'シーズン・月: {0}, {1}月\\n'.format(season,attack['月'].iloc[0])\n",
    "for i in range(5):\n",
    "    message = '{0}位 {1} ({2} ,{3}%)\\n'.format(i+1, attack['名前'].iloc[i], attack['チーム'].iloc[i], attack['バックアタック決定率'].iloc[i])\n",
    "    m_len = messages + message\n",
    "    e_len = len(''.join(p.findall(m_len)))\n",
    "    tweet_len = len(m_len) - (e_len/2)\n",
    "    # print(tweet_len)\n",
    "    if tweet_len <= 140:\n",
    "        messages += message\n",
    "    else:\n",
    "        break\n",
    "print(messages)"
   ]
  },
  {
   "cell_type": "code",
   "execution_count": 138,
   "metadata": {},
   "outputs": [
    {
     "output_type": "execute_result",
     "data": {
      "text/plain": "Status(_api=<tweepy.api.API object at 0x0000017BE17AB908>, _json={'created_at': 'Sat Oct 03 11:06:57 +0000 2020', 'id': 1312348407994806273, 'id_str': '1312348407994806273', 'text': 'バックアタック決定率ランキング(打数50本以上)\\nディビジョン: v1_w\\nシーズン・月: 2019-20_regular, 11月\\n1位 シュシュニャルカタリナ (埼玉上尾メディックス ,54.7%)\\n2位 ドルーズアンドレア… https://t.co/rWOmI8SHAa', 'truncated': True, 'entities': {'hashtags': [], 'symbols': [], 'user_mentions': [], 'urls': [{'url': 'https://t.co/rWOmI8SHAa', 'expanded_url': 'https://twitter.com/i/web/status/1312348407994806273', 'display_url': 'twitter.com/i/web/status/1…', 'indices': [116, 139]}]}, 'source': '', 'in_reply_to_status_id': None, 'in_reply_to_status_id_str': None, 'in_reply_to_user_id': None, 'in_reply_to_user_id_str': None, 'in_reply_to_screen_name': None, 'user': {'id': 1309887734555668481, 'id_str': '1309887734555668481', 'name': 'Vリーグbot', 'screen_name': 'Vleague_bot', 'location': '', 'description': 'Vリーグの過去の記録を定期的に呟くBotです。\\n現在は、2019-20シーズン全ディビジョンの成績を公開しています。\\n\\n作成者→@spursfun2', 'url': None, 'entities': {'description': {'urls': []}}, 'protected': False, 'followers_count': 1, 'friends_count': 1, 'listed_count': 0, 'created_at': 'Sat Sep 26 16:09:16 +0000 2020', 'favourites_count': 0, 'utc_offset': None, 'time_zone': None, 'geo_enabled': False, 'verified': False, 'statuses_count': 8, 'lang': None, 'contributors_enabled': False, 'is_translator': False, 'is_translation_enabled': False, 'profile_background_color': 'F5F8FA', 'profile_background_image_url': None, 'profile_background_image_url_https': None, 'profile_background_tile': False, 'profile_image_url': 'http://pbs.twimg.com/profile_images/1309887885596790784/8ghunM-a_normal.jpg', 'profile_image_url_https': 'https://pbs.twimg.com/profile_images/1309887885596790784/8ghunM-a_normal.jpg', 'profile_link_color': '1DA1F2', 'profile_sidebar_border_color': 'C0DEED', 'profile_sidebar_fill_color': 'DDEEF6', 'profile_text_color': '333333', 'profile_use_background_image': True, 'has_extended_profile': True, 'default_profile': True, 'default_profile_image': False, 'following': False, 'follow_request_sent': False, 'notifications': False, 'translator_type': 'none'}, 'geo': None, 'coordinates': None, 'place': None, 'contributors': None, 'is_quote_status': False, 'retweet_count': 0, 'favorite_count': 0, 'favorited': False, 'retweeted': False, 'lang': 'ja'}, created_at=datetime.datetime(2020, 10, 3, 11, 6, 57), id=1312348407994806273, id_str='1312348407994806273', text='バックアタック決定率ランキング(打数50本以上)\\nディビジョン: v1_w\\nシーズン・月: 2019-20_regular, 11月\\n1位 シュシュニャルカタリナ (埼玉上尾メディックス ,54.7%)\\n2位 ドルーズアンドレア… https://t.co/rWOmI8SHAa', truncated=True, entities={'hashtags': [], 'symbols': [], 'user_mentions': [], 'urls': [{'url': 'https://t.co/rWOmI8SHAa', 'expanded_url': 'https://twitter.com/i/web/status/1312348407994806273', 'display_url': 'twitter.com/i/web/status/1…', 'indices': [116, 139]}]}, source='', source_url=None, in_reply_to_status_id=None, in_reply_to_status_id_str=None, in_reply_to_user_id=None, in_reply_to_user_id_str=None, in_reply_to_screen_name=None, author=User(_api=<tweepy.api.API object at 0x0000017BE17AB908>, _json={'id': 1309887734555668481, 'id_str': '1309887734555668481', 'name': 'Vリーグbot', 'screen_name': 'Vleague_bot', 'location': '', 'description': 'Vリーグの過去の記録を定期的に呟くBotです。\\n現在は、2019-20シーズン全ディビジョンの成績を公開しています。\\n\\n作成者→@spursfun2', 'url': None, 'entities': {'description': {'urls': []}}, 'protected': False, 'followers_count': 1, 'friends_count': 1, 'listed_count': 0, 'created_at': 'Sat Sep 26 16:09:16 +0000 2020', 'favourites_count': 0, 'utc_offset': None, 'time_zone': None, 'geo_enabled': False, 'verified': False, 'statuses_count': 8, 'lang': None, 'contributors_enabled': False, 'is_translator': False, 'is_translation_enabled': False, 'profile_background_color': 'F5F8FA', 'profile_background_image_url': None, 'profile_background_image_url_https': None, 'profile_background_tile': False, 'profile_image_url': 'http://pbs.twimg.com/profile_images/1309887885596790784/8ghunM-a_normal.jpg', 'profile_image_url_https': 'https://pbs.twimg.com/profile_images/1309887885596790784/8ghunM-a_normal.jpg', 'profile_link_color': '1DA1F2', 'profile_sidebar_border_color': 'C0DEED', 'profile_sidebar_fill_color': 'DDEEF6', 'profile_text_color': '333333', 'profile_use_background_image': True, 'has_extended_profile': True, 'default_profile': True, 'default_profile_image': False, 'following': False, 'follow_request_sent': False, 'notifications': False, 'translator_type': 'none'}, id=1309887734555668481, id_str='1309887734555668481', name='Vリーグbot', screen_name='Vleague_bot', location='', description='Vリーグの過去の記録を定期的に呟くBotです。\\n現在は、2019-20シーズン全ディビジョンの成績を公開しています。\\n\\n作成者→@spursfun2', url=None, entities={'description': {'urls': []}}, protected=False, followers_count=1, friends_count=1, listed_count=0, created_at=datetime.datetime(2020, 9, 26, 16, 9, 16), favourites_count=0, utc_offset=None, time_zone=None, geo_enabled=False, verified=False, statuses_count=8, lang=None, contributors_enabled=False, is_translator=False, is_translation_enabled=False, profile_background_color='F5F8FA', profile_background_image_url=None, profile_background_image_url_https=None, profile_background_tile=False, profile_image_url='http://pbs.twimg.com/profile_images/1309887885596790784/8ghunM-a_normal.jpg', profile_image_url_https='https://pbs.twimg.com/profile_images/1309887885596790784/8ghunM-a_normal.jpg', profile_link_color='1DA1F2', profile_sidebar_border_color='C0DEED', profile_sidebar_fill_color='DDEEF6', profile_text_color='333333', profile_use_background_image=True, has_extended_profile=True, default_profile=True, default_profile_image=False, following=False, follow_request_sent=False, notifications=False, translator_type='none'), user=User(_api=<tweepy.api.API object at 0x0000017BE17AB908>, _json={'id': 1309887734555668481, 'id_str': '1309887734555668481', 'name': 'Vリーグbot', 'screen_name': 'Vleague_bot', 'location': '', 'description': 'Vリーグの過去の記録を定期的に呟くBotです。\\n現在は、2019-20シーズン全ディビジョンの成績を公開しています。\\n\\n作成者→@spursfun2', 'url': None, 'entities': {'description': {'urls': []}}, 'protected': False, 'followers_count': 1, 'friends_count': 1, 'listed_count': 0, 'created_at': 'Sat Sep 26 16:09:16 +0000 2020', 'favourites_count': 0, 'utc_offset': None, 'time_zone': None, 'geo_enabled': False, 'verified': False, 'statuses_count': 8, 'lang': None, 'contributors_enabled': False, 'is_translator': False, 'is_translation_enabled': False, 'profile_background_color': 'F5F8FA', 'profile_background_image_url': None, 'profile_background_image_url_https': None, 'profile_background_tile': False, 'profile_image_url': 'http://pbs.twimg.com/profile_images/1309887885596790784/8ghunM-a_normal.jpg', 'profile_image_url_https': 'https://pbs.twimg.com/profile_images/1309887885596790784/8ghunM-a_normal.jpg', 'profile_link_color': '1DA1F2', 'profile_sidebar_border_color': 'C0DEED', 'profile_sidebar_fill_color': 'DDEEF6', 'profile_text_color': '333333', 'profile_use_background_image': True, 'has_extended_profile': True, 'default_profile': True, 'default_profile_image': False, 'following': False, 'follow_request_sent': False, 'notifications': False, 'translator_type': 'none'}, id=1309887734555668481, id_str='1309887734555668481', name='Vリーグbot', screen_name='Vleague_bot', location='', description='Vリーグの過去の記録を定期的に呟くBotです。\\n現在は、2019-20シーズン全ディビジョンの成績を公開しています。\\n\\n作成者→@spursfun2', url=None, entities={'description': {'urls': []}}, protected=False, followers_count=1, friends_count=1, listed_count=0, created_at=datetime.datetime(2020, 9, 26, 16, 9, 16), favourites_count=0, utc_offset=None, time_zone=None, geo_enabled=False, verified=False, statuses_count=8, lang=None, contributors_enabled=False, is_translator=False, is_translation_enabled=False, profile_background_color='F5F8FA', profile_background_image_url=None, profile_background_image_url_https=None, profile_background_tile=False, profile_image_url='http://pbs.twimg.com/profile_images/1309887885596790784/8ghunM-a_normal.jpg', profile_image_url_https='https://pbs.twimg.com/profile_images/1309887885596790784/8ghunM-a_normal.jpg', profile_link_color='1DA1F2', profile_sidebar_border_color='C0DEED', profile_sidebar_fill_color='DDEEF6', profile_text_color='333333', profile_use_background_image=True, has_extended_profile=True, default_profile=True, default_profile_image=False, following=False, follow_request_sent=False, notifications=False, translator_type='none'), geo=None, coordinates=None, place=None, contributors=None, is_quote_status=False, retweet_count=0, favorite_count=0, favorited=False, retweeted=False, lang='ja')"
     },
     "metadata": {},
     "execution_count": 138
    }
   ],
   "source": [
    "api.update_status(messages)"
   ]
  },
  {
   "cell_type": "code",
   "execution_count": 128,
   "metadata": {},
   "outputs": [
    {
     "output_type": "execute_result",
     "data": {
      "text/plain": "      月         名前          チーム  背番号  出場数  アタック決定率\n190  10       吉野優理   埼玉上尾メディックス    8   15     52.5\n520  10       窪田美侑      日立リヴァーレ    4   17     47.1\n45   10  ドルーズアンドレア     JTマーヴェラス   10   13     45.9\n1    10  KulanJana       東レアローズ    7   17     43.6\n7    10   オズソイネリマン  トヨタ車体クインシーズ   13   18     42.5",
      "text/html": "<div>\n<style scoped>\n    .dataframe tbody tr th:only-of-type {\n        vertical-align: middle;\n    }\n\n    .dataframe tbody tr th {\n        vertical-align: top;\n    }\n\n    .dataframe thead th {\n        text-align: right;\n    }\n</style>\n<table border=\"1\" class=\"dataframe\">\n  <thead>\n    <tr style=\"text-align: right;\">\n      <th></th>\n      <th>月</th>\n      <th>名前</th>\n      <th>チーム</th>\n      <th>背番号</th>\n      <th>出場数</th>\n      <th>アタック決定率</th>\n    </tr>\n  </thead>\n  <tbody>\n    <tr>\n      <th>190</th>\n      <td>10</td>\n      <td>吉野優理</td>\n      <td>埼玉上尾メディックス</td>\n      <td>8</td>\n      <td>15</td>\n      <td>52.5</td>\n    </tr>\n    <tr>\n      <th>520</th>\n      <td>10</td>\n      <td>窪田美侑</td>\n      <td>日立リヴァーレ</td>\n      <td>4</td>\n      <td>17</td>\n      <td>47.1</td>\n    </tr>\n    <tr>\n      <th>45</th>\n      <td>10</td>\n      <td>ドルーズアンドレア</td>\n      <td>JTマーヴェラス</td>\n      <td>10</td>\n      <td>13</td>\n      <td>45.9</td>\n    </tr>\n    <tr>\n      <th>1</th>\n      <td>10</td>\n      <td>KulanJana</td>\n      <td>東レアローズ</td>\n      <td>7</td>\n      <td>17</td>\n      <td>43.6</td>\n    </tr>\n    <tr>\n      <th>7</th>\n      <td>10</td>\n      <td>オズソイネリマン</td>\n      <td>トヨタ車体クインシーズ</td>\n      <td>13</td>\n      <td>18</td>\n      <td>42.5</td>\n    </tr>\n  </tbody>\n</table>\n</div>"
     },
     "metadata": {},
     "execution_count": 128
    }
   ],
   "source": [
    "judge = True\n",
    "while judge:\n",
    "    month = np.random.choice(month_list)\n",
    "    attack = monthly_all[(monthly_all['月']==month) & (monthly_all['アタック打数']>=100)].sort_values('アタック決定率', ascending=False)[['月', '名前', 'チーム', '背番号', '出場数', 'アタック決定率']].head()\n",
    "    if len(attack) >= 3:\n",
    "        judge = False\n",
    "attack"
   ]
  },
  {
   "cell_type": "code",
   "execution_count": 129,
   "metadata": {},
   "outputs": [
    {
     "output_type": "execute_result",
     "data": {
      "text/plain": "{'月': {190: 10, 520: 10, 45: 10, 1: 10, 7: 10},\n '名前': {190: '吉野優理',\n  520: '窪田美侑',\n  45: 'ドルーズアンドレア',\n  1: 'KulanJana',\n  7: 'オズソイネリマン'},\n 'チーム': {190: '埼玉上尾メディックス',\n  520: '日立リヴァーレ',\n  45: 'JTマーヴェラス',\n  1: '東レアローズ',\n  7: 'トヨタ車体クインシーズ'},\n '背番号': {190: 8, 520: 4, 45: 10, 1: 7, 7: 13},\n '出場数': {190: 15, 520: 17, 45: 13, 1: 17, 7: 18},\n 'アタック決定率': {190: 52.5, 520: 47.1, 45: 45.9, 1: 43.6, 7: 42.5}}"
     },
     "metadata": {},
     "execution_count": 129
    }
   ],
   "source": [
    "attack.to_dict()"
   ]
  },
  {
   "cell_type": "code",
   "execution_count": 130,
   "metadata": {
    "tags": []
   },
   "outputs": [
    {
     "output_type": "stream",
     "name": "stdout",
     "text": "アタック決定率ランキング(打数100本以上)\nディビジョン: v1_w\nシーズン・月: 2019-20_regular, 10月\n1位 吉野優理 (埼玉上尾メディックス ,52.5%)\n2位 窪田美侑 (日立リヴァーレ ,47.1%)\n3位 ドルーズアンドレア (JTマーヴェラス ,45.9%)\n4位 KulanJana (東レアローズ ,43.6%)\n\n"
    }
   ],
   "source": [
    "p = re.compile('[\\u0000-\\u007F]+')\n",
    "messages = 'アタック決定率ランキング(打数100本以上)\\n'\n",
    "messages += 'ディビジョン: {}\\n'.format(division)\n",
    "messages += 'シーズン・月: {0}, {1}月\\n'.format(season,attack['月'].iloc[0])\n",
    "for i in range(5):\n",
    "    message = '{0}位 {1} ({2} ,{3}%)\\n'.format(i+1, attack['名前'].iloc[i], attack['チーム'].iloc[i], attack['アタック決定率'].iloc[i])\n",
    "    m_len = messages + message\n",
    "    e_len = len(''.join(p.findall(m_len)))\n",
    "    tweet_len = len(messages+message) - (e_len/2)\n",
    "    # print(tweet_len)\n",
    "    if tweet_len <= 140:\n",
    "        messages += message\n",
    "    else:\n",
    "        break\n",
    "print(messages)"
   ]
  },
  {
   "cell_type": "code",
   "execution_count": 131,
   "metadata": {},
   "outputs": [
    {
     "output_type": "execute_result",
     "data": {
      "text/plain": "Status(_api=<tweepy.api.API object at 0x0000017BE17AB908>, _json={'created_at': 'Sat Oct 03 02:20:30 +0000 2020', 'id': 1312215923500015616, 'id_str': '1312215923500015616', 'text': 'アタック決定率ランキング(打数100本以上)\\nディビジョン: v1_w\\nシーズン・月: 2019-20_regular, 10月\\n1位 吉野優理 (埼玉上尾メディックス ,52.5%)\\n2位 窪田美侑 (日立リヴァーレ ,47.1… https://t.co/7QksN1TdH3', 'truncated': True, 'entities': {'hashtags': [], 'symbols': [], 'user_mentions': [], 'urls': [{'url': 'https://t.co/7QksN1TdH3', 'expanded_url': 'https://twitter.com/i/web/status/1312215923500015616', 'display_url': 'twitter.com/i/web/status/1…', 'indices': [117, 140]}]}, 'source': '', 'in_reply_to_status_id': None, 'in_reply_to_status_id_str': None, 'in_reply_to_user_id': None, 'in_reply_to_user_id_str': None, 'in_reply_to_screen_name': None, 'user': {'id': 1309887734555668481, 'id_str': '1309887734555668481', 'name': 'Vリーグbot', 'screen_name': 'Vleague_bot', 'location': '', 'description': 'Vリーグの過去の記録を定期的に呟くBotです。\\n現在は、2019-20シーズン全ディビジョンの成績を公開しています。\\n\\n作成者→@spursfun2', 'url': None, 'entities': {'description': {'urls': []}}, 'protected': False, 'followers_count': 1, 'friends_count': 1, 'listed_count': 0, 'created_at': 'Sat Sep 26 16:09:16 +0000 2020', 'favourites_count': 0, 'utc_offset': None, 'time_zone': None, 'geo_enabled': False, 'verified': False, 'statuses_count': 7, 'lang': None, 'contributors_enabled': False, 'is_translator': False, 'is_translation_enabled': False, 'profile_background_color': 'F5F8FA', 'profile_background_image_url': None, 'profile_background_image_url_https': None, 'profile_background_tile': False, 'profile_image_url': 'http://pbs.twimg.com/profile_images/1309887885596790784/8ghunM-a_normal.jpg', 'profile_image_url_https': 'https://pbs.twimg.com/profile_images/1309887885596790784/8ghunM-a_normal.jpg', 'profile_link_color': '1DA1F2', 'profile_sidebar_border_color': 'C0DEED', 'profile_sidebar_fill_color': 'DDEEF6', 'profile_text_color': '333333', 'profile_use_background_image': True, 'has_extended_profile': True, 'default_profile': True, 'default_profile_image': False, 'following': False, 'follow_request_sent': False, 'notifications': False, 'translator_type': 'none'}, 'geo': None, 'coordinates': None, 'place': None, 'contributors': None, 'is_quote_status': False, 'retweet_count': 0, 'favorite_count': 0, 'favorited': False, 'retweeted': False, 'lang': 'ja'}, created_at=datetime.datetime(2020, 10, 3, 2, 20, 30), id=1312215923500015616, id_str='1312215923500015616', text='アタック決定率ランキング(打数100本以上)\\nディビジョン: v1_w\\nシーズン・月: 2019-20_regular, 10月\\n1位 吉野優理 (埼玉上尾メディックス ,52.5%)\\n2位 窪田美侑 (日立リヴァーレ ,47.1… https://t.co/7QksN1TdH3', truncated=True, entities={'hashtags': [], 'symbols': [], 'user_mentions': [], 'urls': [{'url': 'https://t.co/7QksN1TdH3', 'expanded_url': 'https://twitter.com/i/web/status/1312215923500015616', 'display_url': 'twitter.com/i/web/status/1…', 'indices': [117, 140]}]}, source='', source_url=None, in_reply_to_status_id=None, in_reply_to_status_id_str=None, in_reply_to_user_id=None, in_reply_to_user_id_str=None, in_reply_to_screen_name=None, author=User(_api=<tweepy.api.API object at 0x0000017BE17AB908>, _json={'id': 1309887734555668481, 'id_str': '1309887734555668481', 'name': 'Vリーグbot', 'screen_name': 'Vleague_bot', 'location': '', 'description': 'Vリーグの過去の記録を定期的に呟くBotです。\\n現在は、2019-20シーズン全ディビジョンの成績を公開しています。\\n\\n作成者→@spursfun2', 'url': None, 'entities': {'description': {'urls': []}}, 'protected': False, 'followers_count': 1, 'friends_count': 1, 'listed_count': 0, 'created_at': 'Sat Sep 26 16:09:16 +0000 2020', 'favourites_count': 0, 'utc_offset': None, 'time_zone': None, 'geo_enabled': False, 'verified': False, 'statuses_count': 7, 'lang': None, 'contributors_enabled': False, 'is_translator': False, 'is_translation_enabled': False, 'profile_background_color': 'F5F8FA', 'profile_background_image_url': None, 'profile_background_image_url_https': None, 'profile_background_tile': False, 'profile_image_url': 'http://pbs.twimg.com/profile_images/1309887885596790784/8ghunM-a_normal.jpg', 'profile_image_url_https': 'https://pbs.twimg.com/profile_images/1309887885596790784/8ghunM-a_normal.jpg', 'profile_link_color': '1DA1F2', 'profile_sidebar_border_color': 'C0DEED', 'profile_sidebar_fill_color': 'DDEEF6', 'profile_text_color': '333333', 'profile_use_background_image': True, 'has_extended_profile': True, 'default_profile': True, 'default_profile_image': False, 'following': False, 'follow_request_sent': False, 'notifications': False, 'translator_type': 'none'}, id=1309887734555668481, id_str='1309887734555668481', name='Vリーグbot', screen_name='Vleague_bot', location='', description='Vリーグの過去の記録を定期的に呟くBotです。\\n現在は、2019-20シーズン全ディビジョンの成績を公開しています。\\n\\n作成者→@spursfun2', url=None, entities={'description': {'urls': []}}, protected=False, followers_count=1, friends_count=1, listed_count=0, created_at=datetime.datetime(2020, 9, 26, 16, 9, 16), favourites_count=0, utc_offset=None, time_zone=None, geo_enabled=False, verified=False, statuses_count=7, lang=None, contributors_enabled=False, is_translator=False, is_translation_enabled=False, profile_background_color='F5F8FA', profile_background_image_url=None, profile_background_image_url_https=None, profile_background_tile=False, profile_image_url='http://pbs.twimg.com/profile_images/1309887885596790784/8ghunM-a_normal.jpg', profile_image_url_https='https://pbs.twimg.com/profile_images/1309887885596790784/8ghunM-a_normal.jpg', profile_link_color='1DA1F2', profile_sidebar_border_color='C0DEED', profile_sidebar_fill_color='DDEEF6', profile_text_color='333333', profile_use_background_image=True, has_extended_profile=True, default_profile=True, default_profile_image=False, following=False, follow_request_sent=False, notifications=False, translator_type='none'), user=User(_api=<tweepy.api.API object at 0x0000017BE17AB908>, _json={'id': 1309887734555668481, 'id_str': '1309887734555668481', 'name': 'Vリーグbot', 'screen_name': 'Vleague_bot', 'location': '', 'description': 'Vリーグの過去の記録を定期的に呟くBotです。\\n現在は、2019-20シーズン全ディビジョンの成績を公開しています。\\n\\n作成者→@spursfun2', 'url': None, 'entities': {'description': {'urls': []}}, 'protected': False, 'followers_count': 1, 'friends_count': 1, 'listed_count': 0, 'created_at': 'Sat Sep 26 16:09:16 +0000 2020', 'favourites_count': 0, 'utc_offset': None, 'time_zone': None, 'geo_enabled': False, 'verified': False, 'statuses_count': 7, 'lang': None, 'contributors_enabled': False, 'is_translator': False, 'is_translation_enabled': False, 'profile_background_color': 'F5F8FA', 'profile_background_image_url': None, 'profile_background_image_url_https': None, 'profile_background_tile': False, 'profile_image_url': 'http://pbs.twimg.com/profile_images/1309887885596790784/8ghunM-a_normal.jpg', 'profile_image_url_https': 'https://pbs.twimg.com/profile_images/1309887885596790784/8ghunM-a_normal.jpg', 'profile_link_color': '1DA1F2', 'profile_sidebar_border_color': 'C0DEED', 'profile_sidebar_fill_color': 'DDEEF6', 'profile_text_color': '333333', 'profile_use_background_image': True, 'has_extended_profile': True, 'default_profile': True, 'default_profile_image': False, 'following': False, 'follow_request_sent': False, 'notifications': False, 'translator_type': 'none'}, id=1309887734555668481, id_str='1309887734555668481', name='Vリーグbot', screen_name='Vleague_bot', location='', description='Vリーグの過去の記録を定期的に呟くBotです。\\n現在は、2019-20シーズン全ディビジョンの成績を公開しています。\\n\\n作成者→@spursfun2', url=None, entities={'description': {'urls': []}}, protected=False, followers_count=1, friends_count=1, listed_count=0, created_at=datetime.datetime(2020, 9, 26, 16, 9, 16), favourites_count=0, utc_offset=None, time_zone=None, geo_enabled=False, verified=False, statuses_count=7, lang=None, contributors_enabled=False, is_translator=False, is_translation_enabled=False, profile_background_color='F5F8FA', profile_background_image_url=None, profile_background_image_url_https=None, profile_background_tile=False, profile_image_url='http://pbs.twimg.com/profile_images/1309887885596790784/8ghunM-a_normal.jpg', profile_image_url_https='https://pbs.twimg.com/profile_images/1309887885596790784/8ghunM-a_normal.jpg', profile_link_color='1DA1F2', profile_sidebar_border_color='C0DEED', profile_sidebar_fill_color='DDEEF6', profile_text_color='333333', profile_use_background_image=True, has_extended_profile=True, default_profile=True, default_profile_image=False, following=False, follow_request_sent=False, notifications=False, translator_type='none'), geo=None, coordinates=None, place=None, contributors=None, is_quote_status=False, retweet_count=0, favorite_count=0, favorited=False, retweeted=False, lang='ja')"
     },
     "metadata": {},
     "execution_count": 131
    }
   ],
   "source": [
    "api.update_status(messages)"
   ]
  },
  {
   "cell_type": "code",
   "execution_count": null,
   "metadata": {},
   "outputs": [],
   "source": []
  }
 ]
}