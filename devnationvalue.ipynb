{
 "metadata": {
  "language_info": {
   "codemirror_mode": {
    "name": "ipython",
    "version": 3
   },
   "file_extension": ".py",
   "mimetype": "text/x-python",
   "name": "python",
   "nbconvert_exporter": "python",
   "pygments_lexer": "ipython3",
   "version": "3.7.7-final"
  },
  "orig_nbformat": 2,
  "kernelspec": {
   "name": "python_defaultSpec_1600990574978",
   "display_name": "Python 3.7.7 64-bit ('base': conda)",
   "metadata": {
    "interpreter": {
     "hash": "0600588c3b5f4418cbe7b5ebc6825b479f3bc010269d8b60d75058cdd010adfe"
    }
   }
  }
 },
 "nbformat": 4,
 "nbformat_minor": 2,
 "cells": [
  {
   "cell_type": "code",
   "execution_count": 1,
   "metadata": {
    "tags": []
   },
   "outputs": [
    {
     "output_type": "execute_result",
     "data": {
      "text/plain": "                                  大会           チーム   選手名  試合数  セット数  アタック打数  \\\n0     2019-20 V.LEAGUE DIVISION1 MEN  ジェイテクトSTINGS  藤中優斗   29    79     152   \n1                          レギュラーラウンド  ジェイテクトSTINGS  藤中優斗   27    70     129   \n2                     セミファイナル（３位決定戦）  ジェイテクトSTINGS  藤中優斗    1     4      10   \n3                              ファイナル  ジェイテクトSTINGS  藤中優斗    1     5      13   \n4     V.LEAGUE DIVISION1 MEN 2018-19  ジェイテクトSTINGS  藤中優斗    4     6       0   \n...                              ...           ...   ...  ...   ...     ...   \n2961                       レギュラーラウンド    VC長野トライデンツ   長田翼   21    28       0   \n2962           Ｖ・チャレンジリーグⅡ男子 2015/16    VC長野トライデンツ   長田翼    3     5       0   \n2963                       レギュラーラウンド    VC長野トライデンツ   長田翼    3     5       0   \n2964                     レギュラーシーズン通算           NaN   長田翼   99   177      11   \n2965                              通算           NaN   長田翼   99   177      11   \n\n      アタック得点  アタック失点 アタック決定率  アタック効果率  ...  サーブ効果  サーブ効果率   受数 サーブレシーブ成功・優  \\\n0         64      12    42.1     34.2  ...     41     4.1  287         120   \n1         53       8    41.1     34.9  ...     37     4.5  224          93   \n2          5       2    50.0     30.0  ...      2     1.6   35          17   \n3          6       2    46.2     30.8  ...      2     0.0   28          10   \n4          0       0       -      NaN  ...      0       -    5           3   \n...      ...     ...     ...      ...  ...    ...     ...  ...         ...   \n2961       0       0       -      NaN  ...     12     7.7    0           0   \n2962       0       0       -      NaN  ...      1     3.6    0           0   \n2963       0       0       -      NaN  ...      1     3.6    0           0   \n2964       7       2    63.6     45.5  ...     71     5.9    8           0   \n2965       7       2    63.6     45.5  ...     71     5.9    8           0   \n\n      サーブレシーブ成功・良 サーブレシーブ成功率  アタック ブロック  サーブ  得点合計  \n0              85       56.6    64   14    5    83  \n1              67       56.5    53   13    5    71  \n2               9       61.4     5    1    0     6  \n3               9       51.8     6    0    0     6  \n4               1         70     0    0    0     0  \n...           ...        ...   ...  ...  ...   ...  \n2961            0          -     0    0    0     0  \n2962            0          -     0    0    0     0  \n2963            0          -     0    0    0     0  \n2964            0        0.0     7   12    8    27  \n2965            0        0.0     7   12    8    27  \n\n[2966 rows x 32 columns]",
      "text/html": "<div>\n<style scoped>\n    .dataframe tbody tr th:only-of-type {\n        vertical-align: middle;\n    }\n\n    .dataframe tbody tr th {\n        vertical-align: top;\n    }\n\n    .dataframe thead th {\n        text-align: right;\n    }\n</style>\n<table border=\"1\" class=\"dataframe\">\n  <thead>\n    <tr style=\"text-align: right;\">\n      <th></th>\n      <th>大会</th>\n      <th>チーム</th>\n      <th>選手名</th>\n      <th>試合数</th>\n      <th>セット数</th>\n      <th>アタック打数</th>\n      <th>アタック得点</th>\n      <th>アタック失点</th>\n      <th>アタック決定率</th>\n      <th>アタック効果率</th>\n      <th>...</th>\n      <th>サーブ効果</th>\n      <th>サーブ効果率</th>\n      <th>受数</th>\n      <th>サーブレシーブ成功・優</th>\n      <th>サーブレシーブ成功・良</th>\n      <th>サーブレシーブ成功率</th>\n      <th>アタック</th>\n      <th>ブロック</th>\n      <th>サーブ</th>\n      <th>得点合計</th>\n    </tr>\n  </thead>\n  <tbody>\n    <tr>\n      <th>0</th>\n      <td>2019-20 V.LEAGUE DIVISION1 MEN</td>\n      <td>ジェイテクトSTINGS</td>\n      <td>藤中優斗</td>\n      <td>29</td>\n      <td>79</td>\n      <td>152</td>\n      <td>64</td>\n      <td>12</td>\n      <td>42.1</td>\n      <td>34.2</td>\n      <td>...</td>\n      <td>41</td>\n      <td>4.1</td>\n      <td>287</td>\n      <td>120</td>\n      <td>85</td>\n      <td>56.6</td>\n      <td>64</td>\n      <td>14</td>\n      <td>5</td>\n      <td>83</td>\n    </tr>\n    <tr>\n      <th>1</th>\n      <td>レギュラーラウンド</td>\n      <td>ジェイテクトSTINGS</td>\n      <td>藤中優斗</td>\n      <td>27</td>\n      <td>70</td>\n      <td>129</td>\n      <td>53</td>\n      <td>8</td>\n      <td>41.1</td>\n      <td>34.9</td>\n      <td>...</td>\n      <td>37</td>\n      <td>4.5</td>\n      <td>224</td>\n      <td>93</td>\n      <td>67</td>\n      <td>56.5</td>\n      <td>53</td>\n      <td>13</td>\n      <td>5</td>\n      <td>71</td>\n    </tr>\n    <tr>\n      <th>2</th>\n      <td>セミファイナル（３位決定戦）</td>\n      <td>ジェイテクトSTINGS</td>\n      <td>藤中優斗</td>\n      <td>1</td>\n      <td>4</td>\n      <td>10</td>\n      <td>5</td>\n      <td>2</td>\n      <td>50.0</td>\n      <td>30.0</td>\n      <td>...</td>\n      <td>2</td>\n      <td>1.6</td>\n      <td>35</td>\n      <td>17</td>\n      <td>9</td>\n      <td>61.4</td>\n      <td>5</td>\n      <td>1</td>\n      <td>0</td>\n      <td>6</td>\n    </tr>\n    <tr>\n      <th>3</th>\n      <td>ファイナル</td>\n      <td>ジェイテクトSTINGS</td>\n      <td>藤中優斗</td>\n      <td>1</td>\n      <td>5</td>\n      <td>13</td>\n      <td>6</td>\n      <td>2</td>\n      <td>46.2</td>\n      <td>30.8</td>\n      <td>...</td>\n      <td>2</td>\n      <td>0.0</td>\n      <td>28</td>\n      <td>10</td>\n      <td>9</td>\n      <td>51.8</td>\n      <td>6</td>\n      <td>0</td>\n      <td>0</td>\n      <td>6</td>\n    </tr>\n    <tr>\n      <th>4</th>\n      <td>V.LEAGUE DIVISION1 MEN 2018-19</td>\n      <td>ジェイテクトSTINGS</td>\n      <td>藤中優斗</td>\n      <td>4</td>\n      <td>6</td>\n      <td>0</td>\n      <td>0</td>\n      <td>0</td>\n      <td>-</td>\n      <td>NaN</td>\n      <td>...</td>\n      <td>0</td>\n      <td>-</td>\n      <td>5</td>\n      <td>3</td>\n      <td>1</td>\n      <td>70</td>\n      <td>0</td>\n      <td>0</td>\n      <td>0</td>\n      <td>0</td>\n    </tr>\n    <tr>\n      <th>...</th>\n      <td>...</td>\n      <td>...</td>\n      <td>...</td>\n      <td>...</td>\n      <td>...</td>\n      <td>...</td>\n      <td>...</td>\n      <td>...</td>\n      <td>...</td>\n      <td>...</td>\n      <td>...</td>\n      <td>...</td>\n      <td>...</td>\n      <td>...</td>\n      <td>...</td>\n      <td>...</td>\n      <td>...</td>\n      <td>...</td>\n      <td>...</td>\n      <td>...</td>\n      <td>...</td>\n    </tr>\n    <tr>\n      <th>2961</th>\n      <td>レギュラーラウンド</td>\n      <td>VC長野トライデンツ</td>\n      <td>長田翼</td>\n      <td>21</td>\n      <td>28</td>\n      <td>0</td>\n      <td>0</td>\n      <td>0</td>\n      <td>-</td>\n      <td>NaN</td>\n      <td>...</td>\n      <td>12</td>\n      <td>7.7</td>\n      <td>0</td>\n      <td>0</td>\n      <td>0</td>\n      <td>-</td>\n      <td>0</td>\n      <td>0</td>\n      <td>0</td>\n      <td>0</td>\n    </tr>\n    <tr>\n      <th>2962</th>\n      <td>Ｖ・チャレンジリーグⅡ男子 2015/16</td>\n      <td>VC長野トライデンツ</td>\n      <td>長田翼</td>\n      <td>3</td>\n      <td>5</td>\n      <td>0</td>\n      <td>0</td>\n      <td>0</td>\n      <td>-</td>\n      <td>NaN</td>\n      <td>...</td>\n      <td>1</td>\n      <td>3.6</td>\n      <td>0</td>\n      <td>0</td>\n      <td>0</td>\n      <td>-</td>\n      <td>0</td>\n      <td>0</td>\n      <td>0</td>\n      <td>0</td>\n    </tr>\n    <tr>\n      <th>2963</th>\n      <td>レギュラーラウンド</td>\n      <td>VC長野トライデンツ</td>\n      <td>長田翼</td>\n      <td>3</td>\n      <td>5</td>\n      <td>0</td>\n      <td>0</td>\n      <td>0</td>\n      <td>-</td>\n      <td>NaN</td>\n      <td>...</td>\n      <td>1</td>\n      <td>3.6</td>\n      <td>0</td>\n      <td>0</td>\n      <td>0</td>\n      <td>-</td>\n      <td>0</td>\n      <td>0</td>\n      <td>0</td>\n      <td>0</td>\n    </tr>\n    <tr>\n      <th>2964</th>\n      <td>レギュラーシーズン通算</td>\n      <td>NaN</td>\n      <td>長田翼</td>\n      <td>99</td>\n      <td>177</td>\n      <td>11</td>\n      <td>7</td>\n      <td>2</td>\n      <td>63.6</td>\n      <td>45.5</td>\n      <td>...</td>\n      <td>71</td>\n      <td>5.9</td>\n      <td>8</td>\n      <td>0</td>\n      <td>0</td>\n      <td>0.0</td>\n      <td>7</td>\n      <td>12</td>\n      <td>8</td>\n      <td>27</td>\n    </tr>\n    <tr>\n      <th>2965</th>\n      <td>通算</td>\n      <td>NaN</td>\n      <td>長田翼</td>\n      <td>99</td>\n      <td>177</td>\n      <td>11</td>\n      <td>7</td>\n      <td>2</td>\n      <td>63.6</td>\n      <td>45.5</td>\n      <td>...</td>\n      <td>71</td>\n      <td>5.9</td>\n      <td>8</td>\n      <td>0</td>\n      <td>0</td>\n      <td>0.0</td>\n      <td>7</td>\n      <td>12</td>\n      <td>8</td>\n      <td>27</td>\n    </tr>\n  </tbody>\n</table>\n<p>2966 rows × 32 columns</p>\n</div>"
     },
     "metadata": {},
     "execution_count": 1
    }
   ],
   "source": [
    "import time\n",
    "import pandas as pd\n",
    " \n",
    "\n",
    "from bs4 import BeautifulSoup\n",
    "import urllib.request as req\n",
    "\n",
    "import requests\n",
    "import os\n",
    "import datetime\n",
    "import re\n",
    "import glob\n",
    "\n",
    "from team_index import get_teams\n",
    "\n",
    "now = datetime.datetime.now()\n",
    "\n",
    "os.chdir('/Users/sasno/Desktop/MyPandas/vleague')\n",
    "\n",
    "headers = {\"User-Agent\": \"Mozilla/5.0\"}\n",
    "\n",
    "# print('ディビジョンを選択してください:{v1_m, v2_m, v3_m, v1_w, v2_w}')\n",
    "# division = input()\n",
    "division = 'v1_m'\n",
    "teams = get_teams(division)\n",
    "\n",
    "if not os.path.isdir(division):\n",
    "    os.makedirs(division)\n",
    "os.chdir(division)\n",
    "\n",
    "if not os.path.isdir('all'):\n",
    "    os.makedirs('all')\n",
    "os.chdir('all')\n",
    "\n",
    "career_dir = 'career'\n",
    "# print(career_dir)\n",
    "if not os.path.isdir(career_dir):\n",
    "    os.makedirs(career_dir)\n",
    "    os.chdir(career_dir)\n",
    "\n",
    "# print(os.getcwd())\n",
    "\n",
    "career_lists = []\n",
    "\n",
    "for team_id, team_name in teams.items():\n",
    "    url = 'https://www.vleague.jp/record/team_players/{}'.format(team_id)\n",
    "    # print(url)\n",
    "    request = req.Request(url, headers=headers)\n",
    "    response = req.urlopen(request)\n",
    "    parse_html = BeautifulSoup(response, 'html.parser')\n",
    "\n",
    "    tables = parse_html.find_all('table')[0]\n",
    "    tr = tables.find_all('tr')\n",
    "    a = tables.find_all('a')\n",
    "    player_urls = []\n",
    "    for i in a:\n",
    "        href = i.attrs['href']\n",
    "        # print(href)\n",
    "        player_url = 'https://www.vleague.jp{}'.format(href)\n",
    "        # print(player_url)\n",
    "        player_urls.append(player_url)\n",
    "    \n",
    "    number_list = []\n",
    "    player_list = []\n",
    "    for i in tr[1:]:\n",
    "        td = i.find_all('td')\n",
    "        number = td[0].text\n",
    "        number_list.append(number)\n",
    "        player = td[1].text.replace('\\xa0', '')\n",
    "        player_list.append(player)\n",
    "    # print(number_list, player_list)\n",
    "\n",
    "\n",
    "    # print(os.getcwd())\n",
    "\n",
    "    for i in range(len(player_list)):\n",
    "        html = requests.get(player_urls[i], headers=headers)\n",
    "        request_2 = req.Request(player_urls[i], headers=headers)\n",
    "        response_2 = req.urlopen(request_2)\n",
    "        parse_html_2 = BeautifulSoup(response_2, 'html.parser')\n",
    "        table_2 = parse_html_2.find_all('table')\n",
    "\n",
    "        if len(table_2) > 0: \n",
    "            data = pd.read_html(html.text, header = [1])\n",
    "            stats = pd.DataFrame(data[0])\n",
    "            # print(stats)\n",
    "            stats = stats.rename({\"チ｜ム\": \"チーム\", \"サ｜ブ\": \"サーブ\", \"ノ｜タッチ\": \"ノータッチ\", \"エ｜ス\": \"エース\"}, axis=1)\n",
    "            stats = stats.rename(columns={'打数':'アタック打数', '得点':'アタック得点', \n",
    "                            '失点':'アタック失点', '決定率':'アタック決定率',\n",
    "                            'セ平ット均':'アタックセット平均','打数.1':'バックアタック打数', '得点.1':'バックアタック得点',\n",
    "                            '失点.1':'バックアタック失点', '決定率.1':'バックアタック決定率', \n",
    "                            'セット平均':'アタック得点セット平均' ,'得点.2':'ブロック得点', \n",
    "                            'セット平均.1':'ブロック得点セット平均','セ平ット均.1':'ブロックセット平均', \n",
    "                            '打数.2':'サーブ打数', '得点.3':'サーブ得点', '失点.2':'サーブ失点',\n",
    "                            '効果':'サーブ効果', '効果率':'サーブ効果率', '成功・優':'サーブレシーブ成功・優', \n",
    "                            '成功・良':'サーブレシーブ成功・良', '成功率':'サーブレシーブ成功率'})\n",
    "            stats.insert(2, '選手名', player_list[i])\n",
    "            stats.insert(9, 'アタック効果率', (((stats['アタック得点'] - stats['アタック失点']) / stats['アタック打数']) * 100).round(1))\n",
    "            stats.insert(14, 'バックアタック効果率', (((stats['バックアタック得点'] - stats['バックアタック失点']) / stats['バックアタック打数']) * 100).round(1))\n",
    "            career_lists.append(stats)\n",
    "            career_database = pd.concat(career_lists, ignore_index=True)\n",
    "            # csv = '{0}_{1}_{2:%Y}-{2:%m}-{2:%d}.csv'.format(number_list[i], player_list[i], now)\n",
    "            # stats.to_csv(csv, index=False, encoding='cp932')\n",
    "            # print('{}を作成'.format(csv))\n",
    "career_database"
   ]
  },
  {
   "cell_type": "code",
   "execution_count": 2,
   "metadata": {},
   "outputs": [
    {
     "output_type": "execute_result",
     "data": {
      "text/plain": "                                  大会           チーム   選手名  試合数  セット数  アタック打数  \\\n0     2019-20 V.LEAGUE DIVISION1 MEN  ジェイテクトSTINGS  藤中優斗   29    79     152   \n1                          レギュラーラウンド  ジェイテクトSTINGS  藤中優斗   27    70     129   \n2                     セミファイナル（３位決定戦）  ジェイテクトSTINGS  藤中優斗    1     4      10   \n3                              ファイナル  ジェイテクトSTINGS  藤中優斗    1     5      13   \n4     V.LEAGUE DIVISION1 MEN 2018-19  ジェイテクトSTINGS  藤中優斗    4     6       0   \n...                              ...           ...   ...  ...   ...     ...   \n2961                       レギュラーラウンド    VC長野トライデンツ   長田翼   21    28       0   \n2962           Ｖ・チャレンジリーグⅡ男子 2015/16    VC長野トライデンツ   長田翼    3     5       0   \n2963                       レギュラーラウンド    VC長野トライデンツ   長田翼    3     5       0   \n2964                     レギュラーシーズン通算           NaN   長田翼   99   177      11   \n2965                              通算           NaN   長田翼   99   177      11   \n\n      アタック得点  アタック失点 アタック決定率  アタック効果率  ...  サーブ効果  サーブ効果率   受数 サーブレシーブ成功・優  \\\n0         64      12    42.1     34.2  ...     41     4.1  287         120   \n1         53       8    41.1     34.9  ...     37     4.5  224          93   \n2          5       2    50.0     30.0  ...      2     1.6   35          17   \n3          6       2    46.2     30.8  ...      2     0.0   28          10   \n4          0       0    46.2      NaN  ...      0     0.0    5           3   \n...      ...     ...     ...      ...  ...    ...     ...  ...         ...   \n2961       0       0    80.0      NaN  ...     12     7.7    0           0   \n2962       0       0    80.0      NaN  ...      1     3.6    0           0   \n2963       0       0    80.0      NaN  ...      1     3.6    0           0   \n2964       7       2    63.6     45.5  ...     71     5.9    8           0   \n2965       7       2    63.6     45.5  ...     71     5.9    8           0   \n\n      サーブレシーブ成功・良 サーブレシーブ成功率  アタック ブロック  サーブ  得点合計  \n0              85       56.6    64   14    5    83  \n1              67       56.5    53   13    5    71  \n2               9       61.4     5    1    0     6  \n3               9       51.8     6    0    0     6  \n4               1         70     0    0    0     0  \n...           ...        ...   ...  ...  ...   ...  \n2961            0        0.0     0    0    0     0  \n2962            0        0.0     0    0    0     0  \n2963            0        0.0     0    0    0     0  \n2964            0        0.0     7   12    8    27  \n2965            0        0.0     7   12    8    27  \n\n[2966 rows x 32 columns]",
      "text/html": "<div>\n<style scoped>\n    .dataframe tbody tr th:only-of-type {\n        vertical-align: middle;\n    }\n\n    .dataframe tbody tr th {\n        vertical-align: top;\n    }\n\n    .dataframe thead th {\n        text-align: right;\n    }\n</style>\n<table border=\"1\" class=\"dataframe\">\n  <thead>\n    <tr style=\"text-align: right;\">\n      <th></th>\n      <th>大会</th>\n      <th>チーム</th>\n      <th>選手名</th>\n      <th>試合数</th>\n      <th>セット数</th>\n      <th>アタック打数</th>\n      <th>アタック得点</th>\n      <th>アタック失点</th>\n      <th>アタック決定率</th>\n      <th>アタック効果率</th>\n      <th>...</th>\n      <th>サーブ効果</th>\n      <th>サーブ効果率</th>\n      <th>受数</th>\n      <th>サーブレシーブ成功・優</th>\n      <th>サーブレシーブ成功・良</th>\n      <th>サーブレシーブ成功率</th>\n      <th>アタック</th>\n      <th>ブロック</th>\n      <th>サーブ</th>\n      <th>得点合計</th>\n    </tr>\n  </thead>\n  <tbody>\n    <tr>\n      <th>0</th>\n      <td>2019-20 V.LEAGUE DIVISION1 MEN</td>\n      <td>ジェイテクトSTINGS</td>\n      <td>藤中優斗</td>\n      <td>29</td>\n      <td>79</td>\n      <td>152</td>\n      <td>64</td>\n      <td>12</td>\n      <td>42.1</td>\n      <td>34.2</td>\n      <td>...</td>\n      <td>41</td>\n      <td>4.1</td>\n      <td>287</td>\n      <td>120</td>\n      <td>85</td>\n      <td>56.6</td>\n      <td>64</td>\n      <td>14</td>\n      <td>5</td>\n      <td>83</td>\n    </tr>\n    <tr>\n      <th>1</th>\n      <td>レギュラーラウンド</td>\n      <td>ジェイテクトSTINGS</td>\n      <td>藤中優斗</td>\n      <td>27</td>\n      <td>70</td>\n      <td>129</td>\n      <td>53</td>\n      <td>8</td>\n      <td>41.1</td>\n      <td>34.9</td>\n      <td>...</td>\n      <td>37</td>\n      <td>4.5</td>\n      <td>224</td>\n      <td>93</td>\n      <td>67</td>\n      <td>56.5</td>\n      <td>53</td>\n      <td>13</td>\n      <td>5</td>\n      <td>71</td>\n    </tr>\n    <tr>\n      <th>2</th>\n      <td>セミファイナル（３位決定戦）</td>\n      <td>ジェイテクトSTINGS</td>\n      <td>藤中優斗</td>\n      <td>1</td>\n      <td>4</td>\n      <td>10</td>\n      <td>5</td>\n      <td>2</td>\n      <td>50.0</td>\n      <td>30.0</td>\n      <td>...</td>\n      <td>2</td>\n      <td>1.6</td>\n      <td>35</td>\n      <td>17</td>\n      <td>9</td>\n      <td>61.4</td>\n      <td>5</td>\n      <td>1</td>\n      <td>0</td>\n      <td>6</td>\n    </tr>\n    <tr>\n      <th>3</th>\n      <td>ファイナル</td>\n      <td>ジェイテクトSTINGS</td>\n      <td>藤中優斗</td>\n      <td>1</td>\n      <td>5</td>\n      <td>13</td>\n      <td>6</td>\n      <td>2</td>\n      <td>46.2</td>\n      <td>30.8</td>\n      <td>...</td>\n      <td>2</td>\n      <td>0.0</td>\n      <td>28</td>\n      <td>10</td>\n      <td>9</td>\n      <td>51.8</td>\n      <td>6</td>\n      <td>0</td>\n      <td>0</td>\n      <td>6</td>\n    </tr>\n    <tr>\n      <th>4</th>\n      <td>V.LEAGUE DIVISION1 MEN 2018-19</td>\n      <td>ジェイテクトSTINGS</td>\n      <td>藤中優斗</td>\n      <td>4</td>\n      <td>6</td>\n      <td>0</td>\n      <td>0</td>\n      <td>0</td>\n      <td>46.2</td>\n      <td>NaN</td>\n      <td>...</td>\n      <td>0</td>\n      <td>0.0</td>\n      <td>5</td>\n      <td>3</td>\n      <td>1</td>\n      <td>70</td>\n      <td>0</td>\n      <td>0</td>\n      <td>0</td>\n      <td>0</td>\n    </tr>\n    <tr>\n      <th>...</th>\n      <td>...</td>\n      <td>...</td>\n      <td>...</td>\n      <td>...</td>\n      <td>...</td>\n      <td>...</td>\n      <td>...</td>\n      <td>...</td>\n      <td>...</td>\n      <td>...</td>\n      <td>...</td>\n      <td>...</td>\n      <td>...</td>\n      <td>...</td>\n      <td>...</td>\n      <td>...</td>\n      <td>...</td>\n      <td>...</td>\n      <td>...</td>\n      <td>...</td>\n      <td>...</td>\n    </tr>\n    <tr>\n      <th>2961</th>\n      <td>レギュラーラウンド</td>\n      <td>VC長野トライデンツ</td>\n      <td>長田翼</td>\n      <td>21</td>\n      <td>28</td>\n      <td>0</td>\n      <td>0</td>\n      <td>0</td>\n      <td>80.0</td>\n      <td>NaN</td>\n      <td>...</td>\n      <td>12</td>\n      <td>7.7</td>\n      <td>0</td>\n      <td>0</td>\n      <td>0</td>\n      <td>0.0</td>\n      <td>0</td>\n      <td>0</td>\n      <td>0</td>\n      <td>0</td>\n    </tr>\n    <tr>\n      <th>2962</th>\n      <td>Ｖ・チャレンジリーグⅡ男子 2015/16</td>\n      <td>VC長野トライデンツ</td>\n      <td>長田翼</td>\n      <td>3</td>\n      <td>5</td>\n      <td>0</td>\n      <td>0</td>\n      <td>0</td>\n      <td>80.0</td>\n      <td>NaN</td>\n      <td>...</td>\n      <td>1</td>\n      <td>3.6</td>\n      <td>0</td>\n      <td>0</td>\n      <td>0</td>\n      <td>0.0</td>\n      <td>0</td>\n      <td>0</td>\n      <td>0</td>\n      <td>0</td>\n    </tr>\n    <tr>\n      <th>2963</th>\n      <td>レギュラーラウンド</td>\n      <td>VC長野トライデンツ</td>\n      <td>長田翼</td>\n      <td>3</td>\n      <td>5</td>\n      <td>0</td>\n      <td>0</td>\n      <td>0</td>\n      <td>80.0</td>\n      <td>NaN</td>\n      <td>...</td>\n      <td>1</td>\n      <td>3.6</td>\n      <td>0</td>\n      <td>0</td>\n      <td>0</td>\n      <td>0.0</td>\n      <td>0</td>\n      <td>0</td>\n      <td>0</td>\n      <td>0</td>\n    </tr>\n    <tr>\n      <th>2964</th>\n      <td>レギュラーシーズン通算</td>\n      <td>NaN</td>\n      <td>長田翼</td>\n      <td>99</td>\n      <td>177</td>\n      <td>11</td>\n      <td>7</td>\n      <td>2</td>\n      <td>63.6</td>\n      <td>45.5</td>\n      <td>...</td>\n      <td>71</td>\n      <td>5.9</td>\n      <td>8</td>\n      <td>0</td>\n      <td>0</td>\n      <td>0.0</td>\n      <td>7</td>\n      <td>12</td>\n      <td>8</td>\n      <td>27</td>\n    </tr>\n    <tr>\n      <th>2965</th>\n      <td>通算</td>\n      <td>NaN</td>\n      <td>長田翼</td>\n      <td>99</td>\n      <td>177</td>\n      <td>11</td>\n      <td>7</td>\n      <td>2</td>\n      <td>63.6</td>\n      <td>45.5</td>\n      <td>...</td>\n      <td>71</td>\n      <td>5.9</td>\n      <td>8</td>\n      <td>0</td>\n      <td>0</td>\n      <td>0.0</td>\n      <td>7</td>\n      <td>12</td>\n      <td>8</td>\n      <td>27</td>\n    </tr>\n  </tbody>\n</table>\n<p>2966 rows × 32 columns</p>\n</div>"
     },
     "metadata": {},
     "execution_count": 2
    }
   ],
   "source": [
    "career_database = career_database.replace('-', None)\n",
    "career_database"
   ]
  },
  {
   "cell_type": "code",
   "execution_count": 113,
   "metadata": {},
   "outputs": [
    {
     "output_type": "execute_result",
     "data": {
      "text/plain": "                                  大会           チーム    選手名  試合数  セット数  アタック打数  \\\n0     2019-20 V.LEAGUE DIVISION1 MEN  ジェイテクトSTINGS   藤中優斗   29    79     152   \n8     2019-20 V.LEAGUE DIVISION1 MEN  ジェイテクトSTINGS   金丸晃大   27    51      17   \n60    2019-20 V.LEAGUE DIVISION1 MEN        東レアローズ   伏見大和   56    86     135   \n89    2019-20 V.LEAGUE DIVISION1 MEN  ジェイテクトSTINGS   福山汰一   29    47      94   \n108   2019-20 V.LEAGUE DIVISION1 MEN  ジェイテクトSTINGS    饒書涵   27    96     296   \n...                              ...           ...    ...  ...   ...     ...   \n2920  2019-20 V.LEAGUE DIVISION1 MEN    VC長野トライデンツ   森崎健史   27    91     217   \n2932  2019-20 V.LEAGUE DIVISION1 MEN    VC長野トライデンツ   松村文斗   24     3      10   \n2940  2019-20 V.LEAGUE DIVISION1 MEN    VC長野トライデンツ  大沢健太郎   22    17       0   \n2946  2019-20 V.LEAGUE DIVISION1 MEN    VC長野トライデンツ   高澤和貴   27    62      14   \n2954  2019-20 V.LEAGUE DIVISION1 MEN    VC長野トライデンツ    長田翼   27    33       1   \n\n      アタック得点  アタック失点 アタック決定率  アタック効果率  ...  サーブ効果  サーブ効果率   受数 サーブレシーブ成功・優  \\\n0         64      12    42.1     34.2  ...     41     4.1  287         120   \n8          8       1    47.1     41.2  ...      8     4.3    2           0   \n60        84       7    62.2     57.0  ...     27     3.2    5           3   \n89        55       2    58.5     56.4  ...     30     6.0    8           3   \n108      177       7    59.8     57.4  ...     84     6.9   25          12   \n...      ...     ...     ...      ...  ...    ...     ...  ...         ...   \n2920     112      19    51.6     42.9  ...     62     3.9   53          28   \n2932       1       2      10    -10.0  ...      1     -10   21           8   \n2940       0       0    35.6      NaN  ...      0       3   19           4   \n2946       8       1    57.1     50.0  ...      6     9.2   67          30   \n2954       0       1     0.0   -100.0  ...     10     7.4    4           0   \n\n      サーブレシーブ成功・良 サーブレシーブ成功率  アタック ブロック  サーブ  得点合計  \n0              85       56.6    64   14    5    83  \n8               1       25.0     8    5    0    13  \n60              2       80.0    84   36    9   129  \n89              3       56.2    55   21    9    85  \n108             7         62   177   40    7   224  \n...           ...        ...   ...  ...  ...   ...  \n2920           11       63.2   112   30   11   153  \n2932            7       54.8     1    0    0     1  \n2940           10       47.4     0    0    0     0  \n2946           19         59     8    0    4    12  \n2954            0        0.0     0    3    1     4  \n\n[153 rows x 32 columns]",
      "text/html": "<div>\n<style scoped>\n    .dataframe tbody tr th:only-of-type {\n        vertical-align: middle;\n    }\n\n    .dataframe tbody tr th {\n        vertical-align: top;\n    }\n\n    .dataframe thead th {\n        text-align: right;\n    }\n</style>\n<table border=\"1\" class=\"dataframe\">\n  <thead>\n    <tr style=\"text-align: right;\">\n      <th></th>\n      <th>大会</th>\n      <th>チーム</th>\n      <th>選手名</th>\n      <th>試合数</th>\n      <th>セット数</th>\n      <th>アタック打数</th>\n      <th>アタック得点</th>\n      <th>アタック失点</th>\n      <th>アタック決定率</th>\n      <th>アタック効果率</th>\n      <th>...</th>\n      <th>サーブ効果</th>\n      <th>サーブ効果率</th>\n      <th>受数</th>\n      <th>サーブレシーブ成功・優</th>\n      <th>サーブレシーブ成功・良</th>\n      <th>サーブレシーブ成功率</th>\n      <th>アタック</th>\n      <th>ブロック</th>\n      <th>サーブ</th>\n      <th>得点合計</th>\n    </tr>\n  </thead>\n  <tbody>\n    <tr>\n      <th>0</th>\n      <td>2019-20 V.LEAGUE DIVISION1 MEN</td>\n      <td>ジェイテクトSTINGS</td>\n      <td>藤中優斗</td>\n      <td>29</td>\n      <td>79</td>\n      <td>152</td>\n      <td>64</td>\n      <td>12</td>\n      <td>42.1</td>\n      <td>34.2</td>\n      <td>...</td>\n      <td>41</td>\n      <td>4.1</td>\n      <td>287</td>\n      <td>120</td>\n      <td>85</td>\n      <td>56.6</td>\n      <td>64</td>\n      <td>14</td>\n      <td>5</td>\n      <td>83</td>\n    </tr>\n    <tr>\n      <th>8</th>\n      <td>2019-20 V.LEAGUE DIVISION1 MEN</td>\n      <td>ジェイテクトSTINGS</td>\n      <td>金丸晃大</td>\n      <td>27</td>\n      <td>51</td>\n      <td>17</td>\n      <td>8</td>\n      <td>1</td>\n      <td>47.1</td>\n      <td>41.2</td>\n      <td>...</td>\n      <td>8</td>\n      <td>4.3</td>\n      <td>2</td>\n      <td>0</td>\n      <td>1</td>\n      <td>25.0</td>\n      <td>8</td>\n      <td>5</td>\n      <td>0</td>\n      <td>13</td>\n    </tr>\n    <tr>\n      <th>60</th>\n      <td>2019-20 V.LEAGUE DIVISION1 MEN</td>\n      <td>東レアローズ</td>\n      <td>伏見大和</td>\n      <td>56</td>\n      <td>86</td>\n      <td>135</td>\n      <td>84</td>\n      <td>7</td>\n      <td>62.2</td>\n      <td>57.0</td>\n      <td>...</td>\n      <td>27</td>\n      <td>3.2</td>\n      <td>5</td>\n      <td>3</td>\n      <td>2</td>\n      <td>80.0</td>\n      <td>84</td>\n      <td>36</td>\n      <td>9</td>\n      <td>129</td>\n    </tr>\n    <tr>\n      <th>89</th>\n      <td>2019-20 V.LEAGUE DIVISION1 MEN</td>\n      <td>ジェイテクトSTINGS</td>\n      <td>福山汰一</td>\n      <td>29</td>\n      <td>47</td>\n      <td>94</td>\n      <td>55</td>\n      <td>2</td>\n      <td>58.5</td>\n      <td>56.4</td>\n      <td>...</td>\n      <td>30</td>\n      <td>6.0</td>\n      <td>8</td>\n      <td>3</td>\n      <td>3</td>\n      <td>56.2</td>\n      <td>55</td>\n      <td>21</td>\n      <td>9</td>\n      <td>85</td>\n    </tr>\n    <tr>\n      <th>108</th>\n      <td>2019-20 V.LEAGUE DIVISION1 MEN</td>\n      <td>ジェイテクトSTINGS</td>\n      <td>饒書涵</td>\n      <td>27</td>\n      <td>96</td>\n      <td>296</td>\n      <td>177</td>\n      <td>7</td>\n      <td>59.8</td>\n      <td>57.4</td>\n      <td>...</td>\n      <td>84</td>\n      <td>6.9</td>\n      <td>25</td>\n      <td>12</td>\n      <td>7</td>\n      <td>62</td>\n      <td>177</td>\n      <td>40</td>\n      <td>7</td>\n      <td>224</td>\n    </tr>\n    <tr>\n      <th>...</th>\n      <td>...</td>\n      <td>...</td>\n      <td>...</td>\n      <td>...</td>\n      <td>...</td>\n      <td>...</td>\n      <td>...</td>\n      <td>...</td>\n      <td>...</td>\n      <td>...</td>\n      <td>...</td>\n      <td>...</td>\n      <td>...</td>\n      <td>...</td>\n      <td>...</td>\n      <td>...</td>\n      <td>...</td>\n      <td>...</td>\n      <td>...</td>\n      <td>...</td>\n      <td>...</td>\n    </tr>\n    <tr>\n      <th>2920</th>\n      <td>2019-20 V.LEAGUE DIVISION1 MEN</td>\n      <td>VC長野トライデンツ</td>\n      <td>森崎健史</td>\n      <td>27</td>\n      <td>91</td>\n      <td>217</td>\n      <td>112</td>\n      <td>19</td>\n      <td>51.6</td>\n      <td>42.9</td>\n      <td>...</td>\n      <td>62</td>\n      <td>3.9</td>\n      <td>53</td>\n      <td>28</td>\n      <td>11</td>\n      <td>63.2</td>\n      <td>112</td>\n      <td>30</td>\n      <td>11</td>\n      <td>153</td>\n    </tr>\n    <tr>\n      <th>2932</th>\n      <td>2019-20 V.LEAGUE DIVISION1 MEN</td>\n      <td>VC長野トライデンツ</td>\n      <td>松村文斗</td>\n      <td>24</td>\n      <td>3</td>\n      <td>10</td>\n      <td>1</td>\n      <td>2</td>\n      <td>10</td>\n      <td>-10.0</td>\n      <td>...</td>\n      <td>1</td>\n      <td>-10</td>\n      <td>21</td>\n      <td>8</td>\n      <td>7</td>\n      <td>54.8</td>\n      <td>1</td>\n      <td>0</td>\n      <td>0</td>\n      <td>1</td>\n    </tr>\n    <tr>\n      <th>2940</th>\n      <td>2019-20 V.LEAGUE DIVISION1 MEN</td>\n      <td>VC長野トライデンツ</td>\n      <td>大沢健太郎</td>\n      <td>22</td>\n      <td>17</td>\n      <td>0</td>\n      <td>0</td>\n      <td>0</td>\n      <td>35.6</td>\n      <td>NaN</td>\n      <td>...</td>\n      <td>0</td>\n      <td>3</td>\n      <td>19</td>\n      <td>4</td>\n      <td>10</td>\n      <td>47.4</td>\n      <td>0</td>\n      <td>0</td>\n      <td>0</td>\n      <td>0</td>\n    </tr>\n    <tr>\n      <th>2946</th>\n      <td>2019-20 V.LEAGUE DIVISION1 MEN</td>\n      <td>VC長野トライデンツ</td>\n      <td>高澤和貴</td>\n      <td>27</td>\n      <td>62</td>\n      <td>14</td>\n      <td>8</td>\n      <td>1</td>\n      <td>57.1</td>\n      <td>50.0</td>\n      <td>...</td>\n      <td>6</td>\n      <td>9.2</td>\n      <td>67</td>\n      <td>30</td>\n      <td>19</td>\n      <td>59</td>\n      <td>8</td>\n      <td>0</td>\n      <td>4</td>\n      <td>12</td>\n    </tr>\n    <tr>\n      <th>2954</th>\n      <td>2019-20 V.LEAGUE DIVISION1 MEN</td>\n      <td>VC長野トライデンツ</td>\n      <td>長田翼</td>\n      <td>27</td>\n      <td>33</td>\n      <td>1</td>\n      <td>0</td>\n      <td>1</td>\n      <td>0.0</td>\n      <td>-100.0</td>\n      <td>...</td>\n      <td>10</td>\n      <td>7.4</td>\n      <td>4</td>\n      <td>0</td>\n      <td>0</td>\n      <td>0.0</td>\n      <td>0</td>\n      <td>3</td>\n      <td>1</td>\n      <td>4</td>\n    </tr>\n  </tbody>\n</table>\n<p>153 rows × 32 columns</p>\n</div>"
     },
     "metadata": {},
     "execution_count": 113
    }
   ],
   "source": [
    "regular19 = career_database[career_database['大会'] == '2019-20 V.LEAGUE DIVISION1 MEN']\n",
    "regular19"
   ]
  },
  {
   "cell_type": "code",
   "execution_count": 114,
   "metadata": {},
   "outputs": [],
   "source": [
    "regular19['アタック決定率'] = regular19['アタック決定率'].astype(float)\n",
    "regular19['バックアタック決定率'] = regular19['バックアタック決定率'].astype(float)\n",
    "regular19['アタック得点セット平均'] = regular19['アタック得点セット平均'].astype(float)\n",
    "regular19['ブロック得点セット平均'] = regular19['ブロック得点セット平均'].astype(float)\n",
    "regular19['サーブ効果率'] = regular19['サーブ効果率'].astype(float)\n",
    "regular19['サーブレシーブ成功率'] = regular19['サーブレシーブ成功率'].astype(float)"
   ]
  },
  {
   "cell_type": "code",
   "execution_count": 115,
   "metadata": {},
   "outputs": [
    {
     "output_type": "execute_result",
     "data": {
      "text/plain": "大会              object\nチーム             object\n選手名             object\n試合数              int64\nセット数             int64\nアタック打数           int64\nアタック得点           int64\nアタック失点           int64\nアタック決定率        float64\nアタック効果率        float64\nバックアタック打数        int64\nバックアタック得点        int64\nバックアタック失点        int64\nバックアタック決定率     float64\nバックアタック効果率     float64\nアタック得点セット平均    float64\nブロック得点           int64\nブロック得点セット平均    float64\nサーブ打数            int64\nノータッチ            int64\nエース              int64\nサーブ失点            int64\nサーブ効果            int64\nサーブ効果率         float64\n受数               int64\nサーブレシーブ成功・優      int64\nサーブレシーブ成功・良      int64\nサーブレシーブ成功率     float64\nアタック             int64\nブロック             int64\nサーブ              int64\n得点合計             int64\ndtype: object"
     },
     "metadata": {},
     "execution_count": 115
    }
   ],
   "source": [
    "regular19.dtypes"
   ]
  },
  {
   "cell_type": "code",
   "execution_count": 6,
   "metadata": {
    "tags": []
   },
   "outputs": [
    {
     "output_type": "stream",
     "name": "stdout",
     "text": "2019-20 V.LEAGUE DIVISION1 MEN\n"
    }
   ],
   "source": [
    " ob_data = regular19[0:1].to_dict()\n",
    " print(ob_data['大会'][0])"
   ]
  },
  {
   "cell_type": "code",
   "execution_count": 116,
   "metadata": {},
   "outputs": [],
   "source": [
    "attack_ave = (regular19['アタック得点'].sum() / regular19['アタック打数'].sum()) * 100\n",
    "attack_ef = ((regular19['アタック得点'].sum() - regular19['アタック失点'].sum()) / regular19['アタック打数'].sum()) * 100\n",
    "b_attack_ave = (regular19['バックアタック得点'].sum() / regular19['バックアタック打数'].sum()) * 100\n",
    "b_attack_ef = ((regular19['バックアタック得点'].sum() - regular19['バックアタック失点'].sum()) \\\n",
    "        / regular19['バックアタック打数'].sum()) * 100\n",
    "attack_by_set = regular19['アタック得点'].sum() / regular19['セット数'].sum()\n",
    "block_by_set = regular19['ブロック得点'].sum() / regular19['セット数'].sum()\n",
    "serve_ef = ((regular19['ノータッチ'].sum() + regular19['エース'].sum()) * 100 \\\n",
    "        + regular19['サーブ効果'].sum() * 25 - regular19['サーブ失点'].sum() * 25) \\\n",
    "        / regular19['サーブ打数'].sum()\n",
    "s_receive_ave = \\\n",
    "     (regular19['サーブレシーブ成功・優'].sum() * 100 + \\\n",
    "     regular19['サーブレシーブ成功・良'].sum() * 50) \\\n",
    "     / regular19['受数'].sum()"
   ]
  },
  {
   "cell_type": "code",
   "execution_count": 159,
   "metadata": {
    "tags": []
   },
   "outputs": [],
   "source": [
    "# value = regular19.columns.values\n",
    "# print('regular19.append(')\n",
    "# for i in range(len(value)):\n",
    "#     if i <= 2:\n",
    "#         print(\"     ob_data['{}'][0],\".format(value[i]))\n",
    "#     else:\n",
    "#         print(\"     regular19['{}'].sum(),\".format(value[i]))\n",
    "# print(')')"
   ]
  },
  {
   "cell_type": "code",
   "execution_count": 117,
   "metadata": {},
   "outputs": [
    {
     "output_type": "execute_result",
     "data": {
      "text/plain": "array(['大会', 'チーム', '選手名', '試合数', 'セット数', 'アタック打数', 'アタック得点', 'アタック失点',\n       'アタック決定率', 'アタック効果率', 'バックアタック打数', 'バックアタック得点', 'バックアタック失点',\n       'バックアタック決定率', 'バックアタック効果率', 'アタック得点セット平均', 'ブロック得点', 'ブロック得点セット平均',\n       'サーブ打数', 'ノータッチ', 'エース', 'サーブ失点', 'サーブ効果', 'サーブ効果率', '受数',\n       'サーブレシーブ成功・優', 'サーブレシーブ成功・良', 'サーブレシーブ成功率', 'アタック', 'ブロック', 'サーブ',\n       '得点合計'], dtype=object)"
     },
     "metadata": {},
     "execution_count": 117
    }
   ],
   "source": [
    "regular19.columns.values"
   ]
  },
  {
   "cell_type": "code",
   "execution_count": 9,
   "metadata": {},
   "outputs": [],
   "source": [
    "average_data = [\n",
    "     ob_data['大会'][0],\n",
    "     None,\n",
    "     '合計',\n",
    "     regular19['試合数'].sum(),\n",
    "     regular19['セット数'].sum(),\n",
    "     regular19['アタック打数'].sum(),\n",
    "     regular19['アタック得点'].sum(),\n",
    "     regular19['アタック失点'].sum(),\n",
    "     attack_ave.round(1),\n",
    "     attack_ef.round(1),\n",
    "     regular19['バックアタック打数'].sum(),\n",
    "     regular19['バックアタック得点'].sum(),\n",
    "     regular19['バックアタック失点'].sum(),\n",
    "     b_attack_ave.round(1),\n",
    "     b_attack_ef.round(1),\n",
    "     attack_by_set.round(1),\n",
    "     regular19['ブロック得点'].sum(),\n",
    "     block_by_set.round(1),\n",
    "     regular19['サーブ打数'].sum(),\n",
    "     regular19['ノータッチ'].sum(),\n",
    "     regular19['エース'].sum(),\n",
    "     regular19['サーブ失点'].sum(),\n",
    "     regular19['サーブ効果'].sum(),\n",
    "     serve_ef.round(1),\n",
    "     regular19['受数'].sum(),\n",
    "     regular19['サーブレシーブ成功・優'].sum(),\n",
    "     regular19['サーブレシーブ成功・良'].sum(),\n",
    "     s_receive_ave.round(1),\n",
    "     regular19['アタック'].sum(),\n",
    "     regular19['ブロック'].sum(),\n",
    "     regular19['サーブ'].sum(),\n",
    "     regular19['得点合計'].sum()\n",
    "]"
   ]
  },
  {
   "cell_type": "code",
   "execution_count": 10,
   "metadata": {},
   "outputs": [
    {
     "output_type": "execute_result",
     "data": {
      "text/plain": "49.2"
     },
     "metadata": {},
     "execution_count": 10
    }
   ],
   "source": [
    "average = pd.DataFrame(columns=regular19.columns.values)\n",
    "average.loc[0] = average_data\n",
    "average['アタック決定率'][0]"
   ]
  },
  {
   "cell_type": "code",
   "execution_count": 22,
   "metadata": {},
   "outputs": [
    {
     "output_type": "execute_result",
     "data": {
      "text/plain": "             チーム          選手名  バックアタック打数  バックアタック得点  バックアタック失点  バックアタック決定率  \\\n10       堺ブレイザーズ        千々木駿介        126         81          9        64.3   \n9     サントリーサンバーズ  ムセルスキードミトリー        406        240         33        59.1   \n8     サントリーサンバーズ          季道帥        135         76          9        56.3   \n7   ジェイテクトSTINGS         西田有志        437        243         48        55.6   \n6        堺ブレイザーズ         樋口裕希        119         66          4        55.5   \n5   大分三好ヴァイセアドラー    バグナスブライアン        174         90         17        51.7   \n4    パナソニックパンサーズ         清水邦広        210        107         12        51.0   \n3     ウルフドッグス名古屋         高松卓矢        154         76          4        49.4   \n2           FC東京   プレモビッチピーター        444        215         29        48.4   \n1   大分三好ヴァイセアドラー        ヤカングマ        291        126         18        43.3   \n0   大分三好ヴァイセアドラー          濱本豊        110         47         10        42.7   \n\n    バックアタック効果率  \n10        57.1  \n9         51.0  \n8         49.6  \n7         44.6  \n6         52.1  \n5         42.0  \n4         45.2  \n3         46.8  \n2         41.9  \n1         37.1  \n0         33.6  ",
      "text/html": "<div>\n<style scoped>\n    .dataframe tbody tr th:only-of-type {\n        vertical-align: middle;\n    }\n\n    .dataframe tbody tr th {\n        vertical-align: top;\n    }\n\n    .dataframe thead th {\n        text-align: right;\n    }\n</style>\n<table border=\"1\" class=\"dataframe\">\n  <thead>\n    <tr style=\"text-align: right;\">\n      <th></th>\n      <th>チーム</th>\n      <th>選手名</th>\n      <th>バックアタック打数</th>\n      <th>バックアタック得点</th>\n      <th>バックアタック失点</th>\n      <th>バックアタック決定率</th>\n      <th>バックアタック効果率</th>\n    </tr>\n  </thead>\n  <tbody>\n    <tr>\n      <th>10</th>\n      <td>堺ブレイザーズ</td>\n      <td>千々木駿介</td>\n      <td>126</td>\n      <td>81</td>\n      <td>9</td>\n      <td>64.3</td>\n      <td>57.1</td>\n    </tr>\n    <tr>\n      <th>9</th>\n      <td>サントリーサンバーズ</td>\n      <td>ムセルスキードミトリー</td>\n      <td>406</td>\n      <td>240</td>\n      <td>33</td>\n      <td>59.1</td>\n      <td>51.0</td>\n    </tr>\n    <tr>\n      <th>8</th>\n      <td>サントリーサンバーズ</td>\n      <td>季道帥</td>\n      <td>135</td>\n      <td>76</td>\n      <td>9</td>\n      <td>56.3</td>\n      <td>49.6</td>\n    </tr>\n    <tr>\n      <th>7</th>\n      <td>ジェイテクトSTINGS</td>\n      <td>西田有志</td>\n      <td>437</td>\n      <td>243</td>\n      <td>48</td>\n      <td>55.6</td>\n      <td>44.6</td>\n    </tr>\n    <tr>\n      <th>6</th>\n      <td>堺ブレイザーズ</td>\n      <td>樋口裕希</td>\n      <td>119</td>\n      <td>66</td>\n      <td>4</td>\n      <td>55.5</td>\n      <td>52.1</td>\n    </tr>\n    <tr>\n      <th>5</th>\n      <td>大分三好ヴァイセアドラー</td>\n      <td>バグナスブライアン</td>\n      <td>174</td>\n      <td>90</td>\n      <td>17</td>\n      <td>51.7</td>\n      <td>42.0</td>\n    </tr>\n    <tr>\n      <th>4</th>\n      <td>パナソニックパンサーズ</td>\n      <td>清水邦広</td>\n      <td>210</td>\n      <td>107</td>\n      <td>12</td>\n      <td>51.0</td>\n      <td>45.2</td>\n    </tr>\n    <tr>\n      <th>3</th>\n      <td>ウルフドッグス名古屋</td>\n      <td>高松卓矢</td>\n      <td>154</td>\n      <td>76</td>\n      <td>4</td>\n      <td>49.4</td>\n      <td>46.8</td>\n    </tr>\n    <tr>\n      <th>2</th>\n      <td>FC東京</td>\n      <td>プレモビッチピーター</td>\n      <td>444</td>\n      <td>215</td>\n      <td>29</td>\n      <td>48.4</td>\n      <td>41.9</td>\n    </tr>\n    <tr>\n      <th>1</th>\n      <td>大分三好ヴァイセアドラー</td>\n      <td>ヤカングマ</td>\n      <td>291</td>\n      <td>126</td>\n      <td>18</td>\n      <td>43.3</td>\n      <td>37.1</td>\n    </tr>\n    <tr>\n      <th>0</th>\n      <td>大分三好ヴァイセアドラー</td>\n      <td>濱本豊</td>\n      <td>110</td>\n      <td>47</td>\n      <td>10</td>\n      <td>42.7</td>\n      <td>33.6</td>\n    </tr>\n  </tbody>\n</table>\n</div>"
     },
     "metadata": {},
     "execution_count": 22
    }
   ],
   "source": [
    "regular19_s = regular19[regular19['バックアタック打数'] >= 100]\n",
    "regular19_s = regular19_s[['チーム','選手名','バックアタック打数','バックアタック得点','バックアタック失点','バックアタック決定率','バックアタック効果率']]\n",
    "regular19_s.sort_values(by=['バックアタック決定率'], ignore_index=True).iloc[::-1]"
   ]
  },
  {
   "cell_type": "code",
   "execution_count": 11,
   "metadata": {},
   "outputs": [
    {
     "output_type": "execute_result",
     "data": {
      "text/plain": "array(['アタック決定率', 'アタック効果率', 'バックアタック決定率', 'バックアタック効果率', 'アタック得点セット平均',\n       'ブロック得点セット平均', 'サーブ効果率', 'サーブレシーブ成功率'], dtype=object)"
     },
     "metadata": {},
     "execution_count": 11
    }
   ],
   "source": [
    "regular19_stand = regular19.loc[:,regular19.columns.str.contains('決定率|効果率|セット平均|成功率')].apply(lambda x : ((x - x.mean())*10/x.std()+50) ,axis=0)\n",
    "div_value = regular19_stand.round(1)\n",
    "div_value.columns.values"
   ]
  },
  {
   "cell_type": "code",
   "execution_count": 121,
   "metadata": {},
   "outputs": [],
   "source": [
    "regular19.insert(9,'アタック決定率偏差値',div_value['アタック決定率'])\n",
    "regular19.insert(11,'アタック効果率偏差値',div_value['アタック効果率'])\n",
    "regular19.insert(15,'バックアタック決定率偏差値',div_value['バックアタック決定率'])\n",
    "regular19.insert(17,'バックアタック効果率偏差値',div_value['バックアタック効果率'])\n",
    "regular19.insert(21,'アタック得点セット平均偏差値',div_value['アタック得点セット平均'])\n",
    "regular19.insert(24,'ブロック得点セット平均偏差値',div_value['ブロック得点セット平均'])\n",
    "regular19.insert(30,'サーブ効果率偏差値',div_value['サーブ効果率'])\n",
    "regular19.insert(35,'サーブレシーブ成功率偏差値',div_value['サーブレシーブ成功率'])"
   ]
  },
  {
   "cell_type": "code",
   "execution_count": 123,
   "metadata": {},
   "outputs": [
    {
     "output_type": "execute_result",
     "data": {
      "text/plain": "                                  大会           チーム    選手名  試合数  セット数  アタック打数  \\\n0     2019-20 V.LEAGUE DIVISION1 MEN  ジェイテクトSTINGS   藤中優斗   29    79     152   \n8     2019-20 V.LEAGUE DIVISION1 MEN  ジェイテクトSTINGS   金丸晃大   27    51      17   \n60    2019-20 V.LEAGUE DIVISION1 MEN        東レアローズ   伏見大和   56    86     135   \n89    2019-20 V.LEAGUE DIVISION1 MEN  ジェイテクトSTINGS   福山汰一   29    47      94   \n108   2019-20 V.LEAGUE DIVISION1 MEN  ジェイテクトSTINGS    饒書涵   27    96     296   \n...                              ...           ...    ...  ...   ...     ...   \n2920  2019-20 V.LEAGUE DIVISION1 MEN    VC長野トライデンツ   森崎健史   27    91     217   \n2932  2019-20 V.LEAGUE DIVISION1 MEN    VC長野トライデンツ   松村文斗   24     3      10   \n2940  2019-20 V.LEAGUE DIVISION1 MEN    VC長野トライデンツ  大沢健太郎   22    17       0   \n2946  2019-20 V.LEAGUE DIVISION1 MEN    VC長野トライデンツ   高澤和貴   27    62      14   \n2954  2019-20 V.LEAGUE DIVISION1 MEN    VC長野トライデンツ    長田翼   27    33       1   \n\n      アタック得点  アタック失点  アタック決定率  アタック決定率偏差値  ...  サーブ効果率偏差値   受数  サーブレシーブ成功・優  \\\n0         64      12     42.1        46.5  ...       49.2  287          120   \n8          8       1     47.1        49.9  ...       49.6    2            0   \n60        84       7     62.2        60.2  ...       47.6    5            3   \n89        55       2     58.5        57.7  ...       52.6    8            3   \n108      177       7     59.8        58.6  ...       54.3   25           12   \n...      ...     ...      ...         ...  ...        ...  ...          ...   \n2920     112      19     51.6        53.0  ...       48.9   53           28   \n2932       1       2     10.0        24.5  ...       23.9   21            8   \n2940       0       0     35.6        42.0  ...       47.3   19            4   \n2946       8       1     57.1        56.7  ...       58.4   67           30   \n2954       0       1      0.0        17.7  ...       55.2    4            0   \n\n      サーブレシーブ成功・良  サーブレシーブ成功率  サーブレシーブ成功率偏差値  アタック  ブロック  サーブ  得点合計  \n0              85        56.6           55.1    64    14    5    83  \n8               1        25.0           40.0     8     5    0    13  \n60              2        80.0           66.3    84    36    9   129  \n89              3        56.2           54.9    55    21    9    85  \n108             7        62.0           57.7   177    40    7   224  \n...           ...         ...            ...   ...   ...  ...   ...  \n2920           11        63.2           58.3   112    30   11   153  \n2932            7        54.8           54.3     1     0    0     1  \n2940           10        47.4           50.7     0     0    0     0  \n2946           19        59.0           56.3     8     0    4    12  \n2954            0         0.0           28.0     0     3    1     4  \n\n[153 rows x 40 columns]",
      "text/html": "<div>\n<style scoped>\n    .dataframe tbody tr th:only-of-type {\n        vertical-align: middle;\n    }\n\n    .dataframe tbody tr th {\n        vertical-align: top;\n    }\n\n    .dataframe thead th {\n        text-align: right;\n    }\n</style>\n<table border=\"1\" class=\"dataframe\">\n  <thead>\n    <tr style=\"text-align: right;\">\n      <th></th>\n      <th>大会</th>\n      <th>チーム</th>\n      <th>選手名</th>\n      <th>試合数</th>\n      <th>セット数</th>\n      <th>アタック打数</th>\n      <th>アタック得点</th>\n      <th>アタック失点</th>\n      <th>アタック決定率</th>\n      <th>アタック決定率偏差値</th>\n      <th>...</th>\n      <th>サーブ効果率偏差値</th>\n      <th>受数</th>\n      <th>サーブレシーブ成功・優</th>\n      <th>サーブレシーブ成功・良</th>\n      <th>サーブレシーブ成功率</th>\n      <th>サーブレシーブ成功率偏差値</th>\n      <th>アタック</th>\n      <th>ブロック</th>\n      <th>サーブ</th>\n      <th>得点合計</th>\n    </tr>\n  </thead>\n  <tbody>\n    <tr>\n      <th>0</th>\n      <td>2019-20 V.LEAGUE DIVISION1 MEN</td>\n      <td>ジェイテクトSTINGS</td>\n      <td>藤中優斗</td>\n      <td>29</td>\n      <td>79</td>\n      <td>152</td>\n      <td>64</td>\n      <td>12</td>\n      <td>42.1</td>\n      <td>46.5</td>\n      <td>...</td>\n      <td>49.2</td>\n      <td>287</td>\n      <td>120</td>\n      <td>85</td>\n      <td>56.6</td>\n      <td>55.1</td>\n      <td>64</td>\n      <td>14</td>\n      <td>5</td>\n      <td>83</td>\n    </tr>\n    <tr>\n      <th>8</th>\n      <td>2019-20 V.LEAGUE DIVISION1 MEN</td>\n      <td>ジェイテクトSTINGS</td>\n      <td>金丸晃大</td>\n      <td>27</td>\n      <td>51</td>\n      <td>17</td>\n      <td>8</td>\n      <td>1</td>\n      <td>47.1</td>\n      <td>49.9</td>\n      <td>...</td>\n      <td>49.6</td>\n      <td>2</td>\n      <td>0</td>\n      <td>1</td>\n      <td>25.0</td>\n      <td>40.0</td>\n      <td>8</td>\n      <td>5</td>\n      <td>0</td>\n      <td>13</td>\n    </tr>\n    <tr>\n      <th>60</th>\n      <td>2019-20 V.LEAGUE DIVISION1 MEN</td>\n      <td>東レアローズ</td>\n      <td>伏見大和</td>\n      <td>56</td>\n      <td>86</td>\n      <td>135</td>\n      <td>84</td>\n      <td>7</td>\n      <td>62.2</td>\n      <td>60.2</td>\n      <td>...</td>\n      <td>47.6</td>\n      <td>5</td>\n      <td>3</td>\n      <td>2</td>\n      <td>80.0</td>\n      <td>66.3</td>\n      <td>84</td>\n      <td>36</td>\n      <td>9</td>\n      <td>129</td>\n    </tr>\n    <tr>\n      <th>89</th>\n      <td>2019-20 V.LEAGUE DIVISION1 MEN</td>\n      <td>ジェイテクトSTINGS</td>\n      <td>福山汰一</td>\n      <td>29</td>\n      <td>47</td>\n      <td>94</td>\n      <td>55</td>\n      <td>2</td>\n      <td>58.5</td>\n      <td>57.7</td>\n      <td>...</td>\n      <td>52.6</td>\n      <td>8</td>\n      <td>3</td>\n      <td>3</td>\n      <td>56.2</td>\n      <td>54.9</td>\n      <td>55</td>\n      <td>21</td>\n      <td>9</td>\n      <td>85</td>\n    </tr>\n    <tr>\n      <th>108</th>\n      <td>2019-20 V.LEAGUE DIVISION1 MEN</td>\n      <td>ジェイテクトSTINGS</td>\n      <td>饒書涵</td>\n      <td>27</td>\n      <td>96</td>\n      <td>296</td>\n      <td>177</td>\n      <td>7</td>\n      <td>59.8</td>\n      <td>58.6</td>\n      <td>...</td>\n      <td>54.3</td>\n      <td>25</td>\n      <td>12</td>\n      <td>7</td>\n      <td>62.0</td>\n      <td>57.7</td>\n      <td>177</td>\n      <td>40</td>\n      <td>7</td>\n      <td>224</td>\n    </tr>\n    <tr>\n      <th>...</th>\n      <td>...</td>\n      <td>...</td>\n      <td>...</td>\n      <td>...</td>\n      <td>...</td>\n      <td>...</td>\n      <td>...</td>\n      <td>...</td>\n      <td>...</td>\n      <td>...</td>\n      <td>...</td>\n      <td>...</td>\n      <td>...</td>\n      <td>...</td>\n      <td>...</td>\n      <td>...</td>\n      <td>...</td>\n      <td>...</td>\n      <td>...</td>\n      <td>...</td>\n      <td>...</td>\n    </tr>\n    <tr>\n      <th>2920</th>\n      <td>2019-20 V.LEAGUE DIVISION1 MEN</td>\n      <td>VC長野トライデンツ</td>\n      <td>森崎健史</td>\n      <td>27</td>\n      <td>91</td>\n      <td>217</td>\n      <td>112</td>\n      <td>19</td>\n      <td>51.6</td>\n      <td>53.0</td>\n      <td>...</td>\n      <td>48.9</td>\n      <td>53</td>\n      <td>28</td>\n      <td>11</td>\n      <td>63.2</td>\n      <td>58.3</td>\n      <td>112</td>\n      <td>30</td>\n      <td>11</td>\n      <td>153</td>\n    </tr>\n    <tr>\n      <th>2932</th>\n      <td>2019-20 V.LEAGUE DIVISION1 MEN</td>\n      <td>VC長野トライデンツ</td>\n      <td>松村文斗</td>\n      <td>24</td>\n      <td>3</td>\n      <td>10</td>\n      <td>1</td>\n      <td>2</td>\n      <td>10.0</td>\n      <td>24.5</td>\n      <td>...</td>\n      <td>23.9</td>\n      <td>21</td>\n      <td>8</td>\n      <td>7</td>\n      <td>54.8</td>\n      <td>54.3</td>\n      <td>1</td>\n      <td>0</td>\n      <td>0</td>\n      <td>1</td>\n    </tr>\n    <tr>\n      <th>2940</th>\n      <td>2019-20 V.LEAGUE DIVISION1 MEN</td>\n      <td>VC長野トライデンツ</td>\n      <td>大沢健太郎</td>\n      <td>22</td>\n      <td>17</td>\n      <td>0</td>\n      <td>0</td>\n      <td>0</td>\n      <td>35.6</td>\n      <td>42.0</td>\n      <td>...</td>\n      <td>47.3</td>\n      <td>19</td>\n      <td>4</td>\n      <td>10</td>\n      <td>47.4</td>\n      <td>50.7</td>\n      <td>0</td>\n      <td>0</td>\n      <td>0</td>\n      <td>0</td>\n    </tr>\n    <tr>\n      <th>2946</th>\n      <td>2019-20 V.LEAGUE DIVISION1 MEN</td>\n      <td>VC長野トライデンツ</td>\n      <td>高澤和貴</td>\n      <td>27</td>\n      <td>62</td>\n      <td>14</td>\n      <td>8</td>\n      <td>1</td>\n      <td>57.1</td>\n      <td>56.7</td>\n      <td>...</td>\n      <td>58.4</td>\n      <td>67</td>\n      <td>30</td>\n      <td>19</td>\n      <td>59.0</td>\n      <td>56.3</td>\n      <td>8</td>\n      <td>0</td>\n      <td>4</td>\n      <td>12</td>\n    </tr>\n    <tr>\n      <th>2954</th>\n      <td>2019-20 V.LEAGUE DIVISION1 MEN</td>\n      <td>VC長野トライデンツ</td>\n      <td>長田翼</td>\n      <td>27</td>\n      <td>33</td>\n      <td>1</td>\n      <td>0</td>\n      <td>1</td>\n      <td>0.0</td>\n      <td>17.7</td>\n      <td>...</td>\n      <td>55.2</td>\n      <td>4</td>\n      <td>0</td>\n      <td>0</td>\n      <td>0.0</td>\n      <td>28.0</td>\n      <td>0</td>\n      <td>3</td>\n      <td>1</td>\n      <td>4</td>\n    </tr>\n  </tbody>\n</table>\n<p>153 rows × 40 columns</p>\n</div>"
     },
     "metadata": {},
     "execution_count": 123
    }
   ],
   "source": [
    "# regular19 = career_database[career_database['大会'] == '2019-20 V.LEAGUE DIVISION1 MEN']\n",
    "regular19"
   ]
  },
  {
   "cell_type": "code",
   "execution_count": 124,
   "metadata": {},
   "outputs": [],
   "source": [
    "%matplotlib inline\n",
    "import numpy as np\n",
    "import matplotlib.pyplot as plt\n",
    "import seaborn as sns\n",
    "\n",
    "import plotly.offline\n",
    "import plotly.express as px"
   ]
  },
  {
   "cell_type": "code",
   "execution_count": 125,
   "metadata": {
    "tags": []
   },
   "outputs": [],
   "source": [
    "fig = px.line_polar(regular19.loc[:,div_ex], theta=regular19.loc[:,div_ex].columns.values, r=regular19.loc[:,div_ex].loc[240].values, range_r=[30,70], line_close=True)"
   ]
  },
  {
   "cell_type": "code",
   "execution_count": 126,
   "metadata": {},
   "outputs": [
    {
     "output_type": "display_data",
     "data": {
      "application/vnd.plotly.v1+json": {
       "config": {
        "plotlyServerURL": "https://plot.ly"
       },
       "data": [
        {
         "hovertemplate": "r=%{r}<br>theta=%{theta}<extra></extra>",
         "legendgroup": "",
         "line": {
          "color": "#636efa",
          "dash": "solid"
         },
         "mode": "lines",
         "name": "",
         "r": [
          56.1,
          53,
          57.4,
          55.2,
          83.4,
          62.4,
          78.7,
          45.1,
          56.1
         ],
         "showlegend": false,
         "subplot": "polar",
         "theta": [
          "アタック決定率偏差値",
          "アタック効果率偏差値",
          "バックアタック決定率偏差値",
          "バックアタック効果率偏差値",
          "アタック得点セット平均偏差値",
          "ブロック得点セット平均偏差値",
          "サーブ効果率偏差値",
          "サーブレシーブ成功率偏差値",
          "アタック決定率偏差値"
         ],
         "type": "scatterpolar"
        }
       ],
       "layout": {
        "legend": {
         "tracegroupgap": 0
        },
        "margin": {
         "t": 60
        },
        "polar": {
         "angularaxis": {
          "direction": "clockwise",
          "rotation": 90
         },
         "domain": {
          "x": [
           0,
           1
          ],
          "y": [
           0,
           1
          ]
         },
         "radialaxis": {
          "range": [
           30,
           70
          ]
         }
        },
        "template": {
         "data": {
          "bar": [
           {
            "error_x": {
             "color": "#2a3f5f"
            },
            "error_y": {
             "color": "#2a3f5f"
            },
            "marker": {
             "line": {
              "color": "#E5ECF6",
              "width": 0.5
             }
            },
            "type": "bar"
           }
          ],
          "barpolar": [
           {
            "marker": {
             "line": {
              "color": "#E5ECF6",
              "width": 0.5
             }
            },
            "type": "barpolar"
           }
          ],
          "carpet": [
           {
            "aaxis": {
             "endlinecolor": "#2a3f5f",
             "gridcolor": "white",
             "linecolor": "white",
             "minorgridcolor": "white",
             "startlinecolor": "#2a3f5f"
            },
            "baxis": {
             "endlinecolor": "#2a3f5f",
             "gridcolor": "white",
             "linecolor": "white",
             "minorgridcolor": "white",
             "startlinecolor": "#2a3f5f"
            },
            "type": "carpet"
           }
          ],
          "choropleth": [
           {
            "colorbar": {
             "outlinewidth": 0,
             "ticks": ""
            },
            "type": "choropleth"
           }
          ],
          "contour": [
           {
            "colorbar": {
             "outlinewidth": 0,
             "ticks": ""
            },
            "colorscale": [
             [
              0,
              "#0d0887"
             ],
             [
              0.1111111111111111,
              "#46039f"
             ],
             [
              0.2222222222222222,
              "#7201a8"
             ],
             [
              0.3333333333333333,
              "#9c179e"
             ],
             [
              0.4444444444444444,
              "#bd3786"
             ],
             [
              0.5555555555555556,
              "#d8576b"
             ],
             [
              0.6666666666666666,
              "#ed7953"
             ],
             [
              0.7777777777777778,
              "#fb9f3a"
             ],
             [
              0.8888888888888888,
              "#fdca26"
             ],
             [
              1,
              "#f0f921"
             ]
            ],
            "type": "contour"
           }
          ],
          "contourcarpet": [
           {
            "colorbar": {
             "outlinewidth": 0,
             "ticks": ""
            },
            "type": "contourcarpet"
           }
          ],
          "heatmap": [
           {
            "colorbar": {
             "outlinewidth": 0,
             "ticks": ""
            },
            "colorscale": [
             [
              0,
              "#0d0887"
             ],
             [
              0.1111111111111111,
              "#46039f"
             ],
             [
              0.2222222222222222,
              "#7201a8"
             ],
             [
              0.3333333333333333,
              "#9c179e"
             ],
             [
              0.4444444444444444,
              "#bd3786"
             ],
             [
              0.5555555555555556,
              "#d8576b"
             ],
             [
              0.6666666666666666,
              "#ed7953"
             ],
             [
              0.7777777777777778,
              "#fb9f3a"
             ],
             [
              0.8888888888888888,
              "#fdca26"
             ],
             [
              1,
              "#f0f921"
             ]
            ],
            "type": "heatmap"
           }
          ],
          "heatmapgl": [
           {
            "colorbar": {
             "outlinewidth": 0,
             "ticks": ""
            },
            "colorscale": [
             [
              0,
              "#0d0887"
             ],
             [
              0.1111111111111111,
              "#46039f"
             ],
             [
              0.2222222222222222,
              "#7201a8"
             ],
             [
              0.3333333333333333,
              "#9c179e"
             ],
             [
              0.4444444444444444,
              "#bd3786"
             ],
             [
              0.5555555555555556,
              "#d8576b"
             ],
             [
              0.6666666666666666,
              "#ed7953"
             ],
             [
              0.7777777777777778,
              "#fb9f3a"
             ],
             [
              0.8888888888888888,
              "#fdca26"
             ],
             [
              1,
              "#f0f921"
             ]
            ],
            "type": "heatmapgl"
           }
          ],
          "histogram": [
           {
            "marker": {
             "colorbar": {
              "outlinewidth": 0,
              "ticks": ""
             }
            },
            "type": "histogram"
           }
          ],
          "histogram2d": [
           {
            "colorbar": {
             "outlinewidth": 0,
             "ticks": ""
            },
            "colorscale": [
             [
              0,
              "#0d0887"
             ],
             [
              0.1111111111111111,
              "#46039f"
             ],
             [
              0.2222222222222222,
              "#7201a8"
             ],
             [
              0.3333333333333333,
              "#9c179e"
             ],
             [
              0.4444444444444444,
              "#bd3786"
             ],
             [
              0.5555555555555556,
              "#d8576b"
             ],
             [
              0.6666666666666666,
              "#ed7953"
             ],
             [
              0.7777777777777778,
              "#fb9f3a"
             ],
             [
              0.8888888888888888,
              "#fdca26"
             ],
             [
              1,
              "#f0f921"
             ]
            ],
            "type": "histogram2d"
           }
          ],
          "histogram2dcontour": [
           {
            "colorbar": {
             "outlinewidth": 0,
             "ticks": ""
            },
            "colorscale": [
             [
              0,
              "#0d0887"
             ],
             [
              0.1111111111111111,
              "#46039f"
             ],
             [
              0.2222222222222222,
              "#7201a8"
             ],
             [
              0.3333333333333333,
              "#9c179e"
             ],
             [
              0.4444444444444444,
              "#bd3786"
             ],
             [
              0.5555555555555556,
              "#d8576b"
             ],
             [
              0.6666666666666666,
              "#ed7953"
             ],
             [
              0.7777777777777778,
              "#fb9f3a"
             ],
             [
              0.8888888888888888,
              "#fdca26"
             ],
             [
              1,
              "#f0f921"
             ]
            ],
            "type": "histogram2dcontour"
           }
          ],
          "mesh3d": [
           {
            "colorbar": {
             "outlinewidth": 0,
             "ticks": ""
            },
            "type": "mesh3d"
           }
          ],
          "parcoords": [
           {
            "line": {
             "colorbar": {
              "outlinewidth": 0,
              "ticks": ""
             }
            },
            "type": "parcoords"
           }
          ],
          "pie": [
           {
            "automargin": true,
            "type": "pie"
           }
          ],
          "scatter": [
           {
            "marker": {
             "colorbar": {
              "outlinewidth": 0,
              "ticks": ""
             }
            },
            "type": "scatter"
           }
          ],
          "scatter3d": [
           {
            "line": {
             "colorbar": {
              "outlinewidth": 0,
              "ticks": ""
             }
            },
            "marker": {
             "colorbar": {
              "outlinewidth": 0,
              "ticks": ""
             }
            },
            "type": "scatter3d"
           }
          ],
          "scattercarpet": [
           {
            "marker": {
             "colorbar": {
              "outlinewidth": 0,
              "ticks": ""
             }
            },
            "type": "scattercarpet"
           }
          ],
          "scattergeo": [
           {
            "marker": {
             "colorbar": {
              "outlinewidth": 0,
              "ticks": ""
             }
            },
            "type": "scattergeo"
           }
          ],
          "scattergl": [
           {
            "marker": {
             "colorbar": {
              "outlinewidth": 0,
              "ticks": ""
             }
            },
            "type": "scattergl"
           }
          ],
          "scattermapbox": [
           {
            "marker": {
             "colorbar": {
              "outlinewidth": 0,
              "ticks": ""
             }
            },
            "type": "scattermapbox"
           }
          ],
          "scatterpolar": [
           {
            "marker": {
             "colorbar": {
              "outlinewidth": 0,
              "ticks": ""
             }
            },
            "type": "scatterpolar"
           }
          ],
          "scatterpolargl": [
           {
            "marker": {
             "colorbar": {
              "outlinewidth": 0,
              "ticks": ""
             }
            },
            "type": "scatterpolargl"
           }
          ],
          "scatterternary": [
           {
            "marker": {
             "colorbar": {
              "outlinewidth": 0,
              "ticks": ""
             }
            },
            "type": "scatterternary"
           }
          ],
          "surface": [
           {
            "colorbar": {
             "outlinewidth": 0,
             "ticks": ""
            },
            "colorscale": [
             [
              0,
              "#0d0887"
             ],
             [
              0.1111111111111111,
              "#46039f"
             ],
             [
              0.2222222222222222,
              "#7201a8"
             ],
             [
              0.3333333333333333,
              "#9c179e"
             ],
             [
              0.4444444444444444,
              "#bd3786"
             ],
             [
              0.5555555555555556,
              "#d8576b"
             ],
             [
              0.6666666666666666,
              "#ed7953"
             ],
             [
              0.7777777777777778,
              "#fb9f3a"
             ],
             [
              0.8888888888888888,
              "#fdca26"
             ],
             [
              1,
              "#f0f921"
             ]
            ],
            "type": "surface"
           }
          ],
          "table": [
           {
            "cells": {
             "fill": {
              "color": "#EBF0F8"
             },
             "line": {
              "color": "white"
             }
            },
            "header": {
             "fill": {
              "color": "#C8D4E3"
             },
             "line": {
              "color": "white"
             }
            },
            "type": "table"
           }
          ]
         },
         "layout": {
          "annotationdefaults": {
           "arrowcolor": "#2a3f5f",
           "arrowhead": 0,
           "arrowwidth": 1
          },
          "coloraxis": {
           "colorbar": {
            "outlinewidth": 0,
            "ticks": ""
           }
          },
          "colorscale": {
           "diverging": [
            [
             0,
             "#8e0152"
            ],
            [
             0.1,
             "#c51b7d"
            ],
            [
             0.2,
             "#de77ae"
            ],
            [
             0.3,
             "#f1b6da"
            ],
            [
             0.4,
             "#fde0ef"
            ],
            [
             0.5,
             "#f7f7f7"
            ],
            [
             0.6,
             "#e6f5d0"
            ],
            [
             0.7,
             "#b8e186"
            ],
            [
             0.8,
             "#7fbc41"
            ],
            [
             0.9,
             "#4d9221"
            ],
            [
             1,
             "#276419"
            ]
           ],
           "sequential": [
            [
             0,
             "#0d0887"
            ],
            [
             0.1111111111111111,
             "#46039f"
            ],
            [
             0.2222222222222222,
             "#7201a8"
            ],
            [
             0.3333333333333333,
             "#9c179e"
            ],
            [
             0.4444444444444444,
             "#bd3786"
            ],
            [
             0.5555555555555556,
             "#d8576b"
            ],
            [
             0.6666666666666666,
             "#ed7953"
            ],
            [
             0.7777777777777778,
             "#fb9f3a"
            ],
            [
             0.8888888888888888,
             "#fdca26"
            ],
            [
             1,
             "#f0f921"
            ]
           ],
           "sequentialminus": [
            [
             0,
             "#0d0887"
            ],
            [
             0.1111111111111111,
             "#46039f"
            ],
            [
             0.2222222222222222,
             "#7201a8"
            ],
            [
             0.3333333333333333,
             "#9c179e"
            ],
            [
             0.4444444444444444,
             "#bd3786"
            ],
            [
             0.5555555555555556,
             "#d8576b"
            ],
            [
             0.6666666666666666,
             "#ed7953"
            ],
            [
             0.7777777777777778,
             "#fb9f3a"
            ],
            [
             0.8888888888888888,
             "#fdca26"
            ],
            [
             1,
             "#f0f921"
            ]
           ]
          },
          "colorway": [
           "#636efa",
           "#EF553B",
           "#00cc96",
           "#ab63fa",
           "#FFA15A",
           "#19d3f3",
           "#FF6692",
           "#B6E880",
           "#FF97FF",
           "#FECB52"
          ],
          "font": {
           "color": "#2a3f5f"
          },
          "geo": {
           "bgcolor": "white",
           "lakecolor": "white",
           "landcolor": "#E5ECF6",
           "showlakes": true,
           "showland": true,
           "subunitcolor": "white"
          },
          "hoverlabel": {
           "align": "left"
          },
          "hovermode": "closest",
          "mapbox": {
           "style": "light"
          },
          "paper_bgcolor": "white",
          "plot_bgcolor": "#E5ECF6",
          "polar": {
           "angularaxis": {
            "gridcolor": "white",
            "linecolor": "white",
            "ticks": ""
           },
           "bgcolor": "#E5ECF6",
           "radialaxis": {
            "gridcolor": "white",
            "linecolor": "white",
            "ticks": ""
           }
          },
          "scene": {
           "xaxis": {
            "backgroundcolor": "#E5ECF6",
            "gridcolor": "white",
            "gridwidth": 2,
            "linecolor": "white",
            "showbackground": true,
            "ticks": "",
            "zerolinecolor": "white"
           },
           "yaxis": {
            "backgroundcolor": "#E5ECF6",
            "gridcolor": "white",
            "gridwidth": 2,
            "linecolor": "white",
            "showbackground": true,
            "ticks": "",
            "zerolinecolor": "white"
           },
           "zaxis": {
            "backgroundcolor": "#E5ECF6",
            "gridcolor": "white",
            "gridwidth": 2,
            "linecolor": "white",
            "showbackground": true,
            "ticks": "",
            "zerolinecolor": "white"
           }
          },
          "shapedefaults": {
           "line": {
            "color": "#2a3f5f"
           }
          },
          "ternary": {
           "aaxis": {
            "gridcolor": "white",
            "linecolor": "white",
            "ticks": ""
           },
           "baxis": {
            "gridcolor": "white",
            "linecolor": "white",
            "ticks": ""
           },
           "bgcolor": "#E5ECF6",
           "caxis": {
            "gridcolor": "white",
            "linecolor": "white",
            "ticks": ""
           }
          },
          "title": {
           "x": 0.05
          },
          "xaxis": {
           "automargin": true,
           "gridcolor": "white",
           "linecolor": "white",
           "ticks": "",
           "title": {
            "standoff": 15
           },
           "zerolinecolor": "white",
           "zerolinewidth": 2
          },
          "yaxis": {
           "automargin": true,
           "gridcolor": "white",
           "linecolor": "white",
           "ticks": "",
           "title": {
            "standoff": 15
           },
           "zerolinecolor": "white",
           "zerolinewidth": 2
          }
         }
        }
       }
      }
     },
     "metadata": {}
    }
   ],
   "source": [
    "fig.show()"
   ]
  },
  {
   "cell_type": "code",
   "execution_count": 129,
   "metadata": {},
   "outputs": [
    {
     "output_type": "execute_result",
     "data": {
      "text/plain": "array([False, False, False, False, False, False, False, False, False,\n        True, False,  True, False, False, False,  True, False,  True,\n       False, False, False,  True, False, False,  True, False, False,\n       False, False, False,  True, False, False, False, False,  True,\n       False, False, False, False])"
     },
     "metadata": {},
     "execution_count": 129
    }
   ],
   "source": [
    "div_ex = regular19.columns.str.contains('偏差値')\n",
    "div_ex"
   ]
  },
  {
   "cell_type": "code",
   "execution_count": 137,
   "metadata": {},
   "outputs": [
    {
     "output_type": "execute_result",
     "data": {
      "text/plain": "       アタック決定率偏差値  アタック効果率偏差値  バックアタック決定率偏差値  バックアタック効果率偏差値  アタック得点セット平均偏差値  \\\n選手名                                                                           \n藤中優斗         46.5        46.4           55.1           57.1            45.8   \n金丸晃大         49.9        49.7           55.1            NaN            40.4   \n伏見大和         60.2        57.4           75.8           75.4            47.2   \n福山汰一         57.7        57.1           75.8            NaN            48.7   \n饒書涵          58.6        57.5           75.8            NaN            54.3   \n...           ...         ...            ...            ...             ...   \n森崎健史         53.0        50.6           34.5            NaN            49.2   \n松村文斗         24.5        25.1           49.4            NaN            41.8   \n大沢健太郎        42.0         NaN           39.6            NaN            49.6   \n高澤和貴         56.7        54.0           39.6            NaN            40.1   \n長田翼          17.7       -18.3           34.5            NaN            44.9   \n\n       ブロック得点セット平均偏差値  サーブ効果率偏差値  サーブレシーブ成功率偏差値  \n選手名                                              \n藤中優斗             45.5       49.2           55.1  \n金丸晃大             40.7       49.6           40.0  \n伏見大和             60.0       47.6           66.3  \n福山汰一             61.8       52.6           54.9  \n饒書涵              60.0       54.3           57.7  \n...               ...        ...            ...  \n森崎健史             54.5       48.9           58.3  \n松村文斗             58.2       23.9           54.3  \n大沢健太郎            43.7       47.3           50.7  \n高澤和貴             43.7       58.4           56.3  \n長田翼              40.1       55.2           28.0  \n\n[153 rows x 8 columns]",
      "text/html": "<div>\n<style scoped>\n    .dataframe tbody tr th:only-of-type {\n        vertical-align: middle;\n    }\n\n    .dataframe tbody tr th {\n        vertical-align: top;\n    }\n\n    .dataframe thead th {\n        text-align: right;\n    }\n</style>\n<table border=\"1\" class=\"dataframe\">\n  <thead>\n    <tr style=\"text-align: right;\">\n      <th></th>\n      <th>アタック決定率偏差値</th>\n      <th>アタック効果率偏差値</th>\n      <th>バックアタック決定率偏差値</th>\n      <th>バックアタック効果率偏差値</th>\n      <th>アタック得点セット平均偏差値</th>\n      <th>ブロック得点セット平均偏差値</th>\n      <th>サーブ効果率偏差値</th>\n      <th>サーブレシーブ成功率偏差値</th>\n    </tr>\n    <tr>\n      <th>選手名</th>\n      <th></th>\n      <th></th>\n      <th></th>\n      <th></th>\n      <th></th>\n      <th></th>\n      <th></th>\n      <th></th>\n    </tr>\n  </thead>\n  <tbody>\n    <tr>\n      <th>藤中優斗</th>\n      <td>46.5</td>\n      <td>46.4</td>\n      <td>55.1</td>\n      <td>57.1</td>\n      <td>45.8</td>\n      <td>45.5</td>\n      <td>49.2</td>\n      <td>55.1</td>\n    </tr>\n    <tr>\n      <th>金丸晃大</th>\n      <td>49.9</td>\n      <td>49.7</td>\n      <td>55.1</td>\n      <td>NaN</td>\n      <td>40.4</td>\n      <td>40.7</td>\n      <td>49.6</td>\n      <td>40.0</td>\n    </tr>\n    <tr>\n      <th>伏見大和</th>\n      <td>60.2</td>\n      <td>57.4</td>\n      <td>75.8</td>\n      <td>75.4</td>\n      <td>47.2</td>\n      <td>60.0</td>\n      <td>47.6</td>\n      <td>66.3</td>\n    </tr>\n    <tr>\n      <th>福山汰一</th>\n      <td>57.7</td>\n      <td>57.1</td>\n      <td>75.8</td>\n      <td>NaN</td>\n      <td>48.7</td>\n      <td>61.8</td>\n      <td>52.6</td>\n      <td>54.9</td>\n    </tr>\n    <tr>\n      <th>饒書涵</th>\n      <td>58.6</td>\n      <td>57.5</td>\n      <td>75.8</td>\n      <td>NaN</td>\n      <td>54.3</td>\n      <td>60.0</td>\n      <td>54.3</td>\n      <td>57.7</td>\n    </tr>\n    <tr>\n      <th>...</th>\n      <td>...</td>\n      <td>...</td>\n      <td>...</td>\n      <td>...</td>\n      <td>...</td>\n      <td>...</td>\n      <td>...</td>\n      <td>...</td>\n    </tr>\n    <tr>\n      <th>森崎健史</th>\n      <td>53.0</td>\n      <td>50.6</td>\n      <td>34.5</td>\n      <td>NaN</td>\n      <td>49.2</td>\n      <td>54.5</td>\n      <td>48.9</td>\n      <td>58.3</td>\n    </tr>\n    <tr>\n      <th>松村文斗</th>\n      <td>24.5</td>\n      <td>25.1</td>\n      <td>49.4</td>\n      <td>NaN</td>\n      <td>41.8</td>\n      <td>58.2</td>\n      <td>23.9</td>\n      <td>54.3</td>\n    </tr>\n    <tr>\n      <th>大沢健太郎</th>\n      <td>42.0</td>\n      <td>NaN</td>\n      <td>39.6</td>\n      <td>NaN</td>\n      <td>49.6</td>\n      <td>43.7</td>\n      <td>47.3</td>\n      <td>50.7</td>\n    </tr>\n    <tr>\n      <th>高澤和貴</th>\n      <td>56.7</td>\n      <td>54.0</td>\n      <td>39.6</td>\n      <td>NaN</td>\n      <td>40.1</td>\n      <td>43.7</td>\n      <td>58.4</td>\n      <td>56.3</td>\n    </tr>\n    <tr>\n      <th>長田翼</th>\n      <td>17.7</td>\n      <td>-18.3</td>\n      <td>34.5</td>\n      <td>NaN</td>\n      <td>44.9</td>\n      <td>40.1</td>\n      <td>55.2</td>\n      <td>28.0</td>\n    </tr>\n  </tbody>\n</table>\n<p>153 rows × 8 columns</p>\n</div>"
     },
     "metadata": {},
     "execution_count": 137
    }
   ],
   "source": [
    "div = regular19.loc[:,div_ex]\n",
    "div.insert(0,'選手名',regular19['選手名'])\n",
    "div = div.set_index('選手名')\n",
    "div"
   ]
  },
  {
   "cell_type": "code",
   "execution_count": 131,
   "metadata": {},
   "outputs": [
    {
     "output_type": "execute_result",
     "data": {
      "text/plain": "       選手名              項目   偏差値\n0     藤中優斗      アタック決定率偏差値  46.5\n1     藤中優斗      アタック効果率偏差値  46.4\n2     藤中優斗   バックアタック決定率偏差値  55.1\n3     藤中優斗   バックアタック効果率偏差値  57.1\n4     藤中優斗  アタック得点セット平均偏差値  45.8\n...    ...             ...   ...\n1107   長田翼   バックアタック決定率偏差値  34.5\n1108   長田翼  アタック得点セット平均偏差値  44.9\n1109   長田翼  ブロック得点セット平均偏差値  40.1\n1110   長田翼       サーブ効果率偏差値  55.2\n1111   長田翼   サーブレシーブ成功率偏差値  28.0\n\n[1112 rows x 3 columns]",
      "text/html": "<div>\n<style scoped>\n    .dataframe tbody tr th:only-of-type {\n        vertical-align: middle;\n    }\n\n    .dataframe tbody tr th {\n        vertical-align: top;\n    }\n\n    .dataframe thead th {\n        text-align: right;\n    }\n</style>\n<table border=\"1\" class=\"dataframe\">\n  <thead>\n    <tr style=\"text-align: right;\">\n      <th></th>\n      <th>選手名</th>\n      <th>項目</th>\n      <th>偏差値</th>\n    </tr>\n  </thead>\n  <tbody>\n    <tr>\n      <th>0</th>\n      <td>藤中優斗</td>\n      <td>アタック決定率偏差値</td>\n      <td>46.5</td>\n    </tr>\n    <tr>\n      <th>1</th>\n      <td>藤中優斗</td>\n      <td>アタック効果率偏差値</td>\n      <td>46.4</td>\n    </tr>\n    <tr>\n      <th>2</th>\n      <td>藤中優斗</td>\n      <td>バックアタック決定率偏差値</td>\n      <td>55.1</td>\n    </tr>\n    <tr>\n      <th>3</th>\n      <td>藤中優斗</td>\n      <td>バックアタック効果率偏差値</td>\n      <td>57.1</td>\n    </tr>\n    <tr>\n      <th>4</th>\n      <td>藤中優斗</td>\n      <td>アタック得点セット平均偏差値</td>\n      <td>45.8</td>\n    </tr>\n    <tr>\n      <th>...</th>\n      <td>...</td>\n      <td>...</td>\n      <td>...</td>\n    </tr>\n    <tr>\n      <th>1107</th>\n      <td>長田翼</td>\n      <td>バックアタック決定率偏差値</td>\n      <td>34.5</td>\n    </tr>\n    <tr>\n      <th>1108</th>\n      <td>長田翼</td>\n      <td>アタック得点セット平均偏差値</td>\n      <td>44.9</td>\n    </tr>\n    <tr>\n      <th>1109</th>\n      <td>長田翼</td>\n      <td>ブロック得点セット平均偏差値</td>\n      <td>40.1</td>\n    </tr>\n    <tr>\n      <th>1110</th>\n      <td>長田翼</td>\n      <td>サーブ効果率偏差値</td>\n      <td>55.2</td>\n    </tr>\n    <tr>\n      <th>1111</th>\n      <td>長田翼</td>\n      <td>サーブレシーブ成功率偏差値</td>\n      <td>28.0</td>\n    </tr>\n  </tbody>\n</table>\n<p>1112 rows × 3 columns</p>\n</div>"
     },
     "metadata": {},
     "execution_count": 131
    }
   ],
   "source": [
    "regular19_stack =  div.stack().rename_axis(['選手名','項目']).reset_index().rename(columns={0:'偏差値'})\n",
    "regular19_stack"
   ]
  },
  {
   "cell_type": "code",
   "execution_count": 132,
   "metadata": {},
   "outputs": [],
   "source": [
    "reg_len = len(regular19_stack)\n",
    "value = ['アタック決定率偏差値', 'アタック効果率偏差値', 'バックアタック決定率偏差値', 'バックアタック効果率偏差値', 'アタック得点セット平均偏差値', 'ブロック得点セット平均偏差値', 'サーブ効果率偏差値', 'サーブレシーブ成功率偏差値']\n",
    "for i in range(0, 8):\n",
    "    regular19_stack.loc[reg_len+i] = {'選手名':'平均','項目':value[i], '偏差値':50.0}"
   ]
  },
  {
   "cell_type": "code",
   "execution_count": 133,
   "metadata": {},
   "outputs": [
    {
     "output_type": "execute_result",
     "data": {
      "text/plain": "       選手名              項目   偏差値\n0     藤中優斗      アタック決定率偏差値  46.5\n1     藤中優斗      アタック効果率偏差値  46.4\n2     藤中優斗   バックアタック決定率偏差値  55.1\n3     藤中優斗   バックアタック効果率偏差値  57.1\n4     藤中優斗  アタック得点セット平均偏差値  45.8\n...    ...             ...   ...\n1115    平均   バックアタック効果率偏差値  50.0\n1116    平均  アタック得点セット平均偏差値  50.0\n1117    平均  ブロック得点セット平均偏差値  50.0\n1118    平均       サーブ効果率偏差値  50.0\n1119    平均   サーブレシーブ成功率偏差値  50.0\n\n[1120 rows x 3 columns]",
      "text/html": "<div>\n<style scoped>\n    .dataframe tbody tr th:only-of-type {\n        vertical-align: middle;\n    }\n\n    .dataframe tbody tr th {\n        vertical-align: top;\n    }\n\n    .dataframe thead th {\n        text-align: right;\n    }\n</style>\n<table border=\"1\" class=\"dataframe\">\n  <thead>\n    <tr style=\"text-align: right;\">\n      <th></th>\n      <th>選手名</th>\n      <th>項目</th>\n      <th>偏差値</th>\n    </tr>\n  </thead>\n  <tbody>\n    <tr>\n      <th>0</th>\n      <td>藤中優斗</td>\n      <td>アタック決定率偏差値</td>\n      <td>46.5</td>\n    </tr>\n    <tr>\n      <th>1</th>\n      <td>藤中優斗</td>\n      <td>アタック効果率偏差値</td>\n      <td>46.4</td>\n    </tr>\n    <tr>\n      <th>2</th>\n      <td>藤中優斗</td>\n      <td>バックアタック決定率偏差値</td>\n      <td>55.1</td>\n    </tr>\n    <tr>\n      <th>3</th>\n      <td>藤中優斗</td>\n      <td>バックアタック効果率偏差値</td>\n      <td>57.1</td>\n    </tr>\n    <tr>\n      <th>4</th>\n      <td>藤中優斗</td>\n      <td>アタック得点セット平均偏差値</td>\n      <td>45.8</td>\n    </tr>\n    <tr>\n      <th>...</th>\n      <td>...</td>\n      <td>...</td>\n      <td>...</td>\n    </tr>\n    <tr>\n      <th>1115</th>\n      <td>平均</td>\n      <td>バックアタック効果率偏差値</td>\n      <td>50.0</td>\n    </tr>\n    <tr>\n      <th>1116</th>\n      <td>平均</td>\n      <td>アタック得点セット平均偏差値</td>\n      <td>50.0</td>\n    </tr>\n    <tr>\n      <th>1117</th>\n      <td>平均</td>\n      <td>ブロック得点セット平均偏差値</td>\n      <td>50.0</td>\n    </tr>\n    <tr>\n      <th>1118</th>\n      <td>平均</td>\n      <td>サーブ効果率偏差値</td>\n      <td>50.0</td>\n    </tr>\n    <tr>\n      <th>1119</th>\n      <td>平均</td>\n      <td>サーブレシーブ成功率偏差値</td>\n      <td>50.0</td>\n    </tr>\n  </tbody>\n</table>\n<p>1120 rows × 3 columns</p>\n</div>"
     },
     "metadata": {},
     "execution_count": 133
    }
   ],
   "source": [
    "regular19_stack"
   ]
  },
  {
   "cell_type": "code",
   "execution_count": 135,
   "metadata": {},
   "outputs": [
    {
     "output_type": "execute_result",
     "data": {
      "text/plain": "       選手名              項目   偏差値\n73    西田有志      アタック決定率偏差値  56.1\n74    西田有志      アタック効果率偏差値  53.0\n75    西田有志   バックアタック決定率偏差値  57.4\n76    西田有志   バックアタック効果率偏差値  55.2\n77    西田有志  アタック得点セット平均偏差値  83.4\n78    西田有志  ブロック得点セット平均偏差値  62.4\n79    西田有志       サーブ効果率偏差値  78.7\n80    西田有志   サーブレシーブ成功率偏差値  45.1\n1112    平均      アタック決定率偏差値  50.0\n1113    平均      アタック効果率偏差値  50.0\n1114    平均   バックアタック決定率偏差値  50.0\n1115    平均   バックアタック効果率偏差値  50.0\n1116    平均  アタック得点セット平均偏差値  50.0\n1117    平均  ブロック得点セット平均偏差値  50.0\n1118    平均       サーブ効果率偏差値  50.0\n1119    平均   サーブレシーブ成功率偏差値  50.0",
      "text/html": "<div>\n<style scoped>\n    .dataframe tbody tr th:only-of-type {\n        vertical-align: middle;\n    }\n\n    .dataframe tbody tr th {\n        vertical-align: top;\n    }\n\n    .dataframe thead th {\n        text-align: right;\n    }\n</style>\n<table border=\"1\" class=\"dataframe\">\n  <thead>\n    <tr style=\"text-align: right;\">\n      <th></th>\n      <th>選手名</th>\n      <th>項目</th>\n      <th>偏差値</th>\n    </tr>\n  </thead>\n  <tbody>\n    <tr>\n      <th>73</th>\n      <td>西田有志</td>\n      <td>アタック決定率偏差値</td>\n      <td>56.1</td>\n    </tr>\n    <tr>\n      <th>74</th>\n      <td>西田有志</td>\n      <td>アタック効果率偏差値</td>\n      <td>53.0</td>\n    </tr>\n    <tr>\n      <th>75</th>\n      <td>西田有志</td>\n      <td>バックアタック決定率偏差値</td>\n      <td>57.4</td>\n    </tr>\n    <tr>\n      <th>76</th>\n      <td>西田有志</td>\n      <td>バックアタック効果率偏差値</td>\n      <td>55.2</td>\n    </tr>\n    <tr>\n      <th>77</th>\n      <td>西田有志</td>\n      <td>アタック得点セット平均偏差値</td>\n      <td>83.4</td>\n    </tr>\n    <tr>\n      <th>78</th>\n      <td>西田有志</td>\n      <td>ブロック得点セット平均偏差値</td>\n      <td>62.4</td>\n    </tr>\n    <tr>\n      <th>79</th>\n      <td>西田有志</td>\n      <td>サーブ効果率偏差値</td>\n      <td>78.7</td>\n    </tr>\n    <tr>\n      <th>80</th>\n      <td>西田有志</td>\n      <td>サーブレシーブ成功率偏差値</td>\n      <td>45.1</td>\n    </tr>\n    <tr>\n      <th>1112</th>\n      <td>平均</td>\n      <td>アタック決定率偏差値</td>\n      <td>50.0</td>\n    </tr>\n    <tr>\n      <th>1113</th>\n      <td>平均</td>\n      <td>アタック効果率偏差値</td>\n      <td>50.0</td>\n    </tr>\n    <tr>\n      <th>1114</th>\n      <td>平均</td>\n      <td>バックアタック決定率偏差値</td>\n      <td>50.0</td>\n    </tr>\n    <tr>\n      <th>1115</th>\n      <td>平均</td>\n      <td>バックアタック効果率偏差値</td>\n      <td>50.0</td>\n    </tr>\n    <tr>\n      <th>1116</th>\n      <td>平均</td>\n      <td>アタック得点セット平均偏差値</td>\n      <td>50.0</td>\n    </tr>\n    <tr>\n      <th>1117</th>\n      <td>平均</td>\n      <td>ブロック得点セット平均偏差値</td>\n      <td>50.0</td>\n    </tr>\n    <tr>\n      <th>1118</th>\n      <td>平均</td>\n      <td>サーブ効果率偏差値</td>\n      <td>50.0</td>\n    </tr>\n    <tr>\n      <th>1119</th>\n      <td>平均</td>\n      <td>サーブレシーブ成功率偏差値</td>\n      <td>50.0</td>\n    </tr>\n  </tbody>\n</table>\n</div>"
     },
     "metadata": {},
     "execution_count": 135
    }
   ],
   "source": [
    "player = regular19_stack[regular19_stack['選手名'].str.contains('西田有志|平均')]\n",
    "player"
   ]
  },
  {
   "cell_type": "code",
   "execution_count": 136,
   "metadata": {},
   "outputs": [
    {
     "output_type": "display_data",
     "data": {
      "application/vnd.plotly.v1+json": {
       "config": {
        "plotlyServerURL": "https://plot.ly"
       },
       "data": [
        {
         "hovertemplate": "選手名=西田有志<br>偏差値=%{r}<br>項目=%{theta}<extra></extra>",
         "legendgroup": "西田有志",
         "line": {
          "color": "#636efa",
          "dash": "solid"
         },
         "mode": "lines",
         "name": "西田有志",
         "r": [
          56.1,
          53,
          57.4,
          55.2,
          83.4,
          62.4,
          78.7,
          45.1,
          56.1
         ],
         "showlegend": true,
         "subplot": "polar",
         "theta": [
          "アタック決定率偏差値",
          "アタック効果率偏差値",
          "バックアタック決定率偏差値",
          "バックアタック効果率偏差値",
          "アタック得点セット平均偏差値",
          "ブロック得点セット平均偏差値",
          "サーブ効果率偏差値",
          "サーブレシーブ成功率偏差値",
          "アタック決定率偏差値"
         ],
         "type": "scatterpolar"
        },
        {
         "hovertemplate": "選手名=平均<br>偏差値=%{r}<br>項目=%{theta}<extra></extra>",
         "legendgroup": "平均",
         "line": {
          "color": "#EF553B",
          "dash": "solid"
         },
         "mode": "lines",
         "name": "平均",
         "r": [
          50,
          50,
          50,
          50,
          50,
          50,
          50,
          50,
          50
         ],
         "showlegend": true,
         "subplot": "polar",
         "theta": [
          "アタック決定率偏差値",
          "アタック効果率偏差値",
          "バックアタック決定率偏差値",
          "バックアタック効果率偏差値",
          "アタック得点セット平均偏差値",
          "ブロック得点セット平均偏差値",
          "サーブ効果率偏差値",
          "サーブレシーブ成功率偏差値",
          "アタック決定率偏差値"
         ],
         "type": "scatterpolar"
        }
       ],
       "layout": {
        "legend": {
         "title": {
          "text": "選手名"
         },
         "tracegroupgap": 0
        },
        "margin": {
         "t": 60
        },
        "polar": {
         "angularaxis": {
          "direction": "clockwise",
          "rotation": 90
         },
         "domain": {
          "x": [
           0,
           1
          ],
          "y": [
           0,
           1
          ]
         },
         "radialaxis": {
          "range": [
           30,
           70
          ]
         }
        },
        "template": {
         "data": {
          "bar": [
           {
            "error_x": {
             "color": "#2a3f5f"
            },
            "error_y": {
             "color": "#2a3f5f"
            },
            "marker": {
             "line": {
              "color": "#E5ECF6",
              "width": 0.5
             }
            },
            "type": "bar"
           }
          ],
          "barpolar": [
           {
            "marker": {
             "line": {
              "color": "#E5ECF6",
              "width": 0.5
             }
            },
            "type": "barpolar"
           }
          ],
          "carpet": [
           {
            "aaxis": {
             "endlinecolor": "#2a3f5f",
             "gridcolor": "white",
             "linecolor": "white",
             "minorgridcolor": "white",
             "startlinecolor": "#2a3f5f"
            },
            "baxis": {
             "endlinecolor": "#2a3f5f",
             "gridcolor": "white",
             "linecolor": "white",
             "minorgridcolor": "white",
             "startlinecolor": "#2a3f5f"
            },
            "type": "carpet"
           }
          ],
          "choropleth": [
           {
            "colorbar": {
             "outlinewidth": 0,
             "ticks": ""
            },
            "type": "choropleth"
           }
          ],
          "contour": [
           {
            "colorbar": {
             "outlinewidth": 0,
             "ticks": ""
            },
            "colorscale": [
             [
              0,
              "#0d0887"
             ],
             [
              0.1111111111111111,
              "#46039f"
             ],
             [
              0.2222222222222222,
              "#7201a8"
             ],
             [
              0.3333333333333333,
              "#9c179e"
             ],
             [
              0.4444444444444444,
              "#bd3786"
             ],
             [
              0.5555555555555556,
              "#d8576b"
             ],
             [
              0.6666666666666666,
              "#ed7953"
             ],
             [
              0.7777777777777778,
              "#fb9f3a"
             ],
             [
              0.8888888888888888,
              "#fdca26"
             ],
             [
              1,
              "#f0f921"
             ]
            ],
            "type": "contour"
           }
          ],
          "contourcarpet": [
           {
            "colorbar": {
             "outlinewidth": 0,
             "ticks": ""
            },
            "type": "contourcarpet"
           }
          ],
          "heatmap": [
           {
            "colorbar": {
             "outlinewidth": 0,
             "ticks": ""
            },
            "colorscale": [
             [
              0,
              "#0d0887"
             ],
             [
              0.1111111111111111,
              "#46039f"
             ],
             [
              0.2222222222222222,
              "#7201a8"
             ],
             [
              0.3333333333333333,
              "#9c179e"
             ],
             [
              0.4444444444444444,
              "#bd3786"
             ],
             [
              0.5555555555555556,
              "#d8576b"
             ],
             [
              0.6666666666666666,
              "#ed7953"
             ],
             [
              0.7777777777777778,
              "#fb9f3a"
             ],
             [
              0.8888888888888888,
              "#fdca26"
             ],
             [
              1,
              "#f0f921"
             ]
            ],
            "type": "heatmap"
           }
          ],
          "heatmapgl": [
           {
            "colorbar": {
             "outlinewidth": 0,
             "ticks": ""
            },
            "colorscale": [
             [
              0,
              "#0d0887"
             ],
             [
              0.1111111111111111,
              "#46039f"
             ],
             [
              0.2222222222222222,
              "#7201a8"
             ],
             [
              0.3333333333333333,
              "#9c179e"
             ],
             [
              0.4444444444444444,
              "#bd3786"
             ],
             [
              0.5555555555555556,
              "#d8576b"
             ],
             [
              0.6666666666666666,
              "#ed7953"
             ],
             [
              0.7777777777777778,
              "#fb9f3a"
             ],
             [
              0.8888888888888888,
              "#fdca26"
             ],
             [
              1,
              "#f0f921"
             ]
            ],
            "type": "heatmapgl"
           }
          ],
          "histogram": [
           {
            "marker": {
             "colorbar": {
              "outlinewidth": 0,
              "ticks": ""
             }
            },
            "type": "histogram"
           }
          ],
          "histogram2d": [
           {
            "colorbar": {
             "outlinewidth": 0,
             "ticks": ""
            },
            "colorscale": [
             [
              0,
              "#0d0887"
             ],
             [
              0.1111111111111111,
              "#46039f"
             ],
             [
              0.2222222222222222,
              "#7201a8"
             ],
             [
              0.3333333333333333,
              "#9c179e"
             ],
             [
              0.4444444444444444,
              "#bd3786"
             ],
             [
              0.5555555555555556,
              "#d8576b"
             ],
             [
              0.6666666666666666,
              "#ed7953"
             ],
             [
              0.7777777777777778,
              "#fb9f3a"
             ],
             [
              0.8888888888888888,
              "#fdca26"
             ],
             [
              1,
              "#f0f921"
             ]
            ],
            "type": "histogram2d"
           }
          ],
          "histogram2dcontour": [
           {
            "colorbar": {
             "outlinewidth": 0,
             "ticks": ""
            },
            "colorscale": [
             [
              0,
              "#0d0887"
             ],
             [
              0.1111111111111111,
              "#46039f"
             ],
             [
              0.2222222222222222,
              "#7201a8"
             ],
             [
              0.3333333333333333,
              "#9c179e"
             ],
             [
              0.4444444444444444,
              "#bd3786"
             ],
             [
              0.5555555555555556,
              "#d8576b"
             ],
             [
              0.6666666666666666,
              "#ed7953"
             ],
             [
              0.7777777777777778,
              "#fb9f3a"
             ],
             [
              0.8888888888888888,
              "#fdca26"
             ],
             [
              1,
              "#f0f921"
             ]
            ],
            "type": "histogram2dcontour"
           }
          ],
          "mesh3d": [
           {
            "colorbar": {
             "outlinewidth": 0,
             "ticks": ""
            },
            "type": "mesh3d"
           }
          ],
          "parcoords": [
           {
            "line": {
             "colorbar": {
              "outlinewidth": 0,
              "ticks": ""
             }
            },
            "type": "parcoords"
           }
          ],
          "pie": [
           {
            "automargin": true,
            "type": "pie"
           }
          ],
          "scatter": [
           {
            "marker": {
             "colorbar": {
              "outlinewidth": 0,
              "ticks": ""
             }
            },
            "type": "scatter"
           }
          ],
          "scatter3d": [
           {
            "line": {
             "colorbar": {
              "outlinewidth": 0,
              "ticks": ""
             }
            },
            "marker": {
             "colorbar": {
              "outlinewidth": 0,
              "ticks": ""
             }
            },
            "type": "scatter3d"
           }
          ],
          "scattercarpet": [
           {
            "marker": {
             "colorbar": {
              "outlinewidth": 0,
              "ticks": ""
             }
            },
            "type": "scattercarpet"
           }
          ],
          "scattergeo": [
           {
            "marker": {
             "colorbar": {
              "outlinewidth": 0,
              "ticks": ""
             }
            },
            "type": "scattergeo"
           }
          ],
          "scattergl": [
           {
            "marker": {
             "colorbar": {
              "outlinewidth": 0,
              "ticks": ""
             }
            },
            "type": "scattergl"
           }
          ],
          "scattermapbox": [
           {
            "marker": {
             "colorbar": {
              "outlinewidth": 0,
              "ticks": ""
             }
            },
            "type": "scattermapbox"
           }
          ],
          "scatterpolar": [
           {
            "marker": {
             "colorbar": {
              "outlinewidth": 0,
              "ticks": ""
             }
            },
            "type": "scatterpolar"
           }
          ],
          "scatterpolargl": [
           {
            "marker": {
             "colorbar": {
              "outlinewidth": 0,
              "ticks": ""
             }
            },
            "type": "scatterpolargl"
           }
          ],
          "scatterternary": [
           {
            "marker": {
             "colorbar": {
              "outlinewidth": 0,
              "ticks": ""
             }
            },
            "type": "scatterternary"
           }
          ],
          "surface": [
           {
            "colorbar": {
             "outlinewidth": 0,
             "ticks": ""
            },
            "colorscale": [
             [
              0,
              "#0d0887"
             ],
             [
              0.1111111111111111,
              "#46039f"
             ],
             [
              0.2222222222222222,
              "#7201a8"
             ],
             [
              0.3333333333333333,
              "#9c179e"
             ],
             [
              0.4444444444444444,
              "#bd3786"
             ],
             [
              0.5555555555555556,
              "#d8576b"
             ],
             [
              0.6666666666666666,
              "#ed7953"
             ],
             [
              0.7777777777777778,
              "#fb9f3a"
             ],
             [
              0.8888888888888888,
              "#fdca26"
             ],
             [
              1,
              "#f0f921"
             ]
            ],
            "type": "surface"
           }
          ],
          "table": [
           {
            "cells": {
             "fill": {
              "color": "#EBF0F8"
             },
             "line": {
              "color": "white"
             }
            },
            "header": {
             "fill": {
              "color": "#C8D4E3"
             },
             "line": {
              "color": "white"
             }
            },
            "type": "table"
           }
          ]
         },
         "layout": {
          "annotationdefaults": {
           "arrowcolor": "#2a3f5f",
           "arrowhead": 0,
           "arrowwidth": 1
          },
          "coloraxis": {
           "colorbar": {
            "outlinewidth": 0,
            "ticks": ""
           }
          },
          "colorscale": {
           "diverging": [
            [
             0,
             "#8e0152"
            ],
            [
             0.1,
             "#c51b7d"
            ],
            [
             0.2,
             "#de77ae"
            ],
            [
             0.3,
             "#f1b6da"
            ],
            [
             0.4,
             "#fde0ef"
            ],
            [
             0.5,
             "#f7f7f7"
            ],
            [
             0.6,
             "#e6f5d0"
            ],
            [
             0.7,
             "#b8e186"
            ],
            [
             0.8,
             "#7fbc41"
            ],
            [
             0.9,
             "#4d9221"
            ],
            [
             1,
             "#276419"
            ]
           ],
           "sequential": [
            [
             0,
             "#0d0887"
            ],
            [
             0.1111111111111111,
             "#46039f"
            ],
            [
             0.2222222222222222,
             "#7201a8"
            ],
            [
             0.3333333333333333,
             "#9c179e"
            ],
            [
             0.4444444444444444,
             "#bd3786"
            ],
            [
             0.5555555555555556,
             "#d8576b"
            ],
            [
             0.6666666666666666,
             "#ed7953"
            ],
            [
             0.7777777777777778,
             "#fb9f3a"
            ],
            [
             0.8888888888888888,
             "#fdca26"
            ],
            [
             1,
             "#f0f921"
            ]
           ],
           "sequentialminus": [
            [
             0,
             "#0d0887"
            ],
            [
             0.1111111111111111,
             "#46039f"
            ],
            [
             0.2222222222222222,
             "#7201a8"
            ],
            [
             0.3333333333333333,
             "#9c179e"
            ],
            [
             0.4444444444444444,
             "#bd3786"
            ],
            [
             0.5555555555555556,
             "#d8576b"
            ],
            [
             0.6666666666666666,
             "#ed7953"
            ],
            [
             0.7777777777777778,
             "#fb9f3a"
            ],
            [
             0.8888888888888888,
             "#fdca26"
            ],
            [
             1,
             "#f0f921"
            ]
           ]
          },
          "colorway": [
           "#636efa",
           "#EF553B",
           "#00cc96",
           "#ab63fa",
           "#FFA15A",
           "#19d3f3",
           "#FF6692",
           "#B6E880",
           "#FF97FF",
           "#FECB52"
          ],
          "font": {
           "color": "#2a3f5f"
          },
          "geo": {
           "bgcolor": "white",
           "lakecolor": "white",
           "landcolor": "#E5ECF6",
           "showlakes": true,
           "showland": true,
           "subunitcolor": "white"
          },
          "hoverlabel": {
           "align": "left"
          },
          "hovermode": "closest",
          "mapbox": {
           "style": "light"
          },
          "paper_bgcolor": "white",
          "plot_bgcolor": "#E5ECF6",
          "polar": {
           "angularaxis": {
            "gridcolor": "white",
            "linecolor": "white",
            "ticks": ""
           },
           "bgcolor": "#E5ECF6",
           "radialaxis": {
            "gridcolor": "white",
            "linecolor": "white",
            "ticks": ""
           }
          },
          "scene": {
           "xaxis": {
            "backgroundcolor": "#E5ECF6",
            "gridcolor": "white",
            "gridwidth": 2,
            "linecolor": "white",
            "showbackground": true,
            "ticks": "",
            "zerolinecolor": "white"
           },
           "yaxis": {
            "backgroundcolor": "#E5ECF6",
            "gridcolor": "white",
            "gridwidth": 2,
            "linecolor": "white",
            "showbackground": true,
            "ticks": "",
            "zerolinecolor": "white"
           },
           "zaxis": {
            "backgroundcolor": "#E5ECF6",
            "gridcolor": "white",
            "gridwidth": 2,
            "linecolor": "white",
            "showbackground": true,
            "ticks": "",
            "zerolinecolor": "white"
           }
          },
          "shapedefaults": {
           "line": {
            "color": "#2a3f5f"
           }
          },
          "ternary": {
           "aaxis": {
            "gridcolor": "white",
            "linecolor": "white",
            "ticks": ""
           },
           "baxis": {
            "gridcolor": "white",
            "linecolor": "white",
            "ticks": ""
           },
           "bgcolor": "#E5ECF6",
           "caxis": {
            "gridcolor": "white",
            "linecolor": "white",
            "ticks": ""
           }
          },
          "title": {
           "x": 0.05
          },
          "xaxis": {
           "automargin": true,
           "gridcolor": "white",
           "linecolor": "white",
           "ticks": "",
           "title": {
            "standoff": 15
           },
           "zerolinecolor": "white",
           "zerolinewidth": 2
          },
          "yaxis": {
           "automargin": true,
           "gridcolor": "white",
           "linecolor": "white",
           "ticks": "",
           "title": {
            "standoff": 15
           },
           "zerolinecolor": "white",
           "zerolinewidth": 2
          }
         }
        }
       }
      }
     },
     "metadata": {}
    }
   ],
   "source": [
    "fig = px.line_polar(player, r=\"偏差値\", range_r=[30,70], theta=\"項目\", color=\"選手名\", line_close=True) \n",
    "fig.show()"
   ]
  },
  {
   "cell_type": "code",
   "execution_count": null,
   "metadata": {},
   "outputs": [],
   "source": []
  }
 ]
}