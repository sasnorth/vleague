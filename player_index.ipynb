{
 "cells": [
  {
   "cell_type": "code",
   "execution_count": 22,
   "metadata": {},
   "outputs": [],
   "source": [
    "import pandas as pd\n",
    "\n",
    "from bs4 import BeautifulSoup\n",
    "import urllib.request as req\n",
    "\n",
    "import requests\n",
    "import os\n",
    "import datetime\n",
    "import re\n",
    "import glob\n",
    "\n",
    "from team_index import get_teams"
   ]
  },
  {
   "cell_type": "code",
   "execution_count": 45,
   "metadata": {},
   "outputs": [],
   "source": [
    "os.chdir('/Users/sasno/Desktop/MyPandas/vleague')\n",
    "\n",
    "headers = {\"User-Agent\": \"Mozilla/5.0\"}"
   ]
  },
  {
   "cell_type": "code",
   "execution_count": 50,
   "metadata": {},
   "outputs": [
    {
     "output_type": "execute_result",
     "data": {
      "text/plain": "'c:\\\\Users\\\\sasno\\\\Desktop\\\\MyPandas\\\\vleague'"
     },
     "metadata": {},
     "execution_count": 50
    }
   ],
   "source": [
    "os.chdir('..')\n",
    "os.getcwd()"
   ]
  },
  {
   "cell_type": "code",
   "execution_count": 51,
   "metadata": {},
   "outputs": [],
   "source": [
    "division = 'v3_m'\n",
    "# os.chdir(division)\n",
    "teams = get_teams(division)"
   ]
  },
  {
   "cell_type": "code",
   "execution_count": 52,
   "metadata": {},
   "outputs": [
    {
     "output_type": "execute_result",
     "data": {
      "text/plain": "'c:\\\\Users\\\\sasno\\\\Desktop\\\\MyPandas\\\\vleague\\\\v3_m'"
     },
     "metadata": {},
     "execution_count": 52
    }
   ],
   "source": [
    "os.chdir(division)\n",
    "os.getcwd()"
   ]
  },
  {
   "cell_type": "code",
   "execution_count": 53,
   "metadata": {
    "tags": []
   },
   "outputs": [
    {
     "output_type": "stream",
     "name": "stdout",
     "text": "if team_id == '462':\n    return {'2754': '渡邊徹', '3588': '言上真一', '3847': '壇上正健', '1645': '下町浩二', '4089': '中山雄介', '3590': '高橋和希', '3591': '後藤和志', '3592': '川村幸司', '2314': '杉谷祐磨', '2239': '上竣', '3612': '片野坂拓人', '2401': '碩幸輝', '2833': '南本大貴', '2394': '石渡瑛法', '2566': '丹下雅行'}\nif team_id == '273':\n    return {'2059': '山本映樹', '4057': '中村洸稀', '1660': '河戸俊亮', '2974': '北村將', '3528': '今中聖也', '3529': '江崎闘愛', '2388': '石田康祐', '3530': '中谷芹', '3531': '中野倭', '3532': '上山太樹', '2994': '本多駿', '2632': '中田雄大', '2816': '那須野裕進', '2273': '森愛樹', '3557': '久門伸司', '2510': '大原悠', '2651': '帖佐力弥', '4058': '後藤陸翔', '4059': '中西武琉', '4060': '松浦陣羽', '4061': '武田大直', '4062': 'フランシスムヤカバング', '3741': '井上尚人', '3742': '越智蒼', '3743': '小磯智紀', '3744': '五味登似', '3745': '吉良悠飛', '3746': '本多泰成', '3747': '江口颯人', '4063': '丸尾翔太', '4064': '鹿嶌俊佑', '4065': '東影夏海'}\nif team_id == '297':\n    return {'1721': '岩阪健太郎', '3595': '為我井太也', '3594': '西河孝太', '2960': '峰尾拓', '2502': '大貫智博', '3674': '石井琢也', '2357': '西片圭佑', '3593': '野田雄介', '2460': '早川紘司', '1592': '宇野佑樹', '3820': '田中湧朔', '3831': '岸海斗', '3832': '新山駿', '3835': '筧颯斗', '3819': '鈴木浩大', '3844': '二宮正夫', '1023': '伊藤優介', '2209': '松枝寿明', '2575': '池田正一'}\nif team_id == '460':\n    return {'4011': '浅野晶', '4012': '山田誠幸', '4017': '齋藤貴大', '4018': '橋本大海', '4019': '板橋健之', '4020': '野澤辰義', '4021': '齋藤貴紀', '4022': '村松俊輔', '2077': '市川一樹', '4024': '吉岡佳徳', '4025': '福澤直己', '4026': '大町和幸', '4027': '古家康隆', '4028': '紀之定俊輔', '4029': '篠田学', '4030': '藤原裕和', '4095': '高田晋作', '4096': '瀧内佑一', '561': '杉崎大和', '4031': '上田日登', '4098': '谷野駿', '4099': '羽富琉偉'}\nif team_id == '491':\n    return {'3973': '滝沢優樹', '3976': '辻正浩', '3977': '水野将司', '3978': '斎藤総人', '3979': '井澤大輔', '3980': '安田剛', '3981': '佐々木優汰', '3966': '鈴木康平', '3982': '林直樹', '3983': '山下直樹', '3985': '杉本峻作', '3986': '菅原幸紀', '3987': '過足幸司', '3988': '鈴木奨平', '3989': '岡戸利成'}\nif team_id == '490':\n    return {'4000': '鎌苅翔', '4008': '赤松圭介', '4002': '早瀬川雄也', '4007': '岡﨑誠', '3999': '丸一達也', '4009': '阪根彩斗', '4001': '蓑田蓮', '3997': '野口拓朗', '4003': '田中誠', '4010': '寺田晃聖', '4004': '仲田昌人', '4005': '籠樹', '3998': '津崎智之', '4006': '守山巧', '3991': '川田匠'}\n"
    }
   ],
   "source": [
    "for team_id, team_name in teams.items():\n",
    "    url = 'https://www.vleague.jp/record/team_players/{}'.format(team_id)\n",
    "    # print(url)\n",
    "    request = req.Request(url, headers=headers)\n",
    "    response = req.urlopen(request)\n",
    "    parse_html = BeautifulSoup(response, 'html.parser')\n",
    "\n",
    "    tables = parse_html.find_all('table')[0]\n",
    "    tr = tables.find_all('tr')\n",
    "    a = tables.find_all('a')\n",
    "    player_urls = []\n",
    "    player_ids = []\n",
    "    for i in a:\n",
    "        href = i.attrs['href']\n",
    "        # print(href)\n",
    "        player_url = 'https://www.vleague.jp{}'.format(href)\n",
    "        # print(player_url)\n",
    "        player_urls.append(player_url)\n",
    "        player_id =  re.sub(\"\\\\D\", \"\", player_url)\n",
    "        player_ids.append(player_id)\n",
    "\n",
    "    number_list = []\n",
    "    player_list = []\n",
    "    for i in tr[1:]:\n",
    "        td = i.find_all('td')\n",
    "        number = td[0].text\n",
    "        number_list.append(number)\n",
    "        player = td[1].text.replace('\\xa0', '')\n",
    "        player_list.append(player)\n",
    "    # print(player_list,player_ids)\n",
    "    players = dict(zip(player_ids, player_list))\n",
    "    print(\"if team_id == '{}':\".format(team_id))\n",
    "    print('    return {}'.format(players))"
   ]
  },
  {
   "cell_type": "code",
   "execution_count": null,
   "metadata": {},
   "outputs": [],
   "source": []
  }
 ],
 "metadata": {
  "kernelspec": {
   "name": "python_defaultSpec_1600742017114",
   "display_name": "Python 3.7.7 64-bit ('base': conda)"
  }
 },
 "nbformat": 4,
 "nbformat_minor": 2
}